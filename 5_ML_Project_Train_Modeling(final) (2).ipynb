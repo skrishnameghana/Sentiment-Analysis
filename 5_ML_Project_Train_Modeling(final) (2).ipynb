{
  "cells": [
    {
      "cell_type": "markdown",
      "id": "d4afc2b8",
      "metadata": {
        "id": "d4afc2b8"
      },
      "source": [
        "# Model Building for Training Data"
      ]
    },
    {
      "cell_type": "code",
      "execution_count": null,
      "id": "6613af1f",
      "metadata": {
        "id": "6613af1f"
      },
      "outputs": [],
      "source": [
        "import pandas as pd\n",
        "import numpy as np\n",
        "\n",
        "import seaborn as sns\n",
        "import matplotlib.pyplot as plt \n",
        "\n",
        "#ignore warning messages \n",
        "import warnings\n",
        "warnings.filterwarnings('ignore')"
      ]
    },
    {
      "cell_type": "code",
      "execution_count": null,
      "id": "b6ec1959",
      "metadata": {
        "id": "b6ec1959"
      },
      "outputs": [],
      "source": [
        "#importing the training dataset\n",
        "cleaned = pd.read_csv('cleaned1.csv')"
      ]
    },
    {
      "cell_type": "code",
      "execution_count": null,
      "id": "2ec8b8d3",
      "metadata": {
        "colab": {
          "base_uri": "https://localhost:8080/",
          "height": 206
        },
        "id": "2ec8b8d3",
        "outputId": "3fcb4a5e-085f-4a91-88a1-c16baf9371a2"
      },
      "outputs": [
        {
          "output_type": "execute_result",
          "data": {
            "text/plain": [
              "      Label\n",
              "0  Positive\n",
              "1   Neutral\n",
              "2  Negative\n",
              "3  Positive\n",
              "4  Positive"
            ],
            "text/html": [
              "\n",
              "  <div id=\"df-930c1ad2-e8d6-40bb-90cc-109811f14ee1\">\n",
              "    <div class=\"colab-df-container\">\n",
              "      <div>\n",
              "<style scoped>\n",
              "    .dataframe tbody tr th:only-of-type {\n",
              "        vertical-align: middle;\n",
              "    }\n",
              "\n",
              "    .dataframe tbody tr th {\n",
              "        vertical-align: top;\n",
              "    }\n",
              "\n",
              "    .dataframe thead th {\n",
              "        text-align: right;\n",
              "    }\n",
              "</style>\n",
              "<table border=\"1\" class=\"dataframe\">\n",
              "  <thead>\n",
              "    <tr style=\"text-align: right;\">\n",
              "      <th></th>\n",
              "      <th>Label</th>\n",
              "    </tr>\n",
              "  </thead>\n",
              "  <tbody>\n",
              "    <tr>\n",
              "      <th>0</th>\n",
              "      <td>Positive</td>\n",
              "    </tr>\n",
              "    <tr>\n",
              "      <th>1</th>\n",
              "      <td>Neutral</td>\n",
              "    </tr>\n",
              "    <tr>\n",
              "      <th>2</th>\n",
              "      <td>Negative</td>\n",
              "    </tr>\n",
              "    <tr>\n",
              "      <th>3</th>\n",
              "      <td>Positive</td>\n",
              "    </tr>\n",
              "    <tr>\n",
              "      <th>4</th>\n",
              "      <td>Positive</td>\n",
              "    </tr>\n",
              "  </tbody>\n",
              "</table>\n",
              "</div>\n",
              "      <button class=\"colab-df-convert\" onclick=\"convertToInteractive('df-930c1ad2-e8d6-40bb-90cc-109811f14ee1')\"\n",
              "              title=\"Convert this dataframe to an interactive table.\"\n",
              "              style=\"display:none;\">\n",
              "        \n",
              "  <svg xmlns=\"http://www.w3.org/2000/svg\" height=\"24px\"viewBox=\"0 0 24 24\"\n",
              "       width=\"24px\">\n",
              "    <path d=\"M0 0h24v24H0V0z\" fill=\"none\"/>\n",
              "    <path d=\"M18.56 5.44l.94 2.06.94-2.06 2.06-.94-2.06-.94-.94-2.06-.94 2.06-2.06.94zm-11 1L8.5 8.5l.94-2.06 2.06-.94-2.06-.94L8.5 2.5l-.94 2.06-2.06.94zm10 10l.94 2.06.94-2.06 2.06-.94-2.06-.94-.94-2.06-.94 2.06-2.06.94z\"/><path d=\"M17.41 7.96l-1.37-1.37c-.4-.4-.92-.59-1.43-.59-.52 0-1.04.2-1.43.59L10.3 9.45l-7.72 7.72c-.78.78-.78 2.05 0 2.83L4 21.41c.39.39.9.59 1.41.59.51 0 1.02-.2 1.41-.59l7.78-7.78 2.81-2.81c.8-.78.8-2.07 0-2.86zM5.41 20L4 18.59l7.72-7.72 1.47 1.35L5.41 20z\"/>\n",
              "  </svg>\n",
              "      </button>\n",
              "      \n",
              "  <style>\n",
              "    .colab-df-container {\n",
              "      display:flex;\n",
              "      flex-wrap:wrap;\n",
              "      gap: 12px;\n",
              "    }\n",
              "\n",
              "    .colab-df-convert {\n",
              "      background-color: #E8F0FE;\n",
              "      border: none;\n",
              "      border-radius: 50%;\n",
              "      cursor: pointer;\n",
              "      display: none;\n",
              "      fill: #1967D2;\n",
              "      height: 32px;\n",
              "      padding: 0 0 0 0;\n",
              "      width: 32px;\n",
              "    }\n",
              "\n",
              "    .colab-df-convert:hover {\n",
              "      background-color: #E2EBFA;\n",
              "      box-shadow: 0px 1px 2px rgba(60, 64, 67, 0.3), 0px 1px 3px 1px rgba(60, 64, 67, 0.15);\n",
              "      fill: #174EA6;\n",
              "    }\n",
              "\n",
              "    [theme=dark] .colab-df-convert {\n",
              "      background-color: #3B4455;\n",
              "      fill: #D2E3FC;\n",
              "    }\n",
              "\n",
              "    [theme=dark] .colab-df-convert:hover {\n",
              "      background-color: #434B5C;\n",
              "      box-shadow: 0px 1px 3px 1px rgba(0, 0, 0, 0.15);\n",
              "      filter: drop-shadow(0px 1px 2px rgba(0, 0, 0, 0.3));\n",
              "      fill: #FFFFFF;\n",
              "    }\n",
              "  </style>\n",
              "\n",
              "      <script>\n",
              "        const buttonEl =\n",
              "          document.querySelector('#df-930c1ad2-e8d6-40bb-90cc-109811f14ee1 button.colab-df-convert');\n",
              "        buttonEl.style.display =\n",
              "          google.colab.kernel.accessAllowed ? 'block' : 'none';\n",
              "\n",
              "        async function convertToInteractive(key) {\n",
              "          const element = document.querySelector('#df-930c1ad2-e8d6-40bb-90cc-109811f14ee1');\n",
              "          const dataTable =\n",
              "            await google.colab.kernel.invokeFunction('convertToInteractive',\n",
              "                                                     [key], {});\n",
              "          if (!dataTable) return;\n",
              "\n",
              "          const docLinkHtml = 'Like what you see? Visit the ' +\n",
              "            '<a target=\"_blank\" href=https://colab.research.google.com/notebooks/data_table.ipynb>data table notebook</a>'\n",
              "            + ' to learn more about interactive tables.';\n",
              "          element.innerHTML = '';\n",
              "          dataTable['output_type'] = 'display_data';\n",
              "          await google.colab.output.renderOutput(dataTable, element);\n",
              "          const docLink = document.createElement('div');\n",
              "          docLink.innerHTML = docLinkHtml;\n",
              "          element.appendChild(docLink);\n",
              "        }\n",
              "      </script>\n",
              "    </div>\n",
              "  </div>\n",
              "  "
            ]
          },
          "metadata": {},
          "execution_count": 5
        }
      ],
      "source": [
        "# Function that classifies polarities\n",
        "def classify_polarity(polarity):\n",
        "    if polarity > 0:\n",
        "        return \"Positive\"\n",
        "    if polarity == 0:\n",
        "        return \"Neutral\"\n",
        "    if polarity < 0:\n",
        "        return \"Negative\"\n",
        "\n",
        "# Applies the funtion on Polarity column and add the results into a new column \"Label\"\n",
        "cleaned[\"Label\"] = cleaned[\"Polarity\"].apply(classify_polarity)\n",
        "\n",
        "# Displays the Polarity and Subjectivity Analysis\n",
        "cleaned[[\"Label\"]].head()"
      ]
    },
    {
      "cell_type": "markdown",
      "id": "b3dbc617",
      "metadata": {
        "id": "b3dbc617"
      },
      "source": [
        "#### Creating a feature called Sentiment which contains values 1, 0, -1 based on Polarity"
      ]
    },
    {
      "cell_type": "code",
      "execution_count": null,
      "id": "01dfe8fc",
      "metadata": {
        "id": "01dfe8fc"
      },
      "outputs": [],
      "source": [
        " # determine if sentiment is positive, negative, or neutral\n",
        "def sentiment_value(Label):    \n",
        "        if Label ==\"Positive\":\n",
        "            return 1\n",
        "        elif Label == \"Neutral\":\n",
        "            return 0\n",
        "        else:\n",
        "            return -1\n",
        "            \n",
        "cleaned[\"sentiment\"]=cleaned[\"Label\"].apply(sentiment_value)            "
      ]
    },
    {
      "cell_type": "markdown",
      "id": "0e8dfceb",
      "metadata": {
        "id": "0e8dfceb"
      },
      "source": [
        "<br>"
      ]
    },
    {
      "cell_type": "markdown",
      "id": "f87e761f",
      "metadata": {
        "id": "f87e761f"
      },
      "source": [
        "## Model Building"
      ]
    },
    {
      "cell_type": "code",
      "execution_count": null,
      "id": "9a5d1905",
      "metadata": {
        "id": "9a5d1905"
      },
      "outputs": [],
      "source": [
        "#Selecting the features and the target variable\n",
        "X = cleaned['Tweet_lemmatized']\n",
        "y = cleaned[\"sentiment\"]"
      ]
    },
    {
      "cell_type": "markdown",
      "id": "b6a7de69",
      "metadata": {
        "id": "b6a7de69"
      },
      "source": [
        "#### Splitting the data into training and validating dataset"
      ]
    },
    {
      "cell_type": "code",
      "execution_count": null,
      "id": "baae7914",
      "metadata": {
        "id": "baae7914"
      },
      "outputs": [],
      "source": [
        "from sklearn.model_selection import train_test_split\n",
        "from sklearn.model_selection import cross_val_score\n",
        "from sklearn.metrics import confusion_matrix\n",
        "\n",
        "X_train, X_val, y_train, y_val= train_test_split(X, y, test_size=0.2, random_state=43, stratify=y)"
      ]
    },
    {
      "cell_type": "markdown",
      "id": "ec74436d",
      "metadata": {
        "id": "ec74436d"
      },
      "source": [
        "#### Using TF-IDF Vectorizer method to vectorize the training and validating data to implement classfication models"
      ]
    },
    {
      "cell_type": "code",
      "execution_count": null,
      "id": "bfb65a76",
      "metadata": {
        "id": "bfb65a76"
      },
      "outputs": [],
      "source": [
        "from sklearn.feature_extraction.text import TfidfVectorizer\n",
        "\n",
        "vectorize = TfidfVectorizer()\n",
        "\n",
        "# Fits the vectorizer with the training data\n",
        "tfidf_train = vectorize.fit_transform(X_train)\n",
        "\n",
        "# Fits the validation data with the vectorizer\n",
        "tfidf_val = vectorize.transform(X_val)"
      ]
    },
    {
      "cell_type": "markdown",
      "id": "yDd2aIS2pQ_S",
      "metadata": {
        "id": "yDd2aIS2pQ_S"
      },
      "source": [
        "#### Viewing the target variable y_train"
      ]
    },
    {
      "cell_type": "code",
      "execution_count": null,
      "id": "_nmdi7ZcpQbT",
      "metadata": {
        "colab": {
          "base_uri": "https://localhost:8080/"
        },
        "id": "_nmdi7ZcpQbT",
        "outputId": "e8bf62ec-9d9c-4db4-dd5b-7b20b08209f8"
      },
      "outputs": [
        {
          "output_type": "stream",
          "name": "stdout",
          "text": [
            "Counts of label '1': 3071\n",
            "Counts of label '0': 1666\n",
            "Counts of label '-1': 749 \n",
            "\n"
          ]
        }
      ],
      "source": [
        "print(\"Counts of label '1': {}\".format(sum(y_train == 1)))\n",
        "print(\"Counts of label '0': {}\".format(sum(y_train == 0)))\n",
        "print(\"Counts of label '-1': {} \\n\".format(sum(y_train == -1)))"
      ]
    },
    {
      "cell_type": "code",
      "execution_count": null,
      "id": "SGT5mvk1pRmn",
      "metadata": {
        "colab": {
          "base_uri": "https://localhost:8080/",
          "height": 297
        },
        "id": "SGT5mvk1pRmn",
        "outputId": "d15877c5-2244-4690-8f9c-ef75ddc62e4e"
      },
      "outputs": [
        {
          "output_type": "execute_result",
          "data": {
            "text/plain": [
              "<matplotlib.axes._subplots.AxesSubplot at 0x7f9adee693d0>"
            ]
          },
          "metadata": {},
          "execution_count": 11
        },
        {
          "output_type": "display_data",
          "data": {
            "text/plain": [
              "<Figure size 432x288 with 1 Axes>"
            ],
            "image/png": "[encoded data removed]"
          },
          "metadata": {
            "needs_background": "light"
          }
        }
      ],
      "source": [
        "sns.countplot(y_train)"
      ]
    },
    {
      "cell_type": "markdown",
      "id": "wI560TRip-eC",
      "metadata": {
        "id": "wI560TRip-eC"
      },
      "source": [
        "We can see that there is an imbalance in the classes. Many tweets are corresponding to the positive class. We have to deal with this imabalnce problem as this may lead to the model biased towards the highest occuring class.\n",
        "\n",
        "For this, we use __SMOTE(Synthetic Minority Oversampling Technique)__ technique. It is an oversampling technique which generates synthetic data for the minority class. It focuses on the feature space to generate new instances with the help of interpolation between the positive instances that lie together."
      ]
    },
    {
      "cell_type": "code",
      "execution_count": null,
      "id": "SNywxzdPpRtp",
      "metadata": {
        "colab": {
          "base_uri": "https://localhost:8080/"
        },
        "id": "SNywxzdPpRtp",
        "outputId": "afe9b76f-9e70-4ae3-c917-a12114d6e764"
      },
      "outputs": [
        {
          "output_type": "stream",
          "name": "stdout",
          "text": [
            "After OverSampling, counts of label '1': 3071\n",
            "After OverSampling, counts of label '0': 3071\n",
            "After OverSampling, counts of label '-1': 3071\n"
          ]
        }
      ],
      "source": [
        "# import SMOTE module from imblearn library\n",
        "from imblearn.over_sampling import SMOTE\n",
        "sm = SMOTE(random_state = 2)\n",
        "X_train_smote, y_train_smote = sm.fit_resample(tfidf_train, y_train.ravel())\n",
        "\n",
        "\n",
        "\n",
        "print(\"After OverSampling, counts of label '1': {}\".format(sum(y_train_smote == 1)))\n",
        "print(\"After OverSampling, counts of label '0': {}\".format(sum(y_train_smote == 0)))\n",
        "print(\"After OverSampling, counts of label '-1': {}\".format(sum(y_train_smote == -1)))"
      ]
    },
    {
      "cell_type": "code",
      "execution_count": null,
      "id": "gvHhaaUupeyO",
      "metadata": {
        "colab": {
          "base_uri": "https://localhost:8080/",
          "height": 284
        },
        "id": "gvHhaaUupeyO",
        "outputId": "1e9cb7f1-0f72-4391-e5bf-efcb311d7792"
      },
      "outputs": [
        {
          "output_type": "execute_result",
          "data": {
            "text/plain": [
              "<matplotlib.axes._subplots.AxesSubplot at 0x7f9ade96d050>"
            ]
          },
          "metadata": {},
          "execution_count": 13
        },
        {
          "output_type": "display_data",
          "data": {
            "text/plain": [
              "<Figure size 432x288 with 1 Axes>"
            ],
            "image/png": "[encoded data removed]"
          },
          "metadata": {
            "needs_background": "light"
          }
        }
      ],
      "source": [
        "sns.countplot(y_train_smote)"
      ]
    },
    {
      "cell_type": "markdown",
      "id": "cf827d06",
      "metadata": {
        "id": "cf827d06"
      },
      "source": [
        "#### Without dealing with class imbalance problem and building a model:"
      ]
    },
    {
      "cell_type": "code",
      "execution_count": null,
      "id": "2273743a",
      "metadata": {
        "id": "2273743a"
      },
      "outputs": [],
      "source": [
        "from sklearn.ensemble import RandomForestClassifier\n",
        "from sklearn.metrics import accuracy_score\n",
        "from sklearn.metrics import confusion_matrix\n",
        "from sklearn.metrics import classification_report"
      ]
    },
    {
      "cell_type": "code",
      "execution_count": null,
      "id": "f0cc53f7",
      "metadata": {
        "colab": {
          "base_uri": "https://localhost:8080/"
        },
        "id": "f0cc53f7",
        "outputId": "d2ebea8f-9078-4632-b949-6950620033b3"
      },
      "outputs": [
        {
          "output_type": "execute_result",
          "data": {
            "text/plain": [
              "RandomForestClassifier(n_estimators=5, n_jobs=2, random_state=1)"
            ]
          },
          "metadata": {},
          "execution_count": 15
        }
      ],
      "source": [
        "\n",
        "rf = RandomForestClassifier(criterion='gini',\n",
        "                                 n_estimators=5,\n",
        "                                 random_state=1,\n",
        "                                 n_jobs=2)\n",
        "\n",
        "rf.fit(tfidf_train, y_train)"
      ]
    },
    {
      "cell_type": "code",
      "execution_count": null,
      "id": "9f73bbf0",
      "metadata": {
        "id": "9f73bbf0"
      },
      "outputs": [],
      "source": [
        "# Measure model performance\n",
        "y_pred_rf = rf.predict(tfidf_val)"
      ]
    },
    {
      "cell_type": "code",
      "execution_count": null,
      "id": "cec737ae",
      "metadata": {
        "colab": {
          "base_uri": "https://localhost:8080/"
        },
        "id": "cec737ae",
        "outputId": "fa34b2cd-7136-4c1c-c87c-bf735e0f4cff"
      },
      "outputs": [
        {
          "output_type": "stream",
          "name": "stdout",
          "text": [
            "Confusion Matrix\n",
            "\n",
            "[[ 74  45  68]\n",
            " [ 14 338  65]\n",
            " [ 18  96 654]]\n",
            "              precision    recall  f1-score   support\n",
            "\n",
            "          -1       0.70      0.40      0.51       187\n",
            "           0       0.71      0.81      0.75       417\n",
            "           1       0.83      0.85      0.84       768\n",
            "\n",
            "    accuracy                           0.78      1372\n",
            "   macro avg       0.74      0.69      0.70      1372\n",
            "weighted avg       0.77      0.78      0.77      1372\n",
            "\n"
          ]
        }
      ],
      "source": [
        "# Prints the confusion matrix \n",
        "cm = confusion_matrix(y_val, y_pred_rf)\n",
        "print(\"Confusion Matrix\\n\")\n",
        "print(cm)\n",
        "\n",
        "print(classification_report(y_val,y_pred_rf))"
      ]
    },
    {
      "cell_type": "markdown",
      "id": "fbc4031c",
      "metadata": {
        "id": "fbc4031c"
      },
      "source": [
        "The accuracy obtained is 78%. We can say that the model can be improved for better classification."
      ]
    },
    {
      "cell_type": "markdown",
      "id": "27b5c1aa",
      "metadata": {
        "id": "27b5c1aa"
      },
      "source": [
        "__Building classification models after applying SMOTE on training dataset__"
      ]
    },
    {
      "cell_type": "markdown",
      "id": "8efe3da8",
      "metadata": {
        "id": "8efe3da8"
      },
      "source": [
        "### MultiNominal Naive Bayes"
      ]
    },
    {
      "cell_type": "code",
      "execution_count": null,
      "id": "be6f0714",
      "metadata": {
        "colab": {
          "base_uri": "https://localhost:8080/"
        },
        "id": "be6f0714",
        "outputId": "9481cc06-d2e0-4a0b-a37b-e6f45f973855"
      },
      "outputs": [
        {
          "output_type": "execute_result",
          "data": {
            "text/plain": [
              "MultinomialNB()"
            ]
          },
          "metadata": {},
          "execution_count": 18
        }
      ],
      "source": [
        "# Fitting Multinominal Naive Bayes to the Training set\n",
        "from sklearn.naive_bayes import MultinomialNB\n",
        "mnb = MultinomialNB()\n",
        "mnb.fit(X_train_smote, y_train_smote)"
      ]
    },
    {
      "cell_type": "code",
      "execution_count": null,
      "id": "3f41abaa",
      "metadata": {
        "id": "3f41abaa"
      },
      "outputs": [],
      "source": [
        "# testing\n",
        "y_pred_nb = mnb.predict(tfidf_val)"
      ]
    },
    {
      "cell_type": "code",
      "execution_count": null,
      "id": "fafd561e",
      "metadata": {
        "id": "fafd561e"
      },
      "outputs": [],
      "source": [
        "# Making the Confusion Matrix\n",
        "from sklearn.metrics import confusion_matrix\n",
        "cm = confusion_matrix(y_val, y_pred_nb)"
      ]
    },
    {
      "cell_type": "code",
      "execution_count": null,
      "id": "85d51f92",
      "metadata": {
        "colab": {
          "base_uri": "https://localhost:8080/"
        },
        "id": "85d51f92",
        "outputId": "bd33e521-b65f-4ba0-a88b-b9beacb6dac0"
      },
      "outputs": [
        {
          "output_type": "stream",
          "name": "stdout",
          "text": [
            "              precision    recall  f1-score   support\n",
            "\n",
            "          -1       0.42      0.64      0.51       187\n",
            "           0       0.80      0.53      0.64       417\n",
            "           1       0.79      0.83      0.81       768\n",
            "\n",
            "    accuracy                           0.71      1372\n",
            "   macro avg       0.67      0.67      0.65      1372\n",
            "weighted avg       0.74      0.71      0.71      1372\n",
            "\n"
          ]
        }
      ],
      "source": [
        "cm\n",
        "print(classification_report(y_val,y_pred_nb))"
      ]
    },
    {
      "cell_type": "code",
      "execution_count": null,
      "id": "e9f2b9eb",
      "metadata": {
        "colab": {
          "base_uri": "https://localhost:8080/"
        },
        "id": "e9f2b9eb",
        "outputId": "34b88aa0-58ac-4356-f8fa-a441327f2448"
      },
      "outputs": [
        {
          "output_type": "stream",
          "name": "stdout",
          "text": [
            "Accuracy score is: 71.28%\n"
          ]
        }
      ],
      "source": [
        "# Accuracy\n",
        "from sklearn.metrics import accuracy_score\n",
        "score1 = accuracy_score(y_val,y_pred_nb)\n",
        "print(\"Accuracy score is: {}%\".format(round(score1*100,2)))"
      ]
    },
    {
      "cell_type": "markdown",
      "source": [
        "**Using Cross validation**"
      ],
      "metadata": {
        "id": "IisXjqQdT3mF"
      },
      "id": "IisXjqQdT3mF"
    },
    {
      "cell_type": "code",
      "execution_count": null,
      "id": "806dec1b",
      "metadata": {
        "colab": {
          "base_uri": "https://localhost:8080/"
        },
        "id": "806dec1b",
        "outputId": "0fa24223-f13a-45d4-f0d1-8392478d9eb2"
      },
      "outputs": [
        {
          "output_type": "stream",
          "name": "stdout",
          "text": [
            "Accuracy obtained by using Multinomial Naive Bayes Model is: 0.851962405288979\n"
          ]
        }
      ],
      "source": [
        "# Prints the accuracy score by using Cross Validation\n",
        "accuracy_nb = cross_val_score(mnb, X_train_smote, y_train_smote, cv=10, scoring='accuracy').mean()\n",
        "print(\"Accuracy obtained by using Multinomial Naive Bayes Model is:\",accuracy_nb)"
      ]
    },
    {
      "cell_type": "code",
      "execution_count": null,
      "id": "636de24e",
      "metadata": {
        "colab": {
          "base_uri": "https://localhost:8080/"
        },
        "id": "636de24e",
        "outputId": "be322b56-dc5e-404f-af3c-896d1ad5d098"
      },
      "outputs": [
        {
          "output_type": "stream",
          "name": "stdout",
          "text": [
            "F1 score: 0.8503093726539397\n"
          ]
        }
      ],
      "source": [
        "# Prints the f1 score by using Cross Validation\n",
        "f1_nb = cross_val_score(mnb, X_train_smote, y_train_smote, cv=10, scoring='f1_weighted').mean()\n",
        "print(\"F1 score:\",f1_nb)"
      ]
    },
    {
      "cell_type": "markdown",
      "id": "3197185f",
      "metadata": {
        "id": "3197185f"
      },
      "source": [
        "## Logistic Regression for MultiClass"
      ]
    },
    {
      "cell_type": "code",
      "execution_count": null,
      "id": "a3e73d16",
      "metadata": {
        "colab": {
          "base_uri": "https://localhost:8080/"
        },
        "id": "a3e73d16",
        "outputId": "5216fdd5-1954-42f6-aa24-f70db204c75f"
      },
      "outputs": [
        {
          "output_type": "execute_result",
          "data": {
            "text/plain": [
              "LogisticRegression(multi_class='multinomial')"
            ]
          },
          "metadata": {},
          "execution_count": 25
        }
      ],
      "source": [
        "from sklearn.linear_model import LogisticRegression\n",
        "\n",
        "lg= LogisticRegression(multi_class='multinomial', solver='lbfgs')\n",
        "# Fitting the model\n",
        "lg.fit(X_train_smote, y_train_smote)"
      ]
    },
    {
      "cell_type": "code",
      "execution_count": null,
      "id": "9d5167e2",
      "metadata": {
        "id": "9d5167e2"
      },
      "outputs": [],
      "source": [
        "# Predicts the labels\n",
        "y_pred_lg = lg.predict(tfidf_val)"
      ]
    },
    {
      "cell_type": "code",
      "execution_count": null,
      "id": "92ea2969",
      "metadata": {
        "colab": {
          "base_uri": "https://localhost:8080/"
        },
        "id": "92ea2969",
        "outputId": "175de5d7-5a85-4b83-8365-643b50a1f171"
      },
      "outputs": [
        {
          "output_type": "stream",
          "name": "stdout",
          "text": [
            "Confusion Matrix\n",
            "\n",
            "[[116  24  47]\n",
            " [ 32 349  36]\n",
            " [ 27  93 648]]\n",
            "              precision    recall  f1-score   support\n",
            "\n",
            "          -1       0.66      0.62      0.64       187\n",
            "           0       0.75      0.84      0.79       417\n",
            "           1       0.89      0.84      0.86       768\n",
            "\n",
            "    accuracy                           0.81      1372\n",
            "   macro avg       0.77      0.77      0.77      1372\n",
            "weighted avg       0.81      0.81      0.81      1372\n",
            "\n"
          ]
        }
      ],
      "source": [
        "# Prints the confusion matrix \n",
        "cm = confusion_matrix(y_val, y_pred_lg)\n",
        "print(\"Confusion Matrix\\n\")\n",
        "print(cm)\n",
        "\n",
        "print(classification_report(y_val,y_pred_lg))"
      ]
    },
    {
      "cell_type": "markdown",
      "id": "83692360",
      "metadata": {
        "id": "83692360"
      },
      "source": [
        "The accuracy obtained is 81%"
      ]
    },
    {
      "cell_type": "markdown",
      "source": [
        "**Using Cross Validation**"
      ],
      "metadata": {
        "id": "6RJnLS0bUFE8"
      },
      "id": "6RJnLS0bUFE8"
    },
    {
      "cell_type": "code",
      "execution_count": null,
      "id": "47555137",
      "metadata": {
        "colab": {
          "base_uri": "https://localhost:8080/"
        },
        "id": "47555137",
        "outputId": "3fb98081-1132-473c-a19d-5931affb2509"
      },
      "outputs": [
        {
          "output_type": "stream",
          "name": "stdout",
          "text": [
            "Accuracy obtained by using MultiNomial Logistic Regression Model is: 0.9141521876862131\n"
          ]
        }
      ],
      "source": [
        "# Prints the accuracy score by using Cross Validation\n",
        "accuracy_lg = cross_val_score(lg, X_train_smote, y_train_smote, cv=10, scoring='accuracy').mean()\n",
        "print(\"Accuracy obtained by using MultiNomial Logistic Regression Model is:\",accuracy_lg)"
      ]
    },
    {
      "cell_type": "code",
      "execution_count": null,
      "id": "1b2fdaaf",
      "metadata": {
        "colab": {
          "base_uri": "https://localhost:8080/"
        },
        "id": "1b2fdaaf",
        "outputId": "397adcee-39d9-47f4-e074-9ed0c83f0c93"
      },
      "outputs": [
        {
          "output_type": "stream",
          "name": "stdout",
          "text": [
            "F1 score: 0.9131476196881996\n"
          ]
        }
      ],
      "source": [
        "# Prints the f1 score by using Cross Validation\n",
        "f1_lg = cross_val_score(lg, X_train_smote, y_train_smote, cv=10, scoring='f1_weighted').mean()\n",
        "print(\"F1 score:\",f1_lg)"
      ]
    },
    {
      "cell_type": "markdown",
      "id": "6aab8685",
      "metadata": {
        "id": "6aab8685"
      },
      "source": [
        "## Support Vector Machine"
      ]
    },
    {
      "cell_type": "code",
      "execution_count": null,
      "id": "10a9b649",
      "metadata": {
        "id": "10a9b649"
      },
      "outputs": [],
      "source": [
        "from sklearn import svm"
      ]
    },
    {
      "cell_type": "code",
      "execution_count": null,
      "id": "f118845e",
      "metadata": {
        "id": "f118845e"
      },
      "outputs": [],
      "source": [
        "SVM = svm.SVC(C=1.0, kernel='linear', degree=3, gamma='auto')\n",
        "SVM.fit(X_train_smote, y_train_smote)\n",
        "\n",
        "# predict the labels on validation dataset\n",
        "predictions_SVM = SVM.predict(tfidf_val)\n"
      ]
    },
    {
      "cell_type": "code",
      "execution_count": null,
      "id": "Ffyp2HNh7YmM",
      "metadata": {
        "colab": {
          "base_uri": "https://localhost:8080/"
        },
        "id": "Ffyp2HNh7YmM",
        "outputId": "b32f0d8e-7caa-4d43-cd65-0b162500442c"
      },
      "outputs": [
        {
          "output_type": "stream",
          "name": "stdout",
          "text": [
            "Confusion Matrix\n",
            "\n",
            "[[106  29  52]\n",
            " [ 23 347  47]\n",
            " [ 21  68 679]]\n",
            "              precision    recall  f1-score   support\n",
            "\n",
            "          -1       0.71      0.57      0.63       187\n",
            "           0       0.78      0.83      0.81       417\n",
            "           1       0.87      0.88      0.88       768\n",
            "\n",
            "    accuracy                           0.83      1372\n",
            "   macro avg       0.79      0.76      0.77      1372\n",
            "weighted avg       0.82      0.83      0.82      1372\n",
            "\n"
          ]
        }
      ],
      "source": [
        "# Prints the confusion matrix \n",
        "cm = confusion_matrix(y_val, predictions_SVM)\n",
        "print(\"Confusion Matrix\\n\")\n",
        "print(cm)\n",
        "\n",
        "print(classification_report(y_val,predictions_SVM))"
      ]
    },
    {
      "cell_type": "markdown",
      "id": "8bb466c6",
      "metadata": {
        "id": "8bb466c6"
      },
      "source": [
        "The accuracy obtained is 83%"
      ]
    },
    {
      "cell_type": "markdown",
      "source": [
        "**Using Cross Validation**"
      ],
      "metadata": {
        "id": "9brmQ8rIUOnG"
      },
      "id": "9brmQ8rIUOnG"
    },
    {
      "cell_type": "code",
      "execution_count": null,
      "id": "edfde990",
      "metadata": {
        "id": "edfde990",
        "colab": {
          "base_uri": "https://localhost:8080/"
        },
        "outputId": "39c5671e-0063-495a-ec26-41572daa444b"
      },
      "outputs": [
        {
          "output_type": "stream",
          "name": "stdout",
          "text": [
            "Accuracy obtained by using SVM Classifier: 0.9565689467969598\n"
          ]
        }
      ],
      "source": [
        "# Prints the accuracy score\n",
        "accuracy_SVM = cross_val_score(SVM, X_train_smote, y_train_smote, cv=10, scoring='accuracy').max()\n",
        "print(\"Accuracy obtained by using SVM Classifier:\",accuracy_SVM)"
      ]
    },
    {
      "cell_type": "code",
      "execution_count": null,
      "id": "c4c48d3a",
      "metadata": {
        "colab": {
          "base_uri": "https://localhost:8080/"
        },
        "id": "c4c48d3a",
        "outputId": "6adab5eb-82d1-48a4-a700-72f76ae2ca87"
      },
      "outputs": [
        {
          "output_type": "stream",
          "name": "stdout",
          "text": [
            "F1 score: 0.9343918213798161\n"
          ]
        }
      ],
      "source": [
        "# Prints the f1 score\n",
        "f1_SVM = cross_val_score(SVM, X_train_smote, y_train_smote, cv=10, scoring='f1_weighted').mean()\n",
        "print(\"F1 score:\",f1_SVM)"
      ]
    },
    {
      "cell_type": "markdown",
      "id": "a0465c6f",
      "metadata": {
        "id": "a0465c6f"
      },
      "source": [
        "## Random Forest Classifier"
      ]
    },
    {
      "cell_type": "code",
      "execution_count": null,
      "id": "610c9898",
      "metadata": {
        "id": "610c9898"
      },
      "outputs": [],
      "source": [
        "from sklearn.ensemble import RandomForestClassifier"
      ]
    },
    {
      "cell_type": "code",
      "execution_count": null,
      "id": "5fae2152",
      "metadata": {
        "colab": {
          "base_uri": "https://localhost:8080/"
        },
        "id": "5fae2152",
        "outputId": "cd40ebfa-33a8-4486-ca1c-a5ecade42998"
      },
      "outputs": [
        {
          "output_type": "execute_result",
          "data": {
            "text/plain": [
              "RandomForestClassifier(n_estimators=5, n_jobs=2, random_state=1)"
            ]
          },
          "metadata": {},
          "execution_count": 36
        }
      ],
      "source": [
        "\n",
        "rf1 = RandomForestClassifier(criterion='gini',\n",
        "                                 n_estimators=5,\n",
        "                                 random_state=1,\n",
        "                                 n_jobs=2)\n",
        "\n",
        "rf1.fit(X_train_smote, y_train_smote)"
      ]
    },
    {
      "cell_type": "code",
      "execution_count": null,
      "id": "e3351b20",
      "metadata": {
        "id": "e3351b20"
      },
      "outputs": [],
      "source": [
        "# Measure model performance\n",
        "y_pred_rf = rf1.predict(tfidf_val)"
      ]
    },
    {
      "cell_type": "code",
      "execution_count": null,
      "id": "1f5aad58",
      "metadata": {
        "colab": {
          "base_uri": "https://localhost:8080/"
        },
        "id": "1f5aad58",
        "outputId": "e81c0910-1db0-462c-f9db-c0a40e90687e"
      },
      "outputs": [
        {
          "output_type": "stream",
          "name": "stdout",
          "text": [
            "Confusion Matrix\n",
            "\n",
            "[[102  43  42]\n",
            " [ 21 323  73]\n",
            " [ 45 135 588]]\n",
            "              precision    recall  f1-score   support\n",
            "\n",
            "          -1       0.61      0.55      0.57       187\n",
            "           0       0.64      0.77      0.70       417\n",
            "           1       0.84      0.77      0.80       768\n",
            "\n",
            "    accuracy                           0.74      1372\n",
            "   macro avg       0.70      0.70      0.69      1372\n",
            "weighted avg       0.75      0.74      0.74      1372\n",
            "\n"
          ]
        }
      ],
      "source": [
        "# Prints the confusion matrix \n",
        "cm = confusion_matrix(y_val, y_pred_rf)\n",
        "print(\"Confusion Matrix\\n\")\n",
        "print(cm)\n",
        "\n",
        "print(classification_report(y_val,y_pred_rf))"
      ]
    },
    {
      "cell_type": "markdown",
      "id": "a413611a",
      "metadata": {
        "id": "a413611a"
      },
      "source": [
        "The accuracy obtained is 74%"
      ]
    },
    {
      "cell_type": "markdown",
      "source": [
        "**Using Cross validation**"
      ],
      "metadata": {
        "id": "GnlgrLotUdIW"
      },
      "id": "GnlgrLotUdIW"
    },
    {
      "cell_type": "code",
      "execution_count": null,
      "id": "e8caac96",
      "metadata": {
        "colab": {
          "base_uri": "https://localhost:8080/"
        },
        "id": "e8caac96",
        "outputId": "6a750ead-52e3-40ee-9842-5b8c0a3bee74"
      },
      "outputs": [
        {
          "output_type": "stream",
          "name": "stdout",
          "text": [
            "Accuracy obtained by using Random Forest Classifier: 0.9011943539630836\n"
          ]
        }
      ],
      "source": [
        "# Prints the accuracy score\n",
        "accuracy_rf = cross_val_score(rf, X_train_smote, y_train_smote, cv=10, scoring='accuracy').max()\n",
        "print(\"Accuracy obtained by using Random Forest Classifier:\",accuracy_rf)"
      ]
    },
    {
      "cell_type": "code",
      "execution_count": null,
      "id": "52c771f8",
      "metadata": {
        "colab": {
          "base_uri": "https://localhost:8080/"
        },
        "id": "52c771f8",
        "outputId": "66dc22d5-428c-4535-aaa5-43a5a310f66d"
      },
      "outputs": [
        {
          "output_type": "stream",
          "name": "stdout",
          "text": [
            "F1 score: 0.8552275311246319\n"
          ]
        }
      ],
      "source": [
        "# Prints the f1 score\n",
        "f1_rf = cross_val_score(rf, X_train_smote, y_train_smote, cv=10, scoring='f1_weighted').mean()\n",
        "print(\"F1 score:\",f1_rf)"
      ]
    },
    {
      "cell_type": "markdown",
      "id": "9b47219e",
      "metadata": {
        "id": "9b47219e"
      },
      "source": [
        "## Comparing Model Accuracy of all the Models used"
      ]
    },
    {
      "cell_type": "code",
      "execution_count": null,
      "id": "c0a2a1ee",
      "metadata": {
        "colab": {
          "base_uri": "https://localhost:8080/",
          "height": 112
        },
        "id": "c0a2a1ee",
        "outputId": "9e809479-ed4b-41a8-e73e-ac5e6e6a7cf5"
      },
      "outputs": [
        {
          "output_type": "execute_result",
          "data": {
            "text/plain": [
              "                                         1                           2  \\\n",
              "Model     Multinominal Naive Bayes(TF-IDF)  LogisticRegression(TF-IDF)   \n",
              "Accuracy                          0.851962                    0.914152   \n",
              "\n",
              "                             3                             4  \n",
              "Model     RandomForest(TF-IDF)  SupportVectorMachine(TF-IDF)  \n",
              "Accuracy              0.901194                      0.956569  "
            ],
            "text/html": [
              "\n",
              "  <div id=\"df-4e03b579-0b19-46b2-9eb8-70826e0700c5\">\n",
              "    <div class=\"colab-df-container\">\n",
              "      <div>\n",
              "<style scoped>\n",
              "    .dataframe tbody tr th:only-of-type {\n",
              "        vertical-align: middle;\n",
              "    }\n",
              "\n",
              "    .dataframe tbody tr th {\n",
              "        vertical-align: top;\n",
              "    }\n",
              "\n",
              "    .dataframe thead th {\n",
              "        text-align: right;\n",
              "    }\n",
              "</style>\n",
              "<table border=\"1\" class=\"dataframe\">\n",
              "  <thead>\n",
              "    <tr style=\"text-align: right;\">\n",
              "      <th></th>\n",
              "      <th>1</th>\n",
              "      <th>2</th>\n",
              "      <th>3</th>\n",
              "      <th>4</th>\n",
              "    </tr>\n",
              "  </thead>\n",
              "  <tbody>\n",
              "    <tr>\n",
              "      <th>Model</th>\n",
              "      <td>Multinominal Naive Bayes(TF-IDF)</td>\n",
              "      <td>LogisticRegression(TF-IDF)</td>\n",
              "      <td>RandomForest(TF-IDF)</td>\n",
              "      <td>SupportVectorMachine(TF-IDF)</td>\n",
              "    </tr>\n",
              "    <tr>\n",
              "      <th>Accuracy</th>\n",
              "      <td>0.851962</td>\n",
              "      <td>0.914152</td>\n",
              "      <td>0.901194</td>\n",
              "      <td>0.956569</td>\n",
              "    </tr>\n",
              "  </tbody>\n",
              "</table>\n",
              "</div>\n",
              "      <button class=\"colab-df-convert\" onclick=\"convertToInteractive('df-4e03b579-0b19-46b2-9eb8-70826e0700c5')\"\n",
              "              title=\"Convert this dataframe to an interactive table.\"\n",
              "              style=\"display:none;\">\n",
              "        \n",
              "  <svg xmlns=\"http://www.w3.org/2000/svg\" height=\"24px\"viewBox=\"0 0 24 24\"\n",
              "       width=\"24px\">\n",
              "    <path d=\"M0 0h24v24H0V0z\" fill=\"none\"/>\n",
              "    <path d=\"M18.56 5.44l.94 2.06.94-2.06 2.06-.94-2.06-.94-.94-2.06-.94 2.06-2.06.94zm-11 1L8.5 8.5l.94-2.06 2.06-.94-2.06-.94L8.5 2.5l-.94 2.06-2.06.94zm10 10l.94 2.06.94-2.06 2.06-.94-2.06-.94-.94-2.06-.94 2.06-2.06.94z\"/><path d=\"M17.41 7.96l-1.37-1.37c-.4-.4-.92-.59-1.43-.59-.52 0-1.04.2-1.43.59L10.3 9.45l-7.72 7.72c-.78.78-.78 2.05 0 2.83L4 21.41c.39.39.9.59 1.41.59.51 0 1.02-.2 1.41-.59l7.78-7.78 2.81-2.81c.8-.78.8-2.07 0-2.86zM5.41 20L4 18.59l7.72-7.72 1.47 1.35L5.41 20z\"/>\n",
              "  </svg>\n",
              "      </button>\n",
              "      \n",
              "  <style>\n",
              "    .colab-df-container {\n",
              "      display:flex;\n",
              "      flex-wrap:wrap;\n",
              "      gap: 12px;\n",
              "    }\n",
              "\n",
              "    .colab-df-convert {\n",
              "      background-color: #E8F0FE;\n",
              "      border: none;\n",
              "      border-radius: 50%;\n",
              "      cursor: pointer;\n",
              "      display: none;\n",
              "      fill: #1967D2;\n",
              "      height: 32px;\n",
              "      padding: 0 0 0 0;\n",
              "      width: 32px;\n",
              "    }\n",
              "\n",
              "    .colab-df-convert:hover {\n",
              "      background-color: #E2EBFA;\n",
              "      box-shadow: 0px 1px 2px rgba(60, 64, 67, 0.3), 0px 1px 3px 1px rgba(60, 64, 67, 0.15);\n",
              "      fill: #174EA6;\n",
              "    }\n",
              "\n",
              "    [theme=dark] .colab-df-convert {\n",
              "      background-color: #3B4455;\n",
              "      fill: #D2E3FC;\n",
              "    }\n",
              "\n",
              "    [theme=dark] .colab-df-convert:hover {\n",
              "      background-color: #434B5C;\n",
              "      box-shadow: 0px 1px 3px 1px rgba(0, 0, 0, 0.15);\n",
              "      filter: drop-shadow(0px 1px 2px rgba(0, 0, 0, 0.3));\n",
              "      fill: #FFFFFF;\n",
              "    }\n",
              "  </style>\n",
              "\n",
              "      <script>\n",
              "        const buttonEl =\n",
              "          document.querySelector('#df-4e03b579-0b19-46b2-9eb8-70826e0700c5 button.colab-df-convert');\n",
              "        buttonEl.style.display =\n",
              "          google.colab.kernel.accessAllowed ? 'block' : 'none';\n",
              "\n",
              "        async function convertToInteractive(key) {\n",
              "          const element = document.querySelector('#df-4e03b579-0b19-46b2-9eb8-70826e0700c5');\n",
              "          const dataTable =\n",
              "            await google.colab.kernel.invokeFunction('convertToInteractive',\n",
              "                                                     [key], {});\n",
              "          if (!dataTable) return;\n",
              "\n",
              "          const docLinkHtml = 'Like what you see? Visit the ' +\n",
              "            '<a target=\"_blank\" href=https://colab.research.google.com/notebooks/data_table.ipynb>data table notebook</a>'\n",
              "            + ' to learn more about interactive tables.';\n",
              "          element.innerHTML = '';\n",
              "          dataTable['output_type'] = 'display_data';\n",
              "          await google.colab.output.renderOutput(dataTable, element);\n",
              "          const docLink = document.createElement('div');\n",
              "          docLink.innerHTML = docLinkHtml;\n",
              "          element.appendChild(docLink);\n",
              "        }\n",
              "      </script>\n",
              "    </div>\n",
              "  </div>\n",
              "  "
            ]
          },
          "metadata": {},
          "execution_count": 41
        }
      ],
      "source": [
        "Algo=['Multinominal Naive Bayes(TF-IDF)','LogisticRegression(TF-IDF)','RandomForest(TF-IDF)','SupportVectorMachine(TF-IDF)']\n",
        "score = [accuracy_nb,accuracy_lg,accuracy_rf,accuracy_SVM]\n",
        "compare_acc=pd.DataFrame({'Model':Algo,'Accuracy':score},index=[i for i in range(1,5)])\n",
        "compare_acc.T"
      ]
    },
    {
      "cell_type": "code",
      "execution_count": null,
      "id": "de71aacb",
      "metadata": {
        "colab": {
          "base_uri": "https://localhost:8080/",
          "height": 350
        },
        "id": "de71aacb",
        "outputId": "a30e5d90-2cec-4591-b139-33329a3d50f9"
      },
      "outputs": [
        {
          "output_type": "display_data",
          "data": {
            "text/plain": [
              "<Figure size 1296x360 with 1 Axes>"
            ],
            "image/png": "[encoded data removed]"
          },
          "metadata": {
            "needs_background": "light"
          }
        }
      ],
      "source": [
        "plt.figure(figsize=(18,5))\n",
        "\n",
        "sns.pointplot(x='Model',y='Accuracy',data=compare_acc)\n",
        "\n",
        "plt.title('Model Vs Accuracy')\n",
        "plt.xlabel('MODEL')\n",
        "plt.ylabel('Accuracy')\n",
        "\n",
        "plt.show()"
      ]
    },
    {
      "cell_type": "markdown",
      "id": "0d2df843",
      "metadata": {
        "id": "0d2df843"
      },
      "source": [
        "__SVM gives the highest accuracy of around 95% among all other models implemented__"
      ]
    },
    {
      "cell_type": "code",
      "execution_count": null,
      "id": "e5459374",
      "metadata": {
        "colab": {
          "base_uri": "https://localhost:8080/",
          "height": 112
        },
        "id": "e5459374",
        "outputId": "60b9529a-e7e1-4b96-e5ed-9354f188caa4"
      },
      "outputs": [
        {
          "output_type": "execute_result",
          "data": {
            "text/plain": [
              "                                      1                           2  \\\n",
              "Model     Bernoulli Naive Bayes(TF-IDF)  LogisticRegression(TF-IDF)   \n",
              "F1 score                       0.850309                    0.913148   \n",
              "\n",
              "                             3                             4  \n",
              "Model     RandomForest(TF-IDF)  SupportVectorMachine(TF-IDF)  \n",
              "F1 score              0.855228                      0.934392  "
            ],
            "text/html": [
              "\n",
              "  <div id=\"df-30cb8745-782b-46a3-af4d-85194bb96197\">\n",
              "    <div class=\"colab-df-container\">\n",
              "      <div>\n",
              "<style scoped>\n",
              "    .dataframe tbody tr th:only-of-type {\n",
              "        vertical-align: middle;\n",
              "    }\n",
              "\n",
              "    .dataframe tbody tr th {\n",
              "        vertical-align: top;\n",
              "    }\n",
              "\n",
              "    .dataframe thead th {\n",
              "        text-align: right;\n",
              "    }\n",
              "</style>\n",
              "<table border=\"1\" class=\"dataframe\">\n",
              "  <thead>\n",
              "    <tr style=\"text-align: right;\">\n",
              "      <th></th>\n",
              "      <th>1</th>\n",
              "      <th>2</th>\n",
              "      <th>3</th>\n",
              "      <th>4</th>\n",
              "    </tr>\n",
              "  </thead>\n",
              "  <tbody>\n",
              "    <tr>\n",
              "      <th>Model</th>\n",
              "      <td>Bernoulli Naive Bayes(TF-IDF)</td>\n",
              "      <td>LogisticRegression(TF-IDF)</td>\n",
              "      <td>RandomForest(TF-IDF)</td>\n",
              "      <td>SupportVectorMachine(TF-IDF)</td>\n",
              "    </tr>\n",
              "    <tr>\n",
              "      <th>F1 score</th>\n",
              "      <td>0.850309</td>\n",
              "      <td>0.913148</td>\n",
              "      <td>0.855228</td>\n",
              "      <td>0.934392</td>\n",
              "    </tr>\n",
              "  </tbody>\n",
              "</table>\n",
              "</div>\n",
              "      <button class=\"colab-df-convert\" onclick=\"convertToInteractive('df-30cb8745-782b-46a3-af4d-85194bb96197')\"\n",
              "              title=\"Convert this dataframe to an interactive table.\"\n",
              "              style=\"display:none;\">\n",
              "        \n",
              "  <svg xmlns=\"http://www.w3.org/2000/svg\" height=\"24px\"viewBox=\"0 0 24 24\"\n",
              "       width=\"24px\">\n",
              "    <path d=\"M0 0h24v24H0V0z\" fill=\"none\"/>\n",
              "    <path d=\"M18.56 5.44l.94 2.06.94-2.06 2.06-.94-2.06-.94-.94-2.06-.94 2.06-2.06.94zm-11 1L8.5 8.5l.94-2.06 2.06-.94-2.06-.94L8.5 2.5l-.94 2.06-2.06.94zm10 10l.94 2.06.94-2.06 2.06-.94-2.06-.94-.94-2.06-.94 2.06-2.06.94z\"/><path d=\"M17.41 7.96l-1.37-1.37c-.4-.4-.92-.59-1.43-.59-.52 0-1.04.2-1.43.59L10.3 9.45l-7.72 7.72c-.78.78-.78 2.05 0 2.83L4 21.41c.39.39.9.59 1.41.59.51 0 1.02-.2 1.41-.59l7.78-7.78 2.81-2.81c.8-.78.8-2.07 0-2.86zM5.41 20L4 18.59l7.72-7.72 1.47 1.35L5.41 20z\"/>\n",
              "  </svg>\n",
              "      </button>\n",
              "      \n",
              "  <style>\n",
              "    .colab-df-container {\n",
              "      display:flex;\n",
              "      flex-wrap:wrap;\n",
              "      gap: 12px;\n",
              "    }\n",
              "\n",
              "    .colab-df-convert {\n",
              "      background-color: #E8F0FE;\n",
              "      border: none;\n",
              "      border-radius: 50%;\n",
              "      cursor: pointer;\n",
              "      display: none;\n",
              "      fill: #1967D2;\n",
              "      height: 32px;\n",
              "      padding: 0 0 0 0;\n",
              "      width: 32px;\n",
              "    }\n",
              "\n",
              "    .colab-df-convert:hover {\n",
              "      background-color: #E2EBFA;\n",
              "      box-shadow: 0px 1px 2px rgba(60, 64, 67, 0.3), 0px 1px 3px 1px rgba(60, 64, 67, 0.15);\n",
              "      fill: #174EA6;\n",
              "    }\n",
              "\n",
              "    [theme=dark] .colab-df-convert {\n",
              "      background-color: #3B4455;\n",
              "      fill: #D2E3FC;\n",
              "    }\n",
              "\n",
              "    [theme=dark] .colab-df-convert:hover {\n",
              "      background-color: #434B5C;\n",
              "      box-shadow: 0px 1px 3px 1px rgba(0, 0, 0, 0.15);\n",
              "      filter: drop-shadow(0px 1px 2px rgba(0, 0, 0, 0.3));\n",
              "      fill: #FFFFFF;\n",
              "    }\n",
              "  </style>\n",
              "\n",
              "      <script>\n",
              "        const buttonEl =\n",
              "          document.querySelector('#df-30cb8745-782b-46a3-af4d-85194bb96197 button.colab-df-convert');\n",
              "        buttonEl.style.display =\n",
              "          google.colab.kernel.accessAllowed ? 'block' : 'none';\n",
              "\n",
              "        async function convertToInteractive(key) {\n",
              "          const element = document.querySelector('#df-30cb8745-782b-46a3-af4d-85194bb96197');\n",
              "          const dataTable =\n",
              "            await google.colab.kernel.invokeFunction('convertToInteractive',\n",
              "                                                     [key], {});\n",
              "          if (!dataTable) return;\n",
              "\n",
              "          const docLinkHtml = 'Like what you see? Visit the ' +\n",
              "            '<a target=\"_blank\" href=https://colab.research.google.com/notebooks/data_table.ipynb>data table notebook</a>'\n",
              "            + ' to learn more about interactive tables.';\n",
              "          element.innerHTML = '';\n",
              "          dataTable['output_type'] = 'display_data';\n",
              "          await google.colab.output.renderOutput(dataTable, element);\n",
              "          const docLink = document.createElement('div');\n",
              "          docLink.innerHTML = docLinkHtml;\n",
              "          element.appendChild(docLink);\n",
              "        }\n",
              "      </script>\n",
              "    </div>\n",
              "  </div>\n",
              "  "
            ]
          },
          "metadata": {},
          "execution_count": 43
        }
      ],
      "source": [
        "Algo=['Bernoulli Naive Bayes(TF-IDF)','LogisticRegression(TF-IDF)','RandomForest(TF-IDF)','SupportVectorMachine(TF-IDF)']\n",
        "score = [f1_nb,f1_lg,f1_rf,f1_SVM]\n",
        "compare=pd.DataFrame({'Model':Algo,'F1 score':score},index=[i for i in range(1,5)])\n",
        "compare.T"
      ]
    },
    {
      "cell_type": "code",
      "execution_count": null,
      "id": "1e322916",
      "metadata": {
        "colab": {
          "base_uri": "https://localhost:8080/",
          "height": 350
        },
        "id": "1e322916",
        "outputId": "8ab517b7-355a-4aff-8648-8d590d17f593"
      },
      "outputs": [
        {
          "output_type": "display_data",
          "data": {
            "text/plain": [
              "<Figure size 1296x360 with 1 Axes>"
            ],
            "image/png": "[encoded data removed]"
          },
          "metadata": {
            "needs_background": "light"
          }
        }
      ],
      "source": [
        "plt.figure(figsize=(18,5))\n",
        "\n",
        "sns.pointplot(x='Model',y='F1 score',data=compare)\n",
        "\n",
        "plt.title('Model Vs F1 score')\n",
        "plt.xlabel('MODEL')\n",
        "plt.ylabel('F1 SCORE')\n",
        "\n",
        "plt.show()"
      ]
    },
    {
      "cell_type": "markdown",
      "id": "3512b0f9",
      "metadata": {
        "id": "3512b0f9"
      },
      "source": [
        "__We can observe that the highest F1 score has been obtained by using Support Vector Machine which is 93%__"
      ]
    },
    {
      "cell_type": "code",
      "execution_count": null,
      "id": "422ec25d",
      "metadata": {
        "id": "422ec25d"
      },
      "outputs": [],
      "source": [
        ""
      ]
    }
  ],
  "metadata": {
    "colab": {
      "collapsed_sections": [],
      "name": "5_ML_Project_Train_Modeling(final).ipynb",
      "provenance": []
    },
    "kernelspec": {
      "display_name": "Python 3 (ipykernel)",
      "language": "python",
      "name": "python3"
    },
    "language_info": {
      "codemirror_mode": {
        "name": "ipython",
        "version": 3
      },
      "file_extension": ".py",
      "mimetype": "text/x-python",
      "name": "python",
      "nbconvert_exporter": "python",
      "pygments_lexer": "ipython3",
      "version": "3.8.5"
    }
  },
  "nbformat": 4,
  "nbformat_minor": 5
}