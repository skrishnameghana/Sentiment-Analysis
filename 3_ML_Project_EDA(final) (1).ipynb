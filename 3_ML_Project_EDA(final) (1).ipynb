{
  "cells": [
    {
      "cell_type": "markdown",
      "id": "6649c81d",
      "metadata": {
        "id": "6649c81d"
      },
      "source": [
        "# Exploratory Data Analysis "
      ]
    },
    {
      "cell_type": "markdown",
      "id": "a2a5a0db",
      "metadata": {
        "id": "a2a5a0db"
      },
      "source": [
        "## Visualization of Text"
      ]
    },
    {
      "cell_type": "code",
      "execution_count": null,
      "id": "5622db60",
      "metadata": {
        "id": "5622db60"
      },
      "outputs": [],
      "source": [
        "import pandas as pd\n",
        "import numpy as np\n",
        "\n",
        "#ignore warning messages \n",
        "import warnings\n",
        "warnings.filterwarnings('ignore')"
      ]
    },
    {
      "cell_type": "code",
      "execution_count": null,
      "id": "c1444712",
      "metadata": {
        "id": "c1444712"
      },
      "outputs": [],
      "source": [
        "#importing the training dataset\n",
        "\n",
        "data = pd.read_csv(\"cleaned1.csv\")"
      ]
    },
    {
      "cell_type": "code",
      "execution_count": null,
      "id": "0db93175",
      "metadata": {
        "id": "0db93175",
        "outputId": "3d42198a-691c-4416-9015-beb5968cf676",
        "colab": {
          "base_uri": "https://localhost:8080/",
          "height": 510
        }
      },
      "outputs": [
        {
          "output_type": "execute_result",
          "data": {
            "text/plain": [
              "   Unnamed: 0              Date_of_tweet  \\\n",
              "0           0  2020-08-04 23:31:59+00:00   \n",
              "1           1  2020-08-04 23:31:56+00:00   \n",
              "2           2  2020-08-04 22:22:30+00:00   \n",
              "3           3  2020-08-04 22:20:56+00:00   \n",
              "4           4  2020-08-04 21:01:14+00:00   \n",
              "\n",
              "                                               Tweet  Likes_on_tweet  \\\n",
              "0  Historically #TamilNadu has been a state with ...               1   \n",
              "1  #HelloStrangerEP6 #HarrisonFord #GeorgeFloyd #...               0   \n",
              "2  @cbseindia29 @PMOIndia @narendramodi @DrRPNish...               1   \n",
              "3  @PMOIndia’s anti-democratic #NEP2020 was 400+ ...               1   \n",
              "4  The latest The Nursing Education Daily! http:/...               0   \n",
              "\n",
              "                                         Tweet_punct  \\\n",
              "0  Historically TamilNadu has been a state with p...   \n",
              "1  HelloStrangerEP HarrisonFord GeorgeFloyd JiCha...   \n",
              "2  cbseindia PMOIndia narendramodi DrRPNishank AB...   \n",
              "3  PMOIndia’s antidemocratic NEP was  pgs in  dra...   \n",
              "4  The latest The Nursing Education Daily httpned...   \n",
              "\n",
              "                                     Tweet_tokenized  \\\n",
              "0  ['historically', 'tamilnadu', 'has', 'been', '...   \n",
              "1  ['hellostrangerep', 'harrisonford', 'georgeflo...   \n",
              "2  ['cbseindia', 'pmoindia', 'narendramodi', 'drr...   \n",
              "3  ['pmoindia', 's', 'antidemocratic', 'nep', 'wa...   \n",
              "4  ['the', 'latest', 'the', 'nursing', 'education...   \n",
              "\n",
              "                                       Tweet_nonstop  \\\n",
              "0  ['historically', 'tamilnadu', 'state', 'progre...   \n",
              "1  ['hellostrangerep', 'harrisonford', 'georgeflo...   \n",
              "2  ['cbseindia', 'pmoindia', 'narendramodi', 'drr...   \n",
              "3  ['pmoindia', 'antidemocratic', 'nep', 'pgs', '...   \n",
              "4  ['latest', 'nursing', 'education', 'daily', 'h...   \n",
              "\n",
              "                                       Tweet_stemmed  \\\n",
              "0  ['histor', 'tamilnadu', 'state', 'progress', '...   \n",
              "1  ['hellostrangerep', 'harrisonford', 'georgeflo...   \n",
              "2  ['cbseindia', 'pmoindia', 'narendramodi', 'drr...   \n",
              "3  ['pmoindia', 'antidemocrat', 'nep', 'pg', 'dra...   \n",
              "4  ['latest', 'nurs', 'educ', 'daili', 'httpnedsk...   \n",
              "\n",
              "                                    Tweet_lemmatized  \n",
              "0  ['historically', 'tamilnadu', 'state', 'progre...  \n",
              "1  ['hellostrangerep', 'harrisonford', 'georgeflo...  \n",
              "2  ['cbseindia', 'pmoindia', 'narendramodi', 'drr...  \n",
              "3  ['pmoindia', 'antidemocratic', 'nep', 'pgs', '...  \n",
              "4  ['latest', 'nursing', 'education', 'daily', 'h...  "
            ],
            "text/html": [
              "\n",
              "  <div id=\"df-ed8c5912-6ce5-407b-8690-a1714885fd34\">\n",
              "    <div class=\"colab-df-container\">\n",
              "      <div>\n",
              "<style scoped>\n",
              "    .dataframe tbody tr th:only-of-type {\n",
              "        vertical-align: middle;\n",
              "    }\n",
              "\n",
              "    .dataframe tbody tr th {\n",
              "        vertical-align: top;\n",
              "    }\n",
              "\n",
              "    .dataframe thead th {\n",
              "        text-align: right;\n",
              "    }\n",
              "</style>\n",
              "<table border=\"1\" class=\"dataframe\">\n",
              "  <thead>\n",
              "    <tr style=\"text-align: right;\">\n",
              "      <th></th>\n",
              "      <th>Unnamed: 0</th>\n",
              "      <th>Date_of_tweet</th>\n",
              "      <th>Tweet</th>\n",
              "      <th>Likes_on_tweet</th>\n",
              "      <th>Tweet_punct</th>\n",
              "      <th>Tweet_tokenized</th>\n",
              "      <th>Tweet_nonstop</th>\n",
              "      <th>Tweet_stemmed</th>\n",
              "      <th>Tweet_lemmatized</th>\n",
              "    </tr>\n",
              "  </thead>\n",
              "  <tbody>\n",
              "    <tr>\n",
              "      <th>0</th>\n",
              "      <td>0</td>\n",
              "      <td>2020-08-04 23:31:59+00:00</td>\n",
              "      <td>Historically #TamilNadu has been a state with ...</td>\n",
              "      <td>1</td>\n",
              "      <td>Historically TamilNadu has been a state with p...</td>\n",
              "      <td>['historically', 'tamilnadu', 'has', 'been', '...</td>\n",
              "      <td>['historically', 'tamilnadu', 'state', 'progre...</td>\n",
              "      <td>['histor', 'tamilnadu', 'state', 'progress', '...</td>\n",
              "      <td>['historically', 'tamilnadu', 'state', 'progre...</td>\n",
              "    </tr>\n",
              "    <tr>\n",
              "      <th>1</th>\n",
              "      <td>1</td>\n",
              "      <td>2020-08-04 23:31:56+00:00</td>\n",
              "      <td>#HelloStrangerEP6 #HarrisonFord #GeorgeFloyd #...</td>\n",
              "      <td>0</td>\n",
              "      <td>HelloStrangerEP HarrisonFord GeorgeFloyd JiCha...</td>\n",
              "      <td>['hellostrangerep', 'harrisonford', 'georgeflo...</td>\n",
              "      <td>['hellostrangerep', 'harrisonford', 'georgeflo...</td>\n",
              "      <td>['hellostrangerep', 'harrisonford', 'georgeflo...</td>\n",
              "      <td>['hellostrangerep', 'harrisonford', 'georgeflo...</td>\n",
              "    </tr>\n",
              "    <tr>\n",
              "      <th>2</th>\n",
              "      <td>2</td>\n",
              "      <td>2020-08-04 22:22:30+00:00</td>\n",
              "      <td>@cbseindia29 @PMOIndia @narendramodi @DrRPNish...</td>\n",
              "      <td>1</td>\n",
              "      <td>cbseindia PMOIndia narendramodi DrRPNishank AB...</td>\n",
              "      <td>['cbseindia', 'pmoindia', 'narendramodi', 'drr...</td>\n",
              "      <td>['cbseindia', 'pmoindia', 'narendramodi', 'drr...</td>\n",
              "      <td>['cbseindia', 'pmoindia', 'narendramodi', 'drr...</td>\n",
              "      <td>['cbseindia', 'pmoindia', 'narendramodi', 'drr...</td>\n",
              "    </tr>\n",
              "    <tr>\n",
              "      <th>3</th>\n",
              "      <td>3</td>\n",
              "      <td>2020-08-04 22:20:56+00:00</td>\n",
              "      <td>@PMOIndia’s anti-democratic #NEP2020 was 400+ ...</td>\n",
              "      <td>1</td>\n",
              "      <td>PMOIndia’s antidemocratic NEP was  pgs in  dra...</td>\n",
              "      <td>['pmoindia', 's', 'antidemocratic', 'nep', 'wa...</td>\n",
              "      <td>['pmoindia', 'antidemocratic', 'nep', 'pgs', '...</td>\n",
              "      <td>['pmoindia', 'antidemocrat', 'nep', 'pg', 'dra...</td>\n",
              "      <td>['pmoindia', 'antidemocratic', 'nep', 'pgs', '...</td>\n",
              "    </tr>\n",
              "    <tr>\n",
              "      <th>4</th>\n",
              "      <td>4</td>\n",
              "      <td>2020-08-04 21:01:14+00:00</td>\n",
              "      <td>The latest The Nursing Education Daily! http:/...</td>\n",
              "      <td>0</td>\n",
              "      <td>The latest The Nursing Education Daily httpned...</td>\n",
              "      <td>['the', 'latest', 'the', 'nursing', 'education...</td>\n",
              "      <td>['latest', 'nursing', 'education', 'daily', 'h...</td>\n",
              "      <td>['latest', 'nurs', 'educ', 'daili', 'httpnedsk...</td>\n",
              "      <td>['latest', 'nursing', 'education', 'daily', 'h...</td>\n",
              "    </tr>\n",
              "  </tbody>\n",
              "</table>\n",
              "</div>\n",
              "      <button class=\"colab-df-convert\" onclick=\"convertToInteractive('df-ed8c5912-6ce5-407b-8690-a1714885fd34')\"\n",
              "              title=\"Convert this dataframe to an interactive table.\"\n",
              "              style=\"display:none;\">\n",
              "        \n",
              "  <svg xmlns=\"http://www.w3.org/2000/svg\" height=\"24px\"viewBox=\"0 0 24 24\"\n",
              "       width=\"24px\">\n",
              "    <path d=\"M0 0h24v24H0V0z\" fill=\"none\"/>\n",
              "    <path d=\"M18.56 5.44l.94 2.06.94-2.06 2.06-.94-2.06-.94-.94-2.06-.94 2.06-2.06.94zm-11 1L8.5 8.5l.94-2.06 2.06-.94-2.06-.94L8.5 2.5l-.94 2.06-2.06.94zm10 10l.94 2.06.94-2.06 2.06-.94-2.06-.94-.94-2.06-.94 2.06-2.06.94z\"/><path d=\"M17.41 7.96l-1.37-1.37c-.4-.4-.92-.59-1.43-.59-.52 0-1.04.2-1.43.59L10.3 9.45l-7.72 7.72c-.78.78-.78 2.05 0 2.83L4 21.41c.39.39.9.59 1.41.59.51 0 1.02-.2 1.41-.59l7.78-7.78 2.81-2.81c.8-.78.8-2.07 0-2.86zM5.41 20L4 18.59l7.72-7.72 1.47 1.35L5.41 20z\"/>\n",
              "  </svg>\n",
              "      </button>\n",
              "      \n",
              "  <style>\n",
              "    .colab-df-container {\n",
              "      display:flex;\n",
              "      flex-wrap:wrap;\n",
              "      gap: 12px;\n",
              "    }\n",
              "\n",
              "    .colab-df-convert {\n",
              "      background-color: #E8F0FE;\n",
              "      border: none;\n",
              "      border-radius: 50%;\n",
              "      cursor: pointer;\n",
              "      display: none;\n",
              "      fill: #1967D2;\n",
              "      height: 32px;\n",
              "      padding: 0 0 0 0;\n",
              "      width: 32px;\n",
              "    }\n",
              "\n",
              "    .colab-df-convert:hover {\n",
              "      background-color: #E2EBFA;\n",
              "      box-shadow: 0px 1px 2px rgba(60, 64, 67, 0.3), 0px 1px 3px 1px rgba(60, 64, 67, 0.15);\n",
              "      fill: #174EA6;\n",
              "    }\n",
              "\n",
              "    [theme=dark] .colab-df-convert {\n",
              "      background-color: #3B4455;\n",
              "      fill: #D2E3FC;\n",
              "    }\n",
              "\n",
              "    [theme=dark] .colab-df-convert:hover {\n",
              "      background-color: #434B5C;\n",
              "      box-shadow: 0px 1px 3px 1px rgba(0, 0, 0, 0.15);\n",
              "      filter: drop-shadow(0px 1px 2px rgba(0, 0, 0, 0.3));\n",
              "      fill: #FFFFFF;\n",
              "    }\n",
              "  </style>\n",
              "\n",
              "      <script>\n",
              "        const buttonEl =\n",
              "          document.querySelector('#df-ed8c5912-6ce5-407b-8690-a1714885fd34 button.colab-df-convert');\n",
              "        buttonEl.style.display =\n",
              "          google.colab.kernel.accessAllowed ? 'block' : 'none';\n",
              "\n",
              "        async function convertToInteractive(key) {\n",
              "          const element = document.querySelector('#df-ed8c5912-6ce5-407b-8690-a1714885fd34');\n",
              "          const dataTable =\n",
              "            await google.colab.kernel.invokeFunction('convertToInteractive',\n",
              "                                                     [key], {});\n",
              "          if (!dataTable) return;\n",
              "\n",
              "          const docLinkHtml = 'Like what you see? Visit the ' +\n",
              "            '<a target=\"_blank\" href=https://colab.research.google.com/notebooks/data_table.ipynb>data table notebook</a>'\n",
              "            + ' to learn more about interactive tables.';\n",
              "          element.innerHTML = '';\n",
              "          dataTable['output_type'] = 'display_data';\n",
              "          await google.colab.output.renderOutput(dataTable, element);\n",
              "          const docLink = document.createElement('div');\n",
              "          docLink.innerHTML = docLinkHtml;\n",
              "          element.appendChild(docLink);\n",
              "        }\n",
              "      </script>\n",
              "    </div>\n",
              "  </div>\n",
              "  "
            ]
          },
          "metadata": {},
          "execution_count": 3
        }
      ],
      "source": [
        "data.head()"
      ]
    },
    {
      "cell_type": "code",
      "source": [
        "del data['Unnamed: 0']"
      ],
      "metadata": {
        "id": "Zcdx8KNcdSgX"
      },
      "id": "Zcdx8KNcdSgX",
      "execution_count": null,
      "outputs": []
    },
    {
      "cell_type": "code",
      "source": [
        "data.shape"
      ],
      "metadata": {
        "colab": {
          "base_uri": "https://localhost:8080/"
        },
        "id": "IAVhrEZ5dXvN",
        "outputId": "75d04ea6-49dd-4ee8-e24b-58bb277446e7"
      },
      "id": "IAVhrEZ5dXvN",
      "execution_count": null,
      "outputs": [
        {
          "output_type": "execute_result",
          "data": {
            "text/plain": [
              "(6858, 8)"
            ]
          },
          "metadata": {},
          "execution_count": 5
        }
      ]
    },
    {
      "cell_type": "code",
      "execution_count": null,
      "id": "27d3ffd0",
      "metadata": {
        "id": "27d3ffd0",
        "outputId": "e06b5644-7b7d-4165-b6e3-836ae21f7e4d",
        "colab": {
          "base_uri": "https://localhost:8080/"
        }
      },
      "outputs": [
        {
          "output_type": "stream",
          "name": "stdout",
          "text": [
            "No. of tweets 6858\n"
          ]
        }
      ],
      "source": [
        "print('No. of tweets', len(data))"
      ]
    },
    {
      "cell_type": "code",
      "execution_count": null,
      "id": "daf1b50a",
      "metadata": {
        "id": "daf1b50a",
        "outputId": "6ff00ee7-4334-4036-9e1c-a45cbac1cec2",
        "colab": {
          "base_uri": "https://localhost:8080/"
        }
      },
      "outputs": [
        {
          "output_type": "stream",
          "name": "stdout",
          "text": [
            "<class 'pandas.core.frame.DataFrame'>\n",
            "RangeIndex: 6858 entries, 0 to 6857\n",
            "Data columns (total 8 columns):\n",
            " #   Column            Non-Null Count  Dtype \n",
            "---  ------            --------------  ----- \n",
            " 0   Date_of_tweet     6858 non-null   object\n",
            " 1   Tweet             6858 non-null   object\n",
            " 2   Likes_on_tweet    6858 non-null   int64 \n",
            " 3   Tweet_punct       6858 non-null   object\n",
            " 4   Tweet_tokenized   6858 non-null   object\n",
            " 5   Tweet_nonstop     6858 non-null   object\n",
            " 6   Tweet_stemmed     6858 non-null   object\n",
            " 7   Tweet_lemmatized  6858 non-null   object\n",
            "dtypes: int64(1), object(7)\n",
            "memory usage: 428.8+ KB\n"
          ]
        }
      ],
      "source": [
        "data.info()"
      ]
    },
    {
      "cell_type": "markdown",
      "id": "934ea055",
      "metadata": {
        "id": "934ea055"
      },
      "source": [
        "## Data Visualization"
      ]
    },
    {
      "cell_type": "code",
      "execution_count": null,
      "id": "4aef6a5f",
      "metadata": {
        "id": "4aef6a5f",
        "outputId": "e277aece-08fe-442a-9c49-9dd65c8503ad",
        "colab": {
          "base_uri": "https://localhost:8080/",
          "height": 381
        }
      },
      "outputs": [
        {
          "output_type": "execute_result",
          "data": {
            "text/plain": [
              "               Date_of_tweet  \\\n",
              "0  2020-08-04 23:31:59+00:00   \n",
              "1  2020-08-04 23:31:56+00:00   \n",
              "2  2020-08-04 22:22:30+00:00   \n",
              "\n",
              "                                               Tweet  Likes_on_tweet  \\\n",
              "0  Historically #TamilNadu has been a state with ...               1   \n",
              "1  #HelloStrangerEP6 #HarrisonFord #GeorgeFloyd #...               0   \n",
              "2  @cbseindia29 @PMOIndia @narendramodi @DrRPNish...               1   \n",
              "\n",
              "                                         Tweet_punct  \\\n",
              "0  Historically TamilNadu has been a state with p...   \n",
              "1  HelloStrangerEP HarrisonFord GeorgeFloyd JiCha...   \n",
              "2  cbseindia PMOIndia narendramodi DrRPNishank AB...   \n",
              "\n",
              "                                     Tweet_tokenized  \\\n",
              "0  ['historically', 'tamilnadu', 'has', 'been', '...   \n",
              "1  ['hellostrangerep', 'harrisonford', 'georgeflo...   \n",
              "2  ['cbseindia', 'pmoindia', 'narendramodi', 'drr...   \n",
              "\n",
              "                                       Tweet_nonstop  \\\n",
              "0  ['historically', 'tamilnadu', 'state', 'progre...   \n",
              "1  ['hellostrangerep', 'harrisonford', 'georgeflo...   \n",
              "2  ['cbseindia', 'pmoindia', 'narendramodi', 'drr...   \n",
              "\n",
              "                                       Tweet_stemmed  \\\n",
              "0  ['histor', 'tamilnadu', 'state', 'progress', '...   \n",
              "1  ['hellostrangerep', 'harrisonford', 'georgeflo...   \n",
              "2  ['cbseindia', 'pmoindia', 'narendramodi', 'drr...   \n",
              "\n",
              "                                    Tweet_lemmatized  \n",
              "0  ['historically', 'tamilnadu', 'state', 'progre...  \n",
              "1  ['hellostrangerep', 'harrisonford', 'georgeflo...  \n",
              "2  ['cbseindia', 'pmoindia', 'narendramodi', 'drr...  "
            ],
            "text/html": [
              "\n",
              "  <div id=\"df-43e07ffa-d3ec-4467-a110-be4fcead402d\">\n",
              "    <div class=\"colab-df-container\">\n",
              "      <div>\n",
              "<style scoped>\n",
              "    .dataframe tbody tr th:only-of-type {\n",
              "        vertical-align: middle;\n",
              "    }\n",
              "\n",
              "    .dataframe tbody tr th {\n",
              "        vertical-align: top;\n",
              "    }\n",
              "\n",
              "    .dataframe thead th {\n",
              "        text-align: right;\n",
              "    }\n",
              "</style>\n",
              "<table border=\"1\" class=\"dataframe\">\n",
              "  <thead>\n",
              "    <tr style=\"text-align: right;\">\n",
              "      <th></th>\n",
              "      <th>Date_of_tweet</th>\n",
              "      <th>Tweet</th>\n",
              "      <th>Likes_on_tweet</th>\n",
              "      <th>Tweet_punct</th>\n",
              "      <th>Tweet_tokenized</th>\n",
              "      <th>Tweet_nonstop</th>\n",
              "      <th>Tweet_stemmed</th>\n",
              "      <th>Tweet_lemmatized</th>\n",
              "    </tr>\n",
              "  </thead>\n",
              "  <tbody>\n",
              "    <tr>\n",
              "      <th>0</th>\n",
              "      <td>2020-08-04 23:31:59+00:00</td>\n",
              "      <td>Historically #TamilNadu has been a state with ...</td>\n",
              "      <td>1</td>\n",
              "      <td>Historically TamilNadu has been a state with p...</td>\n",
              "      <td>['historically', 'tamilnadu', 'has', 'been', '...</td>\n",
              "      <td>['historically', 'tamilnadu', 'state', 'progre...</td>\n",
              "      <td>['histor', 'tamilnadu', 'state', 'progress', '...</td>\n",
              "      <td>['historically', 'tamilnadu', 'state', 'progre...</td>\n",
              "    </tr>\n",
              "    <tr>\n",
              "      <th>1</th>\n",
              "      <td>2020-08-04 23:31:56+00:00</td>\n",
              "      <td>#HelloStrangerEP6 #HarrisonFord #GeorgeFloyd #...</td>\n",
              "      <td>0</td>\n",
              "      <td>HelloStrangerEP HarrisonFord GeorgeFloyd JiCha...</td>\n",
              "      <td>['hellostrangerep', 'harrisonford', 'georgeflo...</td>\n",
              "      <td>['hellostrangerep', 'harrisonford', 'georgeflo...</td>\n",
              "      <td>['hellostrangerep', 'harrisonford', 'georgeflo...</td>\n",
              "      <td>['hellostrangerep', 'harrisonford', 'georgeflo...</td>\n",
              "    </tr>\n",
              "    <tr>\n",
              "      <th>2</th>\n",
              "      <td>2020-08-04 22:22:30+00:00</td>\n",
              "      <td>@cbseindia29 @PMOIndia @narendramodi @DrRPNish...</td>\n",
              "      <td>1</td>\n",
              "      <td>cbseindia PMOIndia narendramodi DrRPNishank AB...</td>\n",
              "      <td>['cbseindia', 'pmoindia', 'narendramodi', 'drr...</td>\n",
              "      <td>['cbseindia', 'pmoindia', 'narendramodi', 'drr...</td>\n",
              "      <td>['cbseindia', 'pmoindia', 'narendramodi', 'drr...</td>\n",
              "      <td>['cbseindia', 'pmoindia', 'narendramodi', 'drr...</td>\n",
              "    </tr>\n",
              "  </tbody>\n",
              "</table>\n",
              "</div>\n",
              "      <button class=\"colab-df-convert\" onclick=\"convertToInteractive('df-43e07ffa-d3ec-4467-a110-be4fcead402d')\"\n",
              "              title=\"Convert this dataframe to an interactive table.\"\n",
              "              style=\"display:none;\">\n",
              "        \n",
              "  <svg xmlns=\"http://www.w3.org/2000/svg\" height=\"24px\"viewBox=\"0 0 24 24\"\n",
              "       width=\"24px\">\n",
              "    <path d=\"M0 0h24v24H0V0z\" fill=\"none\"/>\n",
              "    <path d=\"M18.56 5.44l.94 2.06.94-2.06 2.06-.94-2.06-.94-.94-2.06-.94 2.06-2.06.94zm-11 1L8.5 8.5l.94-2.06 2.06-.94-2.06-.94L8.5 2.5l-.94 2.06-2.06.94zm10 10l.94 2.06.94-2.06 2.06-.94-2.06-.94-.94-2.06-.94 2.06-2.06.94z\"/><path d=\"M17.41 7.96l-1.37-1.37c-.4-.4-.92-.59-1.43-.59-.52 0-1.04.2-1.43.59L10.3 9.45l-7.72 7.72c-.78.78-.78 2.05 0 2.83L4 21.41c.39.39.9.59 1.41.59.51 0 1.02-.2 1.41-.59l7.78-7.78 2.81-2.81c.8-.78.8-2.07 0-2.86zM5.41 20L4 18.59l7.72-7.72 1.47 1.35L5.41 20z\"/>\n",
              "  </svg>\n",
              "      </button>\n",
              "      \n",
              "  <style>\n",
              "    .colab-df-container {\n",
              "      display:flex;\n",
              "      flex-wrap:wrap;\n",
              "      gap: 12px;\n",
              "    }\n",
              "\n",
              "    .colab-df-convert {\n",
              "      background-color: #E8F0FE;\n",
              "      border: none;\n",
              "      border-radius: 50%;\n",
              "      cursor: pointer;\n",
              "      display: none;\n",
              "      fill: #1967D2;\n",
              "      height: 32px;\n",
              "      padding: 0 0 0 0;\n",
              "      width: 32px;\n",
              "    }\n",
              "\n",
              "    .colab-df-convert:hover {\n",
              "      background-color: #E2EBFA;\n",
              "      box-shadow: 0px 1px 2px rgba(60, 64, 67, 0.3), 0px 1px 3px 1px rgba(60, 64, 67, 0.15);\n",
              "      fill: #174EA6;\n",
              "    }\n",
              "\n",
              "    [theme=dark] .colab-df-convert {\n",
              "      background-color: #3B4455;\n",
              "      fill: #D2E3FC;\n",
              "    }\n",
              "\n",
              "    [theme=dark] .colab-df-convert:hover {\n",
              "      background-color: #434B5C;\n",
              "      box-shadow: 0px 1px 3px 1px rgba(0, 0, 0, 0.15);\n",
              "      filter: drop-shadow(0px 1px 2px rgba(0, 0, 0, 0.3));\n",
              "      fill: #FFFFFF;\n",
              "    }\n",
              "  </style>\n",
              "\n",
              "      <script>\n",
              "        const buttonEl =\n",
              "          document.querySelector('#df-43e07ffa-d3ec-4467-a110-be4fcead402d button.colab-df-convert');\n",
              "        buttonEl.style.display =\n",
              "          google.colab.kernel.accessAllowed ? 'block' : 'none';\n",
              "\n",
              "        async function convertToInteractive(key) {\n",
              "          const element = document.querySelector('#df-43e07ffa-d3ec-4467-a110-be4fcead402d');\n",
              "          const dataTable =\n",
              "            await google.colab.kernel.invokeFunction('convertToInteractive',\n",
              "                                                     [key], {});\n",
              "          if (!dataTable) return;\n",
              "\n",
              "          const docLinkHtml = 'Like what you see? Visit the ' +\n",
              "            '<a target=\"_blank\" href=https://colab.research.google.com/notebooks/data_table.ipynb>data table notebook</a>'\n",
              "            + ' to learn more about interactive tables.';\n",
              "          element.innerHTML = '';\n",
              "          dataTable['output_type'] = 'display_data';\n",
              "          await google.colab.output.renderOutput(dataTable, element);\n",
              "          const docLink = document.createElement('div');\n",
              "          docLink.innerHTML = docLinkHtml;\n",
              "          element.appendChild(docLink);\n",
              "        }\n",
              "      </script>\n",
              "    </div>\n",
              "  </div>\n",
              "  "
            ]
          },
          "metadata": {},
          "execution_count": 8
        }
      ],
      "source": [
        "data.head(3)"
      ]
    },
    {
      "cell_type": "code",
      "execution_count": null,
      "id": "0127e7b4",
      "metadata": {
        "id": "0127e7b4"
      },
      "outputs": [],
      "source": [
        "import re\n",
        "import nltk"
      ]
    },
    {
      "cell_type": "markdown",
      "source": [
        "### Analyzing frequency of words"
      ],
      "metadata": {
        "id": "tT_lTalWfcSB"
      },
      "id": "tT_lTalWfcSB"
    },
    {
      "cell_type": "markdown",
      "id": "87f9e893",
      "metadata": {
        "id": "87f9e893"
      },
      "source": [
        "In order to analyze the frequency of words found in the tweets, we follow the necessary steps \n",
        "\n",
        "- Removing URLs from tweets\n",
        "- Cleaning up tweet text which includes converting text into lowercase which will help in removing words that are not useful for the analysis\n",
        "- Summarize and count the words found in tweets"
      ]
    },
    {
      "cell_type": "markdown",
      "id": "2ed829dd",
      "metadata": {
        "id": "2ed829dd"
      },
      "source": [
        "We assign the tweets in the data to a variable called 'all_tweets' and convert it into a list."
      ]
    },
    {
      "cell_type": "code",
      "execution_count": null,
      "id": "ebd0d77e",
      "metadata": {
        "id": "ebd0d77e"
      },
      "outputs": [],
      "source": [
        "all_tweets = data['Tweet'].values.tolist()"
      ]
    },
    {
      "cell_type": "code",
      "execution_count": null,
      "id": "1d844d96",
      "metadata": {
        "id": "1d844d96",
        "outputId": "64899b3e-b97a-48c5-cdbe-84f1212c9ec2",
        "colab": {
          "base_uri": "https://localhost:8080/"
        }
      },
      "outputs": [
        {
          "output_type": "execute_result",
          "data": {
            "text/plain": [
              "[\"Historically #TamilNadu has been a state with progressive #socialpolicies &amp; high state/private investments in #education. Not without pitfalls but one of the best in India. If states were not involved in framing #NEP2020 as alleged here,I'm very surprised.\",\n",
              " '#HelloStrangerEP6 #HarrisonFord #GeorgeFloyd #JiChangWook #DishaSalian #footballindex #HappyEXOLDay #JusticeForSushant #KimSooHyun #KimSooHyun #GalaxyUnpacked #NitishKumar #NEP2020 #HappyEXOLDay #groth#Beauty#Beautyful#Enjoy Feeling#vasu',\n",
              " '@cbseindia29 @PMOIndia @narendramodi @DrRPNishank @ABPNews #NEP2020 is trending with its all new features of modern learning for brighter future but most of the students are behind the national entrance exams (JEE,NEET,SAT)etc. So how can NEP2020 will help us out in this exams',\n",
              " '@PMOIndia’s anti-democratic #NEP2020 was 400+ pgs in 2019 draft, and somehow 66 pgs after revisions. I want whoever cut that policy down to less that’s ¼ of its original size to read everything I’ve ever wrote. @darshana1996',\n",
              " 'The latest The Nursing Education Daily! http://ned.skyscape.com/?edition_id=cebdbef0-d679-11ea-a8cd-0cc47a0d15fd Thanks to @classymommy @JonathanLedger @NEjournalonline #education #nep2020']"
            ]
          },
          "metadata": {},
          "execution_count": 11
        }
      ],
      "source": [
        "all_tweets[:5]"
      ]
    },
    {
      "cell_type": "markdown",
      "id": "60681a20",
      "metadata": {
        "id": "60681a20"
      },
      "source": [
        "#### Removing URL"
      ]
    },
    {
      "cell_type": "markdown",
      "id": "1d3bad2e",
      "metadata": {
        "id": "1d3bad2e"
      },
      "source": [
        "The tweets above have some elements that are not needed in word counts. We remove URLs (links) using regular expressions which can be accessed from the re package.\n",
        "\n",
        "We define a function which removes the URL's and special characters from the texts."
      ]
    },
    {
      "cell_type": "code",
      "execution_count": null,
      "id": "3c73aad7",
      "metadata": {
        "id": "3c73aad7"
      },
      "outputs": [],
      "source": [
        "def remove_url(txt):\n",
        "    return \" \".join(re.sub(\"([^0-9A-Za-z \\t])|(\\w+:\\/\\/\\S+)\", \"\", txt).split())"
      ]
    },
    {
      "cell_type": "code",
      "execution_count": null,
      "id": "85cd367c",
      "metadata": {
        "id": "85cd367c",
        "outputId": "205a1a36-4960-4b50-ca48-97aacc92fdf6",
        "colab": {
          "base_uri": "https://localhost:8080/"
        }
      },
      "outputs": [
        {
          "output_type": "execute_result",
          "data": {
            "text/plain": [
              "['Historically TamilNadu has been a state with progressive socialpolicies amp high stateprivate investments in education Not without pitfalls but one of the best in India If states were not involved in framing NEP2020 as alleged hereIm very surprised',\n",
              " 'HelloStrangerEP6 HarrisonFord GeorgeFloyd JiChangWook DishaSalian footballindex HappyEXOLDay JusticeForSushant KimSooHyun KimSooHyun GalaxyUnpacked NitishKumar NEP2020 HappyEXOLDay grothBeautyBeautyfulEnjoy Feelingvasu',\n",
              " 'cbseindia29 PMOIndia narendramodi DrRPNishank ABPNews NEP2020 is trending with its all new features of modern learning for brighter future but most of the students are behind the national entrance exams JEENEETSATetc So how can NEP2020 will help us out in this exams',\n",
              " 'PMOIndias antidemocratic NEP2020 was 400 pgs in 2019 draft and somehow 66 pgs after revisions I want whoever cut that policy down to less thats of its original size to read everything Ive ever wrote darshana1996',\n",
              " 'The latest The Nursing Education Daily Thanks to classymommy JonathanLedger NEjournalonline education nep2020']"
            ]
          },
          "metadata": {},
          "execution_count": 13
        }
      ],
      "source": [
        "all_tweets_no_urls = [remove_url(tweet) for tweet in all_tweets]\n",
        "all_tweets_no_urls[:5]"
      ]
    },
    {
      "cell_type": "markdown",
      "id": "be40468b",
      "metadata": {
        "id": "be40468b"
      },
      "source": [
        "#### Converting into lower case and splitting the text into unique words"
      ]
    },
    {
      "cell_type": "code",
      "execution_count": null,
      "id": "6ff51614",
      "metadata": {
        "id": "6ff51614"
      },
      "outputs": [],
      "source": [
        "words_in_tweet = [tweet.lower().split() for tweet in all_tweets_no_urls]"
      ]
    },
    {
      "cell_type": "code",
      "execution_count": null,
      "id": "81100994",
      "metadata": {
        "id": "81100994",
        "outputId": "41224075-791b-4d86-d934-f1026e9166f2",
        "colab": {
          "base_uri": "https://localhost:8080/"
        }
      },
      "outputs": [
        {
          "output_type": "execute_result",
          "data": {
            "text/plain": [
              "[['historically',\n",
              "  'tamilnadu',\n",
              "  'has',\n",
              "  'been',\n",
              "  'a',\n",
              "  'state',\n",
              "  'with',\n",
              "  'progressive',\n",
              "  'socialpolicies',\n",
              "  'amp',\n",
              "  'high',\n",
              "  'stateprivate',\n",
              "  'investments',\n",
              "  'in',\n",
              "  'education',\n",
              "  'not',\n",
              "  'without',\n",
              "  'pitfalls',\n",
              "  'but',\n",
              "  'one',\n",
              "  'of',\n",
              "  'the',\n",
              "  'best',\n",
              "  'in',\n",
              "  'india',\n",
              "  'if',\n",
              "  'states',\n",
              "  'were',\n",
              "  'not',\n",
              "  'involved',\n",
              "  'in',\n",
              "  'framing',\n",
              "  'nep2020',\n",
              "  'as',\n",
              "  'alleged',\n",
              "  'hereim',\n",
              "  'very',\n",
              "  'surprised']]"
            ]
          },
          "metadata": {},
          "execution_count": 15
        }
      ],
      "source": [
        "words_in_tweet[:1]"
      ]
    },
    {
      "cell_type": "code",
      "execution_count": null,
      "id": "44f6b40a",
      "metadata": {
        "id": "44f6b40a"
      },
      "outputs": [],
      "source": [
        "import itertools\n",
        "import collections"
      ]
    },
    {
      "cell_type": "markdown",
      "id": "b07b01cf",
      "metadata": {
        "id": "b07b01cf"
      },
      "source": [
        "#### Calculate and Plot Word Frequency\n",
        "\n",
        "To get the count of how many times each word appears in the sample we used the built-in Python library 'collections', which helps create a special type of a Python dictonary which will return the most commonly used words and the number of times that they are used."
      ]
    },
    {
      "cell_type": "code",
      "execution_count": null,
      "id": "ca7b1fe5",
      "metadata": {
        "id": "ca7b1fe5",
        "outputId": "fa0172d4-bf84-49f5-b054-b899c035428b",
        "colab": {
          "base_uri": "https://localhost:8080/"
        }
      },
      "outputs": [
        {
          "output_type": "execute_result",
          "data": {
            "text/plain": [
              "[('the', 7129),\n",
              " ('nep2020', 6996),\n",
              " ('to', 5447),\n",
              " ('of', 4586),\n",
              " ('in', 3767),\n",
              " ('education', 3587),\n",
              " ('and', 3118),\n",
              " ('a', 2908),\n",
              " ('is', 2820),\n",
              " ('for', 2198),\n",
              " ('will', 1806),\n",
              " ('on', 1776),\n",
              " ('policy', 1635),\n",
              " ('be', 1456),\n",
              " ('it', 1293),\n",
              " ('this', 1289),\n",
              " ('with', 1182)]"
            ]
          },
          "metadata": {},
          "execution_count": 17
        }
      ],
      "source": [
        "# List of all words across tweets\n",
        "all_words_no_urls = list(itertools.chain(*words_in_tweet))\n",
        "\n",
        "# Create counter\n",
        "counts_no_urls = collections.Counter(all_words_no_urls)\n",
        "\n",
        "counts_no_urls.most_common(17)"
      ]
    },
    {
      "cell_type": "markdown",
      "id": "742b6150",
      "metadata": {
        "id": "742b6150"
      },
      "source": [
        "Creating a dataframe of the commonly occurring words with their count"
      ]
    },
    {
      "cell_type": "code",
      "execution_count": null,
      "id": "ee9e92ff",
      "metadata": {
        "id": "ee9e92ff",
        "outputId": "39b9c52a-f214-4928-8fca-753f66d37804",
        "colab": {
          "base_uri": "https://localhost:8080/",
          "height": 206
        }
      },
      "outputs": [
        {
          "output_type": "execute_result",
          "data": {
            "text/plain": [
              "     words  count\n",
              "0      the   7129\n",
              "1  nep2020   6996\n",
              "2       to   5447\n",
              "3       of   4586\n",
              "4       in   3767"
            ],
            "text/html": [
              "\n",
              "  <div id=\"df-b2f3247f-7235-47e3-8c01-9a9280e3fbbc\">\n",
              "    <div class=\"colab-df-container\">\n",
              "      <div>\n",
              "<style scoped>\n",
              "    .dataframe tbody tr th:only-of-type {\n",
              "        vertical-align: middle;\n",
              "    }\n",
              "\n",
              "    .dataframe tbody tr th {\n",
              "        vertical-align: top;\n",
              "    }\n",
              "\n",
              "    .dataframe thead th {\n",
              "        text-align: right;\n",
              "    }\n",
              "</style>\n",
              "<table border=\"1\" class=\"dataframe\">\n",
              "  <thead>\n",
              "    <tr style=\"text-align: right;\">\n",
              "      <th></th>\n",
              "      <th>words</th>\n",
              "      <th>count</th>\n",
              "    </tr>\n",
              "  </thead>\n",
              "  <tbody>\n",
              "    <tr>\n",
              "      <th>0</th>\n",
              "      <td>the</td>\n",
              "      <td>7129</td>\n",
              "    </tr>\n",
              "    <tr>\n",
              "      <th>1</th>\n",
              "      <td>nep2020</td>\n",
              "      <td>6996</td>\n",
              "    </tr>\n",
              "    <tr>\n",
              "      <th>2</th>\n",
              "      <td>to</td>\n",
              "      <td>5447</td>\n",
              "    </tr>\n",
              "    <tr>\n",
              "      <th>3</th>\n",
              "      <td>of</td>\n",
              "      <td>4586</td>\n",
              "    </tr>\n",
              "    <tr>\n",
              "      <th>4</th>\n",
              "      <td>in</td>\n",
              "      <td>3767</td>\n",
              "    </tr>\n",
              "  </tbody>\n",
              "</table>\n",
              "</div>\n",
              "      <button class=\"colab-df-convert\" onclick=\"convertToInteractive('df-b2f3247f-7235-47e3-8c01-9a9280e3fbbc')\"\n",
              "              title=\"Convert this dataframe to an interactive table.\"\n",
              "              style=\"display:none;\">\n",
              "        \n",
              "  <svg xmlns=\"http://www.w3.org/2000/svg\" height=\"24px\"viewBox=\"0 0 24 24\"\n",
              "       width=\"24px\">\n",
              "    <path d=\"M0 0h24v24H0V0z\" fill=\"none\"/>\n",
              "    <path d=\"M18.56 5.44l.94 2.06.94-2.06 2.06-.94-2.06-.94-.94-2.06-.94 2.06-2.06.94zm-11 1L8.5 8.5l.94-2.06 2.06-.94-2.06-.94L8.5 2.5l-.94 2.06-2.06.94zm10 10l.94 2.06.94-2.06 2.06-.94-2.06-.94-.94-2.06-.94 2.06-2.06.94z\"/><path d=\"M17.41 7.96l-1.37-1.37c-.4-.4-.92-.59-1.43-.59-.52 0-1.04.2-1.43.59L10.3 9.45l-7.72 7.72c-.78.78-.78 2.05 0 2.83L4 21.41c.39.39.9.59 1.41.59.51 0 1.02-.2 1.41-.59l7.78-7.78 2.81-2.81c.8-.78.8-2.07 0-2.86zM5.41 20L4 18.59l7.72-7.72 1.47 1.35L5.41 20z\"/>\n",
              "  </svg>\n",
              "      </button>\n",
              "      \n",
              "  <style>\n",
              "    .colab-df-container {\n",
              "      display:flex;\n",
              "      flex-wrap:wrap;\n",
              "      gap: 12px;\n",
              "    }\n",
              "\n",
              "    .colab-df-convert {\n",
              "      background-color: #E8F0FE;\n",
              "      border: none;\n",
              "      border-radius: 50%;\n",
              "      cursor: pointer;\n",
              "      display: none;\n",
              "      fill: #1967D2;\n",
              "      height: 32px;\n",
              "      padding: 0 0 0 0;\n",
              "      width: 32px;\n",
              "    }\n",
              "\n",
              "    .colab-df-convert:hover {\n",
              "      background-color: #E2EBFA;\n",
              "      box-shadow: 0px 1px 2px rgba(60, 64, 67, 0.3), 0px 1px 3px 1px rgba(60, 64, 67, 0.15);\n",
              "      fill: #174EA6;\n",
              "    }\n",
              "\n",
              "    [theme=dark] .colab-df-convert {\n",
              "      background-color: #3B4455;\n",
              "      fill: #D2E3FC;\n",
              "    }\n",
              "\n",
              "    [theme=dark] .colab-df-convert:hover {\n",
              "      background-color: #434B5C;\n",
              "      box-shadow: 0px 1px 3px 1px rgba(0, 0, 0, 0.15);\n",
              "      filter: drop-shadow(0px 1px 2px rgba(0, 0, 0, 0.3));\n",
              "      fill: #FFFFFF;\n",
              "    }\n",
              "  </style>\n",
              "\n",
              "      <script>\n",
              "        const buttonEl =\n",
              "          document.querySelector('#df-b2f3247f-7235-47e3-8c01-9a9280e3fbbc button.colab-df-convert');\n",
              "        buttonEl.style.display =\n",
              "          google.colab.kernel.accessAllowed ? 'block' : 'none';\n",
              "\n",
              "        async function convertToInteractive(key) {\n",
              "          const element = document.querySelector('#df-b2f3247f-7235-47e3-8c01-9a9280e3fbbc');\n",
              "          const dataTable =\n",
              "            await google.colab.kernel.invokeFunction('convertToInteractive',\n",
              "                                                     [key], {});\n",
              "          if (!dataTable) return;\n",
              "\n",
              "          const docLinkHtml = 'Like what you see? Visit the ' +\n",
              "            '<a target=\"_blank\" href=https://colab.research.google.com/notebooks/data_table.ipynb>data table notebook</a>'\n",
              "            + ' to learn more about interactive tables.';\n",
              "          element.innerHTML = '';\n",
              "          dataTable['output_type'] = 'display_data';\n",
              "          await google.colab.output.renderOutput(dataTable, element);\n",
              "          const docLink = document.createElement('div');\n",
              "          docLink.innerHTML = docLinkHtml;\n",
              "          element.appendChild(docLink);\n",
              "        }\n",
              "      </script>\n",
              "    </div>\n",
              "  </div>\n",
              "  "
            ]
          },
          "metadata": {},
          "execution_count": 18
        }
      ],
      "source": [
        "clean_tweets_no_urls = pd.DataFrame(counts_no_urls.most_common(15),\n",
        "                             columns=['words', 'count'])\n",
        "\n",
        "clean_tweets_no_urls.head()"
      ]
    },
    {
      "cell_type": "markdown",
      "id": "06a9f15a",
      "metadata": {
        "id": "06a9f15a"
      },
      "source": [
        "__We create a horizontal bar graph of the top 15 most common words in the tweets__"
      ]
    },
    {
      "cell_type": "code",
      "execution_count": null,
      "id": "61752bda",
      "metadata": {
        "id": "61752bda"
      },
      "outputs": [],
      "source": [
        "import matplotlib.pyplot as plt"
      ]
    },
    {
      "cell_type": "code",
      "execution_count": null,
      "id": "2abfa333",
      "metadata": {
        "id": "2abfa333",
        "outputId": "7c05dc5f-ad07-46c8-c4e8-d8c1815e2651",
        "colab": {
          "base_uri": "https://localhost:8080/",
          "height": 499
        }
      },
      "outputs": [
        {
          "output_type": "display_data",
          "data": {
            "text/plain": [
              "<Figure size 576x576 with 1 Axes>"
            ],
            "image/png": "[encoded data removed]"
          },
          "metadata": {
            "needs_background": "light"
          }
        }
      ],
      "source": [
        "fig, ax = plt.subplots(figsize=(8, 8))\n",
        "\n",
        "# Plot horizontal bar graph\n",
        "clean_tweets_no_urls.sort_values(by='count').plot.barh(x='words',\n",
        "                      y='count',\n",
        "                      ax=ax,\n",
        "                      color=\"blue\")\n",
        "\n",
        "ax.set_title(\"The Common Words Found in Tweets\")\n",
        "\n",
        "plt.show()"
      ]
    },
    {
      "cell_type": "markdown",
      "id": "8aaa678d",
      "metadata": {
        "id": "8aaa678d"
      },
      "source": [
        "### Remove Stopwords With nltk Package\n",
        "\n",
        "In addition to lowercase words we must remove words that do not add meaningful information to the text that we are trying to analyze. These words are referred to as “stop words” and include commonly appearing words such as who, what, you, etc.\n"
      ]
    },
    {
      "cell_type": "code",
      "execution_count": null,
      "id": "997aa5a3",
      "metadata": {
        "id": "997aa5a3",
        "colab": {
          "base_uri": "https://localhost:8080/"
        },
        "outputId": "20c8a1eb-c25b-49c4-9557-6ac7a6111219"
      },
      "outputs": [
        {
          "output_type": "stream",
          "name": "stdout",
          "text": [
            "[nltk_data] Downloading package stopwords to /root/nltk_data...\n",
            "[nltk_data]   Unzipping corpora/stopwords.zip.\n"
          ]
        },
        {
          "output_type": "execute_result",
          "data": {
            "text/plain": [
              "True"
            ]
          },
          "metadata": {},
          "execution_count": 23
        }
      ],
      "source": [
        "nltk.download('stopwords')"
      ]
    },
    {
      "cell_type": "code",
      "execution_count": null,
      "id": "57ea2020",
      "metadata": {
        "id": "57ea2020"
      },
      "outputs": [],
      "source": [
        "from nltk.corpus import stopwords"
      ]
    },
    {
      "cell_type": "code",
      "execution_count": null,
      "id": "c01276cc",
      "metadata": {
        "id": "c01276cc",
        "outputId": "40b06cd5-5820-4504-c0d6-3109f479c966",
        "colab": {
          "base_uri": "https://localhost:8080/"
        }
      },
      "outputs": [
        {
          "output_type": "execute_result",
          "data": {
            "text/plain": [
              "['had',\n",
              " 'or',\n",
              " 'yourselves',\n",
              " 'nor',\n",
              " 'all',\n",
              " \"hadn't\",\n",
              " 'how',\n",
              " 'm',\n",
              " 'weren',\n",
              " 'whom']"
            ]
          },
          "metadata": {},
          "execution_count": 24
        }
      ],
      "source": [
        "stop_words = set(stopwords.words('english'))\n",
        "\n",
        "# View a few words from the set\n",
        "list(stop_words)[0:10]"
      ]
    },
    {
      "cell_type": "code",
      "execution_count": null,
      "id": "a2da87d2",
      "metadata": {
        "id": "a2da87d2",
        "outputId": "3cafd17a-909a-49f6-aa54-04e884296578",
        "colab": {
          "base_uri": "https://localhost:8080/"
        }
      },
      "outputs": [
        {
          "output_type": "execute_result",
          "data": {
            "text/plain": [
              "['historically',\n",
              " 'tamilnadu',\n",
              " 'state',\n",
              " 'progressive',\n",
              " 'socialpolicies',\n",
              " 'amp',\n",
              " 'high',\n",
              " 'stateprivate',\n",
              " 'investments',\n",
              " 'education',\n",
              " 'without',\n",
              " 'pitfalls',\n",
              " 'one',\n",
              " 'best',\n",
              " 'india',\n",
              " 'states',\n",
              " 'involved',\n",
              " 'framing',\n",
              " 'nep2020',\n",
              " 'alleged',\n",
              " 'hereim',\n",
              " 'surprised']"
            ]
          },
          "metadata": {},
          "execution_count": 25
        }
      ],
      "source": [
        "# Remove stop words from each tweet list of words\n",
        "tweets_nsw = [[word for word in tweet_words if not word in stop_words]\n",
        "              for tweet_words in words_in_tweet]\n",
        "\n",
        "tweets_nsw[0]"
      ]
    },
    {
      "cell_type": "markdown",
      "id": "2c93f790",
      "metadata": {
        "id": "2c93f790"
      },
      "source": [
        "__We again create a counter to return the most commonly used words and the number of times that they were used.__"
      ]
    },
    {
      "cell_type": "code",
      "execution_count": null,
      "id": "02a64edf",
      "metadata": {
        "id": "02a64edf",
        "outputId": "99929652-a6e2-4322-8975-6e782ef7fe98",
        "colab": {
          "base_uri": "https://localhost:8080/"
        }
      },
      "outputs": [
        {
          "output_type": "execute_result",
          "data": {
            "text/plain": [
              "[('nep2020', 6996),\n",
              " ('education', 3587),\n",
              " ('policy', 1635),\n",
              " ('india', 1057),\n",
              " ('new', 1041),\n",
              " ('narendramodi', 1029),\n",
              " ('nep', 828),\n",
              " ('2020', 815),\n",
              " ('amp', 810),\n",
              " ('pm', 697),\n",
              " ('national', 678),\n",
              " ('language', 660),\n",
              " ('students', 658),\n",
              " ('drrpnishank', 561),\n",
              " ('school', 535)]"
            ]
          },
          "metadata": {},
          "execution_count": 26
        }
      ],
      "source": [
        "all_words_nsw = list(itertools.chain(*tweets_nsw))\n",
        "\n",
        "counts_nsw = collections.Counter(all_words_nsw)\n",
        "\n",
        "counts_nsw.most_common(15)"
      ]
    },
    {
      "cell_type": "markdown",
      "id": "cbd40de1",
      "metadata": {
        "id": "cbd40de1"
      },
      "source": [
        "__This plot displays the frequency of the words in the tweets on NEP2020, after URLs and stop words have been removed.__"
      ]
    },
    {
      "cell_type": "code",
      "execution_count": null,
      "id": "04a1c28b",
      "metadata": {
        "id": "04a1c28b",
        "outputId": "f669c924-da4f-48ed-fe1b-94dc1de1db28"
      },
      "outputs": [
        {
          "data": {
            "image/png": "[encoded data removed]",
            "text/plain": [
              "<Figure size 576x576 with 1 Axes>"
            ]
          },
          "metadata": {
            "needs_background": "light"
          },
          "output_type": "display_data"
        }
      ],
      "source": [
        "clean_tweets_nsw = pd.DataFrame(counts_nsw.most_common(15),\n",
        "                             columns=['words', 'count'])\n",
        "\n",
        "fig, ax = plt.subplots(figsize=(8, 8))\n",
        "\n",
        "# Plot horizontal bar graph\n",
        "clean_tweets_nsw.sort_values(by='count').plot.barh(x='words',\n",
        "                      y='count',\n",
        "                      ax=ax,\n",
        "                      color=\"pink\")\n",
        "\n",
        "ax.set_title(\"Common Words Found in Tweets (After URL and StopWords Have Been Removed)\")\n",
        "\n",
        "plt.show()"
      ]
    },
    {
      "cell_type": "markdown",
      "id": "ec462411",
      "metadata": {
        "id": "ec462411"
      },
      "source": [
        "### Remove Collection Words\n",
        "\n",
        "Collection words are the words that are used to query the data from Twitter according to the usecase.\n",
        "\n",
        "As we have used “NationalEducationPolicy” as a collection term, we can expect that these terms will be found more extensively in each tweet which could skew the word frequency analysis.\n",
        "\n",
        "So we remove the collection words from the tweets through list comprehension."
      ]
    },
    {
      "cell_type": "code",
      "execution_count": null,
      "id": "6c90b78d",
      "metadata": {
        "id": "6c90b78d"
      },
      "outputs": [],
      "source": [
        "collection_words = ['nep2020','nep', 'NationalEducationPolicy','nationaleducationpolicy','2020']"
      ]
    },
    {
      "cell_type": "code",
      "execution_count": null,
      "id": "10a7b502",
      "metadata": {
        "id": "10a7b502"
      },
      "outputs": [],
      "source": [
        "tweets_nsw_nc = [[w for w in word if not w in collection_words]\n",
        "                 for word in tweets_nsw]"
      ]
    },
    {
      "cell_type": "code",
      "execution_count": null,
      "id": "0915769d",
      "metadata": {
        "id": "0915769d",
        "outputId": "e7835676-ecd3-41a5-ec34-db39d5684434",
        "colab": {
          "base_uri": "https://localhost:8080/"
        }
      },
      "outputs": [
        {
          "output_type": "execute_result",
          "data": {
            "text/plain": [
              "['historically',\n",
              " 'tamilnadu',\n",
              " 'state',\n",
              " 'progressive',\n",
              " 'socialpolicies',\n",
              " 'amp',\n",
              " 'high',\n",
              " 'stateprivate',\n",
              " 'investments',\n",
              " 'education',\n",
              " 'without',\n",
              " 'pitfalls',\n",
              " 'one',\n",
              " 'best',\n",
              " 'india',\n",
              " 'states',\n",
              " 'involved',\n",
              " 'framing',\n",
              " 'alleged',\n",
              " 'hereim',\n",
              " 'surprised']"
            ]
          },
          "metadata": {},
          "execution_count": 29
        }
      ],
      "source": [
        "tweets_nsw_nc[0]"
      ]
    },
    {
      "cell_type": "markdown",
      "id": "4fff78e9",
      "metadata": {
        "id": "4fff78e9"
      },
      "source": [
        "### Calculate and Plot Word Frequency of Clean Tweets\n",
        "<br>\n",
        "\n",
        "__As the data has been cleaned now, we can calculate and plot the final word frequency results.__\n"
      ]
    },
    {
      "cell_type": "code",
      "execution_count": null,
      "id": "f88c34c4",
      "metadata": {
        "id": "f88c34c4",
        "outputId": "a5b74d31-893f-4560-fbd4-4c005b22e698",
        "colab": {
          "base_uri": "https://localhost:8080/"
        }
      },
      "outputs": [
        {
          "output_type": "execute_result",
          "data": {
            "text/plain": [
              "[('education', 3587),\n",
              " ('policy', 1635),\n",
              " ('india', 1057),\n",
              " ('new', 1041),\n",
              " ('narendramodi', 1029),\n",
              " ('amp', 810),\n",
              " ('pm', 697),\n",
              " ('national', 678),\n",
              " ('language', 660),\n",
              " ('students', 658),\n",
              " ('drrpnishank', 561),\n",
              " ('school', 535),\n",
              " ('system', 514),\n",
              " ('hrdministry', 489),\n",
              " ('neweducationpolicy', 466)]"
            ]
          },
          "metadata": {},
          "execution_count": 30
        }
      ],
      "source": [
        "# Flatten list of words in clean tweets\n",
        "all_words_nsw_nc = list(itertools.chain(*tweets_nsw_nc))\n",
        "\n",
        "# Create counter of words in clean tweets\n",
        "counts_nsw_nc = collections.Counter(all_words_nsw_nc)\n",
        "\n",
        "counts_nsw_nc.most_common(15)"
      ]
    },
    {
      "cell_type": "code",
      "execution_count": null,
      "id": "47a4afed",
      "metadata": {
        "id": "47a4afed",
        "outputId": "59b9bd32-ad8d-49d2-c6ad-e6ec2732e2c4",
        "colab": {
          "base_uri": "https://localhost:8080/"
        }
      },
      "outputs": [
        {
          "output_type": "execute_result",
          "data": {
            "text/plain": [
              "16305"
            ]
          },
          "metadata": {},
          "execution_count": 31
        }
      ],
      "source": [
        "len(counts_nsw_nc)"
      ]
    },
    {
      "cell_type": "code",
      "execution_count": null,
      "id": "0363fc08",
      "metadata": {
        "id": "0363fc08",
        "outputId": "af5141be-9b1e-4d67-93b1-ad22a5d1d818",
        "colab": {
          "base_uri": "https://localhost:8080/",
          "height": 206
        }
      },
      "outputs": [
        {
          "output_type": "execute_result",
          "data": {
            "text/plain": [
              "          words  count\n",
              "0     education   3587\n",
              "1        policy   1635\n",
              "2         india   1057\n",
              "3           new   1041\n",
              "4  narendramodi   1029"
            ],
            "text/html": [
              "\n",
              "  <div id=\"df-cbee44fd-e024-44a2-830a-cf4fd17badae\">\n",
              "    <div class=\"colab-df-container\">\n",
              "      <div>\n",
              "<style scoped>\n",
              "    .dataframe tbody tr th:only-of-type {\n",
              "        vertical-align: middle;\n",
              "    }\n",
              "\n",
              "    .dataframe tbody tr th {\n",
              "        vertical-align: top;\n",
              "    }\n",
              "\n",
              "    .dataframe thead th {\n",
              "        text-align: right;\n",
              "    }\n",
              "</style>\n",
              "<table border=\"1\" class=\"dataframe\">\n",
              "  <thead>\n",
              "    <tr style=\"text-align: right;\">\n",
              "      <th></th>\n",
              "      <th>words</th>\n",
              "      <th>count</th>\n",
              "    </tr>\n",
              "  </thead>\n",
              "  <tbody>\n",
              "    <tr>\n",
              "      <th>0</th>\n",
              "      <td>education</td>\n",
              "      <td>3587</td>\n",
              "    </tr>\n",
              "    <tr>\n",
              "      <th>1</th>\n",
              "      <td>policy</td>\n",
              "      <td>1635</td>\n",
              "    </tr>\n",
              "    <tr>\n",
              "      <th>2</th>\n",
              "      <td>india</td>\n",
              "      <td>1057</td>\n",
              "    </tr>\n",
              "    <tr>\n",
              "      <th>3</th>\n",
              "      <td>new</td>\n",
              "      <td>1041</td>\n",
              "    </tr>\n",
              "    <tr>\n",
              "      <th>4</th>\n",
              "      <td>narendramodi</td>\n",
              "      <td>1029</td>\n",
              "    </tr>\n",
              "  </tbody>\n",
              "</table>\n",
              "</div>\n",
              "      <button class=\"colab-df-convert\" onclick=\"convertToInteractive('df-cbee44fd-e024-44a2-830a-cf4fd17badae')\"\n",
              "              title=\"Convert this dataframe to an interactive table.\"\n",
              "              style=\"display:none;\">\n",
              "        \n",
              "  <svg xmlns=\"http://www.w3.org/2000/svg\" height=\"24px\"viewBox=\"0 0 24 24\"\n",
              "       width=\"24px\">\n",
              "    <path d=\"M0 0h24v24H0V0z\" fill=\"none\"/>\n",
              "    <path d=\"M18.56 5.44l.94 2.06.94-2.06 2.06-.94-2.06-.94-.94-2.06-.94 2.06-2.06.94zm-11 1L8.5 8.5l.94-2.06 2.06-.94-2.06-.94L8.5 2.5l-.94 2.06-2.06.94zm10 10l.94 2.06.94-2.06 2.06-.94-2.06-.94-.94-2.06-.94 2.06-2.06.94z\"/><path d=\"M17.41 7.96l-1.37-1.37c-.4-.4-.92-.59-1.43-.59-.52 0-1.04.2-1.43.59L10.3 9.45l-7.72 7.72c-.78.78-.78 2.05 0 2.83L4 21.41c.39.39.9.59 1.41.59.51 0 1.02-.2 1.41-.59l7.78-7.78 2.81-2.81c.8-.78.8-2.07 0-2.86zM5.41 20L4 18.59l7.72-7.72 1.47 1.35L5.41 20z\"/>\n",
              "  </svg>\n",
              "      </button>\n",
              "      \n",
              "  <style>\n",
              "    .colab-df-container {\n",
              "      display:flex;\n",
              "      flex-wrap:wrap;\n",
              "      gap: 12px;\n",
              "    }\n",
              "\n",
              "    .colab-df-convert {\n",
              "      background-color: #E8F0FE;\n",
              "      border: none;\n",
              "      border-radius: 50%;\n",
              "      cursor: pointer;\n",
              "      display: none;\n",
              "      fill: #1967D2;\n",
              "      height: 32px;\n",
              "      padding: 0 0 0 0;\n",
              "      width: 32px;\n",
              "    }\n",
              "\n",
              "    .colab-df-convert:hover {\n",
              "      background-color: #E2EBFA;\n",
              "      box-shadow: 0px 1px 2px rgba(60, 64, 67, 0.3), 0px 1px 3px 1px rgba(60, 64, 67, 0.15);\n",
              "      fill: #174EA6;\n",
              "    }\n",
              "\n",
              "    [theme=dark] .colab-df-convert {\n",
              "      background-color: #3B4455;\n",
              "      fill: #D2E3FC;\n",
              "    }\n",
              "\n",
              "    [theme=dark] .colab-df-convert:hover {\n",
              "      background-color: #434B5C;\n",
              "      box-shadow: 0px 1px 3px 1px rgba(0, 0, 0, 0.15);\n",
              "      filter: drop-shadow(0px 1px 2px rgba(0, 0, 0, 0.3));\n",
              "      fill: #FFFFFF;\n",
              "    }\n",
              "  </style>\n",
              "\n",
              "      <script>\n",
              "        const buttonEl =\n",
              "          document.querySelector('#df-cbee44fd-e024-44a2-830a-cf4fd17badae button.colab-df-convert');\n",
              "        buttonEl.style.display =\n",
              "          google.colab.kernel.accessAllowed ? 'block' : 'none';\n",
              "\n",
              "        async function convertToInteractive(key) {\n",
              "          const element = document.querySelector('#df-cbee44fd-e024-44a2-830a-cf4fd17badae');\n",
              "          const dataTable =\n",
              "            await google.colab.kernel.invokeFunction('convertToInteractive',\n",
              "                                                     [key], {});\n",
              "          if (!dataTable) return;\n",
              "\n",
              "          const docLinkHtml = 'Like what you see? Visit the ' +\n",
              "            '<a target=\"_blank\" href=https://colab.research.google.com/notebooks/data_table.ipynb>data table notebook</a>'\n",
              "            + ' to learn more about interactive tables.';\n",
              "          element.innerHTML = '';\n",
              "          dataTable['output_type'] = 'display_data';\n",
              "          await google.colab.output.renderOutput(dataTable, element);\n",
              "          const docLink = document.createElement('div');\n",
              "          docLink.innerHTML = docLinkHtml;\n",
              "          element.appendChild(docLink);\n",
              "        }\n",
              "      </script>\n",
              "    </div>\n",
              "  </div>\n",
              "  "
            ]
          },
          "metadata": {},
          "execution_count": 32
        }
      ],
      "source": [
        "clean_tweets_ncw = pd.DataFrame(counts_nsw_nc.most_common(15),\n",
        "                             columns=['words', 'count'])\n",
        "clean_tweets_ncw.head()"
      ]
    },
    {
      "cell_type": "markdown",
      "id": "6e98e69d",
      "metadata": {
        "id": "6e98e69d"
      },
      "source": [
        "__This plot displays the frequency of all words in the tweets on National Education Policy after URLs, stop words, and collection words have been removed.__"
      ]
    },
    {
      "cell_type": "code",
      "execution_count": null,
      "id": "07745a78",
      "metadata": {
        "id": "07745a78",
        "outputId": "31400d31-8047-4977-c6e6-5980a3497e5a",
        "colab": {
          "base_uri": "https://localhost:8080/",
          "height": 499
        }
      },
      "outputs": [
        {
          "output_type": "display_data",
          "data": {
            "text/plain": [
              "<Figure size 576x576 with 1 Axes>"
            ],
            "image/png": "[encoded data removed]"
          },
          "metadata": {
            "needs_background": "light"
          }
        }
      ],
      "source": [
        "fig, ax = plt.subplots(figsize=(8, 8))\n",
        "\n",
        "# Plot horizontal bar graph\n",
        "clean_tweets_ncw.sort_values(by='count').plot.barh(x='words',\n",
        "                      y='count',\n",
        "                      ax=ax,\n",
        "                      color=\"purple\")\n",
        "\n",
        "ax.set_title(\"Common Words Found in Tweets (Excluding Stop and Collection Words)\")\n",
        "\n",
        "plt.show()"
      ]
    },
    {
      "cell_type": "markdown",
      "id": "de040a0a",
      "metadata": {
        "id": "de040a0a"
      },
      "source": [
        "#### Interpretation:"
      ]
    },
    {
      "cell_type": "markdown",
      "id": "2b92caed",
      "metadata": {
        "id": "2b92caed"
      },
      "source": [
        "From all these graphs we can understand that \n",
        "\n",
        "- Education\n",
        "- Narendra Modi\n",
        "- India\n",
        "- Policy\n",
        "- Sector\n",
        "\n",
        "are the most used words in the tweets collected."
      ]
    },
    {
      "cell_type": "code",
      "execution_count": null,
      "id": "fb4acc32",
      "metadata": {
        "id": "fb4acc32"
      },
      "outputs": [],
      "source": [
        "import seaborn as sns\n",
        "import matplotlib.pyplot as plt "
      ]
    },
    {
      "cell_type": "code",
      "execution_count": null,
      "id": "004ce12c",
      "metadata": {
        "id": "004ce12c"
      },
      "outputs": [],
      "source": [
        "cleaned = pd.read_csv('cleaned1 (1).csv')"
      ]
    },
    {
      "cell_type": "code",
      "execution_count": null,
      "id": "8d32b456",
      "metadata": {
        "id": "8d32b456",
        "outputId": "eb0c5c9d-d773-4236-e74c-bd0b95c9f172",
        "colab": {
          "base_uri": "https://localhost:8080/",
          "height": 565
        }
      },
      "outputs": [
        {
          "output_type": "execute_result",
          "data": {
            "text/plain": [
              "   Unnamed: 0              Date_of_tweet  \\\n",
              "0           0  2020-08-04 23:31:59+00:00   \n",
              "1           1  2020-08-04 23:31:56+00:00   \n",
              "2           2  2020-08-04 22:22:30+00:00   \n",
              "3           3  2020-08-04 22:20:56+00:00   \n",
              "4           4  2020-08-04 21:01:14+00:00   \n",
              "\n",
              "                                               Tweet  Likes_on_tweet  \\\n",
              "0  Historically #TamilNadu has been a state with ...               1   \n",
              "1  #HelloStrangerEP6 #HarrisonFord #GeorgeFloyd #...               0   \n",
              "2  @cbseindia29 @PMOIndia @narendramodi @DrRPNish...               1   \n",
              "3  @PMOIndia’s anti-democratic #NEP2020 was 400+ ...               1   \n",
              "4  The latest The Nursing Education Daily! http:/...               0   \n",
              "\n",
              "                                         Tweet_punct  \\\n",
              "0  Historically TamilNadu has been a state with p...   \n",
              "1  HelloStrangerEP HarrisonFord GeorgeFloyd JiCha...   \n",
              "2  cbseindia PMOIndia narendramodi DrRPNishank AB...   \n",
              "3  PMOIndia’s antidemocratic NEP was  pgs in  dra...   \n",
              "4  The latest The Nursing Education Daily httpned...   \n",
              "\n",
              "                                     Tweet_tokenized  \\\n",
              "0  ['historically', 'tamilnadu', 'has', 'been', '...   \n",
              "1  ['hellostrangerep', 'harrisonford', 'georgeflo...   \n",
              "2  ['cbseindia', 'pmoindia', 'narendramodi', 'drr...   \n",
              "3  ['pmoindia', 's', 'antidemocratic', 'nep', 'wa...   \n",
              "4  ['the', 'latest', 'the', 'nursing', 'education...   \n",
              "\n",
              "                                       Tweet_nonstop  \\\n",
              "0  ['historically', 'tamilnadu', 'state', 'progre...   \n",
              "1  ['hellostrangerep', 'harrisonford', 'georgeflo...   \n",
              "2  ['cbseindia', 'pmoindia', 'narendramodi', 'drr...   \n",
              "3  ['pmoindia', 'antidemocratic', 'nep', 'pgs', '...   \n",
              "4  ['latest', 'nursing', 'education', 'daily', 'h...   \n",
              "\n",
              "                                       Tweet_stemmed  \\\n",
              "0  ['histor', 'tamilnadu', 'state', 'progress', '...   \n",
              "1  ['hellostrangerep', 'harrisonford', 'georgeflo...   \n",
              "2  ['cbseindia', 'pmoindia', 'narendramodi', 'drr...   \n",
              "3  ['pmoindia', 'antidemocrat', 'nep', 'pg', 'dra...   \n",
              "4  ['latest', 'nurs', 'educ', 'daili', 'httpnedsk...   \n",
              "\n",
              "                                    Tweet_lemmatized  Polarity  Subjectivity  \n",
              "0  ['historically', 'tamilnadu', 'state', 'progre...  0.232000      0.368000  \n",
              "1  ['hellostrangerep', 'harrisonford', 'georgeflo...  0.000000      0.000000  \n",
              "2  ['cbseindia', 'pmoindia', 'narendramodi', 'drr... -0.015909      0.394886  \n",
              "3  ['pmoindia', 'antidemocratic', 'nep', 'pgs', '...  0.375000      0.750000  \n",
              "4  ['latest', 'nursing', 'education', 'daily', 'h...  0.233333      0.366667  "
            ],
            "text/html": [
              "\n",
              "  <div id=\"df-5b9bd8b0-5adf-4bb7-be9d-266d994b072c\">\n",
              "    <div class=\"colab-df-container\">\n",
              "      <div>\n",
              "<style scoped>\n",
              "    .dataframe tbody tr th:only-of-type {\n",
              "        vertical-align: middle;\n",
              "    }\n",
              "\n",
              "    .dataframe tbody tr th {\n",
              "        vertical-align: top;\n",
              "    }\n",
              "\n",
              "    .dataframe thead th {\n",
              "        text-align: right;\n",
              "    }\n",
              "</style>\n",
              "<table border=\"1\" class=\"dataframe\">\n",
              "  <thead>\n",
              "    <tr style=\"text-align: right;\">\n",
              "      <th></th>\n",
              "      <th>Unnamed: 0</th>\n",
              "      <th>Date_of_tweet</th>\n",
              "      <th>Tweet</th>\n",
              "      <th>Likes_on_tweet</th>\n",
              "      <th>Tweet_punct</th>\n",
              "      <th>Tweet_tokenized</th>\n",
              "      <th>Tweet_nonstop</th>\n",
              "      <th>Tweet_stemmed</th>\n",
              "      <th>Tweet_lemmatized</th>\n",
              "      <th>Polarity</th>\n",
              "      <th>Subjectivity</th>\n",
              "    </tr>\n",
              "  </thead>\n",
              "  <tbody>\n",
              "    <tr>\n",
              "      <th>0</th>\n",
              "      <td>0</td>\n",
              "      <td>2020-08-04 23:31:59+00:00</td>\n",
              "      <td>Historically #TamilNadu has been a state with ...</td>\n",
              "      <td>1</td>\n",
              "      <td>Historically TamilNadu has been a state with p...</td>\n",
              "      <td>['historically', 'tamilnadu', 'has', 'been', '...</td>\n",
              "      <td>['historically', 'tamilnadu', 'state', 'progre...</td>\n",
              "      <td>['histor', 'tamilnadu', 'state', 'progress', '...</td>\n",
              "      <td>['historically', 'tamilnadu', 'state', 'progre...</td>\n",
              "      <td>0.232000</td>\n",
              "      <td>0.368000</td>\n",
              "    </tr>\n",
              "    <tr>\n",
              "      <th>1</th>\n",
              "      <td>1</td>\n",
              "      <td>2020-08-04 23:31:56+00:00</td>\n",
              "      <td>#HelloStrangerEP6 #HarrisonFord #GeorgeFloyd #...</td>\n",
              "      <td>0</td>\n",
              "      <td>HelloStrangerEP HarrisonFord GeorgeFloyd JiCha...</td>\n",
              "      <td>['hellostrangerep', 'harrisonford', 'georgeflo...</td>\n",
              "      <td>['hellostrangerep', 'harrisonford', 'georgeflo...</td>\n",
              "      <td>['hellostrangerep', 'harrisonford', 'georgeflo...</td>\n",
              "      <td>['hellostrangerep', 'harrisonford', 'georgeflo...</td>\n",
              "      <td>0.000000</td>\n",
              "      <td>0.000000</td>\n",
              "    </tr>\n",
              "    <tr>\n",
              "      <th>2</th>\n",
              "      <td>2</td>\n",
              "      <td>2020-08-04 22:22:30+00:00</td>\n",
              "      <td>@cbseindia29 @PMOIndia @narendramodi @DrRPNish...</td>\n",
              "      <td>1</td>\n",
              "      <td>cbseindia PMOIndia narendramodi DrRPNishank AB...</td>\n",
              "      <td>['cbseindia', 'pmoindia', 'narendramodi', 'drr...</td>\n",
              "      <td>['cbseindia', 'pmoindia', 'narendramodi', 'drr...</td>\n",
              "      <td>['cbseindia', 'pmoindia', 'narendramodi', 'drr...</td>\n",
              "      <td>['cbseindia', 'pmoindia', 'narendramodi', 'drr...</td>\n",
              "      <td>-0.015909</td>\n",
              "      <td>0.394886</td>\n",
              "    </tr>\n",
              "    <tr>\n",
              "      <th>3</th>\n",
              "      <td>3</td>\n",
              "      <td>2020-08-04 22:20:56+00:00</td>\n",
              "      <td>@PMOIndia’s anti-democratic #NEP2020 was 400+ ...</td>\n",
              "      <td>1</td>\n",
              "      <td>PMOIndia’s antidemocratic NEP was  pgs in  dra...</td>\n",
              "      <td>['pmoindia', 's', 'antidemocratic', 'nep', 'wa...</td>\n",
              "      <td>['pmoindia', 'antidemocratic', 'nep', 'pgs', '...</td>\n",
              "      <td>['pmoindia', 'antidemocrat', 'nep', 'pg', 'dra...</td>\n",
              "      <td>['pmoindia', 'antidemocratic', 'nep', 'pgs', '...</td>\n",
              "      <td>0.375000</td>\n",
              "      <td>0.750000</td>\n",
              "    </tr>\n",
              "    <tr>\n",
              "      <th>4</th>\n",
              "      <td>4</td>\n",
              "      <td>2020-08-04 21:01:14+00:00</td>\n",
              "      <td>The latest The Nursing Education Daily! http:/...</td>\n",
              "      <td>0</td>\n",
              "      <td>The latest The Nursing Education Daily httpned...</td>\n",
              "      <td>['the', 'latest', 'the', 'nursing', 'education...</td>\n",
              "      <td>['latest', 'nursing', 'education', 'daily', 'h...</td>\n",
              "      <td>['latest', 'nurs', 'educ', 'daili', 'httpnedsk...</td>\n",
              "      <td>['latest', 'nursing', 'education', 'daily', 'h...</td>\n",
              "      <td>0.233333</td>\n",
              "      <td>0.366667</td>\n",
              "    </tr>\n",
              "  </tbody>\n",
              "</table>\n",
              "</div>\n",
              "      <button class=\"colab-df-convert\" onclick=\"convertToInteractive('df-5b9bd8b0-5adf-4bb7-be9d-266d994b072c')\"\n",
              "              title=\"Convert this dataframe to an interactive table.\"\n",
              "              style=\"display:none;\">\n",
              "        \n",
              "  <svg xmlns=\"http://www.w3.org/2000/svg\" height=\"24px\"viewBox=\"0 0 24 24\"\n",
              "       width=\"24px\">\n",
              "    <path d=\"M0 0h24v24H0V0z\" fill=\"none\"/>\n",
              "    <path d=\"M18.56 5.44l.94 2.06.94-2.06 2.06-.94-2.06-.94-.94-2.06-.94 2.06-2.06.94zm-11 1L8.5 8.5l.94-2.06 2.06-.94-2.06-.94L8.5 2.5l-.94 2.06-2.06.94zm10 10l.94 2.06.94-2.06 2.06-.94-2.06-.94-.94-2.06-.94 2.06-2.06.94z\"/><path d=\"M17.41 7.96l-1.37-1.37c-.4-.4-.92-.59-1.43-.59-.52 0-1.04.2-1.43.59L10.3 9.45l-7.72 7.72c-.78.78-.78 2.05 0 2.83L4 21.41c.39.39.9.59 1.41.59.51 0 1.02-.2 1.41-.59l7.78-7.78 2.81-2.81c.8-.78.8-2.07 0-2.86zM5.41 20L4 18.59l7.72-7.72 1.47 1.35L5.41 20z\"/>\n",
              "  </svg>\n",
              "      </button>\n",
              "      \n",
              "  <style>\n",
              "    .colab-df-container {\n",
              "      display:flex;\n",
              "      flex-wrap:wrap;\n",
              "      gap: 12px;\n",
              "    }\n",
              "\n",
              "    .colab-df-convert {\n",
              "      background-color: #E8F0FE;\n",
              "      border: none;\n",
              "      border-radius: 50%;\n",
              "      cursor: pointer;\n",
              "      display: none;\n",
              "      fill: #1967D2;\n",
              "      height: 32px;\n",
              "      padding: 0 0 0 0;\n",
              "      width: 32px;\n",
              "    }\n",
              "\n",
              "    .colab-df-convert:hover {\n",
              "      background-color: #E2EBFA;\n",
              "      box-shadow: 0px 1px 2px rgba(60, 64, 67, 0.3), 0px 1px 3px 1px rgba(60, 64, 67, 0.15);\n",
              "      fill: #174EA6;\n",
              "    }\n",
              "\n",
              "    [theme=dark] .colab-df-convert {\n",
              "      background-color: #3B4455;\n",
              "      fill: #D2E3FC;\n",
              "    }\n",
              "\n",
              "    [theme=dark] .colab-df-convert:hover {\n",
              "      background-color: #434B5C;\n",
              "      box-shadow: 0px 1px 3px 1px rgba(0, 0, 0, 0.15);\n",
              "      filter: drop-shadow(0px 1px 2px rgba(0, 0, 0, 0.3));\n",
              "      fill: #FFFFFF;\n",
              "    }\n",
              "  </style>\n",
              "\n",
              "      <script>\n",
              "        const buttonEl =\n",
              "          document.querySelector('#df-5b9bd8b0-5adf-4bb7-be9d-266d994b072c button.colab-df-convert');\n",
              "        buttonEl.style.display =\n",
              "          google.colab.kernel.accessAllowed ? 'block' : 'none';\n",
              "\n",
              "        async function convertToInteractive(key) {\n",
              "          const element = document.querySelector('#df-5b9bd8b0-5adf-4bb7-be9d-266d994b072c');\n",
              "          const dataTable =\n",
              "            await google.colab.kernel.invokeFunction('convertToInteractive',\n",
              "                                                     [key], {});\n",
              "          if (!dataTable) return;\n",
              "\n",
              "          const docLinkHtml = 'Like what you see? Visit the ' +\n",
              "            '<a target=\"_blank\" href=https://colab.research.google.com/notebooks/data_table.ipynb>data table notebook</a>'\n",
              "            + ' to learn more about interactive tables.';\n",
              "          element.innerHTML = '';\n",
              "          dataTable['output_type'] = 'display_data';\n",
              "          await google.colab.output.renderOutput(dataTable, element);\n",
              "          const docLink = document.createElement('div');\n",
              "          docLink.innerHTML = docLinkHtml;\n",
              "          element.appendChild(docLink);\n",
              "        }\n",
              "      </script>\n",
              "    </div>\n",
              "  </div>\n",
              "  "
            ]
          },
          "metadata": {},
          "execution_count": 11
        }
      ],
      "source": [
        "cleaned.head()"
      ]
    },
    {
      "cell_type": "code",
      "source": [
        "del cleaned['Unnamed: 0']"
      ],
      "metadata": {
        "id": "O_vZHDdOnUeO"
      },
      "id": "O_vZHDdOnUeO",
      "execution_count": null,
      "outputs": []
    },
    {
      "cell_type": "code",
      "execution_count": null,
      "id": "eb8f278d",
      "metadata": {
        "id": "eb8f278d",
        "colab": {
          "base_uri": "https://localhost:8080/",
          "height": 281
        },
        "outputId": "d31e2c40-bc44-4748-daff-08843f45e49b"
      },
      "outputs": [
        {
          "output_type": "display_data",
          "data": {
            "text/plain": [
              "<Figure size 432x288 with 1 Axes>"
            ],
            "image/png": "[encoded data removed]"
          },
          "metadata": {
            "needs_background": "light"
          }
        }
      ],
      "source": [
        "# Plots histogram of polarity \n",
        "plt.subplot()\n",
        "cleaned[\"Polarity\"].hist(bins=20,color='blue')\n",
        "plt.title(\"Histogram of Polarity \")\n",
        "plt.grid(b=None)"
      ]
    },
    {
      "cell_type": "markdown",
      "id": "197c4801",
      "metadata": {
        "id": "197c4801"
      },
      "source": [
        "__From the above histogram we can say that many tweets have the polarity value 0 and it is skewed to the right indicating that many tweets are positive.__"
      ]
    },
    {
      "cell_type": "code",
      "source": [
        "# Plots histogram of polarity \n",
        "plt.subplot()\n",
        "cleaned[\"Subjectivity\"].hist(bins=20,color='blue')\n",
        "plt.title(\"Histogram of Subjectivity\")\n",
        "plt.grid(b=None)"
      ],
      "metadata": {
        "colab": {
          "base_uri": "https://localhost:8080/",
          "height": 281
        },
        "id": "895nccvHmB_H",
        "outputId": "4029c58a-5288-42ae-c28d-400e532d6252"
      },
      "id": "895nccvHmB_H",
      "execution_count": null,
      "outputs": [
        {
          "output_type": "display_data",
          "data": {
            "text/plain": [
              "<Figure size 432x288 with 1 Axes>"
            ],
            "image/png": "[encoded data removed]"
          },
          "metadata": {
            "needs_background": "light"
          }
        }
      ]
    },
    {
      "cell_type": "markdown",
      "source": [
        "**From the above histogram of subjectivity score it can be observed that majority of the tweets are based on factual information and are not biased with personal views.**"
      ],
      "metadata": {
        "id": "evfkaowfmO9V"
      },
      "id": "evfkaowfmO9V"
    },
    {
      "cell_type": "markdown",
      "id": "d46d2fa1",
      "metadata": {
        "id": "d46d2fa1"
      },
      "source": [
        "### Displaying the most popular tweets"
      ]
    },
    {
      "cell_type": "code",
      "execution_count": null,
      "id": "a1e10c0b",
      "metadata": {
        "id": "a1e10c0b",
        "outputId": "03fdcf6b-5b47-4d29-ca75-fcd628239e5a",
        "colab": {
          "base_uri": "https://localhost:8080/",
          "height": 362
        }
      },
      "outputs": [
        {
          "output_type": "execute_result",
          "data": {
            "text/plain": [
              "                                                  Tweet  Likes_on_tweet\n",
              "6581  ENGLISH MEDIUM... Blessing or Curse for India....            2694\n",
              "1286  ~Not many people know that Raksha Bandhan is a...            1837\n",
              "511   Under #NEP2020, #BoardExams will have greater ...            1573\n",
              "952   #NEP2020 lays emphasis on the promotion of Ind...            1530\n",
              "1873  Our vision is to build an #education system th...            1362\n",
              "5144  Thank you for your great insights on #NewEduca...            1114\n",
              "1141  #NEP2020 emphasises the use of technology for ...            1060\n",
              "3891  Teachers are an integral part of any instituti...            1058\n",
              "3248        My take on #NEP2020 Part 2 School Education            1046\n",
              "6298  Thank you @SubhashGhai1 ji for your kind words...            1042"
            ],
            "text/html": [
              "\n",
              "  <div id=\"df-347c8b04-9d87-481b-9d43-fc19f59b3ae5\">\n",
              "    <div class=\"colab-df-container\">\n",
              "      <div>\n",
              "<style scoped>\n",
              "    .dataframe tbody tr th:only-of-type {\n",
              "        vertical-align: middle;\n",
              "    }\n",
              "\n",
              "    .dataframe tbody tr th {\n",
              "        vertical-align: top;\n",
              "    }\n",
              "\n",
              "    .dataframe thead th {\n",
              "        text-align: right;\n",
              "    }\n",
              "</style>\n",
              "<table border=\"1\" class=\"dataframe\">\n",
              "  <thead>\n",
              "    <tr style=\"text-align: right;\">\n",
              "      <th></th>\n",
              "      <th>Tweet</th>\n",
              "      <th>Likes_on_tweet</th>\n",
              "    </tr>\n",
              "  </thead>\n",
              "  <tbody>\n",
              "    <tr>\n",
              "      <th>6581</th>\n",
              "      <td>ENGLISH MEDIUM... Blessing or Curse for India....</td>\n",
              "      <td>2694</td>\n",
              "    </tr>\n",
              "    <tr>\n",
              "      <th>1286</th>\n",
              "      <td>~Not many people know that Raksha Bandhan is a...</td>\n",
              "      <td>1837</td>\n",
              "    </tr>\n",
              "    <tr>\n",
              "      <th>511</th>\n",
              "      <td>Under #NEP2020, #BoardExams will have greater ...</td>\n",
              "      <td>1573</td>\n",
              "    </tr>\n",
              "    <tr>\n",
              "      <th>952</th>\n",
              "      <td>#NEP2020 lays emphasis on the promotion of Ind...</td>\n",
              "      <td>1530</td>\n",
              "    </tr>\n",
              "    <tr>\n",
              "      <th>1873</th>\n",
              "      <td>Our vision is to build an #education system th...</td>\n",
              "      <td>1362</td>\n",
              "    </tr>\n",
              "    <tr>\n",
              "      <th>5144</th>\n",
              "      <td>Thank you for your great insights on #NewEduca...</td>\n",
              "      <td>1114</td>\n",
              "    </tr>\n",
              "    <tr>\n",
              "      <th>1141</th>\n",
              "      <td>#NEP2020 emphasises the use of technology for ...</td>\n",
              "      <td>1060</td>\n",
              "    </tr>\n",
              "    <tr>\n",
              "      <th>3891</th>\n",
              "      <td>Teachers are an integral part of any instituti...</td>\n",
              "      <td>1058</td>\n",
              "    </tr>\n",
              "    <tr>\n",
              "      <th>3248</th>\n",
              "      <td>My take on #NEP2020 Part 2 School Education</td>\n",
              "      <td>1046</td>\n",
              "    </tr>\n",
              "    <tr>\n",
              "      <th>6298</th>\n",
              "      <td>Thank you @SubhashGhai1 ji for your kind words...</td>\n",
              "      <td>1042</td>\n",
              "    </tr>\n",
              "  </tbody>\n",
              "</table>\n",
              "</div>\n",
              "      <button class=\"colab-df-convert\" onclick=\"convertToInteractive('df-347c8b04-9d87-481b-9d43-fc19f59b3ae5')\"\n",
              "              title=\"Convert this dataframe to an interactive table.\"\n",
              "              style=\"display:none;\">\n",
              "        \n",
              "  <svg xmlns=\"http://www.w3.org/2000/svg\" height=\"24px\"viewBox=\"0 0 24 24\"\n",
              "       width=\"24px\">\n",
              "    <path d=\"M0 0h24v24H0V0z\" fill=\"none\"/>\n",
              "    <path d=\"M18.56 5.44l.94 2.06.94-2.06 2.06-.94-2.06-.94-.94-2.06-.94 2.06-2.06.94zm-11 1L8.5 8.5l.94-2.06 2.06-.94-2.06-.94L8.5 2.5l-.94 2.06-2.06.94zm10 10l.94 2.06.94-2.06 2.06-.94-2.06-.94-.94-2.06-.94 2.06-2.06.94z\"/><path d=\"M17.41 7.96l-1.37-1.37c-.4-.4-.92-.59-1.43-.59-.52 0-1.04.2-1.43.59L10.3 9.45l-7.72 7.72c-.78.78-.78 2.05 0 2.83L4 21.41c.39.39.9.59 1.41.59.51 0 1.02-.2 1.41-.59l7.78-7.78 2.81-2.81c.8-.78.8-2.07 0-2.86zM5.41 20L4 18.59l7.72-7.72 1.47 1.35L5.41 20z\"/>\n",
              "  </svg>\n",
              "      </button>\n",
              "      \n",
              "  <style>\n",
              "    .colab-df-container {\n",
              "      display:flex;\n",
              "      flex-wrap:wrap;\n",
              "      gap: 12px;\n",
              "    }\n",
              "\n",
              "    .colab-df-convert {\n",
              "      background-color: #E8F0FE;\n",
              "      border: none;\n",
              "      border-radius: 50%;\n",
              "      cursor: pointer;\n",
              "      display: none;\n",
              "      fill: #1967D2;\n",
              "      height: 32px;\n",
              "      padding: 0 0 0 0;\n",
              "      width: 32px;\n",
              "    }\n",
              "\n",
              "    .colab-df-convert:hover {\n",
              "      background-color: #E2EBFA;\n",
              "      box-shadow: 0px 1px 2px rgba(60, 64, 67, 0.3), 0px 1px 3px 1px rgba(60, 64, 67, 0.15);\n",
              "      fill: #174EA6;\n",
              "    }\n",
              "\n",
              "    [theme=dark] .colab-df-convert {\n",
              "      background-color: #3B4455;\n",
              "      fill: #D2E3FC;\n",
              "    }\n",
              "\n",
              "    [theme=dark] .colab-df-convert:hover {\n",
              "      background-color: #434B5C;\n",
              "      box-shadow: 0px 1px 3px 1px rgba(0, 0, 0, 0.15);\n",
              "      filter: drop-shadow(0px 1px 2px rgba(0, 0, 0, 0.3));\n",
              "      fill: #FFFFFF;\n",
              "    }\n",
              "  </style>\n",
              "\n",
              "      <script>\n",
              "        const buttonEl =\n",
              "          document.querySelector('#df-347c8b04-9d87-481b-9d43-fc19f59b3ae5 button.colab-df-convert');\n",
              "        buttonEl.style.display =\n",
              "          google.colab.kernel.accessAllowed ? 'block' : 'none';\n",
              "\n",
              "        async function convertToInteractive(key) {\n",
              "          const element = document.querySelector('#df-347c8b04-9d87-481b-9d43-fc19f59b3ae5');\n",
              "          const dataTable =\n",
              "            await google.colab.kernel.invokeFunction('convertToInteractive',\n",
              "                                                     [key], {});\n",
              "          if (!dataTable) return;\n",
              "\n",
              "          const docLinkHtml = 'Like what you see? Visit the ' +\n",
              "            '<a target=\"_blank\" href=https://colab.research.google.com/notebooks/data_table.ipynb>data table notebook</a>'\n",
              "            + ' to learn more about interactive tables.';\n",
              "          element.innerHTML = '';\n",
              "          dataTable['output_type'] = 'display_data';\n",
              "          await google.colab.output.renderOutput(dataTable, element);\n",
              "          const docLink = document.createElement('div');\n",
              "          docLink.innerHTML = docLinkHtml;\n",
              "          element.appendChild(docLink);\n",
              "        }\n",
              "      </script>\n",
              "    </div>\n",
              "  </div>\n",
              "  "
            ]
          },
          "metadata": {},
          "execution_count": 17
        }
      ],
      "source": [
        "cleaned.sort_values(by=[\"Likes_on_tweet\" ], ascending=False)[[\"Tweet\",\"Likes_on_tweet\"]].head(10)"
      ]
    },
    {
      "cell_type": "markdown",
      "id": "a0df0252",
      "metadata": {
        "id": "a0df0252"
      },
      "source": [
        "#### Removing outliers"
      ]
    },
    {
      "cell_type": "code",
      "execution_count": null,
      "id": "6e955c61",
      "metadata": {
        "id": "6e955c61"
      },
      "outputs": [],
      "source": [
        "Top_Tweets = cleaned[cleaned[\"Likes_on_tweet\"]<2000]"
      ]
    },
    {
      "cell_type": "markdown",
      "id": "c63eba2e",
      "metadata": {
        "id": "c63eba2e"
      },
      "source": [
        "### Visualizing relationship between top tweets and polarity value"
      ]
    },
    {
      "cell_type": "code",
      "execution_count": null,
      "id": "c18b6f67",
      "metadata": {
        "id": "c18b6f67",
        "outputId": "bf3142f8-6411-45c9-aa3d-1f5ae719561d",
        "colab": {
          "base_uri": "https://localhost:8080/",
          "height": 402
        }
      },
      "outputs": [
        {
          "output_type": "execute_result",
          "data": {
            "text/plain": [
              "<seaborn.axisgrid.FacetGrid at 0x7f4272185550>"
            ]
          },
          "metadata": {},
          "execution_count": 19
        },
        {
          "output_type": "display_data",
          "data": {
            "text/plain": [
              "<Figure size 360x360 with 1 Axes>"
            ],
            "image/png": "[encoded data removed]"
          },
          "metadata": {
            "needs_background": "light"
          }
        }
      ],
      "source": [
        "sns.relplot(x=\"Polarity\", y=\"Likes_on_tweet\", data=Top_Tweets).set(title='Relationship between Top Tweets and Polarity')"
      ]
    },
    {
      "cell_type": "markdown",
      "id": "51d8a99d",
      "metadata": {
        "id": "51d8a99d"
      },
      "source": [
        "__From the above plot, we can say that as the polarity of tweet is increasing, the likes of that particular tweet are also increasing. We can conclude that many people are strongly supporting the NEP__"
      ]
    },
    {
      "cell_type": "markdown",
      "id": "4627f0a6",
      "metadata": {
        "id": "4627f0a6"
      },
      "source": [
        "<br>"
      ]
    },
    {
      "cell_type": "markdown",
      "id": "56151dea",
      "metadata": {
        "id": "56151dea"
      },
      "source": [
        "### Visualizing relationship between top tweets and subjectivity value¶"
      ]
    },
    {
      "cell_type": "code",
      "execution_count": null,
      "id": "5cf6ecc0",
      "metadata": {
        "id": "5cf6ecc0",
        "outputId": "1b031146-992a-4d8e-e42f-0cd43fa447bb",
        "colab": {
          "base_uri": "https://localhost:8080/",
          "height": 402
        }
      },
      "outputs": [
        {
          "output_type": "execute_result",
          "data": {
            "text/plain": [
              "<seaborn.axisgrid.FacetGrid at 0x7f426d245cd0>"
            ]
          },
          "metadata": {},
          "execution_count": 20
        },
        {
          "output_type": "display_data",
          "data": {
            "text/plain": [
              "<Figure size 360x360 with 1 Axes>"
            ],
            "image/png": "[encoded data removed]"
          },
          "metadata": {
            "needs_background": "light"
          }
        }
      ],
      "source": [
        "sns.relplot(x=\"Subjectivity\", y=\"Likes_on_tweet\", data=Top_Tweets).set(title='Relationship between Top Tweets and Subjectivity')"
      ]
    },
    {
      "cell_type": "markdown",
      "id": "bc139849",
      "metadata": {
        "id": "bc139849"
      },
      "source": [
        "There is more dispersion in the number of likes for tweets with subjectivity less than 0.5 than those with greater subjectivity. Also, it can be inferred that the tweet with the highest likes has subjectivity 0.5. Implying that the most popular tweet has an equal proportion of factual information and personal opinion.  "
      ]
    },
    {
      "cell_type": "code",
      "execution_count": null,
      "id": "872e68ac",
      "metadata": {
        "id": "872e68ac",
        "outputId": "d377b911-0d2b-4f63-dcda-20842ad92201"
      },
      "outputs": [
        {
          "data": {
            "text/html": [
              "<div>\n",
              "<style scoped>\n",
              "    .dataframe tbody tr th:only-of-type {\n",
              "        vertical-align: middle;\n",
              "    }\n",
              "\n",
              "    .dataframe tbody tr th {\n",
              "        vertical-align: top;\n",
              "    }\n",
              "\n",
              "    .dataframe thead th {\n",
              "        text-align: right;\n",
              "    }\n",
              "</style>\n",
              "<table border=\"1\" class=\"dataframe\">\n",
              "  <thead>\n",
              "    <tr style=\"text-align: right;\">\n",
              "      <th></th>\n",
              "      <th>Label</th>\n",
              "    </tr>\n",
              "  </thead>\n",
              "  <tbody>\n",
              "    <tr>\n",
              "      <th>0</th>\n",
              "      <td>Positive</td>\n",
              "    </tr>\n",
              "    <tr>\n",
              "      <th>1</th>\n",
              "      <td>Neutral</td>\n",
              "    </tr>\n",
              "    <tr>\n",
              "      <th>2</th>\n",
              "      <td>Negative</td>\n",
              "    </tr>\n",
              "    <tr>\n",
              "      <th>3</th>\n",
              "      <td>Positive</td>\n",
              "    </tr>\n",
              "    <tr>\n",
              "      <th>4</th>\n",
              "      <td>Positive</td>\n",
              "    </tr>\n",
              "  </tbody>\n",
              "</table>\n",
              "</div>"
            ],
            "text/plain": [
              "      Label\n",
              "0  Positive\n",
              "1   Neutral\n",
              "2  Negative\n",
              "3  Positive\n",
              "4  Positive"
            ]
          },
          "execution_count": 41,
          "metadata": {},
          "output_type": "execute_result"
        }
      ],
      "source": [
        "# Function that classifies polarities\n",
        "def classify_polarity(polarity):\n",
        "    if polarity > 0:\n",
        "        return \"Positive\"\n",
        "    if polarity == 0:\n",
        "        return \"Neutral\"\n",
        "    if polarity < 0:\n",
        "        return \"Negative\"\n",
        "\n",
        "# Applies the funtion on Polarity column and add the results into a new column \"Label\"\n",
        "cleaned[\"Label\"] = cleaned[\"Polarity\"].apply(classify_polarity)\n",
        "\n",
        "# Displays the Polarity and Subjectivity Analysis\n",
        "cleaned[[\"Label\"]].head()"
      ]
    },
    {
      "cell_type": "code",
      "execution_count": null,
      "id": "a1d4ead4",
      "metadata": {
        "id": "a1d4ead4",
        "outputId": "6f12ee4a-dd8d-46b3-e5a6-4d646caf8794"
      },
      "outputs": [
        {
          "data": {
            "image/png": "[encoded data removed]",
            "text/plain": [
              "<Figure size 432x288 with 1 Axes>"
            ]
          },
          "metadata": {
            "needs_background": "light"
          },
          "output_type": "display_data"
        }
      ],
      "source": [
        "# Visualising the Label count\n",
        "sns.countplot(x=cleaned[\"Label\"])\n",
        "plt.title(\"Polarity Scores\")\n",
        "plt.show()"
      ]
    },
    {
      "cell_type": "code",
      "execution_count": null,
      "id": "24cc4784",
      "metadata": {
        "id": "24cc4784",
        "outputId": "ee937ffb-3a51-442e-c443-48d762fb7623"
      },
      "outputs": [
        {
          "data": {
            "text/plain": [
              "<AxesSubplot:ylabel='Label'>"
            ]
          },
          "execution_count": 43,
          "metadata": {},
          "output_type": "execute_result"
        },
        {
          "data": {
            "image/png": "[encoded data removed]",
            "text/plain": [
              "<Figure size 432x288 with 1 Axes>"
            ]
          },
          "metadata": {},
          "output_type": "display_data"
        }
      ],
      "source": [
        "# Plots pie chart\n",
        "cleaned['Label'].value_counts().plot(kind='pie',autopct='%1.0f%%')"
      ]
    },
    {
      "cell_type": "markdown",
      "id": "e3bae637",
      "metadata": {
        "id": "e3bae637"
      },
      "source": [
        "#### Many of the tweets collected are classfied as Positive and very less percentage of them are against the National Education Policy 2020 which is to be implememted in India."
      ]
    },
    {
      "cell_type": "markdown",
      "id": "d31fcc0d",
      "metadata": {
        "id": "d31fcc0d"
      },
      "source": [
        "### Visualizing Subjectivity vs Polarity scores"
      ]
    },
    {
      "cell_type": "code",
      "execution_count": null,
      "id": "117d2f40",
      "metadata": {
        "id": "117d2f40",
        "outputId": "563fe796-36a7-451d-f78e-dea65eb3d333"
      },
      "outputs": [
        {
          "data": {
            "image/png": "[encoded data removed]",
            "text/plain": [
              "<Figure size 432x288 with 1 Axes>"
            ]
          },
          "metadata": {
            "needs_background": "light"
          },
          "output_type": "display_data"
        }
      ],
      "source": [
        "plt.figure() \n",
        "sns.scatterplot(x=\"Polarity\", y=\"Subjectivity\", hue=\"Label\", data=cleaned)\n",
        "plt.title(\"Subjectivity vs Polarity\")\n",
        "plt.show()"
      ]
    },
    {
      "cell_type": "markdown",
      "id": "5b09f8e2",
      "metadata": {
        "id": "5b09f8e2"
      },
      "source": [
        "__The above plot visualizes how the different classes - positive, neutral and negative sentiments are distributed based on Polarity and Subjectivity score__"
      ]
    },
    {
      "cell_type": "markdown",
      "id": "c0008f69",
      "metadata": {
        "id": "c0008f69"
      },
      "source": [
        "<br>"
      ]
    },
    {
      "cell_type": "code",
      "execution_count": null,
      "id": "cfda3ddc",
      "metadata": {
        "id": "cfda3ddc"
      },
      "outputs": [],
      "source": [
        "from wordcloud import WordCloud\n",
        "from PIL import Image\n",
        "import urllib\n",
        "import requests"
      ]
    },
    {
      "cell_type": "markdown",
      "id": "835f3972",
      "metadata": {
        "id": "835f3972"
      },
      "source": [
        "#### Segregating words as positive and negative based on Polarity scores"
      ]
    },
    {
      "cell_type": "code",
      "execution_count": null,
      "id": "2af17e87",
      "metadata": {
        "id": "2af17e87"
      },
      "outputs": [],
      "source": [
        "positive_words = ' '.join(text for text in cleaned['Tweet_lemmatized'][cleaned['Polarity']==1])\n",
        "negative_words = ' '.join(text for text in cleaned['Tweet_lemmatized'][cleaned['Polarity']==-1])"
      ]
    },
    {
      "cell_type": "markdown",
      "id": "9ddd4621",
      "metadata": {
        "id": "9ddd4621"
      },
      "source": [
        "### Word Cloud for Positive Words"
      ]
    },
    {
      "cell_type": "code",
      "execution_count": null,
      "id": "586a4032",
      "metadata": {
        "id": "586a4032",
        "outputId": "d5b6e042-bb5b-4ee0-afac-d2b6f77e6541"
      },
      "outputs": [
        {
          "data": {
            "text/plain": [
              "(-0.5, 399.5, 199.5, -0.5)"
            ]
          },
          "execution_count": 47,
          "metadata": {},
          "output_type": "execute_result"
        },
        {
          "data": {
            "image/png": "[encoded data removed]",
            "text/plain": [
              "<Figure size 720x1440 with 1 Axes>"
            ]
          },
          "metadata": {
            "needs_background": "light"
          },
          "output_type": "display_data"
        }
      ],
      "source": [
        "wc = WordCloud(background_color='black').generate(positive_words)\n",
        "\n",
        "# Size of the image generated \n",
        "plt.figure(figsize=(10,20))\n",
        " \n",
        "plt.imshow(wc.recolor())\n",
        "plt.axis('off')\n"
      ]
    },
    {
      "cell_type": "markdown",
      "id": "56c426b7",
      "metadata": {
        "id": "56c426b7"
      },
      "source": [
        "#### The highlighted and the words in largest font are the most occuring words.\n",
        "\n",
        "#### Here, the words - best, nep, policy, education, excellent are the most used words in positive tweets."
      ]
    },
    {
      "cell_type": "markdown",
      "id": "7c89d1b0",
      "metadata": {
        "id": "7c89d1b0"
      },
      "source": [
        "### Word Cloud for Negative Words"
      ]
    },
    {
      "cell_type": "code",
      "execution_count": null,
      "id": "c2358756",
      "metadata": {
        "id": "c2358756",
        "outputId": "57d22ae9-aac6-4797-c5c8-077554144586"
      },
      "outputs": [
        {
          "data": {
            "text/plain": [
              "(-0.5, 3999.5, 999.5, -0.5)"
            ]
          },
          "execution_count": 48,
          "metadata": {},
          "output_type": "execute_result"
        },
        {
          "data": {
            "image/png": "[encoded data removed]",
            "text/plain": [
              "<Figure size 720x1440 with 1 Axes>"
            ]
          },
          "metadata": {
            "needs_background": "light"
          },
          "output_type": "display_data"
        }
      ],
      "source": [
        "wc = WordCloud(background_color='black', height=1000, width=4000).generate(negative_words)\n",
        "\n",
        "# Size of the image generated \n",
        "plt.figure(figsize=(10,20))\n",
        " \n",
        "plt.imshow(wc.recolor())\n",
        "\n",
        "plt.axis('off')\n"
      ]
    },
    {
      "cell_type": "markdown",
      "id": "6a1b027d",
      "metadata": {
        "id": "6a1b027d"
      },
      "source": [
        "#### The highlighted and the words in largest font are the most occuring words.\n",
        "\n",
        "#### Here, the words - exam, told, state, level, student are the most used words in negative tweets."
      ]
    },
    {
      "cell_type": "markdown",
      "id": "86de58d0",
      "metadata": {
        "id": "86de58d0"
      },
      "source": [
        "<br>"
      ]
    },
    {
      "cell_type": "markdown",
      "id": "55bcd352",
      "metadata": {
        "id": "55bcd352"
      },
      "source": [
        "### Identifying the intensity of the sentiments for positive, negative and neutral tweets"
      ]
    },
    {
      "cell_type": "code",
      "execution_count": null,
      "id": "a111f3d7",
      "metadata": {
        "id": "a111f3d7",
        "outputId": "7365571d-54a2-4221-e884-192cca5368a2"
      },
      "outputs": [
        {
          "name": "stderr",
          "output_type": "stream",
          "text": [
            "[nltk_data] Downloading package vader_lexicon to C:\\Users\\krishna\n",
            "[nltk_data]     meghana\\AppData\\Roaming\\nltk_data...\n",
            "[nltk_data]   Package vader_lexicon is already up-to-date!\n"
          ]
        },
        {
          "data": {
            "text/plain": [
              "True"
            ]
          },
          "execution_count": 49,
          "metadata": {},
          "output_type": "execute_result"
        }
      ],
      "source": [
        "import nltk\n",
        "from nltk.sentiment.vader import SentimentIntensityAnalyzer\n",
        "nltk.download('vader_lexicon')"
      ]
    },
    {
      "cell_type": "code",
      "execution_count": null,
      "id": "eff6af48",
      "metadata": {
        "id": "eff6af48"
      },
      "outputs": [],
      "source": [
        "sentiments = SentimentIntensityAnalyzer()\n",
        "cleaned[\"Positive\"] = [sentiments.polarity_scores(i)[\"pos\"] for i in cleaned[\"Tweet\"]]\n",
        "cleaned[\"Negative\"] = [sentiments.polarity_scores(i)[\"neg\"] for i in cleaned[\"Tweet\"]]\n",
        "cleaned[\"Neutral\"] = [sentiments.polarity_scores(i)[\"neu\"] for i in cleaned[\"Tweet\"]]"
      ]
    },
    {
      "cell_type": "code",
      "execution_count": null,
      "id": "1ac07d76",
      "metadata": {
        "id": "1ac07d76",
        "outputId": "174d9d3f-baf5-4199-d044-a4d4208d60cd"
      },
      "outputs": [
        {
          "data": {
            "text/html": [
              "<div>\n",
              "<style scoped>\n",
              "    .dataframe tbody tr th:only-of-type {\n",
              "        vertical-align: middle;\n",
              "    }\n",
              "\n",
              "    .dataframe tbody tr th {\n",
              "        vertical-align: top;\n",
              "    }\n",
              "\n",
              "    .dataframe thead th {\n",
              "        text-align: right;\n",
              "    }\n",
              "</style>\n",
              "<table border=\"1\" class=\"dataframe\">\n",
              "  <thead>\n",
              "    <tr style=\"text-align: right;\">\n",
              "      <th></th>\n",
              "      <th>Unnamed: 0</th>\n",
              "      <th>Date_of_tweet</th>\n",
              "      <th>Tweet</th>\n",
              "      <th>Likes_on_tweet</th>\n",
              "      <th>Tweet_punct</th>\n",
              "      <th>Tweet_tokenized</th>\n",
              "      <th>Tweet_nonstop</th>\n",
              "      <th>Tweet_stemmed</th>\n",
              "      <th>Tweet_lemmatized</th>\n",
              "      <th>Polarity</th>\n",
              "      <th>Subjectivity</th>\n",
              "      <th>Label</th>\n",
              "      <th>Positive</th>\n",
              "      <th>Negative</th>\n",
              "      <th>Neutral</th>\n",
              "    </tr>\n",
              "  </thead>\n",
              "  <tbody>\n",
              "    <tr>\n",
              "      <th>0</th>\n",
              "      <td>0</td>\n",
              "      <td>2020-08-04 23:31:59+00:00</td>\n",
              "      <td>Historically #TamilNadu has been a state with ...</td>\n",
              "      <td>1</td>\n",
              "      <td>Historically TamilNadu has been a state with p...</td>\n",
              "      <td>['historically', 'tamilnadu', 'has', 'been', '...</td>\n",
              "      <td>['historically', 'tamilnadu', 'state', 'progre...</td>\n",
              "      <td>['histor', 'tamilnadu', 'state', 'progress', '...</td>\n",
              "      <td>['historically', 'tamilnadu', 'state', 'progre...</td>\n",
              "      <td>0.232000</td>\n",
              "      <td>0.368000</td>\n",
              "      <td>Positive</td>\n",
              "      <td>0.197</td>\n",
              "      <td>0.000</td>\n",
              "      <td>0.803</td>\n",
              "    </tr>\n",
              "    <tr>\n",
              "      <th>1</th>\n",
              "      <td>1</td>\n",
              "      <td>2020-08-04 23:31:56+00:00</td>\n",
              "      <td>#HelloStrangerEP6 #HarrisonFord #GeorgeFloyd #...</td>\n",
              "      <td>0</td>\n",
              "      <td>HelloStrangerEP HarrisonFord GeorgeFloyd JiCha...</td>\n",
              "      <td>['hellostrangerep', 'harrisonford', 'georgeflo...</td>\n",
              "      <td>['hellostrangerep', 'harrisonford', 'georgeflo...</td>\n",
              "      <td>['hellostrangerep', 'harrisonford', 'georgeflo...</td>\n",
              "      <td>['hellostrangerep', 'harrisonford', 'georgeflo...</td>\n",
              "      <td>0.000000</td>\n",
              "      <td>0.000000</td>\n",
              "      <td>Neutral</td>\n",
              "      <td>0.000</td>\n",
              "      <td>0.000</td>\n",
              "      <td>1.000</td>\n",
              "    </tr>\n",
              "    <tr>\n",
              "      <th>2</th>\n",
              "      <td>2</td>\n",
              "      <td>2020-08-04 22:22:30+00:00</td>\n",
              "      <td>@cbseindia29 @PMOIndia @narendramodi @DrRPNish...</td>\n",
              "      <td>1</td>\n",
              "      <td>cbseindia PMOIndia narendramodi DrRPNishank AB...</td>\n",
              "      <td>['cbseindia', 'pmoindia', 'narendramodi', 'drr...</td>\n",
              "      <td>['cbseindia', 'pmoindia', 'narendramodi', 'drr...</td>\n",
              "      <td>['cbseindia', 'pmoindia', 'narendramodi', 'drr...</td>\n",
              "      <td>['cbseindia', 'pmoindia', 'narendramodi', 'drr...</td>\n",
              "      <td>-0.015909</td>\n",
              "      <td>0.394886</td>\n",
              "      <td>Negative</td>\n",
              "      <td>0.118</td>\n",
              "      <td>0.000</td>\n",
              "      <td>0.882</td>\n",
              "    </tr>\n",
              "    <tr>\n",
              "      <th>3</th>\n",
              "      <td>3</td>\n",
              "      <td>2020-08-04 22:20:56+00:00</td>\n",
              "      <td>@PMOIndia’s anti-democratic #NEP2020 was 400+ ...</td>\n",
              "      <td>1</td>\n",
              "      <td>PMOIndia’s antidemocratic NEP was  pgs in  dra...</td>\n",
              "      <td>['pmoindia', 's', 'antidemocratic', 'nep', 'wa...</td>\n",
              "      <td>['pmoindia', 'antidemocratic', 'nep', 'pgs', '...</td>\n",
              "      <td>['pmoindia', 'antidemocrat', 'nep', 'pg', 'dra...</td>\n",
              "      <td>['pmoindia', 'antidemocratic', 'nep', 'pgs', '...</td>\n",
              "      <td>0.375000</td>\n",
              "      <td>0.750000</td>\n",
              "      <td>Positive</td>\n",
              "      <td>0.095</td>\n",
              "      <td>0.056</td>\n",
              "      <td>0.849</td>\n",
              "    </tr>\n",
              "    <tr>\n",
              "      <th>4</th>\n",
              "      <td>4</td>\n",
              "      <td>2020-08-04 21:01:14+00:00</td>\n",
              "      <td>The latest The Nursing Education Daily! http:/...</td>\n",
              "      <td>0</td>\n",
              "      <td>The latest The Nursing Education Daily httpned...</td>\n",
              "      <td>['the', 'latest', 'the', 'nursing', 'education...</td>\n",
              "      <td>['latest', 'nursing', 'education', 'daily', 'h...</td>\n",
              "      <td>['latest', 'nurs', 'educ', 'daili', 'httpnedsk...</td>\n",
              "      <td>['latest', 'nursing', 'education', 'daily', 'h...</td>\n",
              "      <td>0.233333</td>\n",
              "      <td>0.366667</td>\n",
              "      <td>Positive</td>\n",
              "      <td>0.197</td>\n",
              "      <td>0.000</td>\n",
              "      <td>0.803</td>\n",
              "    </tr>\n",
              "  </tbody>\n",
              "</table>\n",
              "</div>"
            ],
            "text/plain": [
              "   Unnamed: 0              Date_of_tweet  \\\n",
              "0           0  2020-08-04 23:31:59+00:00   \n",
              "1           1  2020-08-04 23:31:56+00:00   \n",
              "2           2  2020-08-04 22:22:30+00:00   \n",
              "3           3  2020-08-04 22:20:56+00:00   \n",
              "4           4  2020-08-04 21:01:14+00:00   \n",
              "\n",
              "                                               Tweet  Likes_on_tweet  \\\n",
              "0  Historically #TamilNadu has been a state with ...               1   \n",
              "1  #HelloStrangerEP6 #HarrisonFord #GeorgeFloyd #...               0   \n",
              "2  @cbseindia29 @PMOIndia @narendramodi @DrRPNish...               1   \n",
              "3  @PMOIndia’s anti-democratic #NEP2020 was 400+ ...               1   \n",
              "4  The latest The Nursing Education Daily! http:/...               0   \n",
              "\n",
              "                                         Tweet_punct  \\\n",
              "0  Historically TamilNadu has been a state with p...   \n",
              "1  HelloStrangerEP HarrisonFord GeorgeFloyd JiCha...   \n",
              "2  cbseindia PMOIndia narendramodi DrRPNishank AB...   \n",
              "3  PMOIndia’s antidemocratic NEP was  pgs in  dra...   \n",
              "4  The latest The Nursing Education Daily httpned...   \n",
              "\n",
              "                                     Tweet_tokenized  \\\n",
              "0  ['historically', 'tamilnadu', 'has', 'been', '...   \n",
              "1  ['hellostrangerep', 'harrisonford', 'georgeflo...   \n",
              "2  ['cbseindia', 'pmoindia', 'narendramodi', 'drr...   \n",
              "3  ['pmoindia', 's', 'antidemocratic', 'nep', 'wa...   \n",
              "4  ['the', 'latest', 'the', 'nursing', 'education...   \n",
              "\n",
              "                                       Tweet_nonstop  \\\n",
              "0  ['historically', 'tamilnadu', 'state', 'progre...   \n",
              "1  ['hellostrangerep', 'harrisonford', 'georgeflo...   \n",
              "2  ['cbseindia', 'pmoindia', 'narendramodi', 'drr...   \n",
              "3  ['pmoindia', 'antidemocratic', 'nep', 'pgs', '...   \n",
              "4  ['latest', 'nursing', 'education', 'daily', 'h...   \n",
              "\n",
              "                                       Tweet_stemmed  \\\n",
              "0  ['histor', 'tamilnadu', 'state', 'progress', '...   \n",
              "1  ['hellostrangerep', 'harrisonford', 'georgeflo...   \n",
              "2  ['cbseindia', 'pmoindia', 'narendramodi', 'drr...   \n",
              "3  ['pmoindia', 'antidemocrat', 'nep', 'pg', 'dra...   \n",
              "4  ['latest', 'nurs', 'educ', 'daili', 'httpnedsk...   \n",
              "\n",
              "                                    Tweet_lemmatized  Polarity  Subjectivity  \\\n",
              "0  ['historically', 'tamilnadu', 'state', 'progre...  0.232000      0.368000   \n",
              "1  ['hellostrangerep', 'harrisonford', 'georgeflo...  0.000000      0.000000   \n",
              "2  ['cbseindia', 'pmoindia', 'narendramodi', 'drr... -0.015909      0.394886   \n",
              "3  ['pmoindia', 'antidemocratic', 'nep', 'pgs', '...  0.375000      0.750000   \n",
              "4  ['latest', 'nursing', 'education', 'daily', 'h...  0.233333      0.366667   \n",
              "\n",
              "      Label  Positive  Negative  Neutral  \n",
              "0  Positive     0.197     0.000    0.803  \n",
              "1   Neutral     0.000     0.000    1.000  \n",
              "2  Negative     0.118     0.000    0.882  \n",
              "3  Positive     0.095     0.056    0.849  \n",
              "4  Positive     0.197     0.000    0.803  "
            ]
          },
          "execution_count": 51,
          "metadata": {},
          "output_type": "execute_result"
        }
      ],
      "source": [
        "cleaned.head()"
      ]
    },
    {
      "cell_type": "markdown",
      "id": "a3f09e6f",
      "metadata": {
        "id": "a3f09e6f"
      },
      "source": [
        "### Calculating the sentiment score of tweets and printing the highest "
      ]
    },
    {
      "cell_type": "code",
      "execution_count": null,
      "id": "f4d2ca80",
      "metadata": {
        "id": "f4d2ca80",
        "outputId": "afc60d84-51a8-4676-b6c1-e72bf6e8d401"
      },
      "outputs": [
        {
          "name": "stdout",
          "output_type": "stream",
          "text": [
            "Neutral 🙂 \n"
          ]
        }
      ],
      "source": [
        "x = sum(cleaned[\"Positive\"])\n",
        "y = sum(cleaned[\"Negative\"])\n",
        "z = sum(cleaned[\"Neutral\"])\n",
        "\n",
        "def sentiment_score(a, b, c):\n",
        "    if (a>b) and (a>c):\n",
        "        print(\"Positive 😊 \")\n",
        "    elif (b>a) and (b>c):\n",
        "        print(\"Negative 😠 \")\n",
        "    else:\n",
        "        print(\"Neutral 🙂 \")\n",
        "sentiment_score(x, y, z)"
      ]
    },
    {
      "cell_type": "markdown",
      "id": "705fc936",
      "metadata": {
        "id": "705fc936"
      },
      "source": [
        "__So the most of the tweets are neutral, which means people are neither strongly supporting nor opposing it__"
      ]
    },
    {
      "cell_type": "code",
      "execution_count": null,
      "id": "f1f95d35",
      "metadata": {
        "id": "f1f95d35",
        "outputId": "04ffc424-031c-45f4-ae06-c6c9674d1112"
      },
      "outputs": [
        {
          "name": "stdout",
          "output_type": "stream",
          "text": [
            "Positive:  1960.8209999999574\n",
            "Negative:  583.1870000000109\n",
            "Neutral:  15696.084000000383\n"
          ]
        }
      ],
      "source": [
        "print(\"Positive: \", x)\n",
        "print(\"Negative: \", y)\n",
        "print(\"Neutral: \", z)"
      ]
    },
    {
      "cell_type": "markdown",
      "id": "6fc47b7a",
      "metadata": {
        "id": "6fc47b7a"
      },
      "source": [
        "__The total of neutral is way higher than negative and positive, but out of all the tweets, the positive tweets are more than the negative tweets, so we can say that most of the opinions are positive.__"
      ]
    },
    {
      "cell_type": "code",
      "execution_count": null,
      "id": "dcd2895e",
      "metadata": {
        "id": "dcd2895e"
      },
      "outputs": [],
      "source": [
        ""
      ]
    }
  ],
  "metadata": {
    "colab": {
      "collapsed_sections": [
        "60681a20",
        "be40468b",
        "b07b01cf",
        "8aaa678d",
        "ec462411",
        "4fff78e9",
        "de040a0a",
        "d46d2fa1",
        "a0df0252",
        "c63eba2e",
        "56151dea",
        "e3bae637",
        "d31fcc0d",
        "835f3972",
        "56c426b7",
        "6a1b027d"
      ],
      "name": "3_ML_Project_EDA(final).ipynb",
      "provenance": []
    },
    "kernelspec": {
      "display_name": "Python 3 (ipykernel)",
      "language": "python",
      "name": "python3"
    },
    "language_info": {
      "codemirror_mode": {
        "name": "ipython",
        "version": 3
      },
      "file_extension": ".py",
      "mimetype": "text/x-python",
      "name": "python",
      "nbconvert_exporter": "python",
      "pygments_lexer": "ipython3",
      "version": "3.8.5"
    }
  },
  "nbformat": 4,
  "nbformat_minor": 5
}