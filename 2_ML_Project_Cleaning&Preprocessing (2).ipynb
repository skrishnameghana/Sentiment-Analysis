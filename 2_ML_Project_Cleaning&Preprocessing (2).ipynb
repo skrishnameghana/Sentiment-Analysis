{
  "cells": [
    {
      "cell_type": "markdown",
      "id": "278cf1e7",
      "metadata": {
        "id": "278cf1e7"
      },
      "source": [
        "# Data cleaning "
      ]
    },
    {
      "cell_type": "code",
      "execution_count": null,
      "id": "5622db60",
      "metadata": {
        "id": "5622db60"
      },
      "outputs": [],
      "source": [
        "import pandas as pd\n",
        "import numpy as np\n",
        "\n",
        "#ignore warning messages \n",
        "import warnings\n",
        "warnings.filterwarnings('ignore')"
      ]
    },
    {
      "cell_type": "code",
      "execution_count": null,
      "id": "c1444712",
      "metadata": {
        "id": "c1444712"
      },
      "outputs": [],
      "source": [
        "#importing the training dataset\n",
        "data = pd.read_csv('NEP_2020_english_tweet.csv')"
      ]
    },
    {
      "cell_type": "code",
      "execution_count": null,
      "id": "0db93175",
      "metadata": {
        "colab": {
          "base_uri": "https://localhost:8080/",
          "height": 513
        },
        "id": "0db93175",
        "outputId": "cd0435d4-1f9e-4c29-c0d6-73cf17969a9f"
      },
      "outputs": [
        {
          "output_type": "execute_result",
          "data": {
            "text/plain": [
              "   Unnamed: 0            Author_ID              Date_of_tweet  \\\n",
              "0           0             60483175  2020-08-04 23:31:59+00:00   \n",
              "1           1  1178900491595636736  2020-08-04 23:31:56+00:00   \n",
              "2           2  1072481505090318341  2020-08-04 22:22:30+00:00   \n",
              "3           3            583518901  2020-08-04 22:20:56+00:00   \n",
              "4           4             36339871  2020-08-04 21:01:14+00:00   \n",
              "\n",
              "                                               Tweet  Likes_on_tweet  \\\n",
              "0  Historically #TamilNadu has been a state with ...               1   \n",
              "1  #HelloStrangerEP6 #HarrisonFord #GeorgeFloyd #...               0   \n",
              "2  @cbseindia29 @PMOIndia @narendramodi @DrRPNish...               1   \n",
              "3  @PMOIndia’s anti-democratic #NEP2020 was 400+ ...               1   \n",
              "4  The latest The Nursing Education Daily! http:/...               0   \n",
              "\n",
              "     User_handle                                         Tweet_link  \n",
              "0      venkattcv  https://twitter.com/venkattcv/status/129079263...  \n",
              "1    BethEYoung3  https://twitter.com/BethEYoung3/status/1290792...  \n",
              "2  PatelPrerak18  https://twitter.com/PatelPrerak18/status/12907...  \n",
              "3   kchongpacrim  https://twitter.com/kchongpacrim/status/129077...  \n",
              "4    SkyscapeInc  https://twitter.com/SkyscapeInc/status/1290754...  "
            ],
            "text/html": [
              "\n",
              "  <div id=\"df-27f1aee1-eb7a-4c5f-bf7d-3ad8533eea93\">\n",
              "    <div class=\"colab-df-container\">\n",
              "      <div>\n",
              "<style scoped>\n",
              "    .dataframe tbody tr th:only-of-type {\n",
              "        vertical-align: middle;\n",
              "    }\n",
              "\n",
              "    .dataframe tbody tr th {\n",
              "        vertical-align: top;\n",
              "    }\n",
              "\n",
              "    .dataframe thead th {\n",
              "        text-align: right;\n",
              "    }\n",
              "</style>\n",
              "<table border=\"1\" class=\"dataframe\">\n",
              "  <thead>\n",
              "    <tr style=\"text-align: right;\">\n",
              "      <th></th>\n",
              "      <th>Unnamed: 0</th>\n",
              "      <th>Author_ID</th>\n",
              "      <th>Date_of_tweet</th>\n",
              "      <th>Tweet</th>\n",
              "      <th>Likes_on_tweet</th>\n",
              "      <th>User_handle</th>\n",
              "      <th>Tweet_link</th>\n",
              "    </tr>\n",
              "  </thead>\n",
              "  <tbody>\n",
              "    <tr>\n",
              "      <th>0</th>\n",
              "      <td>0</td>\n",
              "      <td>60483175</td>\n",
              "      <td>2020-08-04 23:31:59+00:00</td>\n",
              "      <td>Historically #TamilNadu has been a state with ...</td>\n",
              "      <td>1</td>\n",
              "      <td>venkattcv</td>\n",
              "      <td>https://twitter.com/venkattcv/status/129079263...</td>\n",
              "    </tr>\n",
              "    <tr>\n",
              "      <th>1</th>\n",
              "      <td>1</td>\n",
              "      <td>1178900491595636736</td>\n",
              "      <td>2020-08-04 23:31:56+00:00</td>\n",
              "      <td>#HelloStrangerEP6 #HarrisonFord #GeorgeFloyd #...</td>\n",
              "      <td>0</td>\n",
              "      <td>BethEYoung3</td>\n",
              "      <td>https://twitter.com/BethEYoung3/status/1290792...</td>\n",
              "    </tr>\n",
              "    <tr>\n",
              "      <th>2</th>\n",
              "      <td>2</td>\n",
              "      <td>1072481505090318341</td>\n",
              "      <td>2020-08-04 22:22:30+00:00</td>\n",
              "      <td>@cbseindia29 @PMOIndia @narendramodi @DrRPNish...</td>\n",
              "      <td>1</td>\n",
              "      <td>PatelPrerak18</td>\n",
              "      <td>https://twitter.com/PatelPrerak18/status/12907...</td>\n",
              "    </tr>\n",
              "    <tr>\n",
              "      <th>3</th>\n",
              "      <td>3</td>\n",
              "      <td>583518901</td>\n",
              "      <td>2020-08-04 22:20:56+00:00</td>\n",
              "      <td>@PMOIndia’s anti-democratic #NEP2020 was 400+ ...</td>\n",
              "      <td>1</td>\n",
              "      <td>kchongpacrim</td>\n",
              "      <td>https://twitter.com/kchongpacrim/status/129077...</td>\n",
              "    </tr>\n",
              "    <tr>\n",
              "      <th>4</th>\n",
              "      <td>4</td>\n",
              "      <td>36339871</td>\n",
              "      <td>2020-08-04 21:01:14+00:00</td>\n",
              "      <td>The latest The Nursing Education Daily! http:/...</td>\n",
              "      <td>0</td>\n",
              "      <td>SkyscapeInc</td>\n",
              "      <td>https://twitter.com/SkyscapeInc/status/1290754...</td>\n",
              "    </tr>\n",
              "  </tbody>\n",
              "</table>\n",
              "</div>\n",
              "      <button class=\"colab-df-convert\" onclick=\"convertToInteractive('df-27f1aee1-eb7a-4c5f-bf7d-3ad8533eea93')\"\n",
              "              title=\"Convert this dataframe to an interactive table.\"\n",
              "              style=\"display:none;\">\n",
              "        \n",
              "  <svg xmlns=\"http://www.w3.org/2000/svg\" height=\"24px\"viewBox=\"0 0 24 24\"\n",
              "       width=\"24px\">\n",
              "    <path d=\"M0 0h24v24H0V0z\" fill=\"none\"/>\n",
              "    <path d=\"M18.56 5.44l.94 2.06.94-2.06 2.06-.94-2.06-.94-.94-2.06-.94 2.06-2.06.94zm-11 1L8.5 8.5l.94-2.06 2.06-.94-2.06-.94L8.5 2.5l-.94 2.06-2.06.94zm10 10l.94 2.06.94-2.06 2.06-.94-2.06-.94-.94-2.06-.94 2.06-2.06.94z\"/><path d=\"M17.41 7.96l-1.37-1.37c-.4-.4-.92-.59-1.43-.59-.52 0-1.04.2-1.43.59L10.3 9.45l-7.72 7.72c-.78.78-.78 2.05 0 2.83L4 21.41c.39.39.9.59 1.41.59.51 0 1.02-.2 1.41-.59l7.78-7.78 2.81-2.81c.8-.78.8-2.07 0-2.86zM5.41 20L4 18.59l7.72-7.72 1.47 1.35L5.41 20z\"/>\n",
              "  </svg>\n",
              "      </button>\n",
              "      \n",
              "  <style>\n",
              "    .colab-df-container {\n",
              "      display:flex;\n",
              "      flex-wrap:wrap;\n",
              "      gap: 12px;\n",
              "    }\n",
              "\n",
              "    .colab-df-convert {\n",
              "      background-color: #E8F0FE;\n",
              "      border: none;\n",
              "      border-radius: 50%;\n",
              "      cursor: pointer;\n",
              "      display: none;\n",
              "      fill: #1967D2;\n",
              "      height: 32px;\n",
              "      padding: 0 0 0 0;\n",
              "      width: 32px;\n",
              "    }\n",
              "\n",
              "    .colab-df-convert:hover {\n",
              "      background-color: #E2EBFA;\n",
              "      box-shadow: 0px 1px 2px rgba(60, 64, 67, 0.3), 0px 1px 3px 1px rgba(60, 64, 67, 0.15);\n",
              "      fill: #174EA6;\n",
              "    }\n",
              "\n",
              "    [theme=dark] .colab-df-convert {\n",
              "      background-color: #3B4455;\n",
              "      fill: #D2E3FC;\n",
              "    }\n",
              "\n",
              "    [theme=dark] .colab-df-convert:hover {\n",
              "      background-color: #434B5C;\n",
              "      box-shadow: 0px 1px 3px 1px rgba(0, 0, 0, 0.15);\n",
              "      filter: drop-shadow(0px 1px 2px rgba(0, 0, 0, 0.3));\n",
              "      fill: #FFFFFF;\n",
              "    }\n",
              "  </style>\n",
              "\n",
              "      <script>\n",
              "        const buttonEl =\n",
              "          document.querySelector('#df-27f1aee1-eb7a-4c5f-bf7d-3ad8533eea93 button.colab-df-convert');\n",
              "        buttonEl.style.display =\n",
              "          google.colab.kernel.accessAllowed ? 'block' : 'none';\n",
              "\n",
              "        async function convertToInteractive(key) {\n",
              "          const element = document.querySelector('#df-27f1aee1-eb7a-4c5f-bf7d-3ad8533eea93');\n",
              "          const dataTable =\n",
              "            await google.colab.kernel.invokeFunction('convertToInteractive',\n",
              "                                                     [key], {});\n",
              "          if (!dataTable) return;\n",
              "\n",
              "          const docLinkHtml = 'Like what you see? Visit the ' +\n",
              "            '<a target=\"_blank\" href=https://colab.research.google.com/notebooks/data_table.ipynb>data table notebook</a>'\n",
              "            + ' to learn more about interactive tables.';\n",
              "          element.innerHTML = '';\n",
              "          dataTable['output_type'] = 'display_data';\n",
              "          await google.colab.output.renderOutput(dataTable, element);\n",
              "          const docLink = document.createElement('div');\n",
              "          docLink.innerHTML = docLinkHtml;\n",
              "          element.appendChild(docLink);\n",
              "        }\n",
              "      </script>\n",
              "    </div>\n",
              "  </div>\n",
              "  "
            ]
          },
          "metadata": {},
          "execution_count": 3
        }
      ],
      "source": [
        "data.head()"
      ]
    },
    {
      "cell_type": "code",
      "source": [
        "data.shape"
      ],
      "metadata": {
        "colab": {
          "base_uri": "https://localhost:8080/"
        },
        "id": "EwpfCd_qf4Rt",
        "outputId": "65a1d95a-3f48-4db5-e908-d38ad2818db7"
      },
      "id": "EwpfCd_qf4Rt",
      "execution_count": null,
      "outputs": [
        {
          "output_type": "execute_result",
          "data": {
            "text/plain": [
              "(18240, 7)"
            ]
          },
          "metadata": {},
          "execution_count": 4
        }
      ]
    },
    {
      "cell_type": "code",
      "execution_count": null,
      "id": "27d3ffd0",
      "metadata": {
        "colab": {
          "base_uri": "https://localhost:8080/"
        },
        "id": "27d3ffd0",
        "outputId": "3ee7cdfe-cb23-42d7-b828-e62b7848563a"
      },
      "outputs": [
        {
          "output_type": "stream",
          "name": "stdout",
          "text": [
            "Total tweets in the data are 18240\n"
          ]
        }
      ],
      "source": [
        "print('Total tweets in the data are', len(data))"
      ]
    },
    {
      "cell_type": "code",
      "execution_count": null,
      "id": "daf1b50a",
      "metadata": {
        "colab": {
          "base_uri": "https://localhost:8080/"
        },
        "id": "daf1b50a",
        "outputId": "94c4ba6c-89ac-4b3f-c2d2-d43db2321662"
      },
      "outputs": [
        {
          "output_type": "stream",
          "name": "stdout",
          "text": [
            "<class 'pandas.core.frame.DataFrame'>\n",
            "RangeIndex: 18240 entries, 0 to 18239\n",
            "Data columns (total 7 columns):\n",
            " #   Column          Non-Null Count  Dtype \n",
            "---  ------          --------------  ----- \n",
            " 0   Unnamed: 0      18240 non-null  int64 \n",
            " 1   Author_ID       18240 non-null  int64 \n",
            " 2   Date_of_tweet   18240 non-null  object\n",
            " 3   Tweet           18240 non-null  object\n",
            " 4   Likes_on_tweet  18240 non-null  int64 \n",
            " 5   User_handle     18240 non-null  object\n",
            " 6   Tweet_link      18240 non-null  object\n",
            "dtypes: int64(3), object(4)\n",
            "memory usage: 997.6+ KB\n"
          ]
        }
      ],
      "source": [
        "data.info()"
      ]
    },
    {
      "cell_type": "markdown",
      "source": [
        "The training dataset consists the data of 18240 tweets related to 7 features.\n",
        "\n",
        "* Unnamed: 0 (a blank column that had no data)\n",
        "* Author_ID (ID of the twitter user)\n",
        "* Date_of_tweet (the data the tweet was done)\n",
        "* Tweet (The text of the tweet)\n",
        "* Likes_on_tweet (Number of likes the tweet received)\n",
        "* User_handle (The username of the twitter account) \n",
        "* Tweet_link (Link of the tweet)"
      ],
      "metadata": {
        "id": "aW3MAx6Zgakn"
      },
      "id": "aW3MAx6Zgakn"
    },
    {
      "cell_type": "markdown",
      "source": [
        "### Dropping the unecessary columns"
      ],
      "metadata": {
        "id": "Cl80KDjwkJ14"
      },
      "id": "Cl80KDjwkJ14"
    },
    {
      "cell_type": "code",
      "source": [
        "# dropping the Unnamed: 0 column\n",
        "\n",
        "del data['Unnamed: 0']"
      ],
      "metadata": {
        "id": "jHRLNTFihFyD"
      },
      "id": "jHRLNTFihFyD",
      "execution_count": null,
      "outputs": []
    },
    {
      "cell_type": "markdown",
      "source": [
        "**Unnamed: 0 column which is an empty useless column has been deleted**"
      ],
      "metadata": {
        "id": "53lGoVkPh5Ws"
      },
      "id": "53lGoVkPh5Ws"
    },
    {
      "cell_type": "code",
      "execution_count": null,
      "id": "bd9a2768",
      "metadata": {
        "id": "bd9a2768"
      },
      "outputs": [],
      "source": [
        "df1=data.copy() # creating a copy of the dataset and storing it as df1"
      ]
    },
    {
      "cell_type": "code",
      "source": [
        "df1.drop(columns=[\"Author_ID\",\"User_handle\",\"Tweet_link\"],inplace=True) "
      ],
      "metadata": {
        "id": "AZUQW5HvjtDv"
      },
      "id": "AZUQW5HvjtDv",
      "execution_count": null,
      "outputs": []
    },
    {
      "cell_type": "markdown",
      "source": [
        "As we wish to maintain anonymity and analyze the aggregate sentiments, the columns **\"Author_ID\", \"User_handle\", \"Tweet_link\" have been removed**. "
      ],
      "metadata": {
        "id": "u5WtchQzj39E"
      },
      "id": "u5WtchQzj39E"
    },
    {
      "cell_type": "markdown",
      "source": [
        "### Checking for duplicate values"
      ],
      "metadata": {
        "id": "kvOB67HwkXsG"
      },
      "id": "kvOB67HwkXsG"
    },
    {
      "cell_type": "code",
      "source": [
        "# Checking for duplicate values and deleting them if any\n",
        "\n",
        "df1.duplicated().sum()"
      ],
      "metadata": {
        "colab": {
          "base_uri": "https://localhost:8080/"
        },
        "id": "Ca-O29pbfi3c",
        "outputId": "5419f08e-b7ec-438f-ed78-5a9eaaee3c6c"
      },
      "id": "Ca-O29pbfi3c",
      "execution_count": null,
      "outputs": [
        {
          "output_type": "execute_result",
          "data": {
            "text/plain": [
              "3606"
            ]
          },
          "metadata": {},
          "execution_count": 10
        }
      ]
    },
    {
      "cell_type": "markdown",
      "source": [
        "**There are 3606 duplicated values in the dataset**"
      ],
      "metadata": {
        "id": "ZDdmaV4Ufp7C"
      },
      "id": "ZDdmaV4Ufp7C"
    },
    {
      "cell_type": "code",
      "source": [
        "# checking for no. of retweets\n",
        "\n",
        "df1['Tweet'].duplicated().sum()"
      ],
      "metadata": {
        "colab": {
          "base_uri": "https://localhost:8080/"
        },
        "id": "eD1swyL5yALK",
        "outputId": "994a9672-6862-4a05-d084-d38531cb8689"
      },
      "id": "eD1swyL5yALK",
      "execution_count": null,
      "outputs": [
        {
          "output_type": "execute_result",
          "data": {
            "text/plain": [
              "11382"
            ]
          },
          "metadata": {},
          "execution_count": 11
        }
      ]
    },
    {
      "cell_type": "markdown",
      "source": [
        "There are 11382 retweeted tweets in the dataset"
      ],
      "metadata": {
        "id": "lSacCuIQyVv6"
      },
      "id": "lSacCuIQyVv6"
    },
    {
      "cell_type": "code",
      "source": [
        "df1.drop_duplicates('Tweet',keep='first',inplace = True) #//deleting all the retweets//\n",
        "df1.duplicated().sum() #//re-checking for duplicated values after dropping them//"
      ],
      "metadata": {
        "colab": {
          "base_uri": "https://localhost:8080/"
        },
        "id": "2qautJhKlTfR",
        "outputId": "e206ecd3-cf45-49c7-fe95-2a0df7673d29"
      },
      "id": "2qautJhKlTfR",
      "execution_count": null,
      "outputs": [
        {
          "output_type": "execute_result",
          "data": {
            "text/plain": [
              "0"
            ]
          },
          "metadata": {},
          "execution_count": 12
        }
      ]
    },
    {
      "cell_type": "markdown",
      "source": [
        "**Only the original tweets have been retained and all the retweets have been dropped**"
      ],
      "metadata": {
        "id": "lrHYgd-BmQnr"
      },
      "id": "lrHYgd-BmQnr"
    },
    {
      "cell_type": "markdown",
      "source": [
        "### Checking for missing values"
      ],
      "metadata": {
        "id": "_1LAvrPwkddJ"
      },
      "id": "_1LAvrPwkddJ"
    },
    {
      "cell_type": "code",
      "execution_count": null,
      "id": "717f316d",
      "metadata": {
        "colab": {
          "base_uri": "https://localhost:8080/"
        },
        "id": "717f316d",
        "outputId": "107adfd3-ba2c-4bec-94b2-b2727a83147b"
      },
      "outputs": [
        {
          "output_type": "execute_result",
          "data": {
            "text/plain": [
              "0"
            ]
          },
          "metadata": {},
          "execution_count": 13
        }
      ],
      "source": [
        "# Checking for missing or null values\n",
        "\n",
        "np.sum(df1.isnull().any(axis=1))"
      ]
    },
    {
      "cell_type": "markdown",
      "id": "54cad116",
      "metadata": {
        "id": "54cad116"
      },
      "source": [
        "**There are no missing values in the dataset**"
      ]
    },
    {
      "cell_type": "code",
      "execution_count": null,
      "id": "4a580e93",
      "metadata": {
        "colab": {
          "base_uri": "https://localhost:8080/"
        },
        "id": "4a580e93",
        "outputId": "ecd219ae-bbe8-421a-ba7a-9af9eea915ac"
      },
      "outputs": [
        {
          "output_type": "execute_result",
          "data": {
            "text/plain": [
              "               Date_of_tweet  \\\n",
              "0  2020-08-04 23:31:59+00:00   \n",
              "1  2020-08-04 23:31:56+00:00   \n",
              "2  2020-08-04 22:22:30+00:00   \n",
              "3  2020-08-04 22:20:56+00:00   \n",
              "4  2020-08-04 21:01:14+00:00   \n",
              "\n",
              "                                               Tweet  Likes_on_tweet  \n",
              "0  Historically #TamilNadu has been a state with ...               1  \n",
              "1  #HelloStrangerEP6 #HarrisonFord #GeorgeFloyd #...               0  \n",
              "2  @cbseindia29 @PMOIndia @narendramodi @DrRPNish...               1  \n",
              "3  @PMOIndia’s anti-democratic #NEP2020 was 400+ ...               1  \n",
              "4  The latest The Nursing Education Daily! http:/...               0  "
            ],
            "text/html": [
              "\n",
              "  <div id=\"df-945b2704-19fa-4638-9d0b-11bde2189028\">\n",
              "    <div class=\"colab-df-container\">\n",
              "      <div>\n",
              "<style scoped>\n",
              "    .dataframe tbody tr th:only-of-type {\n",
              "        vertical-align: middle;\n",
              "    }\n",
              "\n",
              "    .dataframe tbody tr th {\n",
              "        vertical-align: top;\n",
              "    }\n",
              "\n",
              "    .dataframe thead th {\n",
              "        text-align: right;\n",
              "    }\n",
              "</style>\n",
              "<table border=\"1\" class=\"dataframe\">\n",
              "  <thead>\n",
              "    <tr style=\"text-align: right;\">\n",
              "      <th></th>\n",
              "      <th>Date_of_tweet</th>\n",
              "      <th>Tweet</th>\n",
              "      <th>Likes_on_tweet</th>\n",
              "    </tr>\n",
              "  </thead>\n",
              "  <tbody>\n",
              "    <tr>\n",
              "      <th>0</th>\n",
              "      <td>2020-08-04 23:31:59+00:00</td>\n",
              "      <td>Historically #TamilNadu has been a state with ...</td>\n",
              "      <td>1</td>\n",
              "    </tr>\n",
              "    <tr>\n",
              "      <th>1</th>\n",
              "      <td>2020-08-04 23:31:56+00:00</td>\n",
              "      <td>#HelloStrangerEP6 #HarrisonFord #GeorgeFloyd #...</td>\n",
              "      <td>0</td>\n",
              "    </tr>\n",
              "    <tr>\n",
              "      <th>2</th>\n",
              "      <td>2020-08-04 22:22:30+00:00</td>\n",
              "      <td>@cbseindia29 @PMOIndia @narendramodi @DrRPNish...</td>\n",
              "      <td>1</td>\n",
              "    </tr>\n",
              "    <tr>\n",
              "      <th>3</th>\n",
              "      <td>2020-08-04 22:20:56+00:00</td>\n",
              "      <td>@PMOIndia’s anti-democratic #NEP2020 was 400+ ...</td>\n",
              "      <td>1</td>\n",
              "    </tr>\n",
              "    <tr>\n",
              "      <th>4</th>\n",
              "      <td>2020-08-04 21:01:14+00:00</td>\n",
              "      <td>The latest The Nursing Education Daily! http:/...</td>\n",
              "      <td>0</td>\n",
              "    </tr>\n",
              "  </tbody>\n",
              "</table>\n",
              "</div>\n",
              "      <button class=\"colab-df-convert\" onclick=\"convertToInteractive('df-945b2704-19fa-4638-9d0b-11bde2189028')\"\n",
              "              title=\"Convert this dataframe to an interactive table.\"\n",
              "              style=\"display:none;\">\n",
              "        \n",
              "  <svg xmlns=\"http://www.w3.org/2000/svg\" height=\"24px\"viewBox=\"0 0 24 24\"\n",
              "       width=\"24px\">\n",
              "    <path d=\"M0 0h24v24H0V0z\" fill=\"none\"/>\n",
              "    <path d=\"M18.56 5.44l.94 2.06.94-2.06 2.06-.94-2.06-.94-.94-2.06-.94 2.06-2.06.94zm-11 1L8.5 8.5l.94-2.06 2.06-.94-2.06-.94L8.5 2.5l-.94 2.06-2.06.94zm10 10l.94 2.06.94-2.06 2.06-.94-2.06-.94-.94-2.06-.94 2.06-2.06.94z\"/><path d=\"M17.41 7.96l-1.37-1.37c-.4-.4-.92-.59-1.43-.59-.52 0-1.04.2-1.43.59L10.3 9.45l-7.72 7.72c-.78.78-.78 2.05 0 2.83L4 21.41c.39.39.9.59 1.41.59.51 0 1.02-.2 1.41-.59l7.78-7.78 2.81-2.81c.8-.78.8-2.07 0-2.86zM5.41 20L4 18.59l7.72-7.72 1.47 1.35L5.41 20z\"/>\n",
              "  </svg>\n",
              "      </button>\n",
              "      \n",
              "  <style>\n",
              "    .colab-df-container {\n",
              "      display:flex;\n",
              "      flex-wrap:wrap;\n",
              "      gap: 12px;\n",
              "    }\n",
              "\n",
              "    .colab-df-convert {\n",
              "      background-color: #E8F0FE;\n",
              "      border: none;\n",
              "      border-radius: 50%;\n",
              "      cursor: pointer;\n",
              "      display: none;\n",
              "      fill: #1967D2;\n",
              "      height: 32px;\n",
              "      padding: 0 0 0 0;\n",
              "      width: 32px;\n",
              "    }\n",
              "\n",
              "    .colab-df-convert:hover {\n",
              "      background-color: #E2EBFA;\n",
              "      box-shadow: 0px 1px 2px rgba(60, 64, 67, 0.3), 0px 1px 3px 1px rgba(60, 64, 67, 0.15);\n",
              "      fill: #174EA6;\n",
              "    }\n",
              "\n",
              "    [theme=dark] .colab-df-convert {\n",
              "      background-color: #3B4455;\n",
              "      fill: #D2E3FC;\n",
              "    }\n",
              "\n",
              "    [theme=dark] .colab-df-convert:hover {\n",
              "      background-color: #434B5C;\n",
              "      box-shadow: 0px 1px 3px 1px rgba(0, 0, 0, 0.15);\n",
              "      filter: drop-shadow(0px 1px 2px rgba(0, 0, 0, 0.3));\n",
              "      fill: #FFFFFF;\n",
              "    }\n",
              "  </style>\n",
              "\n",
              "      <script>\n",
              "        const buttonEl =\n",
              "          document.querySelector('#df-945b2704-19fa-4638-9d0b-11bde2189028 button.colab-df-convert');\n",
              "        buttonEl.style.display =\n",
              "          google.colab.kernel.accessAllowed ? 'block' : 'none';\n",
              "\n",
              "        async function convertToInteractive(key) {\n",
              "          const element = document.querySelector('#df-945b2704-19fa-4638-9d0b-11bde2189028');\n",
              "          const dataTable =\n",
              "            await google.colab.kernel.invokeFunction('convertToInteractive',\n",
              "                                                     [key], {});\n",
              "          if (!dataTable) return;\n",
              "\n",
              "          const docLinkHtml = 'Like what you see? Visit the ' +\n",
              "            '<a target=\"_blank\" href=https://colab.research.google.com/notebooks/data_table.ipynb>data table notebook</a>'\n",
              "            + ' to learn more about interactive tables.';\n",
              "          element.innerHTML = '';\n",
              "          dataTable['output_type'] = 'display_data';\n",
              "          await google.colab.output.renderOutput(dataTable, element);\n",
              "          const docLink = document.createElement('div');\n",
              "          docLink.innerHTML = docLinkHtml;\n",
              "          element.appendChild(docLink);\n",
              "        }\n",
              "      </script>\n",
              "    </div>\n",
              "  </div>\n",
              "  "
            ]
          },
          "metadata": {},
          "execution_count": 14
        }
      ],
      "source": [
        "df1.head()"
      ]
    },
    {
      "cell_type": "code",
      "source": [
        "df1.shape"
      ],
      "metadata": {
        "colab": {
          "base_uri": "https://localhost:8080/"
        },
        "id": "RSQn8inGma-f",
        "outputId": "108f2050-9aa8-4f9a-cda5-c1d2610660b5"
      },
      "id": "RSQn8inGma-f",
      "execution_count": null,
      "outputs": [
        {
          "output_type": "execute_result",
          "data": {
            "text/plain": [
              "(6858, 3)"
            ]
          },
          "metadata": {},
          "execution_count": 15
        }
      ]
    },
    {
      "cell_type": "code",
      "source": [
        "df1.info()"
      ],
      "metadata": {
        "colab": {
          "base_uri": "https://localhost:8080/"
        },
        "id": "qC-trOEUobsU",
        "outputId": "c5e45e03-4c72-4795-ba6b-6538af7e154d"
      },
      "id": "qC-trOEUobsU",
      "execution_count": null,
      "outputs": [
        {
          "output_type": "stream",
          "name": "stdout",
          "text": [
            "<class 'pandas.core.frame.DataFrame'>\n",
            "Int64Index: 6858 entries, 0 to 18239\n",
            "Data columns (total 3 columns):\n",
            " #   Column          Non-Null Count  Dtype \n",
            "---  ------          --------------  ----- \n",
            " 0   Date_of_tweet   6858 non-null   object\n",
            " 1   Tweet           6858 non-null   object\n",
            " 2   Likes_on_tweet  6858 non-null   int64 \n",
            "dtypes: int64(1), object(2)\n",
            "memory usage: 214.3+ KB\n"
          ]
        }
      ]
    },
    {
      "cell_type": "markdown",
      "source": [
        "The cleaned dataset consists of 6858 tweets related to 3 features (Date_of_tweet, Tweet and Likes_on_tweet)"
      ],
      "metadata": {
        "id": "Nm1-2DPOm-cg"
      },
      "id": "Nm1-2DPOm-cg"
    },
    {
      "cell_type": "markdown",
      "source": [
        "# Data Pre-processing"
      ],
      "metadata": {
        "id": "qKeuaeRUjVYV"
      },
      "id": "qKeuaeRUjVYV"
    },
    {
      "cell_type": "markdown",
      "source": [
        "### Converting Date_of_tweet dtype to datetime"
      ],
      "metadata": {
        "id": "CI2aFoq6oPdI"
      },
      "id": "CI2aFoq6oPdI"
    },
    {
      "cell_type": "code",
      "source": [
        "df1['Date_of_tweet'] = pd.to_datetime(df1['Date_of_tweet'])"
      ],
      "metadata": {
        "id": "xXWZqpSpoOzW"
      },
      "id": "xXWZqpSpoOzW",
      "execution_count": null,
      "outputs": []
    },
    {
      "cell_type": "markdown",
      "source": [
        "The Date feature has been converted to datetime data type for further analysis"
      ],
      "metadata": {
        "id": "TBq-_TQPpRYX"
      },
      "id": "TBq-_TQPpRYX"
    },
    {
      "cell_type": "code",
      "execution_count": null,
      "id": "515a07fe",
      "metadata": {
        "id": "515a07fe"
      },
      "outputs": [],
      "source": [
        "#!pip install nltk     #//installing the nltk library//"
      ]
    },
    {
      "cell_type": "code",
      "execution_count": null,
      "id": "91ede060",
      "metadata": {
        "id": "91ede060"
      },
      "outputs": [],
      "source": [
        "import nltk\n",
        "import re"
      ]
    },
    {
      "cell_type": "code",
      "execution_count": null,
      "id": "f93ea93b",
      "metadata": {
        "colab": {
          "base_uri": "https://localhost:8080/"
        },
        "id": "f93ea93b",
        "outputId": "d6414e21-5b3e-41af-c145-025148ff3058"
      },
      "outputs": [
        {
          "output_type": "stream",
          "name": "stdout",
          "text": [
            "[nltk_data] Downloading package omw-1.4 to /root/nltk_data...\n",
            "[nltk_data]   Unzipping corpora/omw-1.4.zip.\n",
            "[nltk_data] Downloading package punkt to /root/nltk_data...\n",
            "[nltk_data]   Unzipping tokenizers/punkt.zip.\n",
            "[nltk_data] Downloading package stopwords to /root/nltk_data...\n",
            "[nltk_data]   Unzipping corpora/stopwords.zip.\n",
            "[nltk_data] Downloading package wordnet to /root/nltk_data...\n",
            "[nltk_data]   Unzipping corpora/wordnet.zip.\n"
          ]
        },
        {
          "output_type": "execute_result",
          "data": {
            "text/plain": [
              "True"
            ]
          },
          "metadata": {},
          "execution_count": 20
        }
      ],
      "source": [
        "nltk.download('omw-1.4')\n",
        "nltk.download('punkt')\n",
        "nltk.download('stopwords')\n",
        "nltk.download('wordnet')"
      ]
    },
    {
      "cell_type": "code",
      "execution_count": null,
      "id": "1acfbf16",
      "metadata": {
        "id": "1acfbf16"
      },
      "outputs": [],
      "source": [
        "from nltk.corpus import stopwords\n",
        "from nltk.tokenize import word_tokenize\n",
        "from nltk.stem import WordNetLemmatizer\n",
        "import string"
      ]
    },
    {
      "cell_type": "markdown",
      "source": [
        "### Removing blank spaces before and after the tweet text"
      ],
      "metadata": {
        "id": "bxCvwM4aqCCJ"
      },
      "id": "bxCvwM4aqCCJ"
    },
    {
      "cell_type": "code",
      "source": [
        "df1['Tweet'] = df1['Tweet'].map(str.strip)"
      ],
      "metadata": {
        "id": "n4dlAGtHqJKj"
      },
      "id": "n4dlAGtHqJKj",
      "execution_count": null,
      "outputs": []
    },
    {
      "cell_type": "markdown",
      "id": "93a8b647",
      "metadata": {
        "id": "93a8b647"
      },
      "source": [
        "### Removing punctuations"
      ]
    },
    {
      "cell_type": "code",
      "execution_count": null,
      "id": "caa8e8a7",
      "metadata": {
        "colab": {
          "base_uri": "https://localhost:8080/"
        },
        "id": "caa8e8a7",
        "outputId": "4c6ee349-44f3-4f42-f76c-ddcb6d18fc73"
      },
      "outputs": [
        {
          "output_type": "execute_result",
          "data": {
            "text/plain": [
              "              Date_of_tweet  \\\n",
              "0 2020-08-04 23:31:59+00:00   \n",
              "1 2020-08-04 23:31:56+00:00   \n",
              "2 2020-08-04 22:22:30+00:00   \n",
              "\n",
              "                                               Tweet  Likes_on_tweet  \\\n",
              "0  Historically #TamilNadu has been a state with ...               1   \n",
              "1  #HelloStrangerEP6 #HarrisonFord #GeorgeFloyd #...               0   \n",
              "2  @cbseindia29 @PMOIndia @narendramodi @DrRPNish...               1   \n",
              "\n",
              "                                         Tweet_punct  \n",
              "0  Historically TamilNadu has been a state with p...  \n",
              "1  HelloStrangerEP HarrisonFord GeorgeFloyd JiCha...  \n",
              "2  cbseindia PMOIndia narendramodi DrRPNishank AB...  "
            ],
            "text/html": [
              "\n",
              "  <div id=\"df-2e15a4d5-19c9-45e4-89d8-621d05842c41\">\n",
              "    <div class=\"colab-df-container\">\n",
              "      <div>\n",
              "<style scoped>\n",
              "    .dataframe tbody tr th:only-of-type {\n",
              "        vertical-align: middle;\n",
              "    }\n",
              "\n",
              "    .dataframe tbody tr th {\n",
              "        vertical-align: top;\n",
              "    }\n",
              "\n",
              "    .dataframe thead th {\n",
              "        text-align: right;\n",
              "    }\n",
              "</style>\n",
              "<table border=\"1\" class=\"dataframe\">\n",
              "  <thead>\n",
              "    <tr style=\"text-align: right;\">\n",
              "      <th></th>\n",
              "      <th>Date_of_tweet</th>\n",
              "      <th>Tweet</th>\n",
              "      <th>Likes_on_tweet</th>\n",
              "      <th>Tweet_punct</th>\n",
              "    </tr>\n",
              "  </thead>\n",
              "  <tbody>\n",
              "    <tr>\n",
              "      <th>0</th>\n",
              "      <td>2020-08-04 23:31:59+00:00</td>\n",
              "      <td>Historically #TamilNadu has been a state with ...</td>\n",
              "      <td>1</td>\n",
              "      <td>Historically TamilNadu has been a state with p...</td>\n",
              "    </tr>\n",
              "    <tr>\n",
              "      <th>1</th>\n",
              "      <td>2020-08-04 23:31:56+00:00</td>\n",
              "      <td>#HelloStrangerEP6 #HarrisonFord #GeorgeFloyd #...</td>\n",
              "      <td>0</td>\n",
              "      <td>HelloStrangerEP HarrisonFord GeorgeFloyd JiCha...</td>\n",
              "    </tr>\n",
              "    <tr>\n",
              "      <th>2</th>\n",
              "      <td>2020-08-04 22:22:30+00:00</td>\n",
              "      <td>@cbseindia29 @PMOIndia @narendramodi @DrRPNish...</td>\n",
              "      <td>1</td>\n",
              "      <td>cbseindia PMOIndia narendramodi DrRPNishank AB...</td>\n",
              "    </tr>\n",
              "  </tbody>\n",
              "</table>\n",
              "</div>\n",
              "      <button class=\"colab-df-convert\" onclick=\"convertToInteractive('df-2e15a4d5-19c9-45e4-89d8-621d05842c41')\"\n",
              "              title=\"Convert this dataframe to an interactive table.\"\n",
              "              style=\"display:none;\">\n",
              "        \n",
              "  <svg xmlns=\"http://www.w3.org/2000/svg\" height=\"24px\"viewBox=\"0 0 24 24\"\n",
              "       width=\"24px\">\n",
              "    <path d=\"M0 0h24v24H0V0z\" fill=\"none\"/>\n",
              "    <path d=\"M18.56 5.44l.94 2.06.94-2.06 2.06-.94-2.06-.94-.94-2.06-.94 2.06-2.06.94zm-11 1L8.5 8.5l.94-2.06 2.06-.94-2.06-.94L8.5 2.5l-.94 2.06-2.06.94zm10 10l.94 2.06.94-2.06 2.06-.94-2.06-.94-.94-2.06-.94 2.06-2.06.94z\"/><path d=\"M17.41 7.96l-1.37-1.37c-.4-.4-.92-.59-1.43-.59-.52 0-1.04.2-1.43.59L10.3 9.45l-7.72 7.72c-.78.78-.78 2.05 0 2.83L4 21.41c.39.39.9.59 1.41.59.51 0 1.02-.2 1.41-.59l7.78-7.78 2.81-2.81c.8-.78.8-2.07 0-2.86zM5.41 20L4 18.59l7.72-7.72 1.47 1.35L5.41 20z\"/>\n",
              "  </svg>\n",
              "      </button>\n",
              "      \n",
              "  <style>\n",
              "    .colab-df-container {\n",
              "      display:flex;\n",
              "      flex-wrap:wrap;\n",
              "      gap: 12px;\n",
              "    }\n",
              "\n",
              "    .colab-df-convert {\n",
              "      background-color: #E8F0FE;\n",
              "      border: none;\n",
              "      border-radius: 50%;\n",
              "      cursor: pointer;\n",
              "      display: none;\n",
              "      fill: #1967D2;\n",
              "      height: 32px;\n",
              "      padding: 0 0 0 0;\n",
              "      width: 32px;\n",
              "    }\n",
              "\n",
              "    .colab-df-convert:hover {\n",
              "      background-color: #E2EBFA;\n",
              "      box-shadow: 0px 1px 2px rgba(60, 64, 67, 0.3), 0px 1px 3px 1px rgba(60, 64, 67, 0.15);\n",
              "      fill: #174EA6;\n",
              "    }\n",
              "\n",
              "    [theme=dark] .colab-df-convert {\n",
              "      background-color: #3B4455;\n",
              "      fill: #D2E3FC;\n",
              "    }\n",
              "\n",
              "    [theme=dark] .colab-df-convert:hover {\n",
              "      background-color: #434B5C;\n",
              "      box-shadow: 0px 1px 3px 1px rgba(0, 0, 0, 0.15);\n",
              "      filter: drop-shadow(0px 1px 2px rgba(0, 0, 0, 0.3));\n",
              "      fill: #FFFFFF;\n",
              "    }\n",
              "  </style>\n",
              "\n",
              "      <script>\n",
              "        const buttonEl =\n",
              "          document.querySelector('#df-2e15a4d5-19c9-45e4-89d8-621d05842c41 button.colab-df-convert');\n",
              "        buttonEl.style.display =\n",
              "          google.colab.kernel.accessAllowed ? 'block' : 'none';\n",
              "\n",
              "        async function convertToInteractive(key) {\n",
              "          const element = document.querySelector('#df-2e15a4d5-19c9-45e4-89d8-621d05842c41');\n",
              "          const dataTable =\n",
              "            await google.colab.kernel.invokeFunction('convertToInteractive',\n",
              "                                                     [key], {});\n",
              "          if (!dataTable) return;\n",
              "\n",
              "          const docLinkHtml = 'Like what you see? Visit the ' +\n",
              "            '<a target=\"_blank\" href=https://colab.research.google.com/notebooks/data_table.ipynb>data table notebook</a>'\n",
              "            + ' to learn more about interactive tables.';\n",
              "          element.innerHTML = '';\n",
              "          dataTable['output_type'] = 'display_data';\n",
              "          await google.colab.output.renderOutput(dataTable, element);\n",
              "          const docLink = document.createElement('div');\n",
              "          docLink.innerHTML = docLinkHtml;\n",
              "          element.appendChild(docLink);\n",
              "        }\n",
              "      </script>\n",
              "    </div>\n",
              "  </div>\n",
              "  "
            ]
          },
          "metadata": {},
          "execution_count": 23
        }
      ],
      "source": [
        "def remove_punct(text):\n",
        "    text  = \"\".join([char for char in text if char not in string.punctuation])\n",
        "    text = re.sub('[0-9]+', '', text)\n",
        "    return text\n",
        "\n",
        "df1['Tweet_punct'] = df1['Tweet'].apply(lambda x: remove_punct(x))\n",
        "df1.head(3)"
      ]
    },
    {
      "cell_type": "code",
      "source": [
        "# Example of the processed tweet\n",
        "\n",
        "print(\"Before removing punctuations --> \",df1.iloc[0,1])\n",
        "print(\"After removing punctuations --> \",df1.iloc[0,3])"
      ],
      "metadata": {
        "colab": {
          "base_uri": "https://localhost:8080/"
        },
        "id": "7jyGoK-QndD-",
        "outputId": "e9190edc-1c5a-4c6c-da7d-a2fcd9797ada"
      },
      "id": "7jyGoK-QndD-",
      "execution_count": null,
      "outputs": [
        {
          "output_type": "stream",
          "name": "stdout",
          "text": [
            "Before removing punctuations -->  Historically #TamilNadu has been a state with progressive #socialpolicies &amp; high state/private investments in #education. Not without pitfalls but one of the best in India. If states were not involved in framing #NEP2020 as alleged here,I'm very surprised.\n",
            "After removing punctuations -->  Historically TamilNadu has been a state with progressive socialpolicies amp high stateprivate investments in education Not without pitfalls but one of the best in India If states were not involved in framing NEP as alleged hereIm very surprised\n"
          ]
        }
      ]
    },
    {
      "cell_type": "markdown",
      "id": "ecc90200",
      "metadata": {
        "id": "ecc90200"
      },
      "source": [
        "### Conversion to lower case and Tokenization(Converting a sentence into list of words)"
      ]
    },
    {
      "cell_type": "code",
      "execution_count": null,
      "id": "3f95ac08",
      "metadata": {
        "colab": {
          "base_uri": "https://localhost:8080/",
          "height": 275
        },
        "id": "3f95ac08",
        "outputId": "e9071b63-ffe4-4306-a7e3-a104e5777274"
      },
      "outputs": [
        {
          "output_type": "execute_result",
          "data": {
            "text/plain": [
              "              Date_of_tweet  \\\n",
              "0 2020-08-04 23:31:59+00:00   \n",
              "1 2020-08-04 23:31:56+00:00   \n",
              "2 2020-08-04 22:22:30+00:00   \n",
              "\n",
              "                                               Tweet  Likes_on_tweet  \\\n",
              "0  Historically #TamilNadu has been a state with ...               1   \n",
              "1  #HelloStrangerEP6 #HarrisonFord #GeorgeFloyd #...               0   \n",
              "2  @cbseindia29 @PMOIndia @narendramodi @DrRPNish...               1   \n",
              "\n",
              "                                         Tweet_punct  \\\n",
              "0  Historically TamilNadu has been a state with p...   \n",
              "1  HelloStrangerEP HarrisonFord GeorgeFloyd JiCha...   \n",
              "2  cbseindia PMOIndia narendramodi DrRPNishank AB...   \n",
              "\n",
              "                                     Tweet_tokenized  \n",
              "0  [historically, tamilnadu, has, been, a, state,...  \n",
              "1  [hellostrangerep, harrisonford, georgefloyd, j...  \n",
              "2  [cbseindia, pmoindia, narendramodi, drrpnishan...  "
            ],
            "text/html": [
              "\n",
              "  <div id=\"df-9b4d169b-515c-4f96-9aaf-b2b6172cdae9\">\n",
              "    <div class=\"colab-df-container\">\n",
              "      <div>\n",
              "<style scoped>\n",
              "    .dataframe tbody tr th:only-of-type {\n",
              "        vertical-align: middle;\n",
              "    }\n",
              "\n",
              "    .dataframe tbody tr th {\n",
              "        vertical-align: top;\n",
              "    }\n",
              "\n",
              "    .dataframe thead th {\n",
              "        text-align: right;\n",
              "    }\n",
              "</style>\n",
              "<table border=\"1\" class=\"dataframe\">\n",
              "  <thead>\n",
              "    <tr style=\"text-align: right;\">\n",
              "      <th></th>\n",
              "      <th>Date_of_tweet</th>\n",
              "      <th>Tweet</th>\n",
              "      <th>Likes_on_tweet</th>\n",
              "      <th>Tweet_punct</th>\n",
              "      <th>Tweet_tokenized</th>\n",
              "    </tr>\n",
              "  </thead>\n",
              "  <tbody>\n",
              "    <tr>\n",
              "      <th>0</th>\n",
              "      <td>2020-08-04 23:31:59+00:00</td>\n",
              "      <td>Historically #TamilNadu has been a state with ...</td>\n",
              "      <td>1</td>\n",
              "      <td>Historically TamilNadu has been a state with p...</td>\n",
              "      <td>[historically, tamilnadu, has, been, a, state,...</td>\n",
              "    </tr>\n",
              "    <tr>\n",
              "      <th>1</th>\n",
              "      <td>2020-08-04 23:31:56+00:00</td>\n",
              "      <td>#HelloStrangerEP6 #HarrisonFord #GeorgeFloyd #...</td>\n",
              "      <td>0</td>\n",
              "      <td>HelloStrangerEP HarrisonFord GeorgeFloyd JiCha...</td>\n",
              "      <td>[hellostrangerep, harrisonford, georgefloyd, j...</td>\n",
              "    </tr>\n",
              "    <tr>\n",
              "      <th>2</th>\n",
              "      <td>2020-08-04 22:22:30+00:00</td>\n",
              "      <td>@cbseindia29 @PMOIndia @narendramodi @DrRPNish...</td>\n",
              "      <td>1</td>\n",
              "      <td>cbseindia PMOIndia narendramodi DrRPNishank AB...</td>\n",
              "      <td>[cbseindia, pmoindia, narendramodi, drrpnishan...</td>\n",
              "    </tr>\n",
              "  </tbody>\n",
              "</table>\n",
              "</div>\n",
              "      <button class=\"colab-df-convert\" onclick=\"convertToInteractive('df-9b4d169b-515c-4f96-9aaf-b2b6172cdae9')\"\n",
              "              title=\"Convert this dataframe to an interactive table.\"\n",
              "              style=\"display:none;\">\n",
              "        \n",
              "  <svg xmlns=\"http://www.w3.org/2000/svg\" height=\"24px\"viewBox=\"0 0 24 24\"\n",
              "       width=\"24px\">\n",
              "    <path d=\"M0 0h24v24H0V0z\" fill=\"none\"/>\n",
              "    <path d=\"M18.56 5.44l.94 2.06.94-2.06 2.06-.94-2.06-.94-.94-2.06-.94 2.06-2.06.94zm-11 1L8.5 8.5l.94-2.06 2.06-.94-2.06-.94L8.5 2.5l-.94 2.06-2.06.94zm10 10l.94 2.06.94-2.06 2.06-.94-2.06-.94-.94-2.06-.94 2.06-2.06.94z\"/><path d=\"M17.41 7.96l-1.37-1.37c-.4-.4-.92-.59-1.43-.59-.52 0-1.04.2-1.43.59L10.3 9.45l-7.72 7.72c-.78.78-.78 2.05 0 2.83L4 21.41c.39.39.9.59 1.41.59.51 0 1.02-.2 1.41-.59l7.78-7.78 2.81-2.81c.8-.78.8-2.07 0-2.86zM5.41 20L4 18.59l7.72-7.72 1.47 1.35L5.41 20z\"/>\n",
              "  </svg>\n",
              "      </button>\n",
              "      \n",
              "  <style>\n",
              "    .colab-df-container {\n",
              "      display:flex;\n",
              "      flex-wrap:wrap;\n",
              "      gap: 12px;\n",
              "    }\n",
              "\n",
              "    .colab-df-convert {\n",
              "      background-color: #E8F0FE;\n",
              "      border: none;\n",
              "      border-radius: 50%;\n",
              "      cursor: pointer;\n",
              "      display: none;\n",
              "      fill: #1967D2;\n",
              "      height: 32px;\n",
              "      padding: 0 0 0 0;\n",
              "      width: 32px;\n",
              "    }\n",
              "\n",
              "    .colab-df-convert:hover {\n",
              "      background-color: #E2EBFA;\n",
              "      box-shadow: 0px 1px 2px rgba(60, 64, 67, 0.3), 0px 1px 3px 1px rgba(60, 64, 67, 0.15);\n",
              "      fill: #174EA6;\n",
              "    }\n",
              "\n",
              "    [theme=dark] .colab-df-convert {\n",
              "      background-color: #3B4455;\n",
              "      fill: #D2E3FC;\n",
              "    }\n",
              "\n",
              "    [theme=dark] .colab-df-convert:hover {\n",
              "      background-color: #434B5C;\n",
              "      box-shadow: 0px 1px 3px 1px rgba(0, 0, 0, 0.15);\n",
              "      filter: drop-shadow(0px 1px 2px rgba(0, 0, 0, 0.3));\n",
              "      fill: #FFFFFF;\n",
              "    }\n",
              "  </style>\n",
              "\n",
              "      <script>\n",
              "        const buttonEl =\n",
              "          document.querySelector('#df-9b4d169b-515c-4f96-9aaf-b2b6172cdae9 button.colab-df-convert');\n",
              "        buttonEl.style.display =\n",
              "          google.colab.kernel.accessAllowed ? 'block' : 'none';\n",
              "\n",
              "        async function convertToInteractive(key) {\n",
              "          const element = document.querySelector('#df-9b4d169b-515c-4f96-9aaf-b2b6172cdae9');\n",
              "          const dataTable =\n",
              "            await google.colab.kernel.invokeFunction('convertToInteractive',\n",
              "                                                     [key], {});\n",
              "          if (!dataTable) return;\n",
              "\n",
              "          const docLinkHtml = 'Like what you see? Visit the ' +\n",
              "            '<a target=\"_blank\" href=https://colab.research.google.com/notebooks/data_table.ipynb>data table notebook</a>'\n",
              "            + ' to learn more about interactive tables.';\n",
              "          element.innerHTML = '';\n",
              "          dataTable['output_type'] = 'display_data';\n",
              "          await google.colab.output.renderOutput(dataTable, element);\n",
              "          const docLink = document.createElement('div');\n",
              "          docLink.innerHTML = docLinkHtml;\n",
              "          element.appendChild(docLink);\n",
              "        }\n",
              "      </script>\n",
              "    </div>\n",
              "  </div>\n",
              "  "
            ]
          },
          "metadata": {},
          "execution_count": 25
        }
      ],
      "source": [
        "def tokenization(text):\n",
        "    text = re.split('\\W+', text)\n",
        "    return text\n",
        "\n",
        "df1['Tweet_tokenized'] = df1['Tweet_punct'].apply(lambda x: tokenization(x.lower()))\n",
        "df1.head(3)"
      ]
    },
    {
      "cell_type": "code",
      "source": [
        "# Example of the processed tweet\n",
        "\n",
        "print(\"Before tokenization --> \",df1.iloc[0,3])\n",
        "print(\"After tokenization --> \",df1.iloc[0,4])"
      ],
      "metadata": {
        "colab": {
          "base_uri": "https://localhost:8080/"
        },
        "id": "pRfZQEybptbP",
        "outputId": "86754321-fe95-4619-ff4f-3c7a08ca3dc2"
      },
      "id": "pRfZQEybptbP",
      "execution_count": null,
      "outputs": [
        {
          "output_type": "stream",
          "name": "stdout",
          "text": [
            "Before tokenization -->  Historically TamilNadu has been a state with progressive socialpolicies amp high stateprivate investments in education Not without pitfalls but one of the best in India If states were not involved in framing NEP as alleged hereIm very surprised\n",
            "After tokenization -->  ['historically', 'tamilnadu', 'has', 'been', 'a', 'state', 'with', 'progressive', 'socialpolicies', 'amp', 'high', 'stateprivate', 'investments', 'in', 'education', 'not', 'without', 'pitfalls', 'but', 'one', 'of', 'the', 'best', 'in', 'india', 'if', 'states', 'were', 'not', 'involved', 'in', 'framing', 'nep', 'as', 'alleged', 'hereim', 'very', 'surprised']\n"
          ]
        }
      ]
    },
    {
      "cell_type": "markdown",
      "id": "0263f711",
      "metadata": {
        "id": "0263f711"
      },
      "source": [
        "### Remove stopwords"
      ]
    },
    {
      "cell_type": "code",
      "execution_count": null,
      "id": "ac79ae46",
      "metadata": {
        "id": "ac79ae46"
      },
      "outputs": [],
      "source": [
        "stopword = nltk.corpus.stopwords.words('english')"
      ]
    },
    {
      "cell_type": "code",
      "execution_count": null,
      "id": "f54e0d55",
      "metadata": {
        "colab": {
          "base_uri": "https://localhost:8080/"
        },
        "id": "f54e0d55",
        "outputId": "3ff93a1d-ec01-4d59-eee6-7d8d205f2281"
      },
      "outputs": [
        {
          "output_type": "execute_result",
          "data": {
            "text/plain": [
              "              Date_of_tweet  \\\n",
              "0 2020-08-04 23:31:59+00:00   \n",
              "1 2020-08-04 23:31:56+00:00   \n",
              "2 2020-08-04 22:22:30+00:00   \n",
              "3 2020-08-04 22:20:56+00:00   \n",
              "4 2020-08-04 21:01:14+00:00   \n",
              "\n",
              "                                               Tweet  Likes_on_tweet  \\\n",
              "0  Historically #TamilNadu has been a state with ...               1   \n",
              "1  #HelloStrangerEP6 #HarrisonFord #GeorgeFloyd #...               0   \n",
              "2  @cbseindia29 @PMOIndia @narendramodi @DrRPNish...               1   \n",
              "3  @PMOIndia’s anti-democratic #NEP2020 was 400+ ...               1   \n",
              "4  The latest The Nursing Education Daily! http:/...               0   \n",
              "\n",
              "                                         Tweet_punct  \\\n",
              "0  Historically TamilNadu has been a state with p...   \n",
              "1  HelloStrangerEP HarrisonFord GeorgeFloyd JiCha...   \n",
              "2  cbseindia PMOIndia narendramodi DrRPNishank AB...   \n",
              "3  PMOIndia’s antidemocratic NEP was  pgs in  dra...   \n",
              "4  The latest The Nursing Education Daily httpned...   \n",
              "\n",
              "                                     Tweet_tokenized  \\\n",
              "0  [historically, tamilnadu, has, been, a, state,...   \n",
              "1  [hellostrangerep, harrisonford, georgefloyd, j...   \n",
              "2  [cbseindia, pmoindia, narendramodi, drrpnishan...   \n",
              "3  [pmoindia, s, antidemocratic, nep, was, pgs, i...   \n",
              "4  [the, latest, the, nursing, education, daily, ...   \n",
              "\n",
              "                                       Tweet_nonstop  \n",
              "0  [historically, tamilnadu, state, progressive, ...  \n",
              "1  [hellostrangerep, harrisonford, georgefloyd, j...  \n",
              "2  [cbseindia, pmoindia, narendramodi, drrpnishan...  \n",
              "3  [pmoindia, antidemocratic, nep, pgs, draft, so...  \n",
              "4  [latest, nursing, education, daily, httpnedsky...  "
            ],
            "text/html": [
              "\n",
              "  <div id=\"df-0faf0d06-5ba6-4ced-a424-af81842a4838\">\n",
              "    <div class=\"colab-df-container\">\n",
              "      <div>\n",
              "<style scoped>\n",
              "    .dataframe tbody tr th:only-of-type {\n",
              "        vertical-align: middle;\n",
              "    }\n",
              "\n",
              "    .dataframe tbody tr th {\n",
              "        vertical-align: top;\n",
              "    }\n",
              "\n",
              "    .dataframe thead th {\n",
              "        text-align: right;\n",
              "    }\n",
              "</style>\n",
              "<table border=\"1\" class=\"dataframe\">\n",
              "  <thead>\n",
              "    <tr style=\"text-align: right;\">\n",
              "      <th></th>\n",
              "      <th>Date_of_tweet</th>\n",
              "      <th>Tweet</th>\n",
              "      <th>Likes_on_tweet</th>\n",
              "      <th>Tweet_punct</th>\n",
              "      <th>Tweet_tokenized</th>\n",
              "      <th>Tweet_nonstop</th>\n",
              "    </tr>\n",
              "  </thead>\n",
              "  <tbody>\n",
              "    <tr>\n",
              "      <th>0</th>\n",
              "      <td>2020-08-04 23:31:59+00:00</td>\n",
              "      <td>Historically #TamilNadu has been a state with ...</td>\n",
              "      <td>1</td>\n",
              "      <td>Historically TamilNadu has been a state with p...</td>\n",
              "      <td>[historically, tamilnadu, has, been, a, state,...</td>\n",
              "      <td>[historically, tamilnadu, state, progressive, ...</td>\n",
              "    </tr>\n",
              "    <tr>\n",
              "      <th>1</th>\n",
              "      <td>2020-08-04 23:31:56+00:00</td>\n",
              "      <td>#HelloStrangerEP6 #HarrisonFord #GeorgeFloyd #...</td>\n",
              "      <td>0</td>\n",
              "      <td>HelloStrangerEP HarrisonFord GeorgeFloyd JiCha...</td>\n",
              "      <td>[hellostrangerep, harrisonford, georgefloyd, j...</td>\n",
              "      <td>[hellostrangerep, harrisonford, georgefloyd, j...</td>\n",
              "    </tr>\n",
              "    <tr>\n",
              "      <th>2</th>\n",
              "      <td>2020-08-04 22:22:30+00:00</td>\n",
              "      <td>@cbseindia29 @PMOIndia @narendramodi @DrRPNish...</td>\n",
              "      <td>1</td>\n",
              "      <td>cbseindia PMOIndia narendramodi DrRPNishank AB...</td>\n",
              "      <td>[cbseindia, pmoindia, narendramodi, drrpnishan...</td>\n",
              "      <td>[cbseindia, pmoindia, narendramodi, drrpnishan...</td>\n",
              "    </tr>\n",
              "    <tr>\n",
              "      <th>3</th>\n",
              "      <td>2020-08-04 22:20:56+00:00</td>\n",
              "      <td>@PMOIndia’s anti-democratic #NEP2020 was 400+ ...</td>\n",
              "      <td>1</td>\n",
              "      <td>PMOIndia’s antidemocratic NEP was  pgs in  dra...</td>\n",
              "      <td>[pmoindia, s, antidemocratic, nep, was, pgs, i...</td>\n",
              "      <td>[pmoindia, antidemocratic, nep, pgs, draft, so...</td>\n",
              "    </tr>\n",
              "    <tr>\n",
              "      <th>4</th>\n",
              "      <td>2020-08-04 21:01:14+00:00</td>\n",
              "      <td>The latest The Nursing Education Daily! http:/...</td>\n",
              "      <td>0</td>\n",
              "      <td>The latest The Nursing Education Daily httpned...</td>\n",
              "      <td>[the, latest, the, nursing, education, daily, ...</td>\n",
              "      <td>[latest, nursing, education, daily, httpnedsky...</td>\n",
              "    </tr>\n",
              "  </tbody>\n",
              "</table>\n",
              "</div>\n",
              "      <button class=\"colab-df-convert\" onclick=\"convertToInteractive('df-0faf0d06-5ba6-4ced-a424-af81842a4838')\"\n",
              "              title=\"Convert this dataframe to an interactive table.\"\n",
              "              style=\"display:none;\">\n",
              "        \n",
              "  <svg xmlns=\"http://www.w3.org/2000/svg\" height=\"24px\"viewBox=\"0 0 24 24\"\n",
              "       width=\"24px\">\n",
              "    <path d=\"M0 0h24v24H0V0z\" fill=\"none\"/>\n",
              "    <path d=\"M18.56 5.44l.94 2.06.94-2.06 2.06-.94-2.06-.94-.94-2.06-.94 2.06-2.06.94zm-11 1L8.5 8.5l.94-2.06 2.06-.94-2.06-.94L8.5 2.5l-.94 2.06-2.06.94zm10 10l.94 2.06.94-2.06 2.06-.94-2.06-.94-.94-2.06-.94 2.06-2.06.94z\"/><path d=\"M17.41 7.96l-1.37-1.37c-.4-.4-.92-.59-1.43-.59-.52 0-1.04.2-1.43.59L10.3 9.45l-7.72 7.72c-.78.78-.78 2.05 0 2.83L4 21.41c.39.39.9.59 1.41.59.51 0 1.02-.2 1.41-.59l7.78-7.78 2.81-2.81c.8-.78.8-2.07 0-2.86zM5.41 20L4 18.59l7.72-7.72 1.47 1.35L5.41 20z\"/>\n",
              "  </svg>\n",
              "      </button>\n",
              "      \n",
              "  <style>\n",
              "    .colab-df-container {\n",
              "      display:flex;\n",
              "      flex-wrap:wrap;\n",
              "      gap: 12px;\n",
              "    }\n",
              "\n",
              "    .colab-df-convert {\n",
              "      background-color: #E8F0FE;\n",
              "      border: none;\n",
              "      border-radius: 50%;\n",
              "      cursor: pointer;\n",
              "      display: none;\n",
              "      fill: #1967D2;\n",
              "      height: 32px;\n",
              "      padding: 0 0 0 0;\n",
              "      width: 32px;\n",
              "    }\n",
              "\n",
              "    .colab-df-convert:hover {\n",
              "      background-color: #E2EBFA;\n",
              "      box-shadow: 0px 1px 2px rgba(60, 64, 67, 0.3), 0px 1px 3px 1px rgba(60, 64, 67, 0.15);\n",
              "      fill: #174EA6;\n",
              "    }\n",
              "\n",
              "    [theme=dark] .colab-df-convert {\n",
              "      background-color: #3B4455;\n",
              "      fill: #D2E3FC;\n",
              "    }\n",
              "\n",
              "    [theme=dark] .colab-df-convert:hover {\n",
              "      background-color: #434B5C;\n",
              "      box-shadow: 0px 1px 3px 1px rgba(0, 0, 0, 0.15);\n",
              "      filter: drop-shadow(0px 1px 2px rgba(0, 0, 0, 0.3));\n",
              "      fill: #FFFFFF;\n",
              "    }\n",
              "  </style>\n",
              "\n",
              "      <script>\n",
              "        const buttonEl =\n",
              "          document.querySelector('#df-0faf0d06-5ba6-4ced-a424-af81842a4838 button.colab-df-convert');\n",
              "        buttonEl.style.display =\n",
              "          google.colab.kernel.accessAllowed ? 'block' : 'none';\n",
              "\n",
              "        async function convertToInteractive(key) {\n",
              "          const element = document.querySelector('#df-0faf0d06-5ba6-4ced-a424-af81842a4838');\n",
              "          const dataTable =\n",
              "            await google.colab.kernel.invokeFunction('convertToInteractive',\n",
              "                                                     [key], {});\n",
              "          if (!dataTable) return;\n",
              "\n",
              "          const docLinkHtml = 'Like what you see? Visit the ' +\n",
              "            '<a target=\"_blank\" href=https://colab.research.google.com/notebooks/data_table.ipynb>data table notebook</a>'\n",
              "            + ' to learn more about interactive tables.';\n",
              "          element.innerHTML = '';\n",
              "          dataTable['output_type'] = 'display_data';\n",
              "          await google.colab.output.renderOutput(dataTable, element);\n",
              "          const docLink = document.createElement('div');\n",
              "          docLink.innerHTML = docLinkHtml;\n",
              "          element.appendChild(docLink);\n",
              "        }\n",
              "      </script>\n",
              "    </div>\n",
              "  </div>\n",
              "  "
            ]
          },
          "metadata": {},
          "execution_count": 28
        }
      ],
      "source": [
        "def remove_stopwords(text):\n",
        "    text = [word for word in text if word not in stopword]\n",
        "    return text\n",
        "    \n",
        "df1['Tweet_nonstop'] = df1['Tweet_tokenized'].apply(lambda x: remove_stopwords(x))\n",
        "df1.head()"
      ]
    },
    {
      "cell_type": "code",
      "source": [
        "# Example of the processed tweet\n",
        "\n",
        "print(\"Before stopwords removal --> \",df1.iloc[0,4])\n",
        "print(\"After stopwords removal --> \",df1.iloc[0,5])"
      ],
      "metadata": {
        "colab": {
          "base_uri": "https://localhost:8080/"
        },
        "id": "gReV_Q7juORq",
        "outputId": "53b8f0f2-a26e-4e5e-9efa-7406b91af8bb"
      },
      "id": "gReV_Q7juORq",
      "execution_count": null,
      "outputs": [
        {
          "output_type": "stream",
          "name": "stdout",
          "text": [
            "Before stopwords removal -->  ['historically', 'tamilnadu', 'has', 'been', 'a', 'state', 'with', 'progressive', 'socialpolicies', 'amp', 'high', 'stateprivate', 'investments', 'in', 'education', 'not', 'without', 'pitfalls', 'but', 'one', 'of', 'the', 'best', 'in', 'india', 'if', 'states', 'were', 'not', 'involved', 'in', 'framing', 'nep', 'as', 'alleged', 'hereim', 'very', 'surprised']\n",
            "After stopwords removal -->  ['historically', 'tamilnadu', 'state', 'progressive', 'socialpolicies', 'amp', 'high', 'stateprivate', 'investments', 'education', 'without', 'pitfalls', 'one', 'best', 'india', 'states', 'involved', 'framing', 'nep', 'alleged', 'hereim', 'surprised']\n"
          ]
        }
      ]
    },
    {
      "cell_type": "markdown",
      "id": "66563457",
      "metadata": {
        "id": "66563457"
      },
      "source": [
        "\n",
        "### Stemming - Tranforming any form of a word to its root word"
      ]
    },
    {
      "cell_type": "markdown",
      "id": "4aadaf33",
      "metadata": {
        "id": "4aadaf33"
      },
      "source": [
        "Ex - progressive, progress"
      ]
    },
    {
      "cell_type": "code",
      "execution_count": null,
      "id": "b45873da",
      "metadata": {
        "colab": {
          "base_uri": "https://localhost:8080/"
        },
        "id": "b45873da",
        "outputId": "fef5a6fb-d279-4240-88f6-ad213edd1737"
      },
      "outputs": [
        {
          "output_type": "execute_result",
          "data": {
            "text/plain": [
              "              Date_of_tweet  \\\n",
              "0 2020-08-04 23:31:59+00:00   \n",
              "1 2020-08-04 23:31:56+00:00   \n",
              "2 2020-08-04 22:22:30+00:00   \n",
              "3 2020-08-04 22:20:56+00:00   \n",
              "4 2020-08-04 21:01:14+00:00   \n",
              "\n",
              "                                               Tweet  Likes_on_tweet  \\\n",
              "0  Historically #TamilNadu has been a state with ...               1   \n",
              "1  #HelloStrangerEP6 #HarrisonFord #GeorgeFloyd #...               0   \n",
              "2  @cbseindia29 @PMOIndia @narendramodi @DrRPNish...               1   \n",
              "3  @PMOIndia’s anti-democratic #NEP2020 was 400+ ...               1   \n",
              "4  The latest The Nursing Education Daily! http:/...               0   \n",
              "\n",
              "                                         Tweet_punct  \\\n",
              "0  Historically TamilNadu has been a state with p...   \n",
              "1  HelloStrangerEP HarrisonFord GeorgeFloyd JiCha...   \n",
              "2  cbseindia PMOIndia narendramodi DrRPNishank AB...   \n",
              "3  PMOIndia’s antidemocratic NEP was  pgs in  dra...   \n",
              "4  The latest The Nursing Education Daily httpned...   \n",
              "\n",
              "                                     Tweet_tokenized  \\\n",
              "0  [historically, tamilnadu, has, been, a, state,...   \n",
              "1  [hellostrangerep, harrisonford, georgefloyd, j...   \n",
              "2  [cbseindia, pmoindia, narendramodi, drrpnishan...   \n",
              "3  [pmoindia, s, antidemocratic, nep, was, pgs, i...   \n",
              "4  [the, latest, the, nursing, education, daily, ...   \n",
              "\n",
              "                                       Tweet_nonstop  \\\n",
              "0  [historically, tamilnadu, state, progressive, ...   \n",
              "1  [hellostrangerep, harrisonford, georgefloyd, j...   \n",
              "2  [cbseindia, pmoindia, narendramodi, drrpnishan...   \n",
              "3  [pmoindia, antidemocratic, nep, pgs, draft, so...   \n",
              "4  [latest, nursing, education, daily, httpnedsky...   \n",
              "\n",
              "                                       Tweet_stemmed  \n",
              "0  [histor, tamilnadu, state, progress, socialpol...  \n",
              "1  [hellostrangerep, harrisonford, georgefloyd, j...  \n",
              "2  [cbseindia, pmoindia, narendramodi, drrpnishan...  \n",
              "3  [pmoindia, antidemocrat, nep, pg, draft, someh...  \n",
              "4  [latest, nurs, educ, daili, httpnedskyscapecom...  "
            ],
            "text/html": [
              "\n",
              "  <div id=\"df-fd68cace-3ef9-4d52-9a5b-dc541bb8c6ba\">\n",
              "    <div class=\"colab-df-container\">\n",
              "      <div>\n",
              "<style scoped>\n",
              "    .dataframe tbody tr th:only-of-type {\n",
              "        vertical-align: middle;\n",
              "    }\n",
              "\n",
              "    .dataframe tbody tr th {\n",
              "        vertical-align: top;\n",
              "    }\n",
              "\n",
              "    .dataframe thead th {\n",
              "        text-align: right;\n",
              "    }\n",
              "</style>\n",
              "<table border=\"1\" class=\"dataframe\">\n",
              "  <thead>\n",
              "    <tr style=\"text-align: right;\">\n",
              "      <th></th>\n",
              "      <th>Date_of_tweet</th>\n",
              "      <th>Tweet</th>\n",
              "      <th>Likes_on_tweet</th>\n",
              "      <th>Tweet_punct</th>\n",
              "      <th>Tweet_tokenized</th>\n",
              "      <th>Tweet_nonstop</th>\n",
              "      <th>Tweet_stemmed</th>\n",
              "    </tr>\n",
              "  </thead>\n",
              "  <tbody>\n",
              "    <tr>\n",
              "      <th>0</th>\n",
              "      <td>2020-08-04 23:31:59+00:00</td>\n",
              "      <td>Historically #TamilNadu has been a state with ...</td>\n",
              "      <td>1</td>\n",
              "      <td>Historically TamilNadu has been a state with p...</td>\n",
              "      <td>[historically, tamilnadu, has, been, a, state,...</td>\n",
              "      <td>[historically, tamilnadu, state, progressive, ...</td>\n",
              "      <td>[histor, tamilnadu, state, progress, socialpol...</td>\n",
              "    </tr>\n",
              "    <tr>\n",
              "      <th>1</th>\n",
              "      <td>2020-08-04 23:31:56+00:00</td>\n",
              "      <td>#HelloStrangerEP6 #HarrisonFord #GeorgeFloyd #...</td>\n",
              "      <td>0</td>\n",
              "      <td>HelloStrangerEP HarrisonFord GeorgeFloyd JiCha...</td>\n",
              "      <td>[hellostrangerep, harrisonford, georgefloyd, j...</td>\n",
              "      <td>[hellostrangerep, harrisonford, georgefloyd, j...</td>\n",
              "      <td>[hellostrangerep, harrisonford, georgefloyd, j...</td>\n",
              "    </tr>\n",
              "    <tr>\n",
              "      <th>2</th>\n",
              "      <td>2020-08-04 22:22:30+00:00</td>\n",
              "      <td>@cbseindia29 @PMOIndia @narendramodi @DrRPNish...</td>\n",
              "      <td>1</td>\n",
              "      <td>cbseindia PMOIndia narendramodi DrRPNishank AB...</td>\n",
              "      <td>[cbseindia, pmoindia, narendramodi, drrpnishan...</td>\n",
              "      <td>[cbseindia, pmoindia, narendramodi, drrpnishan...</td>\n",
              "      <td>[cbseindia, pmoindia, narendramodi, drrpnishan...</td>\n",
              "    </tr>\n",
              "    <tr>\n",
              "      <th>3</th>\n",
              "      <td>2020-08-04 22:20:56+00:00</td>\n",
              "      <td>@PMOIndia’s anti-democratic #NEP2020 was 400+ ...</td>\n",
              "      <td>1</td>\n",
              "      <td>PMOIndia’s antidemocratic NEP was  pgs in  dra...</td>\n",
              "      <td>[pmoindia, s, antidemocratic, nep, was, pgs, i...</td>\n",
              "      <td>[pmoindia, antidemocratic, nep, pgs, draft, so...</td>\n",
              "      <td>[pmoindia, antidemocrat, nep, pg, draft, someh...</td>\n",
              "    </tr>\n",
              "    <tr>\n",
              "      <th>4</th>\n",
              "      <td>2020-08-04 21:01:14+00:00</td>\n",
              "      <td>The latest The Nursing Education Daily! http:/...</td>\n",
              "      <td>0</td>\n",
              "      <td>The latest The Nursing Education Daily httpned...</td>\n",
              "      <td>[the, latest, the, nursing, education, daily, ...</td>\n",
              "      <td>[latest, nursing, education, daily, httpnedsky...</td>\n",
              "      <td>[latest, nurs, educ, daili, httpnedskyscapecom...</td>\n",
              "    </tr>\n",
              "  </tbody>\n",
              "</table>\n",
              "</div>\n",
              "      <button class=\"colab-df-convert\" onclick=\"convertToInteractive('df-fd68cace-3ef9-4d52-9a5b-dc541bb8c6ba')\"\n",
              "              title=\"Convert this dataframe to an interactive table.\"\n",
              "              style=\"display:none;\">\n",
              "        \n",
              "  <svg xmlns=\"http://www.w3.org/2000/svg\" height=\"24px\"viewBox=\"0 0 24 24\"\n",
              "       width=\"24px\">\n",
              "    <path d=\"M0 0h24v24H0V0z\" fill=\"none\"/>\n",
              "    <path d=\"M18.56 5.44l.94 2.06.94-2.06 2.06-.94-2.06-.94-.94-2.06-.94 2.06-2.06.94zm-11 1L8.5 8.5l.94-2.06 2.06-.94-2.06-.94L8.5 2.5l-.94 2.06-2.06.94zm10 10l.94 2.06.94-2.06 2.06-.94-2.06-.94-.94-2.06-.94 2.06-2.06.94z\"/><path d=\"M17.41 7.96l-1.37-1.37c-.4-.4-.92-.59-1.43-.59-.52 0-1.04.2-1.43.59L10.3 9.45l-7.72 7.72c-.78.78-.78 2.05 0 2.83L4 21.41c.39.39.9.59 1.41.59.51 0 1.02-.2 1.41-.59l7.78-7.78 2.81-2.81c.8-.78.8-2.07 0-2.86zM5.41 20L4 18.59l7.72-7.72 1.47 1.35L5.41 20z\"/>\n",
              "  </svg>\n",
              "      </button>\n",
              "      \n",
              "  <style>\n",
              "    .colab-df-container {\n",
              "      display:flex;\n",
              "      flex-wrap:wrap;\n",
              "      gap: 12px;\n",
              "    }\n",
              "\n",
              "    .colab-df-convert {\n",
              "      background-color: #E8F0FE;\n",
              "      border: none;\n",
              "      border-radius: 50%;\n",
              "      cursor: pointer;\n",
              "      display: none;\n",
              "      fill: #1967D2;\n",
              "      height: 32px;\n",
              "      padding: 0 0 0 0;\n",
              "      width: 32px;\n",
              "    }\n",
              "\n",
              "    .colab-df-convert:hover {\n",
              "      background-color: #E2EBFA;\n",
              "      box-shadow: 0px 1px 2px rgba(60, 64, 67, 0.3), 0px 1px 3px 1px rgba(60, 64, 67, 0.15);\n",
              "      fill: #174EA6;\n",
              "    }\n",
              "\n",
              "    [theme=dark] .colab-df-convert {\n",
              "      background-color: #3B4455;\n",
              "      fill: #D2E3FC;\n",
              "    }\n",
              "\n",
              "    [theme=dark] .colab-df-convert:hover {\n",
              "      background-color: #434B5C;\n",
              "      box-shadow: 0px 1px 3px 1px rgba(0, 0, 0, 0.15);\n",
              "      filter: drop-shadow(0px 1px 2px rgba(0, 0, 0, 0.3));\n",
              "      fill: #FFFFFF;\n",
              "    }\n",
              "  </style>\n",
              "\n",
              "      <script>\n",
              "        const buttonEl =\n",
              "          document.querySelector('#df-fd68cace-3ef9-4d52-9a5b-dc541bb8c6ba button.colab-df-convert');\n",
              "        buttonEl.style.display =\n",
              "          google.colab.kernel.accessAllowed ? 'block' : 'none';\n",
              "\n",
              "        async function convertToInteractive(key) {\n",
              "          const element = document.querySelector('#df-fd68cace-3ef9-4d52-9a5b-dc541bb8c6ba');\n",
              "          const dataTable =\n",
              "            await google.colab.kernel.invokeFunction('convertToInteractive',\n",
              "                                                     [key], {});\n",
              "          if (!dataTable) return;\n",
              "\n",
              "          const docLinkHtml = 'Like what you see? Visit the ' +\n",
              "            '<a target=\"_blank\" href=https://colab.research.google.com/notebooks/data_table.ipynb>data table notebook</a>'\n",
              "            + ' to learn more about interactive tables.';\n",
              "          element.innerHTML = '';\n",
              "          dataTable['output_type'] = 'display_data';\n",
              "          await google.colab.output.renderOutput(dataTable, element);\n",
              "          const docLink = document.createElement('div');\n",
              "          docLink.innerHTML = docLinkHtml;\n",
              "          element.appendChild(docLink);\n",
              "        }\n",
              "      </script>\n",
              "    </div>\n",
              "  </div>\n",
              "  "
            ]
          },
          "metadata": {},
          "execution_count": 30
        }
      ],
      "source": [
        "ps = nltk.PorterStemmer()\n",
        "\n",
        "def stemming(text):\n",
        "    text = [ps.stem(word) for word in text]\n",
        "    return text\n",
        "\n",
        "df1['Tweet_stemmed'] = df1['Tweet_nonstop'].apply(lambda x: stemming(x))\n",
        "df1.head()"
      ]
    },
    {
      "cell_type": "code",
      "source": [
        "# Example of the processed tweet\n",
        "\n",
        "print(\"Before stemming --> \",df1.iloc[0,5])\n",
        "print(\"After stemming --> \",df1.iloc[0,6])"
      ],
      "metadata": {
        "colab": {
          "base_uri": "https://localhost:8080/"
        },
        "id": "JJXAeHRFu6zJ",
        "outputId": "d19986cb-708f-4f93-d370-b73e0d909e10"
      },
      "id": "JJXAeHRFu6zJ",
      "execution_count": null,
      "outputs": [
        {
          "output_type": "stream",
          "name": "stdout",
          "text": [
            "Before stemming -->  ['historically', 'tamilnadu', 'state', 'progressive', 'socialpolicies', 'amp', 'high', 'stateprivate', 'investments', 'education', 'without', 'pitfalls', 'one', 'best', 'india', 'states', 'involved', 'framing', 'nep', 'alleged', 'hereim', 'surprised']\n",
            "After stemming -->  ['histor', 'tamilnadu', 'state', 'progress', 'socialpolici', 'amp', 'high', 'statepriv', 'invest', 'educ', 'without', 'pitfal', 'one', 'best', 'india', 'state', 'involv', 'frame', 'nep', 'alleg', 'hereim', 'surpris']\n"
          ]
        }
      ]
    },
    {
      "cell_type": "markdown",
      "source": [
        "### Lemmatization - converting the words to a meaningful form based on the context"
      ],
      "metadata": {
        "id": "ljnDoBWo0mXG"
      },
      "id": "ljnDoBWo0mXG"
    },
    {
      "cell_type": "code",
      "execution_count": null,
      "id": "79f2a954",
      "metadata": {
        "colab": {
          "base_uri": "https://localhost:8080/"
        },
        "id": "79f2a954",
        "outputId": "56462784-7567-44c4-f218-f12d8ac8df3d"
      },
      "outputs": [
        {
          "output_type": "execute_result",
          "data": {
            "text/plain": [
              "              Date_of_tweet  \\\n",
              "0 2020-08-04 23:31:59+00:00   \n",
              "1 2020-08-04 23:31:56+00:00   \n",
              "2 2020-08-04 22:22:30+00:00   \n",
              "3 2020-08-04 22:20:56+00:00   \n",
              "4 2020-08-04 21:01:14+00:00   \n",
              "\n",
              "                                               Tweet  Likes_on_tweet  \\\n",
              "0  Historically #TamilNadu has been a state with ...               1   \n",
              "1  #HelloStrangerEP6 #HarrisonFord #GeorgeFloyd #...               0   \n",
              "2  @cbseindia29 @PMOIndia @narendramodi @DrRPNish...               1   \n",
              "3  @PMOIndia’s anti-democratic #NEP2020 was 400+ ...               1   \n",
              "4  The latest The Nursing Education Daily! http:/...               0   \n",
              "\n",
              "                                         Tweet_punct  \\\n",
              "0  Historically TamilNadu has been a state with p...   \n",
              "1  HelloStrangerEP HarrisonFord GeorgeFloyd JiCha...   \n",
              "2  cbseindia PMOIndia narendramodi DrRPNishank AB...   \n",
              "3  PMOIndia’s antidemocratic NEP was  pgs in  dra...   \n",
              "4  The latest The Nursing Education Daily httpned...   \n",
              "\n",
              "                                     Tweet_tokenized  \\\n",
              "0  [historically, tamilnadu, has, been, a, state,...   \n",
              "1  [hellostrangerep, harrisonford, georgefloyd, j...   \n",
              "2  [cbseindia, pmoindia, narendramodi, drrpnishan...   \n",
              "3  [pmoindia, s, antidemocratic, nep, was, pgs, i...   \n",
              "4  [the, latest, the, nursing, education, daily, ...   \n",
              "\n",
              "                                       Tweet_nonstop  \\\n",
              "0  [historically, tamilnadu, state, progressive, ...   \n",
              "1  [hellostrangerep, harrisonford, georgefloyd, j...   \n",
              "2  [cbseindia, pmoindia, narendramodi, drrpnishan...   \n",
              "3  [pmoindia, antidemocratic, nep, pgs, draft, so...   \n",
              "4  [latest, nursing, education, daily, httpnedsky...   \n",
              "\n",
              "                                       Tweet_stemmed  \\\n",
              "0  [histor, tamilnadu, state, progress, socialpol...   \n",
              "1  [hellostrangerep, harrisonford, georgefloyd, j...   \n",
              "2  [cbseindia, pmoindia, narendramodi, drrpnishan...   \n",
              "3  [pmoindia, antidemocrat, nep, pg, draft, someh...   \n",
              "4  [latest, nurs, educ, daili, httpnedskyscapecom...   \n",
              "\n",
              "                                    Tweet_lemmatized  \n",
              "0  [historically, tamilnadu, state, progressive, ...  \n",
              "1  [hellostrangerep, harrisonford, georgefloyd, j...  \n",
              "2  [cbseindia, pmoindia, narendramodi, drrpnishan...  \n",
              "3  [pmoindia, antidemocratic, nep, pgs, draft, so...  \n",
              "4  [latest, nursing, education, daily, httpnedsky...  "
            ],
            "text/html": [
              "\n",
              "  <div id=\"df-edc42e1c-001a-4507-8cff-6d4b0fa31ac4\">\n",
              "    <div class=\"colab-df-container\">\n",
              "      <div>\n",
              "<style scoped>\n",
              "    .dataframe tbody tr th:only-of-type {\n",
              "        vertical-align: middle;\n",
              "    }\n",
              "\n",
              "    .dataframe tbody tr th {\n",
              "        vertical-align: top;\n",
              "    }\n",
              "\n",
              "    .dataframe thead th {\n",
              "        text-align: right;\n",
              "    }\n",
              "</style>\n",
              "<table border=\"1\" class=\"dataframe\">\n",
              "  <thead>\n",
              "    <tr style=\"text-align: right;\">\n",
              "      <th></th>\n",
              "      <th>Date_of_tweet</th>\n",
              "      <th>Tweet</th>\n",
              "      <th>Likes_on_tweet</th>\n",
              "      <th>Tweet_punct</th>\n",
              "      <th>Tweet_tokenized</th>\n",
              "      <th>Tweet_nonstop</th>\n",
              "      <th>Tweet_stemmed</th>\n",
              "      <th>Tweet_lemmatized</th>\n",
              "    </tr>\n",
              "  </thead>\n",
              "  <tbody>\n",
              "    <tr>\n",
              "      <th>0</th>\n",
              "      <td>2020-08-04 23:31:59+00:00</td>\n",
              "      <td>Historically #TamilNadu has been a state with ...</td>\n",
              "      <td>1</td>\n",
              "      <td>Historically TamilNadu has been a state with p...</td>\n",
              "      <td>[historically, tamilnadu, has, been, a, state,...</td>\n",
              "      <td>[historically, tamilnadu, state, progressive, ...</td>\n",
              "      <td>[histor, tamilnadu, state, progress, socialpol...</td>\n",
              "      <td>[historically, tamilnadu, state, progressive, ...</td>\n",
              "    </tr>\n",
              "    <tr>\n",
              "      <th>1</th>\n",
              "      <td>2020-08-04 23:31:56+00:00</td>\n",
              "      <td>#HelloStrangerEP6 #HarrisonFord #GeorgeFloyd #...</td>\n",
              "      <td>0</td>\n",
              "      <td>HelloStrangerEP HarrisonFord GeorgeFloyd JiCha...</td>\n",
              "      <td>[hellostrangerep, harrisonford, georgefloyd, j...</td>\n",
              "      <td>[hellostrangerep, harrisonford, georgefloyd, j...</td>\n",
              "      <td>[hellostrangerep, harrisonford, georgefloyd, j...</td>\n",
              "      <td>[hellostrangerep, harrisonford, georgefloyd, j...</td>\n",
              "    </tr>\n",
              "    <tr>\n",
              "      <th>2</th>\n",
              "      <td>2020-08-04 22:22:30+00:00</td>\n",
              "      <td>@cbseindia29 @PMOIndia @narendramodi @DrRPNish...</td>\n",
              "      <td>1</td>\n",
              "      <td>cbseindia PMOIndia narendramodi DrRPNishank AB...</td>\n",
              "      <td>[cbseindia, pmoindia, narendramodi, drrpnishan...</td>\n",
              "      <td>[cbseindia, pmoindia, narendramodi, drrpnishan...</td>\n",
              "      <td>[cbseindia, pmoindia, narendramodi, drrpnishan...</td>\n",
              "      <td>[cbseindia, pmoindia, narendramodi, drrpnishan...</td>\n",
              "    </tr>\n",
              "    <tr>\n",
              "      <th>3</th>\n",
              "      <td>2020-08-04 22:20:56+00:00</td>\n",
              "      <td>@PMOIndia’s anti-democratic #NEP2020 was 400+ ...</td>\n",
              "      <td>1</td>\n",
              "      <td>PMOIndia’s antidemocratic NEP was  pgs in  dra...</td>\n",
              "      <td>[pmoindia, s, antidemocratic, nep, was, pgs, i...</td>\n",
              "      <td>[pmoindia, antidemocratic, nep, pgs, draft, so...</td>\n",
              "      <td>[pmoindia, antidemocrat, nep, pg, draft, someh...</td>\n",
              "      <td>[pmoindia, antidemocratic, nep, pgs, draft, so...</td>\n",
              "    </tr>\n",
              "    <tr>\n",
              "      <th>4</th>\n",
              "      <td>2020-08-04 21:01:14+00:00</td>\n",
              "      <td>The latest The Nursing Education Daily! http:/...</td>\n",
              "      <td>0</td>\n",
              "      <td>The latest The Nursing Education Daily httpned...</td>\n",
              "      <td>[the, latest, the, nursing, education, daily, ...</td>\n",
              "      <td>[latest, nursing, education, daily, httpnedsky...</td>\n",
              "      <td>[latest, nurs, educ, daili, httpnedskyscapecom...</td>\n",
              "      <td>[latest, nursing, education, daily, httpnedsky...</td>\n",
              "    </tr>\n",
              "  </tbody>\n",
              "</table>\n",
              "</div>\n",
              "      <button class=\"colab-df-convert\" onclick=\"convertToInteractive('df-edc42e1c-001a-4507-8cff-6d4b0fa31ac4')\"\n",
              "              title=\"Convert this dataframe to an interactive table.\"\n",
              "              style=\"display:none;\">\n",
              "        \n",
              "  <svg xmlns=\"http://www.w3.org/2000/svg\" height=\"24px\"viewBox=\"0 0 24 24\"\n",
              "       width=\"24px\">\n",
              "    <path d=\"M0 0h24v24H0V0z\" fill=\"none\"/>\n",
              "    <path d=\"M18.56 5.44l.94 2.06.94-2.06 2.06-.94-2.06-.94-.94-2.06-.94 2.06-2.06.94zm-11 1L8.5 8.5l.94-2.06 2.06-.94-2.06-.94L8.5 2.5l-.94 2.06-2.06.94zm10 10l.94 2.06.94-2.06 2.06-.94-2.06-.94-.94-2.06-.94 2.06-2.06.94z\"/><path d=\"M17.41 7.96l-1.37-1.37c-.4-.4-.92-.59-1.43-.59-.52 0-1.04.2-1.43.59L10.3 9.45l-7.72 7.72c-.78.78-.78 2.05 0 2.83L4 21.41c.39.39.9.59 1.41.59.51 0 1.02-.2 1.41-.59l7.78-7.78 2.81-2.81c.8-.78.8-2.07 0-2.86zM5.41 20L4 18.59l7.72-7.72 1.47 1.35L5.41 20z\"/>\n",
              "  </svg>\n",
              "      </button>\n",
              "      \n",
              "  <style>\n",
              "    .colab-df-container {\n",
              "      display:flex;\n",
              "      flex-wrap:wrap;\n",
              "      gap: 12px;\n",
              "    }\n",
              "\n",
              "    .colab-df-convert {\n",
              "      background-color: #E8F0FE;\n",
              "      border: none;\n",
              "      border-radius: 50%;\n",
              "      cursor: pointer;\n",
              "      display: none;\n",
              "      fill: #1967D2;\n",
              "      height: 32px;\n",
              "      padding: 0 0 0 0;\n",
              "      width: 32px;\n",
              "    }\n",
              "\n",
              "    .colab-df-convert:hover {\n",
              "      background-color: #E2EBFA;\n",
              "      box-shadow: 0px 1px 2px rgba(60, 64, 67, 0.3), 0px 1px 3px 1px rgba(60, 64, 67, 0.15);\n",
              "      fill: #174EA6;\n",
              "    }\n",
              "\n",
              "    [theme=dark] .colab-df-convert {\n",
              "      background-color: #3B4455;\n",
              "      fill: #D2E3FC;\n",
              "    }\n",
              "\n",
              "    [theme=dark] .colab-df-convert:hover {\n",
              "      background-color: #434B5C;\n",
              "      box-shadow: 0px 1px 3px 1px rgba(0, 0, 0, 0.15);\n",
              "      filter: drop-shadow(0px 1px 2px rgba(0, 0, 0, 0.3));\n",
              "      fill: #FFFFFF;\n",
              "    }\n",
              "  </style>\n",
              "\n",
              "      <script>\n",
              "        const buttonEl =\n",
              "          document.querySelector('#df-edc42e1c-001a-4507-8cff-6d4b0fa31ac4 button.colab-df-convert');\n",
              "        buttonEl.style.display =\n",
              "          google.colab.kernel.accessAllowed ? 'block' : 'none';\n",
              "\n",
              "        async function convertToInteractive(key) {\n",
              "          const element = document.querySelector('#df-edc42e1c-001a-4507-8cff-6d4b0fa31ac4');\n",
              "          const dataTable =\n",
              "            await google.colab.kernel.invokeFunction('convertToInteractive',\n",
              "                                                     [key], {});\n",
              "          if (!dataTable) return;\n",
              "\n",
              "          const docLinkHtml = 'Like what you see? Visit the ' +\n",
              "            '<a target=\"_blank\" href=https://colab.research.google.com/notebooks/data_table.ipynb>data table notebook</a>'\n",
              "            + ' to learn more about interactive tables.';\n",
              "          element.innerHTML = '';\n",
              "          dataTable['output_type'] = 'display_data';\n",
              "          await google.colab.output.renderOutput(dataTable, element);\n",
              "          const docLink = document.createElement('div');\n",
              "          docLink.innerHTML = docLinkHtml;\n",
              "          element.appendChild(docLink);\n",
              "        }\n",
              "      </script>\n",
              "    </div>\n",
              "  </div>\n",
              "  "
            ]
          },
          "metadata": {},
          "execution_count": 32
        }
      ],
      "source": [
        "wn = nltk.WordNetLemmatizer()\n",
        "\n",
        "def lemmatizer(text):\n",
        "    text = [wn.lemmatize(word) for word in text]\n",
        "    return text\n",
        "\n",
        "df1['Tweet_lemmatized'] = df1['Tweet_nonstop'].apply(lambda x: lemmatizer(x))\n",
        "df1.head()"
      ]
    },
    {
      "cell_type": "code",
      "source": [
        "# Example of the processed tweet\n",
        "\n",
        "print(\"Before lemmatization --> \",df1.iloc[0,6])\n",
        "print(\"After lemmatization --> \",df1.iloc[0,7])"
      ],
      "metadata": {
        "colab": {
          "base_uri": "https://localhost:8080/"
        },
        "id": "W2p6lfpi0_ZE",
        "outputId": "71bbb202-782b-41da-a311-5da3bb6255bc"
      },
      "id": "W2p6lfpi0_ZE",
      "execution_count": null,
      "outputs": [
        {
          "output_type": "stream",
          "name": "stdout",
          "text": [
            "Before lemmatization -->  ['histor', 'tamilnadu', 'state', 'progress', 'socialpolici', 'amp', 'high', 'statepriv', 'invest', 'educ', 'without', 'pitfal', 'one', 'best', 'india', 'state', 'involv', 'frame', 'nep', 'alleg', 'hereim', 'surpris']\n",
            "After lemmatization -->  ['historically', 'tamilnadu', 'state', 'progressive', 'socialpolicies', 'amp', 'high', 'stateprivate', 'investment', 'education', 'without', 'pitfall', 'one', 'best', 'india', 'state', 'involved', 'framing', 'nep', 'alleged', 'hereim', 'surprised']\n"
          ]
        }
      ]
    },
    {
      "cell_type": "markdown",
      "id": "07144d91",
      "metadata": {
        "id": "07144d91"
      },
      "source": [
        "### Vectorisation\n",
        "\n",
        "<br>\n",
        "\n",
        "__Cleaning data in single line through passing clean_text in the CountVectorizer__"
      ]
    },
    {
      "cell_type": "code",
      "execution_count": null,
      "id": "3d693b62",
      "metadata": {
        "id": "3d693b62"
      },
      "outputs": [],
      "source": [
        "def clean_text(text):\n",
        "    text_lc = \"\".join([word.lower() for word in text if word not in string.punctuation]) # puntuation removal and lower case conversion\n",
        "    text_rc = re.sub('[0-9]+', '', text_lc) \n",
        "    tokens = re.split('\\W+', text_rc)    # tokenization\n",
        "    text = [ps.stem(word) for word in tokens if word not in stopword]  # remove stopwords and stemming\n",
        "    return text"
      ]
    },
    {
      "cell_type": "code",
      "execution_count": null,
      "id": "e68050b1",
      "metadata": {
        "id": "e68050b1"
      },
      "outputs": [],
      "source": [
        "from sklearn.feature_extraction.text import CountVectorizer"
      ]
    },
    {
      "cell_type": "code",
      "execution_count": null,
      "id": "133a6338",
      "metadata": {
        "colab": {
          "base_uri": "https://localhost:8080/"
        },
        "id": "133a6338",
        "outputId": "40562a1d-7344-45b4-fdfd-62477c72d199"
      },
      "outputs": [
        {
          "output_type": "stream",
          "name": "stdout",
          "text": [
            "6858 Number of tweets has 13315 words\n"
          ]
        }
      ],
      "source": [
        "countVectorizer = CountVectorizer(analyzer=clean_text) \n",
        "countVector = countVectorizer.fit_transform(df1['Tweet'])\n",
        "print('{} Number of tweets has {} words'.format(countVector.shape[0], countVector.shape[1]))"
      ]
    },
    {
      "cell_type": "markdown",
      "id": "1f84e415",
      "metadata": {
        "id": "1f84e415"
      },
      "source": [
        "__Saving the cleaned data into a csv file__"
      ]
    },
    {
      "cell_type": "code",
      "execution_count": null,
      "id": "f79c5e9f",
      "metadata": {
        "colab": {
          "base_uri": "https://localhost:8080/"
        },
        "id": "f79c5e9f",
        "outputId": "6d6bc367-1967-488d-febd-3d453e1d2e97"
      },
      "outputs": [
        {
          "output_type": "display_data",
          "data": {
            "text/plain": [
              "<IPython.core.display.Javascript object>"
            ],
            "application/javascript": [
              "\n",
              "    async function download(id, filename, size) {\n",
              "      if (!google.colab.kernel.accessAllowed) {\n",
              "        return;\n",
              "      }\n",
              "      const div = document.createElement('div');\n",
              "      const label = document.createElement('label');\n",
              "      label.textContent = `Downloading \"${filename}\": `;\n",
              "      div.appendChild(label);\n",
              "      const progress = document.createElement('progress');\n",
              "      progress.max = size;\n",
              "      div.appendChild(progress);\n",
              "      document.body.appendChild(div);\n",
              "\n",
              "      const buffers = [];\n",
              "      let downloaded = 0;\n",
              "\n",
              "      const channel = await google.colab.kernel.comms.open(id);\n",
              "      // Send a message to notify the kernel that we're ready.\n",
              "      channel.send({})\n",
              "\n",
              "      for await (const message of channel.messages) {\n",
              "        // Send a message to notify the kernel that we're ready.\n",
              "        channel.send({})\n",
              "        if (message.buffers) {\n",
              "          for (const buffer of message.buffers) {\n",
              "            buffers.push(buffer);\n",
              "            downloaded += buffer.byteLength;\n",
              "            progress.value = downloaded;\n",
              "          }\n",
              "        }\n",
              "      }\n",
              "      const blob = new Blob(buffers, {type: 'application/binary'});\n",
              "      const a = document.createElement('a');\n",
              "      a.href = window.URL.createObjectURL(blob);\n",
              "      a.download = filename;\n",
              "      div.appendChild(a);\n",
              "      a.click();\n",
              "      div.remove();\n",
              "    }\n",
              "  "
            ]
          },
          "metadata": {}
        },
        {
          "output_type": "display_data",
          "data": {
            "text/plain": [
              "<IPython.core.display.Javascript object>"
            ],
            "application/javascript": [
              "download(\"download_58763f45-3626-4409-b0f3-3552fce3c1ab\", \"cleaned1.csv\", 8937530)"
            ]
          },
          "metadata": {}
        }
      ],
      "source": [
        "df1.to_csv(\"cleaned1.csv\")\n",
        "from google.colab import files\n",
        "files.download('cleaned1.csv')"
      ]
    },
    {
      "cell_type": "markdown",
      "id": "c4ebba7b",
      "metadata": {
        "id": "c4ebba7b"
      },
      "source": [
        "Importing the cleaned dataset"
      ]
    },
    {
      "cell_type": "code",
      "execution_count": null,
      "id": "90de5741",
      "metadata": {
        "colab": {
          "base_uri": "https://localhost:8080/"
        },
        "id": "90de5741",
        "outputId": "44562db6-7acc-431c-afff-a68be916e6fa"
      },
      "outputs": [
        {
          "output_type": "execute_result",
          "data": {
            "text/plain": [
              "               Date_of_tweet  \\\n",
              "0  2020-08-04 23:31:59+00:00   \n",
              "1  2020-08-04 23:31:56+00:00   \n",
              "2  2020-08-04 22:22:30+00:00   \n",
              "\n",
              "                                               Tweet  Likes_on_tweet  \\\n",
              "0  Historically #TamilNadu has been a state with ...               1   \n",
              "1  #HelloStrangerEP6 #HarrisonFord #GeorgeFloyd #...               0   \n",
              "2  @cbseindia29 @PMOIndia @narendramodi @DrRPNish...               1   \n",
              "\n",
              "                                         Tweet_punct  \\\n",
              "0  Historically TamilNadu has been a state with p...   \n",
              "1  HelloStrangerEP HarrisonFord GeorgeFloyd JiCha...   \n",
              "2  cbseindia PMOIndia narendramodi DrRPNishank AB...   \n",
              "\n",
              "                                     Tweet_tokenized  \\\n",
              "0  ['historically', 'tamilnadu', 'has', 'been', '...   \n",
              "1  ['hellostrangerep', 'harrisonford', 'georgeflo...   \n",
              "2  ['cbseindia', 'pmoindia', 'narendramodi', 'drr...   \n",
              "\n",
              "                                       Tweet_nonstop  \\\n",
              "0  ['historically', 'tamilnadu', 'state', 'progre...   \n",
              "1  ['hellostrangerep', 'harrisonford', 'georgeflo...   \n",
              "2  ['cbseindia', 'pmoindia', 'narendramodi', 'drr...   \n",
              "\n",
              "                                       Tweet_stemmed  \\\n",
              "0  ['histor', 'tamilnadu', 'state', 'progress', '...   \n",
              "1  ['hellostrangerep', 'harrisonford', 'georgeflo...   \n",
              "2  ['cbseindia', 'pmoindia', 'narendramodi', 'drr...   \n",
              "\n",
              "                                    Tweet_lemmatized  \n",
              "0  ['historically', 'tamilnadu', 'state', 'progre...  \n",
              "1  ['hellostrangerep', 'harrisonford', 'georgeflo...  \n",
              "2  ['cbseindia', 'pmoindia', 'narendramodi', 'drr...  "
            ],
            "text/html": [
              "\n",
              "  <div id=\"df-18649c4b-cc77-4dcc-9a03-e754dd3fee53\">\n",
              "    <div class=\"colab-df-container\">\n",
              "      <div>\n",
              "<style scoped>\n",
              "    .dataframe tbody tr th:only-of-type {\n",
              "        vertical-align: middle;\n",
              "    }\n",
              "\n",
              "    .dataframe tbody tr th {\n",
              "        vertical-align: top;\n",
              "    }\n",
              "\n",
              "    .dataframe thead th {\n",
              "        text-align: right;\n",
              "    }\n",
              "</style>\n",
              "<table border=\"1\" class=\"dataframe\">\n",
              "  <thead>\n",
              "    <tr style=\"text-align: right;\">\n",
              "      <th></th>\n",
              "      <th>Date_of_tweet</th>\n",
              "      <th>Tweet</th>\n",
              "      <th>Likes_on_tweet</th>\n",
              "      <th>Tweet_punct</th>\n",
              "      <th>Tweet_tokenized</th>\n",
              "      <th>Tweet_nonstop</th>\n",
              "      <th>Tweet_stemmed</th>\n",
              "      <th>Tweet_lemmatized</th>\n",
              "    </tr>\n",
              "  </thead>\n",
              "  <tbody>\n",
              "    <tr>\n",
              "      <th>0</th>\n",
              "      <td>2020-08-04 23:31:59+00:00</td>\n",
              "      <td>Historically #TamilNadu has been a state with ...</td>\n",
              "      <td>1</td>\n",
              "      <td>Historically TamilNadu has been a state with p...</td>\n",
              "      <td>['historically', 'tamilnadu', 'has', 'been', '...</td>\n",
              "      <td>['historically', 'tamilnadu', 'state', 'progre...</td>\n",
              "      <td>['histor', 'tamilnadu', 'state', 'progress', '...</td>\n",
              "      <td>['historically', 'tamilnadu', 'state', 'progre...</td>\n",
              "    </tr>\n",
              "    <tr>\n",
              "      <th>1</th>\n",
              "      <td>2020-08-04 23:31:56+00:00</td>\n",
              "      <td>#HelloStrangerEP6 #HarrisonFord #GeorgeFloyd #...</td>\n",
              "      <td>0</td>\n",
              "      <td>HelloStrangerEP HarrisonFord GeorgeFloyd JiCha...</td>\n",
              "      <td>['hellostrangerep', 'harrisonford', 'georgeflo...</td>\n",
              "      <td>['hellostrangerep', 'harrisonford', 'georgeflo...</td>\n",
              "      <td>['hellostrangerep', 'harrisonford', 'georgeflo...</td>\n",
              "      <td>['hellostrangerep', 'harrisonford', 'georgeflo...</td>\n",
              "    </tr>\n",
              "    <tr>\n",
              "      <th>2</th>\n",
              "      <td>2020-08-04 22:22:30+00:00</td>\n",
              "      <td>@cbseindia29 @PMOIndia @narendramodi @DrRPNish...</td>\n",
              "      <td>1</td>\n",
              "      <td>cbseindia PMOIndia narendramodi DrRPNishank AB...</td>\n",
              "      <td>['cbseindia', 'pmoindia', 'narendramodi', 'drr...</td>\n",
              "      <td>['cbseindia', 'pmoindia', 'narendramodi', 'drr...</td>\n",
              "      <td>['cbseindia', 'pmoindia', 'narendramodi', 'drr...</td>\n",
              "      <td>['cbseindia', 'pmoindia', 'narendramodi', 'drr...</td>\n",
              "    </tr>\n",
              "  </tbody>\n",
              "</table>\n",
              "</div>\n",
              "      <button class=\"colab-df-convert\" onclick=\"convertToInteractive('df-18649c4b-cc77-4dcc-9a03-e754dd3fee53')\"\n",
              "              title=\"Convert this dataframe to an interactive table.\"\n",
              "              style=\"display:none;\">\n",
              "        \n",
              "  <svg xmlns=\"http://www.w3.org/2000/svg\" height=\"24px\"viewBox=\"0 0 24 24\"\n",
              "       width=\"24px\">\n",
              "    <path d=\"M0 0h24v24H0V0z\" fill=\"none\"/>\n",
              "    <path d=\"M18.56 5.44l.94 2.06.94-2.06 2.06-.94-2.06-.94-.94-2.06-.94 2.06-2.06.94zm-11 1L8.5 8.5l.94-2.06 2.06-.94-2.06-.94L8.5 2.5l-.94 2.06-2.06.94zm10 10l.94 2.06.94-2.06 2.06-.94-2.06-.94-.94-2.06-.94 2.06-2.06.94z\"/><path d=\"M17.41 7.96l-1.37-1.37c-.4-.4-.92-.59-1.43-.59-.52 0-1.04.2-1.43.59L10.3 9.45l-7.72 7.72c-.78.78-.78 2.05 0 2.83L4 21.41c.39.39.9.59 1.41.59.51 0 1.02-.2 1.41-.59l7.78-7.78 2.81-2.81c.8-.78.8-2.07 0-2.86zM5.41 20L4 18.59l7.72-7.72 1.47 1.35L5.41 20z\"/>\n",
              "  </svg>\n",
              "      </button>\n",
              "      \n",
              "  <style>\n",
              "    .colab-df-container {\n",
              "      display:flex;\n",
              "      flex-wrap:wrap;\n",
              "      gap: 12px;\n",
              "    }\n",
              "\n",
              "    .colab-df-convert {\n",
              "      background-color: #E8F0FE;\n",
              "      border: none;\n",
              "      border-radius: 50%;\n",
              "      cursor: pointer;\n",
              "      display: none;\n",
              "      fill: #1967D2;\n",
              "      height: 32px;\n",
              "      padding: 0 0 0 0;\n",
              "      width: 32px;\n",
              "    }\n",
              "\n",
              "    .colab-df-convert:hover {\n",
              "      background-color: #E2EBFA;\n",
              "      box-shadow: 0px 1px 2px rgba(60, 64, 67, 0.3), 0px 1px 3px 1px rgba(60, 64, 67, 0.15);\n",
              "      fill: #174EA6;\n",
              "    }\n",
              "\n",
              "    [theme=dark] .colab-df-convert {\n",
              "      background-color: #3B4455;\n",
              "      fill: #D2E3FC;\n",
              "    }\n",
              "\n",
              "    [theme=dark] .colab-df-convert:hover {\n",
              "      background-color: #434B5C;\n",
              "      box-shadow: 0px 1px 3px 1px rgba(0, 0, 0, 0.15);\n",
              "      filter: drop-shadow(0px 1px 2px rgba(0, 0, 0, 0.3));\n",
              "      fill: #FFFFFF;\n",
              "    }\n",
              "  </style>\n",
              "\n",
              "      <script>\n",
              "        const buttonEl =\n",
              "          document.querySelector('#df-18649c4b-cc77-4dcc-9a03-e754dd3fee53 button.colab-df-convert');\n",
              "        buttonEl.style.display =\n",
              "          google.colab.kernel.accessAllowed ? 'block' : 'none';\n",
              "\n",
              "        async function convertToInteractive(key) {\n",
              "          const element = document.querySelector('#df-18649c4b-cc77-4dcc-9a03-e754dd3fee53');\n",
              "          const dataTable =\n",
              "            await google.colab.kernel.invokeFunction('convertToInteractive',\n",
              "                                                     [key], {});\n",
              "          if (!dataTable) return;\n",
              "\n",
              "          const docLinkHtml = 'Like what you see? Visit the ' +\n",
              "            '<a target=\"_blank\" href=https://colab.research.google.com/notebooks/data_table.ipynb>data table notebook</a>'\n",
              "            + ' to learn more about interactive tables.';\n",
              "          element.innerHTML = '';\n",
              "          dataTable['output_type'] = 'display_data';\n",
              "          await google.colab.output.renderOutput(dataTable, element);\n",
              "          const docLink = document.createElement('div');\n",
              "          docLink.innerHTML = docLinkHtml;\n",
              "          element.appendChild(docLink);\n",
              "        }\n",
              "      </script>\n",
              "    </div>\n",
              "  </div>\n",
              "  "
            ]
          },
          "metadata": {},
          "execution_count": 38
        }
      ],
      "source": [
        "new_data = pd.read_csv(\"cleaned1.csv\",index_col=[0])\n",
        "new_data.head(3)"
      ]
    },
    {
      "cell_type": "markdown",
      "id": "bf8aac5d",
      "metadata": {
        "id": "bf8aac5d"
      },
      "source": [
        "### Calculating the polarity and subjectivity on the cleaned data."
      ]
    },
    {
      "cell_type": "code",
      "execution_count": null,
      "id": "a3490dbb",
      "metadata": {
        "id": "a3490dbb"
      },
      "outputs": [],
      "source": [
        "from textblob import TextBlob\n",
        "# Adds polarity and subjectivity column  \n",
        "new_data[\"Polarity\"] = new_data[\"Tweet_lemmatized\"].apply(lambda word: TextBlob(word).sentiment.polarity)\n",
        "new_data[\"Subjectivity\"] = new_data[\"Tweet_lemmatized\"].apply(lambda word: TextBlob(word).sentiment.subjectivity)"
      ]
    },
    {
      "cell_type": "code",
      "execution_count": null,
      "id": "5349543b",
      "metadata": {
        "id": "5349543b",
        "outputId": "0fd17281-e68a-4d55-ce77-e9a7e300498f",
        "colab": {
          "base_uri": "https://localhost:8080/",
          "height": 547
        }
      },
      "outputs": [
        {
          "output_type": "execute_result",
          "data": {
            "text/plain": [
              "               Date_of_tweet  \\\n",
              "0  2020-08-04 23:31:59+00:00   \n",
              "1  2020-08-04 23:31:56+00:00   \n",
              "2  2020-08-04 22:22:30+00:00   \n",
              "3  2020-08-04 22:20:56+00:00   \n",
              "4  2020-08-04 21:01:14+00:00   \n",
              "\n",
              "                                               Tweet  Likes_on_tweet  \\\n",
              "0  Historically #TamilNadu has been a state with ...               1   \n",
              "1  #HelloStrangerEP6 #HarrisonFord #GeorgeFloyd #...               0   \n",
              "2  @cbseindia29 @PMOIndia @narendramodi @DrRPNish...               1   \n",
              "3  @PMOIndia’s anti-democratic #NEP2020 was 400+ ...               1   \n",
              "4  The latest The Nursing Education Daily! http:/...               0   \n",
              "\n",
              "                                         Tweet_punct  \\\n",
              "0  Historically TamilNadu has been a state with p...   \n",
              "1  HelloStrangerEP HarrisonFord GeorgeFloyd JiCha...   \n",
              "2  cbseindia PMOIndia narendramodi DrRPNishank AB...   \n",
              "3  PMOIndia’s antidemocratic NEP was  pgs in  dra...   \n",
              "4  The latest The Nursing Education Daily httpned...   \n",
              "\n",
              "                                     Tweet_tokenized  \\\n",
              "0  ['historically', 'tamilnadu', 'has', 'been', '...   \n",
              "1  ['hellostrangerep', 'harrisonford', 'georgeflo...   \n",
              "2  ['cbseindia', 'pmoindia', 'narendramodi', 'drr...   \n",
              "3  ['pmoindia', 's', 'antidemocratic', 'nep', 'wa...   \n",
              "4  ['the', 'latest', 'the', 'nursing', 'education...   \n",
              "\n",
              "                                       Tweet_nonstop  \\\n",
              "0  ['historically', 'tamilnadu', 'state', 'progre...   \n",
              "1  ['hellostrangerep', 'harrisonford', 'georgeflo...   \n",
              "2  ['cbseindia', 'pmoindia', 'narendramodi', 'drr...   \n",
              "3  ['pmoindia', 'antidemocratic', 'nep', 'pgs', '...   \n",
              "4  ['latest', 'nursing', 'education', 'daily', 'h...   \n",
              "\n",
              "                                       Tweet_stemmed  \\\n",
              "0  ['histor', 'tamilnadu', 'state', 'progress', '...   \n",
              "1  ['hellostrangerep', 'harrisonford', 'georgeflo...   \n",
              "2  ['cbseindia', 'pmoindia', 'narendramodi', 'drr...   \n",
              "3  ['pmoindia', 'antidemocrat', 'nep', 'pg', 'dra...   \n",
              "4  ['latest', 'nurs', 'educ', 'daili', 'httpnedsk...   \n",
              "\n",
              "                                    Tweet_lemmatized  Polarity  Subjectivity  \n",
              "0  ['historically', 'tamilnadu', 'state', 'progre...  0.232000      0.368000  \n",
              "1  ['hellostrangerep', 'harrisonford', 'georgeflo...  0.000000      0.000000  \n",
              "2  ['cbseindia', 'pmoindia', 'narendramodi', 'drr... -0.015909      0.394886  \n",
              "3  ['pmoindia', 'antidemocratic', 'nep', 'pgs', '...  0.375000      0.750000  \n",
              "4  ['latest', 'nursing', 'education', 'daily', 'h...  0.233333      0.366667  "
            ],
            "text/html": [
              "\n",
              "  <div id=\"df-1d063c1b-c148-45ac-b65e-6945d6f20530\">\n",
              "    <div class=\"colab-df-container\">\n",
              "      <div>\n",
              "<style scoped>\n",
              "    .dataframe tbody tr th:only-of-type {\n",
              "        vertical-align: middle;\n",
              "    }\n",
              "\n",
              "    .dataframe tbody tr th {\n",
              "        vertical-align: top;\n",
              "    }\n",
              "\n",
              "    .dataframe thead th {\n",
              "        text-align: right;\n",
              "    }\n",
              "</style>\n",
              "<table border=\"1\" class=\"dataframe\">\n",
              "  <thead>\n",
              "    <tr style=\"text-align: right;\">\n",
              "      <th></th>\n",
              "      <th>Date_of_tweet</th>\n",
              "      <th>Tweet</th>\n",
              "      <th>Likes_on_tweet</th>\n",
              "      <th>Tweet_punct</th>\n",
              "      <th>Tweet_tokenized</th>\n",
              "      <th>Tweet_nonstop</th>\n",
              "      <th>Tweet_stemmed</th>\n",
              "      <th>Tweet_lemmatized</th>\n",
              "      <th>Polarity</th>\n",
              "      <th>Subjectivity</th>\n",
              "    </tr>\n",
              "  </thead>\n",
              "  <tbody>\n",
              "    <tr>\n",
              "      <th>0</th>\n",
              "      <td>2020-08-04 23:31:59+00:00</td>\n",
              "      <td>Historically #TamilNadu has been a state with ...</td>\n",
              "      <td>1</td>\n",
              "      <td>Historically TamilNadu has been a state with p...</td>\n",
              "      <td>['historically', 'tamilnadu', 'has', 'been', '...</td>\n",
              "      <td>['historically', 'tamilnadu', 'state', 'progre...</td>\n",
              "      <td>['histor', 'tamilnadu', 'state', 'progress', '...</td>\n",
              "      <td>['historically', 'tamilnadu', 'state', 'progre...</td>\n",
              "      <td>0.232000</td>\n",
              "      <td>0.368000</td>\n",
              "    </tr>\n",
              "    <tr>\n",
              "      <th>1</th>\n",
              "      <td>2020-08-04 23:31:56+00:00</td>\n",
              "      <td>#HelloStrangerEP6 #HarrisonFord #GeorgeFloyd #...</td>\n",
              "      <td>0</td>\n",
              "      <td>HelloStrangerEP HarrisonFord GeorgeFloyd JiCha...</td>\n",
              "      <td>['hellostrangerep', 'harrisonford', 'georgeflo...</td>\n",
              "      <td>['hellostrangerep', 'harrisonford', 'georgeflo...</td>\n",
              "      <td>['hellostrangerep', 'harrisonford', 'georgeflo...</td>\n",
              "      <td>['hellostrangerep', 'harrisonford', 'georgeflo...</td>\n",
              "      <td>0.000000</td>\n",
              "      <td>0.000000</td>\n",
              "    </tr>\n",
              "    <tr>\n",
              "      <th>2</th>\n",
              "      <td>2020-08-04 22:22:30+00:00</td>\n",
              "      <td>@cbseindia29 @PMOIndia @narendramodi @DrRPNish...</td>\n",
              "      <td>1</td>\n",
              "      <td>cbseindia PMOIndia narendramodi DrRPNishank AB...</td>\n",
              "      <td>['cbseindia', 'pmoindia', 'narendramodi', 'drr...</td>\n",
              "      <td>['cbseindia', 'pmoindia', 'narendramodi', 'drr...</td>\n",
              "      <td>['cbseindia', 'pmoindia', 'narendramodi', 'drr...</td>\n",
              "      <td>['cbseindia', 'pmoindia', 'narendramodi', 'drr...</td>\n",
              "      <td>-0.015909</td>\n",
              "      <td>0.394886</td>\n",
              "    </tr>\n",
              "    <tr>\n",
              "      <th>3</th>\n",
              "      <td>2020-08-04 22:20:56+00:00</td>\n",
              "      <td>@PMOIndia’s anti-democratic #NEP2020 was 400+ ...</td>\n",
              "      <td>1</td>\n",
              "      <td>PMOIndia’s antidemocratic NEP was  pgs in  dra...</td>\n",
              "      <td>['pmoindia', 's', 'antidemocratic', 'nep', 'wa...</td>\n",
              "      <td>['pmoindia', 'antidemocratic', 'nep', 'pgs', '...</td>\n",
              "      <td>['pmoindia', 'antidemocrat', 'nep', 'pg', 'dra...</td>\n",
              "      <td>['pmoindia', 'antidemocratic', 'nep', 'pgs', '...</td>\n",
              "      <td>0.375000</td>\n",
              "      <td>0.750000</td>\n",
              "    </tr>\n",
              "    <tr>\n",
              "      <th>4</th>\n",
              "      <td>2020-08-04 21:01:14+00:00</td>\n",
              "      <td>The latest The Nursing Education Daily! http:/...</td>\n",
              "      <td>0</td>\n",
              "      <td>The latest The Nursing Education Daily httpned...</td>\n",
              "      <td>['the', 'latest', 'the', 'nursing', 'education...</td>\n",
              "      <td>['latest', 'nursing', 'education', 'daily', 'h...</td>\n",
              "      <td>['latest', 'nurs', 'educ', 'daili', 'httpnedsk...</td>\n",
              "      <td>['latest', 'nursing', 'education', 'daily', 'h...</td>\n",
              "      <td>0.233333</td>\n",
              "      <td>0.366667</td>\n",
              "    </tr>\n",
              "  </tbody>\n",
              "</table>\n",
              "</div>\n",
              "      <button class=\"colab-df-convert\" onclick=\"convertToInteractive('df-1d063c1b-c148-45ac-b65e-6945d6f20530')\"\n",
              "              title=\"Convert this dataframe to an interactive table.\"\n",
              "              style=\"display:none;\">\n",
              "        \n",
              "  <svg xmlns=\"http://www.w3.org/2000/svg\" height=\"24px\"viewBox=\"0 0 24 24\"\n",
              "       width=\"24px\">\n",
              "    <path d=\"M0 0h24v24H0V0z\" fill=\"none\"/>\n",
              "    <path d=\"M18.56 5.44l.94 2.06.94-2.06 2.06-.94-2.06-.94-.94-2.06-.94 2.06-2.06.94zm-11 1L8.5 8.5l.94-2.06 2.06-.94-2.06-.94L8.5 2.5l-.94 2.06-2.06.94zm10 10l.94 2.06.94-2.06 2.06-.94-2.06-.94-.94-2.06-.94 2.06-2.06.94z\"/><path d=\"M17.41 7.96l-1.37-1.37c-.4-.4-.92-.59-1.43-.59-.52 0-1.04.2-1.43.59L10.3 9.45l-7.72 7.72c-.78.78-.78 2.05 0 2.83L4 21.41c.39.39.9.59 1.41.59.51 0 1.02-.2 1.41-.59l7.78-7.78 2.81-2.81c.8-.78.8-2.07 0-2.86zM5.41 20L4 18.59l7.72-7.72 1.47 1.35L5.41 20z\"/>\n",
              "  </svg>\n",
              "      </button>\n",
              "      \n",
              "  <style>\n",
              "    .colab-df-container {\n",
              "      display:flex;\n",
              "      flex-wrap:wrap;\n",
              "      gap: 12px;\n",
              "    }\n",
              "\n",
              "    .colab-df-convert {\n",
              "      background-color: #E8F0FE;\n",
              "      border: none;\n",
              "      border-radius: 50%;\n",
              "      cursor: pointer;\n",
              "      display: none;\n",
              "      fill: #1967D2;\n",
              "      height: 32px;\n",
              "      padding: 0 0 0 0;\n",
              "      width: 32px;\n",
              "    }\n",
              "\n",
              "    .colab-df-convert:hover {\n",
              "      background-color: #E2EBFA;\n",
              "      box-shadow: 0px 1px 2px rgba(60, 64, 67, 0.3), 0px 1px 3px 1px rgba(60, 64, 67, 0.15);\n",
              "      fill: #174EA6;\n",
              "    }\n",
              "\n",
              "    [theme=dark] .colab-df-convert {\n",
              "      background-color: #3B4455;\n",
              "      fill: #D2E3FC;\n",
              "    }\n",
              "\n",
              "    [theme=dark] .colab-df-convert:hover {\n",
              "      background-color: #434B5C;\n",
              "      box-shadow: 0px 1px 3px 1px rgba(0, 0, 0, 0.15);\n",
              "      filter: drop-shadow(0px 1px 2px rgba(0, 0, 0, 0.3));\n",
              "      fill: #FFFFFF;\n",
              "    }\n",
              "  </style>\n",
              "\n",
              "      <script>\n",
              "        const buttonEl =\n",
              "          document.querySelector('#df-1d063c1b-c148-45ac-b65e-6945d6f20530 button.colab-df-convert');\n",
              "        buttonEl.style.display =\n",
              "          google.colab.kernel.accessAllowed ? 'block' : 'none';\n",
              "\n",
              "        async function convertToInteractive(key) {\n",
              "          const element = document.querySelector('#df-1d063c1b-c148-45ac-b65e-6945d6f20530');\n",
              "          const dataTable =\n",
              "            await google.colab.kernel.invokeFunction('convertToInteractive',\n",
              "                                                     [key], {});\n",
              "          if (!dataTable) return;\n",
              "\n",
              "          const docLinkHtml = 'Like what you see? Visit the ' +\n",
              "            '<a target=\"_blank\" href=https://colab.research.google.com/notebooks/data_table.ipynb>data table notebook</a>'\n",
              "            + ' to learn more about interactive tables.';\n",
              "          element.innerHTML = '';\n",
              "          dataTable['output_type'] = 'display_data';\n",
              "          await google.colab.output.renderOutput(dataTable, element);\n",
              "          const docLink = document.createElement('div');\n",
              "          docLink.innerHTML = docLinkHtml;\n",
              "          element.appendChild(docLink);\n",
              "        }\n",
              "      </script>\n",
              "    </div>\n",
              "  </div>\n",
              "  "
            ]
          },
          "metadata": {},
          "execution_count": 40
        }
      ],
      "source": [
        "new_data.head()"
      ]
    },
    {
      "cell_type": "code",
      "execution_count": null,
      "id": "63b013b5",
      "metadata": {
        "id": "63b013b5",
        "outputId": "bc0349e7-8658-4f81-b945-620a146a5132",
        "colab": {
          "base_uri": "https://localhost:8080/",
          "height": 676
        }
      },
      "outputs": [
        {
          "output_type": "execute_result",
          "data": {
            "text/plain": [
              "    Polarity  Subjectivity                                              Tweet\n",
              "0   0.232000      0.368000  Historically #TamilNadu has been a state with ...\n",
              "1   0.000000      0.000000  #HelloStrangerEP6 #HarrisonFord #GeorgeFloyd #...\n",
              "2  -0.015909      0.394886  @cbseindia29 @PMOIndia @narendramodi @DrRPNish...\n",
              "3   0.375000      0.750000  @PMOIndia’s anti-democratic #NEP2020 was 400+ ...\n",
              "4   0.233333      0.366667  The latest The Nursing Education Daily! http:/...\n",
              "5   0.100000      0.600000  With Rafale India has strengthened it's defenc...\n",
              "6   0.000000      0.000000  as soon as this pandemic will end I'm going ba...\n",
              "7   0.350000      0.558333  Finally those adverts of Amity University and ...\n",
              "8   0.000000      0.000000  Bollywood is not HINDI Film industry, It's urd...\n",
              "9   0.066667      0.133333  NEP 2020 can propel India's emergence as an ed...\n",
              "10  1.000000      0.300000  World's Best Education Policy in Tamil I Finla...\n",
              "11  0.225000      0.431250  There could not be a better speaker for this s...\n",
              "12  0.250794      0.700794  There was serious need for eduction reform... ...\n",
              "13  0.100000      0.383333  we need to talk about NEP(National Education p...\n",
              "14  0.400000      0.500000  #NEP2020 is to reconstruct the varnashrama. Br...\n",
              "15  0.136364      0.454545  Youth's take on the new National Education Pol...\n",
              "16  0.000000      0.000000  #NEP2020 LET'S see what these Guys going to ta...\n",
              "17  0.184091      0.588636  This is new America where Journalism is alive....\n",
              "18 -0.100000      0.391667  \"#RejectNEP2020 trending on twitter\" is the mo...\n",
              "19  0.500000      0.900000  https://youtu.be/oFK1fsGKO9o NEP 2020 (Nationa..."
            ],
            "text/html": [
              "\n",
              "  <div id=\"df-a61875f8-c461-4751-90ed-01676b2f4101\">\n",
              "    <div class=\"colab-df-container\">\n",
              "      <div>\n",
              "<style scoped>\n",
              "    .dataframe tbody tr th:only-of-type {\n",
              "        vertical-align: middle;\n",
              "    }\n",
              "\n",
              "    .dataframe tbody tr th {\n",
              "        vertical-align: top;\n",
              "    }\n",
              "\n",
              "    .dataframe thead th {\n",
              "        text-align: right;\n",
              "    }\n",
              "</style>\n",
              "<table border=\"1\" class=\"dataframe\">\n",
              "  <thead>\n",
              "    <tr style=\"text-align: right;\">\n",
              "      <th></th>\n",
              "      <th>Polarity</th>\n",
              "      <th>Subjectivity</th>\n",
              "      <th>Tweet</th>\n",
              "    </tr>\n",
              "  </thead>\n",
              "  <tbody>\n",
              "    <tr>\n",
              "      <th>0</th>\n",
              "      <td>0.232000</td>\n",
              "      <td>0.368000</td>\n",
              "      <td>Historically #TamilNadu has been a state with ...</td>\n",
              "    </tr>\n",
              "    <tr>\n",
              "      <th>1</th>\n",
              "      <td>0.000000</td>\n",
              "      <td>0.000000</td>\n",
              "      <td>#HelloStrangerEP6 #HarrisonFord #GeorgeFloyd #...</td>\n",
              "    </tr>\n",
              "    <tr>\n",
              "      <th>2</th>\n",
              "      <td>-0.015909</td>\n",
              "      <td>0.394886</td>\n",
              "      <td>@cbseindia29 @PMOIndia @narendramodi @DrRPNish...</td>\n",
              "    </tr>\n",
              "    <tr>\n",
              "      <th>3</th>\n",
              "      <td>0.375000</td>\n",
              "      <td>0.750000</td>\n",
              "      <td>@PMOIndia’s anti-democratic #NEP2020 was 400+ ...</td>\n",
              "    </tr>\n",
              "    <tr>\n",
              "      <th>4</th>\n",
              "      <td>0.233333</td>\n",
              "      <td>0.366667</td>\n",
              "      <td>The latest The Nursing Education Daily! http:/...</td>\n",
              "    </tr>\n",
              "    <tr>\n",
              "      <th>5</th>\n",
              "      <td>0.100000</td>\n",
              "      <td>0.600000</td>\n",
              "      <td>With Rafale India has strengthened it's defenc...</td>\n",
              "    </tr>\n",
              "    <tr>\n",
              "      <th>6</th>\n",
              "      <td>0.000000</td>\n",
              "      <td>0.000000</td>\n",
              "      <td>as soon as this pandemic will end I'm going ba...</td>\n",
              "    </tr>\n",
              "    <tr>\n",
              "      <th>7</th>\n",
              "      <td>0.350000</td>\n",
              "      <td>0.558333</td>\n",
              "      <td>Finally those adverts of Amity University and ...</td>\n",
              "    </tr>\n",
              "    <tr>\n",
              "      <th>8</th>\n",
              "      <td>0.000000</td>\n",
              "      <td>0.000000</td>\n",
              "      <td>Bollywood is not HINDI Film industry, It's urd...</td>\n",
              "    </tr>\n",
              "    <tr>\n",
              "      <th>9</th>\n",
              "      <td>0.066667</td>\n",
              "      <td>0.133333</td>\n",
              "      <td>NEP 2020 can propel India's emergence as an ed...</td>\n",
              "    </tr>\n",
              "    <tr>\n",
              "      <th>10</th>\n",
              "      <td>1.000000</td>\n",
              "      <td>0.300000</td>\n",
              "      <td>World's Best Education Policy in Tamil I Finla...</td>\n",
              "    </tr>\n",
              "    <tr>\n",
              "      <th>11</th>\n",
              "      <td>0.225000</td>\n",
              "      <td>0.431250</td>\n",
              "      <td>There could not be a better speaker for this s...</td>\n",
              "    </tr>\n",
              "    <tr>\n",
              "      <th>12</th>\n",
              "      <td>0.250794</td>\n",
              "      <td>0.700794</td>\n",
              "      <td>There was serious need for eduction reform... ...</td>\n",
              "    </tr>\n",
              "    <tr>\n",
              "      <th>13</th>\n",
              "      <td>0.100000</td>\n",
              "      <td>0.383333</td>\n",
              "      <td>we need to talk about NEP(National Education p...</td>\n",
              "    </tr>\n",
              "    <tr>\n",
              "      <th>14</th>\n",
              "      <td>0.400000</td>\n",
              "      <td>0.500000</td>\n",
              "      <td>#NEP2020 is to reconstruct the varnashrama. Br...</td>\n",
              "    </tr>\n",
              "    <tr>\n",
              "      <th>15</th>\n",
              "      <td>0.136364</td>\n",
              "      <td>0.454545</td>\n",
              "      <td>Youth's take on the new National Education Pol...</td>\n",
              "    </tr>\n",
              "    <tr>\n",
              "      <th>16</th>\n",
              "      <td>0.000000</td>\n",
              "      <td>0.000000</td>\n",
              "      <td>#NEP2020 LET'S see what these Guys going to ta...</td>\n",
              "    </tr>\n",
              "    <tr>\n",
              "      <th>17</th>\n",
              "      <td>0.184091</td>\n",
              "      <td>0.588636</td>\n",
              "      <td>This is new America where Journalism is alive....</td>\n",
              "    </tr>\n",
              "    <tr>\n",
              "      <th>18</th>\n",
              "      <td>-0.100000</td>\n",
              "      <td>0.391667</td>\n",
              "      <td>\"#RejectNEP2020 trending on twitter\" is the mo...</td>\n",
              "    </tr>\n",
              "    <tr>\n",
              "      <th>19</th>\n",
              "      <td>0.500000</td>\n",
              "      <td>0.900000</td>\n",
              "      <td>https://youtu.be/oFK1fsGKO9o NEP 2020 (Nationa...</td>\n",
              "    </tr>\n",
              "  </tbody>\n",
              "</table>\n",
              "</div>\n",
              "      <button class=\"colab-df-convert\" onclick=\"convertToInteractive('df-a61875f8-c461-4751-90ed-01676b2f4101')\"\n",
              "              title=\"Convert this dataframe to an interactive table.\"\n",
              "              style=\"display:none;\">\n",
              "        \n",
              "  <svg xmlns=\"http://www.w3.org/2000/svg\" height=\"24px\"viewBox=\"0 0 24 24\"\n",
              "       width=\"24px\">\n",
              "    <path d=\"M0 0h24v24H0V0z\" fill=\"none\"/>\n",
              "    <path d=\"M18.56 5.44l.94 2.06.94-2.06 2.06-.94-2.06-.94-.94-2.06-.94 2.06-2.06.94zm-11 1L8.5 8.5l.94-2.06 2.06-.94-2.06-.94L8.5 2.5l-.94 2.06-2.06.94zm10 10l.94 2.06.94-2.06 2.06-.94-2.06-.94-.94-2.06-.94 2.06-2.06.94z\"/><path d=\"M17.41 7.96l-1.37-1.37c-.4-.4-.92-.59-1.43-.59-.52 0-1.04.2-1.43.59L10.3 9.45l-7.72 7.72c-.78.78-.78 2.05 0 2.83L4 21.41c.39.39.9.59 1.41.59.51 0 1.02-.2 1.41-.59l7.78-7.78 2.81-2.81c.8-.78.8-2.07 0-2.86zM5.41 20L4 18.59l7.72-7.72 1.47 1.35L5.41 20z\"/>\n",
              "  </svg>\n",
              "      </button>\n",
              "      \n",
              "  <style>\n",
              "    .colab-df-container {\n",
              "      display:flex;\n",
              "      flex-wrap:wrap;\n",
              "      gap: 12px;\n",
              "    }\n",
              "\n",
              "    .colab-df-convert {\n",
              "      background-color: #E8F0FE;\n",
              "      border: none;\n",
              "      border-radius: 50%;\n",
              "      cursor: pointer;\n",
              "      display: none;\n",
              "      fill: #1967D2;\n",
              "      height: 32px;\n",
              "      padding: 0 0 0 0;\n",
              "      width: 32px;\n",
              "    }\n",
              "\n",
              "    .colab-df-convert:hover {\n",
              "      background-color: #E2EBFA;\n",
              "      box-shadow: 0px 1px 2px rgba(60, 64, 67, 0.3), 0px 1px 3px 1px rgba(60, 64, 67, 0.15);\n",
              "      fill: #174EA6;\n",
              "    }\n",
              "\n",
              "    [theme=dark] .colab-df-convert {\n",
              "      background-color: #3B4455;\n",
              "      fill: #D2E3FC;\n",
              "    }\n",
              "\n",
              "    [theme=dark] .colab-df-convert:hover {\n",
              "      background-color: #434B5C;\n",
              "      box-shadow: 0px 1px 3px 1px rgba(0, 0, 0, 0.15);\n",
              "      filter: drop-shadow(0px 1px 2px rgba(0, 0, 0, 0.3));\n",
              "      fill: #FFFFFF;\n",
              "    }\n",
              "  </style>\n",
              "\n",
              "      <script>\n",
              "        const buttonEl =\n",
              "          document.querySelector('#df-a61875f8-c461-4751-90ed-01676b2f4101 button.colab-df-convert');\n",
              "        buttonEl.style.display =\n",
              "          google.colab.kernel.accessAllowed ? 'block' : 'none';\n",
              "\n",
              "        async function convertToInteractive(key) {\n",
              "          const element = document.querySelector('#df-a61875f8-c461-4751-90ed-01676b2f4101');\n",
              "          const dataTable =\n",
              "            await google.colab.kernel.invokeFunction('convertToInteractive',\n",
              "                                                     [key], {});\n",
              "          if (!dataTable) return;\n",
              "\n",
              "          const docLinkHtml = 'Like what you see? Visit the ' +\n",
              "            '<a target=\"_blank\" href=https://colab.research.google.com/notebooks/data_table.ipynb>data table notebook</a>'\n",
              "            + ' to learn more about interactive tables.';\n",
              "          element.innerHTML = '';\n",
              "          dataTable['output_type'] = 'display_data';\n",
              "          await google.colab.output.renderOutput(dataTable, element);\n",
              "          const docLink = document.createElement('div');\n",
              "          docLink.innerHTML = docLinkHtml;\n",
              "          element.appendChild(docLink);\n",
              "        }\n",
              "      </script>\n",
              "    </div>\n",
              "  </div>\n",
              "  "
            ]
          },
          "metadata": {},
          "execution_count": 41
        }
      ],
      "source": [
        "# Display only the Polarity and Subjectivity columns along with tweet\n",
        "\n",
        "new_data[[\"Polarity\",\"Subjectivity\",\"Tweet\"]].head(20)"
      ]
    },
    {
      "cell_type": "code",
      "execution_count": null,
      "id": "466b38f8",
      "metadata": {
        "id": "466b38f8"
      },
      "outputs": [],
      "source": [
        "new_data.to_csv(\"cleaned1.csv\")"
      ]
    },
    {
      "cell_type": "code",
      "execution_count": null,
      "id": "f6a7681f",
      "metadata": {
        "id": "f6a7681f",
        "outputId": "b96b29e9-53d1-4a71-bde8-c2c078090e46",
        "colab": {
          "base_uri": "https://localhost:8080/",
          "height": 300
        }
      },
      "outputs": [
        {
          "output_type": "execute_result",
          "data": {
            "text/plain": [
              "       Likes_on_tweet     Polarity  Subjectivity\n",
              "count     6858.000000  6858.000000   6858.000000\n",
              "mean        13.982794     0.120068      0.358426\n",
              "std         85.128785     0.225005      0.271701\n",
              "min          0.000000    -1.000000      0.000000\n",
              "25%          0.000000     0.000000      0.100000\n",
              "50%          1.000000     0.070346      0.391667\n",
              "75%          3.000000     0.234659      0.512500\n",
              "max       2694.000000     1.000000      1.000000"
            ],
            "text/html": [
              "\n",
              "  <div id=\"df-63a1e1cf-34d8-4195-9466-8b2b6a887ac1\">\n",
              "    <div class=\"colab-df-container\">\n",
              "      <div>\n",
              "<style scoped>\n",
              "    .dataframe tbody tr th:only-of-type {\n",
              "        vertical-align: middle;\n",
              "    }\n",
              "\n",
              "    .dataframe tbody tr th {\n",
              "        vertical-align: top;\n",
              "    }\n",
              "\n",
              "    .dataframe thead th {\n",
              "        text-align: right;\n",
              "    }\n",
              "</style>\n",
              "<table border=\"1\" class=\"dataframe\">\n",
              "  <thead>\n",
              "    <tr style=\"text-align: right;\">\n",
              "      <th></th>\n",
              "      <th>Likes_on_tweet</th>\n",
              "      <th>Polarity</th>\n",
              "      <th>Subjectivity</th>\n",
              "    </tr>\n",
              "  </thead>\n",
              "  <tbody>\n",
              "    <tr>\n",
              "      <th>count</th>\n",
              "      <td>6858.000000</td>\n",
              "      <td>6858.000000</td>\n",
              "      <td>6858.000000</td>\n",
              "    </tr>\n",
              "    <tr>\n",
              "      <th>mean</th>\n",
              "      <td>13.982794</td>\n",
              "      <td>0.120068</td>\n",
              "      <td>0.358426</td>\n",
              "    </tr>\n",
              "    <tr>\n",
              "      <th>std</th>\n",
              "      <td>85.128785</td>\n",
              "      <td>0.225005</td>\n",
              "      <td>0.271701</td>\n",
              "    </tr>\n",
              "    <tr>\n",
              "      <th>min</th>\n",
              "      <td>0.000000</td>\n",
              "      <td>-1.000000</td>\n",
              "      <td>0.000000</td>\n",
              "    </tr>\n",
              "    <tr>\n",
              "      <th>25%</th>\n",
              "      <td>0.000000</td>\n",
              "      <td>0.000000</td>\n",
              "      <td>0.100000</td>\n",
              "    </tr>\n",
              "    <tr>\n",
              "      <th>50%</th>\n",
              "      <td>1.000000</td>\n",
              "      <td>0.070346</td>\n",
              "      <td>0.391667</td>\n",
              "    </tr>\n",
              "    <tr>\n",
              "      <th>75%</th>\n",
              "      <td>3.000000</td>\n",
              "      <td>0.234659</td>\n",
              "      <td>0.512500</td>\n",
              "    </tr>\n",
              "    <tr>\n",
              "      <th>max</th>\n",
              "      <td>2694.000000</td>\n",
              "      <td>1.000000</td>\n",
              "      <td>1.000000</td>\n",
              "    </tr>\n",
              "  </tbody>\n",
              "</table>\n",
              "</div>\n",
              "      <button class=\"colab-df-convert\" onclick=\"convertToInteractive('df-63a1e1cf-34d8-4195-9466-8b2b6a887ac1')\"\n",
              "              title=\"Convert this dataframe to an interactive table.\"\n",
              "              style=\"display:none;\">\n",
              "        \n",
              "  <svg xmlns=\"http://www.w3.org/2000/svg\" height=\"24px\"viewBox=\"0 0 24 24\"\n",
              "       width=\"24px\">\n",
              "    <path d=\"M0 0h24v24H0V0z\" fill=\"none\"/>\n",
              "    <path d=\"M18.56 5.44l.94 2.06.94-2.06 2.06-.94-2.06-.94-.94-2.06-.94 2.06-2.06.94zm-11 1L8.5 8.5l.94-2.06 2.06-.94-2.06-.94L8.5 2.5l-.94 2.06-2.06.94zm10 10l.94 2.06.94-2.06 2.06-.94-2.06-.94-.94-2.06-.94 2.06-2.06.94z\"/><path d=\"M17.41 7.96l-1.37-1.37c-.4-.4-.92-.59-1.43-.59-.52 0-1.04.2-1.43.59L10.3 9.45l-7.72 7.72c-.78.78-.78 2.05 0 2.83L4 21.41c.39.39.9.59 1.41.59.51 0 1.02-.2 1.41-.59l7.78-7.78 2.81-2.81c.8-.78.8-2.07 0-2.86zM5.41 20L4 18.59l7.72-7.72 1.47 1.35L5.41 20z\"/>\n",
              "  </svg>\n",
              "      </button>\n",
              "      \n",
              "  <style>\n",
              "    .colab-df-container {\n",
              "      display:flex;\n",
              "      flex-wrap:wrap;\n",
              "      gap: 12px;\n",
              "    }\n",
              "\n",
              "    .colab-df-convert {\n",
              "      background-color: #E8F0FE;\n",
              "      border: none;\n",
              "      border-radius: 50%;\n",
              "      cursor: pointer;\n",
              "      display: none;\n",
              "      fill: #1967D2;\n",
              "      height: 32px;\n",
              "      padding: 0 0 0 0;\n",
              "      width: 32px;\n",
              "    }\n",
              "\n",
              "    .colab-df-convert:hover {\n",
              "      background-color: #E2EBFA;\n",
              "      box-shadow: 0px 1px 2px rgba(60, 64, 67, 0.3), 0px 1px 3px 1px rgba(60, 64, 67, 0.15);\n",
              "      fill: #174EA6;\n",
              "    }\n",
              "\n",
              "    [theme=dark] .colab-df-convert {\n",
              "      background-color: #3B4455;\n",
              "      fill: #D2E3FC;\n",
              "    }\n",
              "\n",
              "    [theme=dark] .colab-df-convert:hover {\n",
              "      background-color: #434B5C;\n",
              "      box-shadow: 0px 1px 3px 1px rgba(0, 0, 0, 0.15);\n",
              "      filter: drop-shadow(0px 1px 2px rgba(0, 0, 0, 0.3));\n",
              "      fill: #FFFFFF;\n",
              "    }\n",
              "  </style>\n",
              "\n",
              "      <script>\n",
              "        const buttonEl =\n",
              "          document.querySelector('#df-63a1e1cf-34d8-4195-9466-8b2b6a887ac1 button.colab-df-convert');\n",
              "        buttonEl.style.display =\n",
              "          google.colab.kernel.accessAllowed ? 'block' : 'none';\n",
              "\n",
              "        async function convertToInteractive(key) {\n",
              "          const element = document.querySelector('#df-63a1e1cf-34d8-4195-9466-8b2b6a887ac1');\n",
              "          const dataTable =\n",
              "            await google.colab.kernel.invokeFunction('convertToInteractive',\n",
              "                                                     [key], {});\n",
              "          if (!dataTable) return;\n",
              "\n",
              "          const docLinkHtml = 'Like what you see? Visit the ' +\n",
              "            '<a target=\"_blank\" href=https://colab.research.google.com/notebooks/data_table.ipynb>data table notebook</a>'\n",
              "            + ' to learn more about interactive tables.';\n",
              "          element.innerHTML = '';\n",
              "          dataTable['output_type'] = 'display_data';\n",
              "          await google.colab.output.renderOutput(dataTable, element);\n",
              "          const docLink = document.createElement('div');\n",
              "          docLink.innerHTML = docLinkHtml;\n",
              "          element.appendChild(docLink);\n",
              "        }\n",
              "      </script>\n",
              "    </div>\n",
              "  </div>\n",
              "  "
            ]
          },
          "metadata": {},
          "execution_count": 43
        }
      ],
      "source": [
        "new_data.describe()"
      ]
    }
  ],
  "metadata": {
    "kernelspec": {
      "display_name": "Python 3 (ipykernel)",
      "language": "python",
      "name": "python3"
    },
    "language_info": {
      "codemirror_mode": {
        "name": "ipython",
        "version": 3
      },
      "file_extension": ".py",
      "mimetype": "text/x-python",
      "name": "python",
      "nbconvert_exporter": "python",
      "pygments_lexer": "ipython3",
      "version": "3.8.5"
    },
    "colab": {
      "name": "2_ML_Project_Cleaning&Preprocessing.ipynb",
      "provenance": [],
      "collapsed_sections": [
        "_1LAvrPwkddJ",
        "CI2aFoq6oPdI",
        "bxCvwM4aqCCJ",
        "93a8b647",
        "ecc90200",
        "0263f711",
        "66563457",
        "ljnDoBWo0mXG",
        "07144d91",
        "bf8aac5d"
      ]
    }
  },
  "nbformat": 4,
  "nbformat_minor": 5
}