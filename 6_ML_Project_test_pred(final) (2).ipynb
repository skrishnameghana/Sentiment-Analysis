{
  "cells": [
    {
      "cell_type": "code",
      "execution_count": null,
      "id": "0a9ffba9",
      "metadata": {
        "id": "0a9ffba9"
      },
      "outputs": [],
      "source": [
        "import numpy as np\n",
        "import pandas as pd"
      ]
    },
    {
      "cell_type": "markdown",
      "id": "5031e5b7",
      "metadata": {
        "id": "5031e5b7"
      },
      "source": [
        "Cleaned(pre-processed) testing data"
      ]
    },
    {
      "cell_type": "code",
      "execution_count": null,
      "id": "9f1a432c",
      "metadata": {
        "id": "9f1a432c"
      },
      "outputs": [],
      "source": [
        "test=pd.read_csv('cleaned_test.csv')"
      ]
    },
    {
      "cell_type": "markdown",
      "id": "53d675a5",
      "metadata": {
        "id": "53d675a5"
      },
      "source": [
        "Cleaned training data"
      ]
    },
    {
      "cell_type": "code",
      "execution_count": null,
      "id": "f4c99c7b",
      "metadata": {
        "id": "f4c99c7b"
      },
      "outputs": [],
      "source": [
        "train=pd.read_csv('cleaned1.csv')"
      ]
    },
    {
      "cell_type": "code",
      "execution_count": null,
      "id": "9d77c0d6",
      "metadata": {
        "colab": {
          "base_uri": "https://localhost:8080/",
          "height": 565
        },
        "id": "9d77c0d6",
        "outputId": "5484cdd1-87d8-4dc8-8f16-6eb72174f966"
      },
      "outputs": [
        {
          "output_type": "execute_result",
          "data": {
            "text/plain": [
              "   Unnamed: 0              Date_of_tweet  \\\n",
              "0           0  2020-08-04 23:31:59+00:00   \n",
              "1           1  2020-08-04 23:31:56+00:00   \n",
              "2           2  2020-08-04 22:22:30+00:00   \n",
              "3           3  2020-08-04 22:20:56+00:00   \n",
              "4           4  2020-08-04 21:01:14+00:00   \n",
              "\n",
              "                                               Tweet  Likes_on_tweet  \\\n",
              "0  Historically #TamilNadu has been a state with ...               1   \n",
              "1  #HelloStrangerEP6 #HarrisonFord #GeorgeFloyd #...               0   \n",
              "2  @cbseindia29 @PMOIndia @narendramodi @DrRPNish...               1   \n",
              "3  @PMOIndia’s anti-democratic #NEP2020 was 400+ ...               1   \n",
              "4  The latest The Nursing Education Daily! http:/...               0   \n",
              "\n",
              "                                         Tweet_punct  \\\n",
              "0  Historically TamilNadu has been a state with p...   \n",
              "1  HelloStrangerEP HarrisonFord GeorgeFloyd JiCha...   \n",
              "2  cbseindia PMOIndia narendramodi DrRPNishank AB...   \n",
              "3  PMOIndia’s antidemocratic NEP was  pgs in  dra...   \n",
              "4  The latest The Nursing Education Daily httpned...   \n",
              "\n",
              "                                     Tweet_tokenized  \\\n",
              "0  ['historically', 'tamilnadu', 'has', 'been', '...   \n",
              "1  ['hellostrangerep', 'harrisonford', 'georgeflo...   \n",
              "2  ['cbseindia', 'pmoindia', 'narendramodi', 'drr...   \n",
              "3  ['pmoindia', 's', 'antidemocratic', 'nep', 'wa...   \n",
              "4  ['the', 'latest', 'the', 'nursing', 'education...   \n",
              "\n",
              "                                       Tweet_nonstop  \\\n",
              "0  ['historically', 'tamilnadu', 'state', 'progre...   \n",
              "1  ['hellostrangerep', 'harrisonford', 'georgeflo...   \n",
              "2  ['cbseindia', 'pmoindia', 'narendramodi', 'drr...   \n",
              "3  ['pmoindia', 'antidemocratic', 'nep', 'pgs', '...   \n",
              "4  ['latest', 'nursing', 'education', 'daily', 'h...   \n",
              "\n",
              "                                       Tweet_stemmed  \\\n",
              "0  ['histor', 'tamilnadu', 'state', 'progress', '...   \n",
              "1  ['hellostrangerep', 'harrisonford', 'georgeflo...   \n",
              "2  ['cbseindia', 'pmoindia', 'narendramodi', 'drr...   \n",
              "3  ['pmoindia', 'antidemocrat', 'nep', 'pg', 'dra...   \n",
              "4  ['latest', 'nurs', 'educ', 'daili', 'httpnedsk...   \n",
              "\n",
              "                                    Tweet_lemmatized  Polarity  Subjectivity  \n",
              "0  ['historically', 'tamilnadu', 'state', 'progre...  0.232000      0.368000  \n",
              "1  ['hellostrangerep', 'harrisonford', 'georgeflo...  0.000000      0.000000  \n",
              "2  ['cbseindia', 'pmoindia', 'narendramodi', 'drr... -0.015909      0.394886  \n",
              "3  ['pmoindia', 'antidemocratic', 'nep', 'pgs', '...  0.375000      0.750000  \n",
              "4  ['latest', 'nursing', 'education', 'daily', 'h...  0.233333      0.366667  "
            ],
            "text/html": [
              "\n",
              "  <div id=\"df-44f88d60-eb85-4a95-be7b-d63e603bc5e9\">\n",
              "    <div class=\"colab-df-container\">\n",
              "      <div>\n",
              "<style scoped>\n",
              "    .dataframe tbody tr th:only-of-type {\n",
              "        vertical-align: middle;\n",
              "    }\n",
              "\n",
              "    .dataframe tbody tr th {\n",
              "        vertical-align: top;\n",
              "    }\n",
              "\n",
              "    .dataframe thead th {\n",
              "        text-align: right;\n",
              "    }\n",
              "</style>\n",
              "<table border=\"1\" class=\"dataframe\">\n",
              "  <thead>\n",
              "    <tr style=\"text-align: right;\">\n",
              "      <th></th>\n",
              "      <th>Unnamed: 0</th>\n",
              "      <th>Date_of_tweet</th>\n",
              "      <th>Tweet</th>\n",
              "      <th>Likes_on_tweet</th>\n",
              "      <th>Tweet_punct</th>\n",
              "      <th>Tweet_tokenized</th>\n",
              "      <th>Tweet_nonstop</th>\n",
              "      <th>Tweet_stemmed</th>\n",
              "      <th>Tweet_lemmatized</th>\n",
              "      <th>Polarity</th>\n",
              "      <th>Subjectivity</th>\n",
              "    </tr>\n",
              "  </thead>\n",
              "  <tbody>\n",
              "    <tr>\n",
              "      <th>0</th>\n",
              "      <td>0</td>\n",
              "      <td>2020-08-04 23:31:59+00:00</td>\n",
              "      <td>Historically #TamilNadu has been a state with ...</td>\n",
              "      <td>1</td>\n",
              "      <td>Historically TamilNadu has been a state with p...</td>\n",
              "      <td>['historically', 'tamilnadu', 'has', 'been', '...</td>\n",
              "      <td>['historically', 'tamilnadu', 'state', 'progre...</td>\n",
              "      <td>['histor', 'tamilnadu', 'state', 'progress', '...</td>\n",
              "      <td>['historically', 'tamilnadu', 'state', 'progre...</td>\n",
              "      <td>0.232000</td>\n",
              "      <td>0.368000</td>\n",
              "    </tr>\n",
              "    <tr>\n",
              "      <th>1</th>\n",
              "      <td>1</td>\n",
              "      <td>2020-08-04 23:31:56+00:00</td>\n",
              "      <td>#HelloStrangerEP6 #HarrisonFord #GeorgeFloyd #...</td>\n",
              "      <td>0</td>\n",
              "      <td>HelloStrangerEP HarrisonFord GeorgeFloyd JiCha...</td>\n",
              "      <td>['hellostrangerep', 'harrisonford', 'georgeflo...</td>\n",
              "      <td>['hellostrangerep', 'harrisonford', 'georgeflo...</td>\n",
              "      <td>['hellostrangerep', 'harrisonford', 'georgeflo...</td>\n",
              "      <td>['hellostrangerep', 'harrisonford', 'georgeflo...</td>\n",
              "      <td>0.000000</td>\n",
              "      <td>0.000000</td>\n",
              "    </tr>\n",
              "    <tr>\n",
              "      <th>2</th>\n",
              "      <td>2</td>\n",
              "      <td>2020-08-04 22:22:30+00:00</td>\n",
              "      <td>@cbseindia29 @PMOIndia @narendramodi @DrRPNish...</td>\n",
              "      <td>1</td>\n",
              "      <td>cbseindia PMOIndia narendramodi DrRPNishank AB...</td>\n",
              "      <td>['cbseindia', 'pmoindia', 'narendramodi', 'drr...</td>\n",
              "      <td>['cbseindia', 'pmoindia', 'narendramodi', 'drr...</td>\n",
              "      <td>['cbseindia', 'pmoindia', 'narendramodi', 'drr...</td>\n",
              "      <td>['cbseindia', 'pmoindia', 'narendramodi', 'drr...</td>\n",
              "      <td>-0.015909</td>\n",
              "      <td>0.394886</td>\n",
              "    </tr>\n",
              "    <tr>\n",
              "      <th>3</th>\n",
              "      <td>3</td>\n",
              "      <td>2020-08-04 22:20:56+00:00</td>\n",
              "      <td>@PMOIndia’s anti-democratic #NEP2020 was 400+ ...</td>\n",
              "      <td>1</td>\n",
              "      <td>PMOIndia’s antidemocratic NEP was  pgs in  dra...</td>\n",
              "      <td>['pmoindia', 's', 'antidemocratic', 'nep', 'wa...</td>\n",
              "      <td>['pmoindia', 'antidemocratic', 'nep', 'pgs', '...</td>\n",
              "      <td>['pmoindia', 'antidemocrat', 'nep', 'pg', 'dra...</td>\n",
              "      <td>['pmoindia', 'antidemocratic', 'nep', 'pgs', '...</td>\n",
              "      <td>0.375000</td>\n",
              "      <td>0.750000</td>\n",
              "    </tr>\n",
              "    <tr>\n",
              "      <th>4</th>\n",
              "      <td>4</td>\n",
              "      <td>2020-08-04 21:01:14+00:00</td>\n",
              "      <td>The latest The Nursing Education Daily! http:/...</td>\n",
              "      <td>0</td>\n",
              "      <td>The latest The Nursing Education Daily httpned...</td>\n",
              "      <td>['the', 'latest', 'the', 'nursing', 'education...</td>\n",
              "      <td>['latest', 'nursing', 'education', 'daily', 'h...</td>\n",
              "      <td>['latest', 'nurs', 'educ', 'daili', 'httpnedsk...</td>\n",
              "      <td>['latest', 'nursing', 'education', 'daily', 'h...</td>\n",
              "      <td>0.233333</td>\n",
              "      <td>0.366667</td>\n",
              "    </tr>\n",
              "  </tbody>\n",
              "</table>\n",
              "</div>\n",
              "      <button class=\"colab-df-convert\" onclick=\"convertToInteractive('df-44f88d60-eb85-4a95-be7b-d63e603bc5e9')\"\n",
              "              title=\"Convert this dataframe to an interactive table.\"\n",
              "              style=\"display:none;\">\n",
              "        \n",
              "  <svg xmlns=\"http://www.w3.org/2000/svg\" height=\"24px\"viewBox=\"0 0 24 24\"\n",
              "       width=\"24px\">\n",
              "    <path d=\"M0 0h24v24H0V0z\" fill=\"none\"/>\n",
              "    <path d=\"M18.56 5.44l.94 2.06.94-2.06 2.06-.94-2.06-.94-.94-2.06-.94 2.06-2.06.94zm-11 1L8.5 8.5l.94-2.06 2.06-.94-2.06-.94L8.5 2.5l-.94 2.06-2.06.94zm10 10l.94 2.06.94-2.06 2.06-.94-2.06-.94-.94-2.06-.94 2.06-2.06.94z\"/><path d=\"M17.41 7.96l-1.37-1.37c-.4-.4-.92-.59-1.43-.59-.52 0-1.04.2-1.43.59L10.3 9.45l-7.72 7.72c-.78.78-.78 2.05 0 2.83L4 21.41c.39.39.9.59 1.41.59.51 0 1.02-.2 1.41-.59l7.78-7.78 2.81-2.81c.8-.78.8-2.07 0-2.86zM5.41 20L4 18.59l7.72-7.72 1.47 1.35L5.41 20z\"/>\n",
              "  </svg>\n",
              "      </button>\n",
              "      \n",
              "  <style>\n",
              "    .colab-df-container {\n",
              "      display:flex;\n",
              "      flex-wrap:wrap;\n",
              "      gap: 12px;\n",
              "    }\n",
              "\n",
              "    .colab-df-convert {\n",
              "      background-color: #E8F0FE;\n",
              "      border: none;\n",
              "      border-radius: 50%;\n",
              "      cursor: pointer;\n",
              "      display: none;\n",
              "      fill: #1967D2;\n",
              "      height: 32px;\n",
              "      padding: 0 0 0 0;\n",
              "      width: 32px;\n",
              "    }\n",
              "\n",
              "    .colab-df-convert:hover {\n",
              "      background-color: #E2EBFA;\n",
              "      box-shadow: 0px 1px 2px rgba(60, 64, 67, 0.3), 0px 1px 3px 1px rgba(60, 64, 67, 0.15);\n",
              "      fill: #174EA6;\n",
              "    }\n",
              "\n",
              "    [theme=dark] .colab-df-convert {\n",
              "      background-color: #3B4455;\n",
              "      fill: #D2E3FC;\n",
              "    }\n",
              "\n",
              "    [theme=dark] .colab-df-convert:hover {\n",
              "      background-color: #434B5C;\n",
              "      box-shadow: 0px 1px 3px 1px rgba(0, 0, 0, 0.15);\n",
              "      filter: drop-shadow(0px 1px 2px rgba(0, 0, 0, 0.3));\n",
              "      fill: #FFFFFF;\n",
              "    }\n",
              "  </style>\n",
              "\n",
              "      <script>\n",
              "        const buttonEl =\n",
              "          document.querySelector('#df-44f88d60-eb85-4a95-be7b-d63e603bc5e9 button.colab-df-convert');\n",
              "        buttonEl.style.display =\n",
              "          google.colab.kernel.accessAllowed ? 'block' : 'none';\n",
              "\n",
              "        async function convertToInteractive(key) {\n",
              "          const element = document.querySelector('#df-44f88d60-eb85-4a95-be7b-d63e603bc5e9');\n",
              "          const dataTable =\n",
              "            await google.colab.kernel.invokeFunction('convertToInteractive',\n",
              "                                                     [key], {});\n",
              "          if (!dataTable) return;\n",
              "\n",
              "          const docLinkHtml = 'Like what you see? Visit the ' +\n",
              "            '<a target=\"_blank\" href=https://colab.research.google.com/notebooks/data_table.ipynb>data table notebook</a>'\n",
              "            + ' to learn more about interactive tables.';\n",
              "          element.innerHTML = '';\n",
              "          dataTable['output_type'] = 'display_data';\n",
              "          await google.colab.output.renderOutput(dataTable, element);\n",
              "          const docLink = document.createElement('div');\n",
              "          docLink.innerHTML = docLinkHtml;\n",
              "          element.appendChild(docLink);\n",
              "        }\n",
              "      </script>\n",
              "    </div>\n",
              "  </div>\n",
              "  "
            ]
          },
          "metadata": {},
          "execution_count": 4
        }
      ],
      "source": [
        "train.head()"
      ]
    },
    {
      "cell_type": "code",
      "execution_count": null,
      "id": "207d096b",
      "metadata": {
        "id": "207d096b"
      },
      "outputs": [],
      "source": [
        "X_test = test['Tweet_lemmatized']"
      ]
    },
    {
      "cell_type": "code",
      "execution_count": null,
      "id": "8a96c2e8",
      "metadata": {
        "colab": {
          "base_uri": "https://localhost:8080/"
        },
        "id": "8a96c2e8",
        "outputId": "10e74da7-f17f-4683-c322-ea39e06f91c7"
      },
      "outputs": [
        {
          "output_type": "execute_result",
          "data": {
            "text/plain": [
              "0      ['rt', 'rajsahni', 'national', 'institute', 't...\n",
              "1      ['rt', 'tataclassedge', 'greeting', 'auspiciou...\n",
              "2      ['greeting', 'auspicious', 'occasion', 'ram', ...\n",
              "3      ['rt', 'kumaramitmea', 'wonderful', 'discussio...\n",
              "4      ['rt', 'eduminofindia', 'aapbhibanebhagidar', ...\n",
              "                             ...                        \n",
              "525    ['prof', 'op', 'kalra', 'vicechancellor', 'sgt...\n",
              "526    ['math', 'optional', 'ugdiploma', 'engineering...\n",
              "527    ['rt', 'narayandojo', 'session', 'kuch', 'naya...\n",
              "528    ['session', 'kuch', 'naya', 'seekhate', 'hai',...\n",
              "529    ['rt', 'sarveshgoel', 'two', 'day', 'conventio...\n",
              "Name: Tweet_lemmatized, Length: 530, dtype: object"
            ]
          },
          "metadata": {},
          "execution_count": 6
        }
      ],
      "source": [
        "X_test"
      ]
    },
    {
      "cell_type": "markdown",
      "id": "157b3f3a",
      "metadata": {
        "id": "157b3f3a"
      },
      "source": [
        "Calculating sentiment of each tweet in training data"
      ]
    },
    {
      "cell_type": "code",
      "execution_count": null,
      "id": "eb7f0052",
      "metadata": {
        "id": "eb7f0052"
      },
      "outputs": [],
      "source": [
        "# Function that classifies polarities\n",
        "def classify_polarity(polarity):\n",
        "    if polarity > 0:\n",
        "        return \"Positive\"\n",
        "    if polarity == 0:\n",
        "        return \"Neutral\"\n",
        "    if polarity < 0:\n",
        "        return \"Negative\"\n",
        "\n",
        "# Applies the funtion on Polarity column and add the results into a new column \"Label\"\n",
        "train[\"Label\"] = train[\"Polarity\"].apply(classify_polarity)\n",
        "\n",
        " # determine if sentiment is positive, negative, or neutral\n",
        "def sentiment_value(Label):    \n",
        "        if Label ==\"Positive\":\n",
        "            return 1\n",
        "        elif Label == \"Neutral\":\n",
        "            return 0\n",
        "        else:\n",
        "            return -1\n",
        "            \n",
        "train[\"sentiment\"]=train[\"Label\"].apply(sentiment_value) "
      ]
    },
    {
      "cell_type": "code",
      "execution_count": null,
      "id": "0e2f7530",
      "metadata": {
        "colab": {
          "base_uri": "https://localhost:8080/",
          "height": 565
        },
        "id": "0e2f7530",
        "outputId": "90057748-80dc-4025-a807-2c7be28cfa99"
      },
      "outputs": [
        {
          "output_type": "execute_result",
          "data": {
            "text/plain": [
              "   Unnamed: 0              Date_of_tweet  \\\n",
              "0           0  2020-08-04 23:31:59+00:00   \n",
              "1           1  2020-08-04 23:31:56+00:00   \n",
              "2           2  2020-08-04 22:22:30+00:00   \n",
              "3           3  2020-08-04 22:20:56+00:00   \n",
              "4           4  2020-08-04 21:01:14+00:00   \n",
              "\n",
              "                                               Tweet  Likes_on_tweet  \\\n",
              "0  Historically #TamilNadu has been a state with ...               1   \n",
              "1  #HelloStrangerEP6 #HarrisonFord #GeorgeFloyd #...               0   \n",
              "2  @cbseindia29 @PMOIndia @narendramodi @DrRPNish...               1   \n",
              "3  @PMOIndia’s anti-democratic #NEP2020 was 400+ ...               1   \n",
              "4  The latest The Nursing Education Daily! http:/...               0   \n",
              "\n",
              "                                         Tweet_punct  \\\n",
              "0  Historically TamilNadu has been a state with p...   \n",
              "1  HelloStrangerEP HarrisonFord GeorgeFloyd JiCha...   \n",
              "2  cbseindia PMOIndia narendramodi DrRPNishank AB...   \n",
              "3  PMOIndia’s antidemocratic NEP was  pgs in  dra...   \n",
              "4  The latest The Nursing Education Daily httpned...   \n",
              "\n",
              "                                     Tweet_tokenized  \\\n",
              "0  ['historically', 'tamilnadu', 'has', 'been', '...   \n",
              "1  ['hellostrangerep', 'harrisonford', 'georgeflo...   \n",
              "2  ['cbseindia', 'pmoindia', 'narendramodi', 'drr...   \n",
              "3  ['pmoindia', 's', 'antidemocratic', 'nep', 'wa...   \n",
              "4  ['the', 'latest', 'the', 'nursing', 'education...   \n",
              "\n",
              "                                       Tweet_nonstop  \\\n",
              "0  ['historically', 'tamilnadu', 'state', 'progre...   \n",
              "1  ['hellostrangerep', 'harrisonford', 'georgeflo...   \n",
              "2  ['cbseindia', 'pmoindia', 'narendramodi', 'drr...   \n",
              "3  ['pmoindia', 'antidemocratic', 'nep', 'pgs', '...   \n",
              "4  ['latest', 'nursing', 'education', 'daily', 'h...   \n",
              "\n",
              "                                       Tweet_stemmed  \\\n",
              "0  ['histor', 'tamilnadu', 'state', 'progress', '...   \n",
              "1  ['hellostrangerep', 'harrisonford', 'georgeflo...   \n",
              "2  ['cbseindia', 'pmoindia', 'narendramodi', 'drr...   \n",
              "3  ['pmoindia', 'antidemocrat', 'nep', 'pg', 'dra...   \n",
              "4  ['latest', 'nurs', 'educ', 'daili', 'httpnedsk...   \n",
              "\n",
              "                                    Tweet_lemmatized  Polarity  Subjectivity  \\\n",
              "0  ['historically', 'tamilnadu', 'state', 'progre...  0.232000      0.368000   \n",
              "1  ['hellostrangerep', 'harrisonford', 'georgeflo...  0.000000      0.000000   \n",
              "2  ['cbseindia', 'pmoindia', 'narendramodi', 'drr... -0.015909      0.394886   \n",
              "3  ['pmoindia', 'antidemocratic', 'nep', 'pgs', '...  0.375000      0.750000   \n",
              "4  ['latest', 'nursing', 'education', 'daily', 'h...  0.233333      0.366667   \n",
              "\n",
              "      Label  sentiment  \n",
              "0  Positive          1  \n",
              "1   Neutral          0  \n",
              "2  Negative         -1  \n",
              "3  Positive          1  \n",
              "4  Positive          1  "
            ],
            "text/html": [
              "\n",
              "  <div id=\"df-f2df9f14-b1a0-472e-bd76-9e1aaf75d110\">\n",
              "    <div class=\"colab-df-container\">\n",
              "      <div>\n",
              "<style scoped>\n",
              "    .dataframe tbody tr th:only-of-type {\n",
              "        vertical-align: middle;\n",
              "    }\n",
              "\n",
              "    .dataframe tbody tr th {\n",
              "        vertical-align: top;\n",
              "    }\n",
              "\n",
              "    .dataframe thead th {\n",
              "        text-align: right;\n",
              "    }\n",
              "</style>\n",
              "<table border=\"1\" class=\"dataframe\">\n",
              "  <thead>\n",
              "    <tr style=\"text-align: right;\">\n",
              "      <th></th>\n",
              "      <th>Unnamed: 0</th>\n",
              "      <th>Date_of_tweet</th>\n",
              "      <th>Tweet</th>\n",
              "      <th>Likes_on_tweet</th>\n",
              "      <th>Tweet_punct</th>\n",
              "      <th>Tweet_tokenized</th>\n",
              "      <th>Tweet_nonstop</th>\n",
              "      <th>Tweet_stemmed</th>\n",
              "      <th>Tweet_lemmatized</th>\n",
              "      <th>Polarity</th>\n",
              "      <th>Subjectivity</th>\n",
              "      <th>Label</th>\n",
              "      <th>sentiment</th>\n",
              "    </tr>\n",
              "  </thead>\n",
              "  <tbody>\n",
              "    <tr>\n",
              "      <th>0</th>\n",
              "      <td>0</td>\n",
              "      <td>2020-08-04 23:31:59+00:00</td>\n",
              "      <td>Historically #TamilNadu has been a state with ...</td>\n",
              "      <td>1</td>\n",
              "      <td>Historically TamilNadu has been a state with p...</td>\n",
              "      <td>['historically', 'tamilnadu', 'has', 'been', '...</td>\n",
              "      <td>['historically', 'tamilnadu', 'state', 'progre...</td>\n",
              "      <td>['histor', 'tamilnadu', 'state', 'progress', '...</td>\n",
              "      <td>['historically', 'tamilnadu', 'state', 'progre...</td>\n",
              "      <td>0.232000</td>\n",
              "      <td>0.368000</td>\n",
              "      <td>Positive</td>\n",
              "      <td>1</td>\n",
              "    </tr>\n",
              "    <tr>\n",
              "      <th>1</th>\n",
              "      <td>1</td>\n",
              "      <td>2020-08-04 23:31:56+00:00</td>\n",
              "      <td>#HelloStrangerEP6 #HarrisonFord #GeorgeFloyd #...</td>\n",
              "      <td>0</td>\n",
              "      <td>HelloStrangerEP HarrisonFord GeorgeFloyd JiCha...</td>\n",
              "      <td>['hellostrangerep', 'harrisonford', 'georgeflo...</td>\n",
              "      <td>['hellostrangerep', 'harrisonford', 'georgeflo...</td>\n",
              "      <td>['hellostrangerep', 'harrisonford', 'georgeflo...</td>\n",
              "      <td>['hellostrangerep', 'harrisonford', 'georgeflo...</td>\n",
              "      <td>0.000000</td>\n",
              "      <td>0.000000</td>\n",
              "      <td>Neutral</td>\n",
              "      <td>0</td>\n",
              "    </tr>\n",
              "    <tr>\n",
              "      <th>2</th>\n",
              "      <td>2</td>\n",
              "      <td>2020-08-04 22:22:30+00:00</td>\n",
              "      <td>@cbseindia29 @PMOIndia @narendramodi @DrRPNish...</td>\n",
              "      <td>1</td>\n",
              "      <td>cbseindia PMOIndia narendramodi DrRPNishank AB...</td>\n",
              "      <td>['cbseindia', 'pmoindia', 'narendramodi', 'drr...</td>\n",
              "      <td>['cbseindia', 'pmoindia', 'narendramodi', 'drr...</td>\n",
              "      <td>['cbseindia', 'pmoindia', 'narendramodi', 'drr...</td>\n",
              "      <td>['cbseindia', 'pmoindia', 'narendramodi', 'drr...</td>\n",
              "      <td>-0.015909</td>\n",
              "      <td>0.394886</td>\n",
              "      <td>Negative</td>\n",
              "      <td>-1</td>\n",
              "    </tr>\n",
              "    <tr>\n",
              "      <th>3</th>\n",
              "      <td>3</td>\n",
              "      <td>2020-08-04 22:20:56+00:00</td>\n",
              "      <td>@PMOIndia’s anti-democratic #NEP2020 was 400+ ...</td>\n",
              "      <td>1</td>\n",
              "      <td>PMOIndia’s antidemocratic NEP was  pgs in  dra...</td>\n",
              "      <td>['pmoindia', 's', 'antidemocratic', 'nep', 'wa...</td>\n",
              "      <td>['pmoindia', 'antidemocratic', 'nep', 'pgs', '...</td>\n",
              "      <td>['pmoindia', 'antidemocrat', 'nep', 'pg', 'dra...</td>\n",
              "      <td>['pmoindia', 'antidemocratic', 'nep', 'pgs', '...</td>\n",
              "      <td>0.375000</td>\n",
              "      <td>0.750000</td>\n",
              "      <td>Positive</td>\n",
              "      <td>1</td>\n",
              "    </tr>\n",
              "    <tr>\n",
              "      <th>4</th>\n",
              "      <td>4</td>\n",
              "      <td>2020-08-04 21:01:14+00:00</td>\n",
              "      <td>The latest The Nursing Education Daily! http:/...</td>\n",
              "      <td>0</td>\n",
              "      <td>The latest The Nursing Education Daily httpned...</td>\n",
              "      <td>['the', 'latest', 'the', 'nursing', 'education...</td>\n",
              "      <td>['latest', 'nursing', 'education', 'daily', 'h...</td>\n",
              "      <td>['latest', 'nurs', 'educ', 'daili', 'httpnedsk...</td>\n",
              "      <td>['latest', 'nursing', 'education', 'daily', 'h...</td>\n",
              "      <td>0.233333</td>\n",
              "      <td>0.366667</td>\n",
              "      <td>Positive</td>\n",
              "      <td>1</td>\n",
              "    </tr>\n",
              "  </tbody>\n",
              "</table>\n",
              "</div>\n",
              "      <button class=\"colab-df-convert\" onclick=\"convertToInteractive('df-f2df9f14-b1a0-472e-bd76-9e1aaf75d110')\"\n",
              "              title=\"Convert this dataframe to an interactive table.\"\n",
              "              style=\"display:none;\">\n",
              "        \n",
              "  <svg xmlns=\"http://www.w3.org/2000/svg\" height=\"24px\"viewBox=\"0 0 24 24\"\n",
              "       width=\"24px\">\n",
              "    <path d=\"M0 0h24v24H0V0z\" fill=\"none\"/>\n",
              "    <path d=\"M18.56 5.44l.94 2.06.94-2.06 2.06-.94-2.06-.94-.94-2.06-.94 2.06-2.06.94zm-11 1L8.5 8.5l.94-2.06 2.06-.94-2.06-.94L8.5 2.5l-.94 2.06-2.06.94zm10 10l.94 2.06.94-2.06 2.06-.94-2.06-.94-.94-2.06-.94 2.06-2.06.94z\"/><path d=\"M17.41 7.96l-1.37-1.37c-.4-.4-.92-.59-1.43-.59-.52 0-1.04.2-1.43.59L10.3 9.45l-7.72 7.72c-.78.78-.78 2.05 0 2.83L4 21.41c.39.39.9.59 1.41.59.51 0 1.02-.2 1.41-.59l7.78-7.78 2.81-2.81c.8-.78.8-2.07 0-2.86zM5.41 20L4 18.59l7.72-7.72 1.47 1.35L5.41 20z\"/>\n",
              "  </svg>\n",
              "      </button>\n",
              "      \n",
              "  <style>\n",
              "    .colab-df-container {\n",
              "      display:flex;\n",
              "      flex-wrap:wrap;\n",
              "      gap: 12px;\n",
              "    }\n",
              "\n",
              "    .colab-df-convert {\n",
              "      background-color: #E8F0FE;\n",
              "      border: none;\n",
              "      border-radius: 50%;\n",
              "      cursor: pointer;\n",
              "      display: none;\n",
              "      fill: #1967D2;\n",
              "      height: 32px;\n",
              "      padding: 0 0 0 0;\n",
              "      width: 32px;\n",
              "    }\n",
              "\n",
              "    .colab-df-convert:hover {\n",
              "      background-color: #E2EBFA;\n",
              "      box-shadow: 0px 1px 2px rgba(60, 64, 67, 0.3), 0px 1px 3px 1px rgba(60, 64, 67, 0.15);\n",
              "      fill: #174EA6;\n",
              "    }\n",
              "\n",
              "    [theme=dark] .colab-df-convert {\n",
              "      background-color: #3B4455;\n",
              "      fill: #D2E3FC;\n",
              "    }\n",
              "\n",
              "    [theme=dark] .colab-df-convert:hover {\n",
              "      background-color: #434B5C;\n",
              "      box-shadow: 0px 1px 3px 1px rgba(0, 0, 0, 0.15);\n",
              "      filter: drop-shadow(0px 1px 2px rgba(0, 0, 0, 0.3));\n",
              "      fill: #FFFFFF;\n",
              "    }\n",
              "  </style>\n",
              "\n",
              "      <script>\n",
              "        const buttonEl =\n",
              "          document.querySelector('#df-f2df9f14-b1a0-472e-bd76-9e1aaf75d110 button.colab-df-convert');\n",
              "        buttonEl.style.display =\n",
              "          google.colab.kernel.accessAllowed ? 'block' : 'none';\n",
              "\n",
              "        async function convertToInteractive(key) {\n",
              "          const element = document.querySelector('#df-f2df9f14-b1a0-472e-bd76-9e1aaf75d110');\n",
              "          const dataTable =\n",
              "            await google.colab.kernel.invokeFunction('convertToInteractive',\n",
              "                                                     [key], {});\n",
              "          if (!dataTable) return;\n",
              "\n",
              "          const docLinkHtml = 'Like what you see? Visit the ' +\n",
              "            '<a target=\"_blank\" href=https://colab.research.google.com/notebooks/data_table.ipynb>data table notebook</a>'\n",
              "            + ' to learn more about interactive tables.';\n",
              "          element.innerHTML = '';\n",
              "          dataTable['output_type'] = 'display_data';\n",
              "          await google.colab.output.renderOutput(dataTable, element);\n",
              "          const docLink = document.createElement('div');\n",
              "          docLink.innerHTML = docLinkHtml;\n",
              "          element.appendChild(docLink);\n",
              "        }\n",
              "      </script>\n",
              "    </div>\n",
              "  </div>\n",
              "  "
            ]
          },
          "metadata": {},
          "execution_count": 8
        }
      ],
      "source": [
        "train.head()"
      ]
    },
    {
      "cell_type": "code",
      "execution_count": null,
      "id": "a2175e10",
      "metadata": {
        "id": "a2175e10"
      },
      "outputs": [],
      "source": [
        "#Selecting the features and the target variable\n",
        "X = train['Tweet_lemmatized']\n",
        "y = train[\"sentiment\"]"
      ]
    },
    {
      "cell_type": "code",
      "execution_count": null,
      "id": "7243a581",
      "metadata": {
        "colab": {
          "base_uri": "https://localhost:8080/"
        },
        "id": "7243a581",
        "outputId": "e76f99ec-992c-4b1b-824e-fac2c109a20a"
      },
      "outputs": [
        {
          "output_type": "execute_result",
          "data": {
            "text/plain": [
              "0       1\n",
              "1       0\n",
              "2      -1\n",
              "3       1\n",
              "4       1\n",
              "       ..\n",
              "6853    1\n",
              "6854    1\n",
              "6855    0\n",
              "6856    0\n",
              "6857    1\n",
              "Name: sentiment, Length: 6858, dtype: int64"
            ]
          },
          "metadata": {},
          "execution_count": 10
        }
      ],
      "source": [
        "y"
      ]
    },
    {
      "cell_type": "markdown",
      "id": "f5217c2b",
      "metadata": {
        "id": "f5217c2b"
      },
      "source": [
        "Splitting the training dataset as training and validation "
      ]
    },
    {
      "cell_type": "code",
      "execution_count": null,
      "id": "8fd0d416",
      "metadata": {
        "id": "8fd0d416"
      },
      "outputs": [],
      "source": [
        "from sklearn.model_selection import train_test_split\n",
        "from sklearn.model_selection import cross_val_score\n",
        "from sklearn.metrics import confusion_matrix\n",
        "\n",
        "X_train, X_val, y_train, y_val= train_test_split(X, y, test_size=0.2, random_state=43, stratify=y)"
      ]
    },
    {
      "cell_type": "markdown",
      "id": "37ef88d4",
      "metadata": {
        "id": "37ef88d4"
      },
      "source": [
        "Vectorizing the training, testing and validation datasets"
      ]
    },
    {
      "cell_type": "code",
      "execution_count": null,
      "id": "4023bcfc",
      "metadata": {
        "id": "4023bcfc"
      },
      "outputs": [],
      "source": [
        "from sklearn.feature_extraction.text import TfidfVectorizer\n",
        "\n",
        "vectorize = TfidfVectorizer()\n",
        "\n",
        "# Fits the vectorizer with the training data\n",
        "X_train = vectorize.fit_transform(X_train)\n",
        "\n",
        "# Fits the validation data with the vectorizer\n",
        "X_val = vectorize.transform(X_val)\n",
        "tfidf_test = vectorize.transform(X_test)"
      ]
    },
    {
      "cell_type": "markdown",
      "id": "967f14fc",
      "metadata": {
        "id": "967f14fc"
      },
      "source": [
        "Using SMOTE to deal with class imbalance in the training data"
      ]
    },
    {
      "cell_type": "code",
      "execution_count": null,
      "id": "d263378a",
      "metadata": {
        "colab": {
          "base_uri": "https://localhost:8080/"
        },
        "id": "d263378a",
        "outputId": "d485f0c9-ed25-44fe-de82-209117c05a52"
      },
      "outputs": [
        {
          "output_type": "stream",
          "name": "stdout",
          "text": [
            "After OverSampling, counts of label '1': 3071\n",
            "After OverSampling, counts of label '0': 3071\n",
            "After OverSampling, counts of label '-1': 3071\n"
          ]
        }
      ],
      "source": [
        "# import SMOTE module from imblearn library\n",
        "from imblearn.over_sampling import SMOTE\n",
        "sm = SMOTE(random_state = 2)\n",
        "X_train_smote, y_train_smote = sm.fit_resample(X_train, y_train.ravel())\n",
        "\n",
        "\n",
        "\n",
        "print(\"After OverSampling, counts of label '1': {}\".format(sum(y_train_smote == 1)))\n",
        "print(\"After OverSampling, counts of label '0': {}\".format(sum(y_train_smote == 0)))\n",
        "print(\"After OverSampling, counts of label '-1': {}\".format(sum(y_train_smote == -1)))"
      ]
    },
    {
      "cell_type": "markdown",
      "id": "67647335",
      "metadata": {
        "id": "67647335"
      },
      "source": [
        "Training the model using SVM"
      ]
    },
    {
      "cell_type": "code",
      "execution_count": null,
      "id": "6cbab57b",
      "metadata": {
        "id": "6cbab57b"
      },
      "outputs": [],
      "source": [
        "from sklearn import svm"
      ]
    },
    {
      "cell_type": "code",
      "execution_count": null,
      "id": "f60d7a80",
      "metadata": {
        "colab": {
          "base_uri": "https://localhost:8080/"
        },
        "id": "f60d7a80",
        "outputId": "a036a240-69d9-4b2b-c42d-662475cc3156"
      },
      "outputs": [
        {
          "output_type": "execute_result",
          "data": {
            "text/plain": [
              "SVC(gamma='auto', kernel='linear')"
            ]
          },
          "metadata": {},
          "execution_count": 15
        }
      ],
      "source": [
        "SVM = svm.SVC(C=1.0, kernel='linear', degree=3, gamma='auto')\n",
        "SVM.fit(X_train_smote, y_train_smote)"
      ]
    },
    {
      "cell_type": "markdown",
      "id": "431cd1b4",
      "metadata": {
        "id": "431cd1b4"
      },
      "source": [
        "__To check the accuracy, predicting the values of X_val and comparing with y_val__"
      ]
    },
    {
      "cell_type": "code",
      "execution_count": null,
      "id": "810a69a8",
      "metadata": {
        "id": "810a69a8"
      },
      "outputs": [],
      "source": [
        "# predict the labels on validation dataset\n",
        "predictions_SVM = SVM.predict(X_val)"
      ]
    },
    {
      "cell_type": "code",
      "execution_count": null,
      "id": "aaa8a567",
      "metadata": {
        "colab": {
          "base_uri": "https://localhost:8080/"
        },
        "id": "aaa8a567",
        "outputId": "8d67c1e7-e23b-4204-c5f4-ee0111828057"
      },
      "outputs": [
        {
          "output_type": "stream",
          "name": "stdout",
          "text": [
            "Confusion Matrix\n",
            "\n",
            "[[106  29  52]\n",
            " [ 23 347  47]\n",
            " [ 21  68 679]]\n",
            "              precision    recall  f1-score   support\n",
            "\n",
            "          -1       0.71      0.57      0.63       187\n",
            "           0       0.78      0.83      0.81       417\n",
            "           1       0.87      0.88      0.88       768\n",
            "\n",
            "    accuracy                           0.83      1372\n",
            "   macro avg       0.79      0.76      0.77      1372\n",
            "weighted avg       0.82      0.83      0.82      1372\n",
            "\n"
          ]
        }
      ],
      "source": [
        "# Prints the confusion matrix \n",
        "from sklearn.metrics import confusion_matrix\n",
        "from sklearn.metrics import classification_report\n",
        "cm = confusion_matrix(y_val, predictions_SVM)\n",
        "print(\"Confusion Matrix\\n\")\n",
        "print(cm)\n",
        "\n",
        "print(classification_report(y_val,predictions_SVM))"
      ]
    },
    {
      "cell_type": "markdown",
      "id": "80377e02",
      "metadata": {
        "id": "80377e02"
      },
      "source": [
        "__Predicting the values of testing data__"
      ]
    },
    {
      "cell_type": "code",
      "execution_count": null,
      "id": "82c60792",
      "metadata": {
        "id": "82c60792"
      },
      "outputs": [],
      "source": [
        "pred = SVM.predict(tfidf_test)"
      ]
    },
    {
      "cell_type": "code",
      "execution_count": null,
      "id": "5af0dd42",
      "metadata": {
        "colab": {
          "base_uri": "https://localhost:8080/"
        },
        "id": "5af0dd42",
        "outputId": "e15c2882-15b7-4745-f5ba-9c486acfe701"
      },
      "outputs": [
        {
          "output_type": "execute_result",
          "data": {
            "text/plain": [
              "array([ 0,  0,  0,  1,  1,  1, -1,  1,  0,  1,  1,  1,  1,  1,  0,  0,  0,\n",
              "        1,  1,  1,  1,  0,  0,  1,  0,  0,  0,  0,  0,  1,  0,  0,  1,  0,\n",
              "        0,  0,  0,  1,  0,  0,  0,  0,  1,  0,  1,  1,  0,  0,  1,  0,  1,\n",
              "        0,  0, -1,  0,  0,  0,  0,  0,  1,  1,  1,  0,  0,  1,  0,  0,  1,\n",
              "        0,  0,  0,  1,  0,  1,  1,  0,  0,  0,  0,  1,  0,  1,  1,  1, -1,\n",
              "        0,  0,  1,  0,  0,  1,  1, -1,  0,  0,  1,  0,  0,  0,  1,  0,  1,\n",
              "        1, -1,  1,  1,  0,  1,  1,  0,  0, -1, -1, -1,  0,  1,  1,  0,  1,\n",
              "        0, -1,  1,  1,  0,  1, -1, -1,  0,  1,  0, -1,  0, -1, -1, -1, -1,\n",
              "       -1, -1,  0, -1,  0,  0,  0, -1,  0, -1, -1,  0,  0, -1,  0, -1, -1,\n",
              "        0,  0, -1, -1,  0,  1,  0,  0,  1, -1,  1,  1,  1,  1,  1,  1,  1,\n",
              "        0,  1,  1,  1,  1,  1,  1,  1,  0,  0,  1,  1,  1,  0,  0,  1,  1,\n",
              "        1,  0,  1,  0,  1,  1,  0,  1,  0,  0, -1,  0,  0,  1,  1, -1,  1,\n",
              "        1,  1,  0,  0,  0,  0,  0, -1,  0,  1,  0,  0,  1,  0,  0,  1,  0,\n",
              "        1,  0,  1,  1,  0,  0,  0,  0,  0,  0,  1, -1,  1,  0,  0,  1,  0,\n",
              "        1,  1,  1,  1,  1,  0,  1,  0,  0,  1,  0,  1,  0,  1,  0,  0, -1,\n",
              "        0, -1,  1,  1,  0,  1,  1,  1, -1,  0,  1, -1,  1,  0,  1,  0,  0,\n",
              "        0,  1,  1,  0,  1,  1,  1, -1, -1,  0, -1,  0,  1,  0,  0,  1,  1,\n",
              "        0,  0,  0,  0,  0,  1,  0,  0,  1,  1,  0,  0, -1,  0,  0,  0,  0,\n",
              "        0,  0,  0,  0,  1,  1,  0,  0,  0,  1,  0,  0,  0,  0,  0,  0,  0,\n",
              "        0,  1,  1,  0,  1, -1,  1,  1,  0,  0,  0,  0,  1,  1,  1,  1,  1,\n",
              "        1,  1,  0,  0,  1,  1,  1,  0,  1,  1,  0,  1,  0,  0,  1,  1,  1,\n",
              "        1, -1,  0,  1,  1,  0,  1,  1, -1,  1,  0,  0,  0,  0,  0,  0,  0,\n",
              "        0,  0,  0,  0,  0,  0,  0,  0,  0,  0,  0,  0,  0,  0,  0,  0,  0,\n",
              "        0,  0,  0,  1,  0,  0,  0,  0,  0,  0,  0,  0, -1, -1,  1,  0,  0,\n",
              "        0, -1,  0,  0, -1,  0,  0, -1, -1,  0,  0,  0,  0,  0,  0, -1,  0,\n",
              "        0,  0,  0,  0,  0,  0, -1, -1,  0, -1, -1, -1,  0,  0,  0,  0,  1,\n",
              "        0,  0,  0, -1,  0,  0,  0,  0,  0,  0, -1,  0,  0,  0,  0,  0,  0,\n",
              "        0, -1,  0, -1, -1,  0,  0,  0,  0, -1,  0,  0,  0,  0, -1,  0,  0,\n",
              "       -1,  0,  0, -1,  0, -1, -1, -1, -1, -1,  0,  0,  0,  1,  0,  0,  0,\n",
              "        0,  0,  0,  0,  0,  0,  0,  0,  0,  0,  0,  0,  0,  0,  0, -1, -1,\n",
              "       -1,  0,  0, -1,  0,  0,  0,  0,  0,  0,  1,  0,  1,  1,  1,  1,  0,\n",
              "        1,  1,  0])"
            ]
          },
          "metadata": {},
          "execution_count": 19
        }
      ],
      "source": [
        "pred"
      ]
    },
    {
      "cell_type": "code",
      "execution_count": null,
      "id": "5566c366",
      "metadata": {
        "scrolled": false,
        "colab": {
          "base_uri": "https://localhost:8080/",
          "height": 424
        },
        "id": "5566c366",
        "outputId": "cf5b740d-ee06-470e-e049-580dc531a576"
      },
      "outputs": [
        {
          "output_type": "execute_result",
          "data": {
            "text/plain": [
              "                                      Tweet_lemmatized\n",
              "0    ['rt', 'rajsahni', 'national', 'institute', 't...\n",
              "1    ['rt', 'tataclassedge', 'greeting', 'auspiciou...\n",
              "2    ['greeting', 'auspicious', 'occasion', 'ram', ...\n",
              "3    ['rt', 'kumaramitmea', 'wonderful', 'discussio...\n",
              "4    ['rt', 'eduminofindia', 'aapbhibanebhagidar', ...\n",
              "..                                                 ...\n",
              "525  ['prof', 'op', 'kalra', 'vicechancellor', 'sgt...\n",
              "526  ['math', 'optional', 'ugdiploma', 'engineering...\n",
              "527  ['rt', 'narayandojo', 'session', 'kuch', 'naya...\n",
              "528  ['session', 'kuch', 'naya', 'seekhate', 'hai',...\n",
              "529  ['rt', 'sarveshgoel', 'two', 'day', 'conventio...\n",
              "\n",
              "[530 rows x 1 columns]"
            ],
            "text/html": [
              "\n",
              "  <div id=\"df-e7837bd7-1eb6-4fdf-8e15-eb4946982f4e\">\n",
              "    <div class=\"colab-df-container\">\n",
              "      <div>\n",
              "<style scoped>\n",
              "    .dataframe tbody tr th:only-of-type {\n",
              "        vertical-align: middle;\n",
              "    }\n",
              "\n",
              "    .dataframe tbody tr th {\n",
              "        vertical-align: top;\n",
              "    }\n",
              "\n",
              "    .dataframe thead th {\n",
              "        text-align: right;\n",
              "    }\n",
              "</style>\n",
              "<table border=\"1\" class=\"dataframe\">\n",
              "  <thead>\n",
              "    <tr style=\"text-align: right;\">\n",
              "      <th></th>\n",
              "      <th>Tweet_lemmatized</th>\n",
              "    </tr>\n",
              "  </thead>\n",
              "  <tbody>\n",
              "    <tr>\n",
              "      <th>0</th>\n",
              "      <td>['rt', 'rajsahni', 'national', 'institute', 't...</td>\n",
              "    </tr>\n",
              "    <tr>\n",
              "      <th>1</th>\n",
              "      <td>['rt', 'tataclassedge', 'greeting', 'auspiciou...</td>\n",
              "    </tr>\n",
              "    <tr>\n",
              "      <th>2</th>\n",
              "      <td>['greeting', 'auspicious', 'occasion', 'ram', ...</td>\n",
              "    </tr>\n",
              "    <tr>\n",
              "      <th>3</th>\n",
              "      <td>['rt', 'kumaramitmea', 'wonderful', 'discussio...</td>\n",
              "    </tr>\n",
              "    <tr>\n",
              "      <th>4</th>\n",
              "      <td>['rt', 'eduminofindia', 'aapbhibanebhagidar', ...</td>\n",
              "    </tr>\n",
              "    <tr>\n",
              "      <th>...</th>\n",
              "      <td>...</td>\n",
              "    </tr>\n",
              "    <tr>\n",
              "      <th>525</th>\n",
              "      <td>['prof', 'op', 'kalra', 'vicechancellor', 'sgt...</td>\n",
              "    </tr>\n",
              "    <tr>\n",
              "      <th>526</th>\n",
              "      <td>['math', 'optional', 'ugdiploma', 'engineering...</td>\n",
              "    </tr>\n",
              "    <tr>\n",
              "      <th>527</th>\n",
              "      <td>['rt', 'narayandojo', 'session', 'kuch', 'naya...</td>\n",
              "    </tr>\n",
              "    <tr>\n",
              "      <th>528</th>\n",
              "      <td>['session', 'kuch', 'naya', 'seekhate', 'hai',...</td>\n",
              "    </tr>\n",
              "    <tr>\n",
              "      <th>529</th>\n",
              "      <td>['rt', 'sarveshgoel', 'two', 'day', 'conventio...</td>\n",
              "    </tr>\n",
              "  </tbody>\n",
              "</table>\n",
              "<p>530 rows × 1 columns</p>\n",
              "</div>\n",
              "      <button class=\"colab-df-convert\" onclick=\"convertToInteractive('df-e7837bd7-1eb6-4fdf-8e15-eb4946982f4e')\"\n",
              "              title=\"Convert this dataframe to an interactive table.\"\n",
              "              style=\"display:none;\">\n",
              "        \n",
              "  <svg xmlns=\"http://www.w3.org/2000/svg\" height=\"24px\"viewBox=\"0 0 24 24\"\n",
              "       width=\"24px\">\n",
              "    <path d=\"M0 0h24v24H0V0z\" fill=\"none\"/>\n",
              "    <path d=\"M18.56 5.44l.94 2.06.94-2.06 2.06-.94-2.06-.94-.94-2.06-.94 2.06-2.06.94zm-11 1L8.5 8.5l.94-2.06 2.06-.94-2.06-.94L8.5 2.5l-.94 2.06-2.06.94zm10 10l.94 2.06.94-2.06 2.06-.94-2.06-.94-.94-2.06-.94 2.06-2.06.94z\"/><path d=\"M17.41 7.96l-1.37-1.37c-.4-.4-.92-.59-1.43-.59-.52 0-1.04.2-1.43.59L10.3 9.45l-7.72 7.72c-.78.78-.78 2.05 0 2.83L4 21.41c.39.39.9.59 1.41.59.51 0 1.02-.2 1.41-.59l7.78-7.78 2.81-2.81c.8-.78.8-2.07 0-2.86zM5.41 20L4 18.59l7.72-7.72 1.47 1.35L5.41 20z\"/>\n",
              "  </svg>\n",
              "      </button>\n",
              "      \n",
              "  <style>\n",
              "    .colab-df-container {\n",
              "      display:flex;\n",
              "      flex-wrap:wrap;\n",
              "      gap: 12px;\n",
              "    }\n",
              "\n",
              "    .colab-df-convert {\n",
              "      background-color: #E8F0FE;\n",
              "      border: none;\n",
              "      border-radius: 50%;\n",
              "      cursor: pointer;\n",
              "      display: none;\n",
              "      fill: #1967D2;\n",
              "      height: 32px;\n",
              "      padding: 0 0 0 0;\n",
              "      width: 32px;\n",
              "    }\n",
              "\n",
              "    .colab-df-convert:hover {\n",
              "      background-color: #E2EBFA;\n",
              "      box-shadow: 0px 1px 2px rgba(60, 64, 67, 0.3), 0px 1px 3px 1px rgba(60, 64, 67, 0.15);\n",
              "      fill: #174EA6;\n",
              "    }\n",
              "\n",
              "    [theme=dark] .colab-df-convert {\n",
              "      background-color: #3B4455;\n",
              "      fill: #D2E3FC;\n",
              "    }\n",
              "\n",
              "    [theme=dark] .colab-df-convert:hover {\n",
              "      background-color: #434B5C;\n",
              "      box-shadow: 0px 1px 3px 1px rgba(0, 0, 0, 0.15);\n",
              "      filter: drop-shadow(0px 1px 2px rgba(0, 0, 0, 0.3));\n",
              "      fill: #FFFFFF;\n",
              "    }\n",
              "  </style>\n",
              "\n",
              "      <script>\n",
              "        const buttonEl =\n",
              "          document.querySelector('#df-e7837bd7-1eb6-4fdf-8e15-eb4946982f4e button.colab-df-convert');\n",
              "        buttonEl.style.display =\n",
              "          google.colab.kernel.accessAllowed ? 'block' : 'none';\n",
              "\n",
              "        async function convertToInteractive(key) {\n",
              "          const element = document.querySelector('#df-e7837bd7-1eb6-4fdf-8e15-eb4946982f4e');\n",
              "          const dataTable =\n",
              "            await google.colab.kernel.invokeFunction('convertToInteractive',\n",
              "                                                     [key], {});\n",
              "          if (!dataTable) return;\n",
              "\n",
              "          const docLinkHtml = 'Like what you see? Visit the ' +\n",
              "            '<a target=\"_blank\" href=https://colab.research.google.com/notebooks/data_table.ipynb>data table notebook</a>'\n",
              "            + ' to learn more about interactive tables.';\n",
              "          element.innerHTML = '';\n",
              "          dataTable['output_type'] = 'display_data';\n",
              "          await google.colab.output.renderOutput(dataTable, element);\n",
              "          const docLink = document.createElement('div');\n",
              "          docLink.innerHTML = docLinkHtml;\n",
              "          element.appendChild(docLink);\n",
              "        }\n",
              "      </script>\n",
              "    </div>\n",
              "  </div>\n",
              "  "
            ]
          },
          "metadata": {},
          "execution_count": 28
        }
      ],
      "source": [
        "pd.DataFrame(X_test)"
      ]
    },
    {
      "cell_type": "code",
      "execution_count": null,
      "id": "6b2333dd",
      "metadata": {
        "id": "6b2333dd"
      },
      "outputs": [],
      "source": [
        "df1 = pd.DataFrame(pred)"
      ]
    },
    {
      "cell_type": "code",
      "execution_count": null,
      "id": "7d5fa1db",
      "metadata": {
        "id": "7d5fa1db"
      },
      "outputs": [],
      "source": [
        "result = pd.concat([X_test, df1], axis=1)"
      ]
    },
    {
      "cell_type": "code",
      "execution_count": null,
      "id": "9bf5472a",
      "metadata": {
        "colab": {
          "base_uri": "https://localhost:8080/",
          "height": 676
        },
        "id": "9bf5472a",
        "outputId": "56d1c67a-8420-4665-f483-6bd52b16f1a6"
      },
      "outputs": [
        {
          "output_type": "execute_result",
          "data": {
            "text/plain": [
              "                                     Tweet_lemmatized  0\n",
              "0   ['rt', 'rajsahni', 'national', 'institute', 't...  0\n",
              "1   ['rt', 'tataclassedge', 'greeting', 'auspiciou...  0\n",
              "2   ['greeting', 'auspicious', 'occasion', 'ram', ...  0\n",
              "3   ['rt', 'kumaramitmea', 'wonderful', 'discussio...  1\n",
              "4   ['rt', 'eduminofindia', 'aapbhibanebhagidar', ...  1\n",
              "5   ['kaviclasses', 'nctedelhi', 'dpradhanbjp', 'a...  1\n",
              "6   ['rt', 'airnewsalerts', 'per', 'provision', 'n... -1\n",
              "7   ['rt', 'airnewsalerts', 'pursuance', 'national...  1\n",
              "8   ['honoured', 'felicitated', 'dr', 'jsshunty', ...  0\n",
              "9   ['rt', 'humaira', 'carrying', 'mission', 'insp...  1\n",
              "10  ['rt', 'arunlovy', 'heavy', 'burden', 'school'...  1\n",
              "11  ['great', 'emperor', 'samratashoka', 'mangalpa...  1\n",
              "12  ['heavy', 'burden', 'school', 'bag', 'shoulder...  1\n",
              "13  ['wonderful', 'discussion', 'w', 'rachel', 'cr...  1\n",
              "14  ['rt', 'ipnfoundation', 'ipn', 'kolkata', 'asc...  0\n",
              "15  ['national', 'institute', 'technology', 'nit',...  0\n",
              "16  ['teacher', 'key', 'implement', 'nep', 'chalkl...  0\n",
              "17  ['rt', 'rtiexpress', 'read', 'nationaleducatio...  1\n",
              "18  ['rt', 'eduminofindia', 'laying', 'emphasis', ...  1\n",
              "19  ['carrying', 'mission', 'inspecting', 'school'...  1"
            ],
            "text/html": [
              "\n",
              "  <div id=\"df-07362b9a-abe2-4b10-82b4-a419f793d8e0\">\n",
              "    <div class=\"colab-df-container\">\n",
              "      <div>\n",
              "<style scoped>\n",
              "    .dataframe tbody tr th:only-of-type {\n",
              "        vertical-align: middle;\n",
              "    }\n",
              "\n",
              "    .dataframe tbody tr th {\n",
              "        vertical-align: top;\n",
              "    }\n",
              "\n",
              "    .dataframe thead th {\n",
              "        text-align: right;\n",
              "    }\n",
              "</style>\n",
              "<table border=\"1\" class=\"dataframe\">\n",
              "  <thead>\n",
              "    <tr style=\"text-align: right;\">\n",
              "      <th></th>\n",
              "      <th>Tweet_lemmatized</th>\n",
              "      <th>0</th>\n",
              "    </tr>\n",
              "  </thead>\n",
              "  <tbody>\n",
              "    <tr>\n",
              "      <th>0</th>\n",
              "      <td>['rt', 'rajsahni', 'national', 'institute', 't...</td>\n",
              "      <td>0</td>\n",
              "    </tr>\n",
              "    <tr>\n",
              "      <th>1</th>\n",
              "      <td>['rt', 'tataclassedge', 'greeting', 'auspiciou...</td>\n",
              "      <td>0</td>\n",
              "    </tr>\n",
              "    <tr>\n",
              "      <th>2</th>\n",
              "      <td>['greeting', 'auspicious', 'occasion', 'ram', ...</td>\n",
              "      <td>0</td>\n",
              "    </tr>\n",
              "    <tr>\n",
              "      <th>3</th>\n",
              "      <td>['rt', 'kumaramitmea', 'wonderful', 'discussio...</td>\n",
              "      <td>1</td>\n",
              "    </tr>\n",
              "    <tr>\n",
              "      <th>4</th>\n",
              "      <td>['rt', 'eduminofindia', 'aapbhibanebhagidar', ...</td>\n",
              "      <td>1</td>\n",
              "    </tr>\n",
              "    <tr>\n",
              "      <th>5</th>\n",
              "      <td>['kaviclasses', 'nctedelhi', 'dpradhanbjp', 'a...</td>\n",
              "      <td>1</td>\n",
              "    </tr>\n",
              "    <tr>\n",
              "      <th>6</th>\n",
              "      <td>['rt', 'airnewsalerts', 'per', 'provision', 'n...</td>\n",
              "      <td>-1</td>\n",
              "    </tr>\n",
              "    <tr>\n",
              "      <th>7</th>\n",
              "      <td>['rt', 'airnewsalerts', 'pursuance', 'national...</td>\n",
              "      <td>1</td>\n",
              "    </tr>\n",
              "    <tr>\n",
              "      <th>8</th>\n",
              "      <td>['honoured', 'felicitated', 'dr', 'jsshunty', ...</td>\n",
              "      <td>0</td>\n",
              "    </tr>\n",
              "    <tr>\n",
              "      <th>9</th>\n",
              "      <td>['rt', 'humaira', 'carrying', 'mission', 'insp...</td>\n",
              "      <td>1</td>\n",
              "    </tr>\n",
              "    <tr>\n",
              "      <th>10</th>\n",
              "      <td>['rt', 'arunlovy', 'heavy', 'burden', 'school'...</td>\n",
              "      <td>1</td>\n",
              "    </tr>\n",
              "    <tr>\n",
              "      <th>11</th>\n",
              "      <td>['great', 'emperor', 'samratashoka', 'mangalpa...</td>\n",
              "      <td>1</td>\n",
              "    </tr>\n",
              "    <tr>\n",
              "      <th>12</th>\n",
              "      <td>['heavy', 'burden', 'school', 'bag', 'shoulder...</td>\n",
              "      <td>1</td>\n",
              "    </tr>\n",
              "    <tr>\n",
              "      <th>13</th>\n",
              "      <td>['wonderful', 'discussion', 'w', 'rachel', 'cr...</td>\n",
              "      <td>1</td>\n",
              "    </tr>\n",
              "    <tr>\n",
              "      <th>14</th>\n",
              "      <td>['rt', 'ipnfoundation', 'ipn', 'kolkata', 'asc...</td>\n",
              "      <td>0</td>\n",
              "    </tr>\n",
              "    <tr>\n",
              "      <th>15</th>\n",
              "      <td>['national', 'institute', 'technology', 'nit',...</td>\n",
              "      <td>0</td>\n",
              "    </tr>\n",
              "    <tr>\n",
              "      <th>16</th>\n",
              "      <td>['teacher', 'key', 'implement', 'nep', 'chalkl...</td>\n",
              "      <td>0</td>\n",
              "    </tr>\n",
              "    <tr>\n",
              "      <th>17</th>\n",
              "      <td>['rt', 'rtiexpress', 'read', 'nationaleducatio...</td>\n",
              "      <td>1</td>\n",
              "    </tr>\n",
              "    <tr>\n",
              "      <th>18</th>\n",
              "      <td>['rt', 'eduminofindia', 'laying', 'emphasis', ...</td>\n",
              "      <td>1</td>\n",
              "    </tr>\n",
              "    <tr>\n",
              "      <th>19</th>\n",
              "      <td>['carrying', 'mission', 'inspecting', 'school'...</td>\n",
              "      <td>1</td>\n",
              "    </tr>\n",
              "  </tbody>\n",
              "</table>\n",
              "</div>\n",
              "      <button class=\"colab-df-convert\" onclick=\"convertToInteractive('df-07362b9a-abe2-4b10-82b4-a419f793d8e0')\"\n",
              "              title=\"Convert this dataframe to an interactive table.\"\n",
              "              style=\"display:none;\">\n",
              "        \n",
              "  <svg xmlns=\"http://www.w3.org/2000/svg\" height=\"24px\"viewBox=\"0 0 24 24\"\n",
              "       width=\"24px\">\n",
              "    <path d=\"M0 0h24v24H0V0z\" fill=\"none\"/>\n",
              "    <path d=\"M18.56 5.44l.94 2.06.94-2.06 2.06-.94-2.06-.94-.94-2.06-.94 2.06-2.06.94zm-11 1L8.5 8.5l.94-2.06 2.06-.94-2.06-.94L8.5 2.5l-.94 2.06-2.06.94zm10 10l.94 2.06.94-2.06 2.06-.94-2.06-.94-.94-2.06-.94 2.06-2.06.94z\"/><path d=\"M17.41 7.96l-1.37-1.37c-.4-.4-.92-.59-1.43-.59-.52 0-1.04.2-1.43.59L10.3 9.45l-7.72 7.72c-.78.78-.78 2.05 0 2.83L4 21.41c.39.39.9.59 1.41.59.51 0 1.02-.2 1.41-.59l7.78-7.78 2.81-2.81c.8-.78.8-2.07 0-2.86zM5.41 20L4 18.59l7.72-7.72 1.47 1.35L5.41 20z\"/>\n",
              "  </svg>\n",
              "      </button>\n",
              "      \n",
              "  <style>\n",
              "    .colab-df-container {\n",
              "      display:flex;\n",
              "      flex-wrap:wrap;\n",
              "      gap: 12px;\n",
              "    }\n",
              "\n",
              "    .colab-df-convert {\n",
              "      background-color: #E8F0FE;\n",
              "      border: none;\n",
              "      border-radius: 50%;\n",
              "      cursor: pointer;\n",
              "      display: none;\n",
              "      fill: #1967D2;\n",
              "      height: 32px;\n",
              "      padding: 0 0 0 0;\n",
              "      width: 32px;\n",
              "    }\n",
              "\n",
              "    .colab-df-convert:hover {\n",
              "      background-color: #E2EBFA;\n",
              "      box-shadow: 0px 1px 2px rgba(60, 64, 67, 0.3), 0px 1px 3px 1px rgba(60, 64, 67, 0.15);\n",
              "      fill: #174EA6;\n",
              "    }\n",
              "\n",
              "    [theme=dark] .colab-df-convert {\n",
              "      background-color: #3B4455;\n",
              "      fill: #D2E3FC;\n",
              "    }\n",
              "\n",
              "    [theme=dark] .colab-df-convert:hover {\n",
              "      background-color: #434B5C;\n",
              "      box-shadow: 0px 1px 3px 1px rgba(0, 0, 0, 0.15);\n",
              "      filter: drop-shadow(0px 1px 2px rgba(0, 0, 0, 0.3));\n",
              "      fill: #FFFFFF;\n",
              "    }\n",
              "  </style>\n",
              "\n",
              "      <script>\n",
              "        const buttonEl =\n",
              "          document.querySelector('#df-07362b9a-abe2-4b10-82b4-a419f793d8e0 button.colab-df-convert');\n",
              "        buttonEl.style.display =\n",
              "          google.colab.kernel.accessAllowed ? 'block' : 'none';\n",
              "\n",
              "        async function convertToInteractive(key) {\n",
              "          const element = document.querySelector('#df-07362b9a-abe2-4b10-82b4-a419f793d8e0');\n",
              "          const dataTable =\n",
              "            await google.colab.kernel.invokeFunction('convertToInteractive',\n",
              "                                                     [key], {});\n",
              "          if (!dataTable) return;\n",
              "\n",
              "          const docLinkHtml = 'Like what you see? Visit the ' +\n",
              "            '<a target=\"_blank\" href=https://colab.research.google.com/notebooks/data_table.ipynb>data table notebook</a>'\n",
              "            + ' to learn more about interactive tables.';\n",
              "          element.innerHTML = '';\n",
              "          dataTable['output_type'] = 'display_data';\n",
              "          await google.colab.output.renderOutput(dataTable, element);\n",
              "          const docLink = document.createElement('div');\n",
              "          docLink.innerHTML = docLinkHtml;\n",
              "          element.appendChild(docLink);\n",
              "        }\n",
              "      </script>\n",
              "    </div>\n",
              "  </div>\n",
              "  "
            ]
          },
          "metadata": {},
          "execution_count": 23
        }
      ],
      "source": [
        "result.head(20)"
      ]
    },
    {
      "cell_type": "code",
      "execution_count": null,
      "id": "e266c5d9",
      "metadata": {
        "colab": {
          "base_uri": "https://localhost:8080/"
        },
        "id": "e266c5d9",
        "outputId": "61296bfc-0ff6-43b6-ca5e-9a38a123459c"
      },
      "outputs": [
        {
          "output_type": "execute_result",
          "data": {
            "text/plain": [
              "Index(['Tweet_lemmatized', 0], dtype='object')"
            ]
          },
          "metadata": {},
          "execution_count": 24
        }
      ],
      "source": [
        "result.columns"
      ]
    },
    {
      "cell_type": "code",
      "execution_count": null,
      "id": "c67120ab",
      "metadata": {
        "colab": {
          "base_uri": "https://localhost:8080/"
        },
        "id": "c67120ab",
        "outputId": "111a72da-c6d6-4a4c-ab04-3450d272b7cd"
      },
      "outputs": [
        {
          "output_type": "execute_result",
          "data": {
            "text/plain": [
              " 0    296\n",
              " 1    161\n",
              "-1     73\n",
              "Name: 0, dtype: int64"
            ]
          },
          "metadata": {},
          "execution_count": 25
        }
      ],
      "source": [
        "result[0].value_counts()"
      ]
    },
    {
      "cell_type": "markdown",
      "id": "48be0505",
      "metadata": {
        "id": "48be0505"
      },
      "source": [
        "#### We can observe that there are\n",
        "- 296 tweets which are categorized as neutral\n",
        "- 161 tweets which are categorized as positive\n",
        "- 73 tweets which are categorized as negative"
      ]
    },
    {
      "cell_type": "code",
      "execution_count": null,
      "id": "a655fcec",
      "metadata": {
        "id": "a655fcec"
      },
      "outputs": [],
      "source": [
        "import seaborn as sns"
      ]
    },
    {
      "cell_type": "code",
      "execution_count": null,
      "id": "6c651308",
      "metadata": {
        "colab": {
          "base_uri": "https://localhost:8080/",
          "height": 354
        },
        "id": "6c651308",
        "outputId": "108bdddf-4fa1-4e0a-b19b-550115e6abe8"
      },
      "outputs": [
        {
          "output_type": "stream",
          "name": "stderr",
          "text": [
            "/usr/local/lib/python3.7/dist-packages/seaborn/_decorators.py:43: FutureWarning: Pass the following variable as a keyword arg: x. From version 0.12, the only valid positional argument will be `data`, and passing other arguments without an explicit keyword will result in an error or misinterpretation.\n",
            "  FutureWarning\n"
          ]
        },
        {
          "output_type": "execute_result",
          "data": {
            "text/plain": [
              "<matplotlib.axes._subplots.AxesSubplot at 0x7fec743dae10>"
            ]
          },
          "metadata": {},
          "execution_count": 27
        },
        {
          "output_type": "display_data",
          "data": {
            "text/plain": [
              "<Figure size 432x288 with 1 Axes>"
            ],
            "image/png": "[encoded data removed]"
          },
          "metadata": {
            "needs_background": "light"
          }
        }
      ],
      "source": [
        "sns.countplot(result[0],data=result)"
      ]
    },
    {
      "cell_type": "markdown",
      "id": "0da0bd5a",
      "metadata": {
        "id": "0da0bd5a"
      },
      "source": [
        "Many of the tweets belong to neutral class. From this, we can conclude that a major portion of citizens neither support nor oppose the National Education Policy 2020."
      ]
    },
    {
      "cell_type": "code",
      "execution_count": null,
      "id": "a3082306",
      "metadata": {
        "id": "a3082306"
      },
      "outputs": [],
      "source": [
        ""
      ]
    }
  ],
  "metadata": {
    "colab": {
      "collapsed_sections": [],
      "name": "6_ML_Project_test_pred(final).ipynb",
      "provenance": []
    },
    "kernelspec": {
      "display_name": "Python 3 (ipykernel)",
      "language": "python",
      "name": "python3"
    },
    "language_info": {
      "codemirror_mode": {
        "name": "ipython",
        "version": 3
      },
      "file_extension": ".py",
      "mimetype": "text/x-python",
      "name": "python",
      "nbconvert_exporter": "python",
      "pygments_lexer": "ipython3",
      "version": "3.8.5"
    }
  },
  "nbformat": 4,
  "nbformat_minor": 5
}