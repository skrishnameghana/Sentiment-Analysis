{
  "cells": [
    {
      "cell_type": "markdown",
      "id": "278cf1e7",
      "metadata": {
        "id": "278cf1e7"
      },
      "source": [
        "# Preprocessing of Data for Testing\n"
      ]
    },
    {
      "cell_type": "code",
      "execution_count": null,
      "id": "5622db60",
      "metadata": {
        "id": "5622db60"
      },
      "outputs": [],
      "source": [
        "import pandas as pd\n",
        "import numpy as np\n",
        "\n",
        "#ignore warning messages \n",
        "import warnings\n",
        "warnings.filterwarnings('ignore')"
      ]
    },
    {
      "cell_type": "code",
      "execution_count": null,
      "id": "2bb0b895",
      "metadata": {
        "id": "2bb0b895"
      },
      "outputs": [],
      "source": [
        "#importing the training dataset\n",
        "nep1 = pd.read_csv(\"Downloads\\\\ML Project Sentiment Anlaysis\\\\nep1.csv\")\n",
        "nep2 = pd.read_csv(\"Downloads\\\\ML Project Sentiment Anlaysis\\\\nep2.csv\")\n",
        "nep3 = pd.read_csv(\"Downloads\\\\ML Project Sentiment Anlaysis\\\\nep3.csv\")\n",
        "rej1 = pd.read_csv(\"Downloads\\\\ML Project Sentiment Anlaysis\\\\reject1.csv\")\n",
        "rej2 = pd.read_csv(\"Downloads\\\\ML Project Sentiment Anlaysis\\\\reject3.csv\")\n",
        "nep4 = pd.read_csv(\"Downloads\\\\ML Project Sentiment Anlaysis\\\\raw3.csv\")\n",
        "nep5 = pd.read_csv(\"Downloads\\\\ML Project Sentiment Anlaysis\\\\rawdata1.csv\")\n",
        "nep6 = pd.read_csv(\"Downloads\\\\ML Project Sentiment Anlaysis\\\\nep5.csv\")"
      ]
    },
    {
      "cell_type": "code",
      "execution_count": null,
      "id": "bf63f552",
      "metadata": {
        "id": "bf63f552"
      },
      "outputs": [],
      "source": [
        "nep7 = pd.read_csv('C:\\\\Users\\\\krishna meghana\\\\Downloads\\\\ML Project Sentiment Anlaysis\\\\reject34.csv',encoding='latin1')"
      ]
    },
    {
      "cell_type": "code",
      "execution_count": null,
      "id": "6d7decf1",
      "metadata": {
        "id": "6d7decf1"
      },
      "outputs": [],
      "source": [
        "frames = [nep1, nep2, nep3, rej1, rej2, nep4, nep5, nep6, nep7]\n",
        "\n",
        "result = pd.concat(frames)"
      ]
    },
    {
      "cell_type": "code",
      "execution_count": null,
      "id": "d3a28bf8",
      "metadata": {
        "id": "d3a28bf8",
        "outputId": "73e72394-2dd0-4572-f6ce-8f28d44c6b18"
      },
      "outputs": [
        {
          "data": {
            "text/html": [
              "<div>\n",
              "<style scoped>\n",
              "    .dataframe tbody tr th:only-of-type {\n",
              "        vertical-align: middle;\n",
              "    }\n",
              "\n",
              "    .dataframe tbody tr th {\n",
              "        vertical-align: top;\n",
              "    }\n",
              "\n",
              "    .dataframe thead th {\n",
              "        text-align: right;\n",
              "    }\n",
              "</style>\n",
              "<table border=\"1\" class=\"dataframe\">\n",
              "  <thead>\n",
              "    <tr style=\"text-align: right;\">\n",
              "      <th></th>\n",
              "      <th>Unnamed: 0</th>\n",
              "      <th>Author_ID</th>\n",
              "      <th>user_location</th>\n",
              "      <th>date</th>\n",
              "      <th>text</th>\n",
              "      <th>hashtags</th>\n",
              "      <th>user</th>\n",
              "      <th>location</th>\n",
              "      <th>user_description</th>\n",
              "      <th>user_verified</th>\n",
              "      <th>source</th>\n",
              "    </tr>\n",
              "  </thead>\n",
              "  <tbody>\n",
              "    <tr>\n",
              "      <th>0</th>\n",
              "      <td>0.0</td>\n",
              "      <td>Ravi Godara</td>\n",
              "      <td>NaN</td>\n",
              "      <td>2022-04-10 11:31:17</td>\n",
              "      <td>RT @Raj_Sahni1: The National Institute of Tech...</td>\n",
              "      <td>['Srinagar', 'NationalEducationPolicy']</td>\n",
              "      <td>NaN</td>\n",
              "      <td>NaN</td>\n",
              "      <td>NaN</td>\n",
              "      <td>NaN</td>\n",
              "      <td>NaN</td>\n",
              "    </tr>\n",
              "    <tr>\n",
              "      <th>1</th>\n",
              "      <td>1.0</td>\n",
              "      <td>Fabricio Cavalcante</td>\n",
              "      <td>Rio de janeiro</td>\n",
              "      <td>2022-04-10 10:48:32</td>\n",
              "      <td>RT @tataclassedge: Greetings of the auspicious...</td>\n",
              "      <td>['RamNavami2022', 'RamNavami', 'education']</td>\n",
              "      <td>NaN</td>\n",
              "      <td>NaN</td>\n",
              "      <td>NaN</td>\n",
              "      <td>NaN</td>\n",
              "      <td>NaN</td>\n",
              "    </tr>\n",
              "    <tr>\n",
              "      <th>2</th>\n",
              "      <td>2.0</td>\n",
              "      <td>Tata ClassEdge</td>\n",
              "      <td>Mumbai, India</td>\n",
              "      <td>2022-04-10 10:45:53</td>\n",
              "      <td>Greetings of the auspicious occasion of Ram Na...</td>\n",
              "      <td>['RamNavami2022', 'RamNavami']</td>\n",
              "      <td>NaN</td>\n",
              "      <td>NaN</td>\n",
              "      <td>NaN</td>\n",
              "      <td>NaN</td>\n",
              "      <td>NaN</td>\n",
              "    </tr>\n",
              "    <tr>\n",
              "      <th>3</th>\n",
              "      <td>3.0</td>\n",
              "      <td>D K Yadav</td>\n",
              "      <td>NaN</td>\n",
              "      <td>2022-04-10 08:10:23</td>\n",
              "      <td>RT @Raj_Sahni1: The National Institute of Tech...</td>\n",
              "      <td>['Srinagar', 'NationalEducationPolicy']</td>\n",
              "      <td>NaN</td>\n",
              "      <td>NaN</td>\n",
              "      <td>NaN</td>\n",
              "      <td>NaN</td>\n",
              "      <td>NaN</td>\n",
              "    </tr>\n",
              "    <tr>\n",
              "      <th>4</th>\n",
              "      <td>4.0</td>\n",
              "      <td>Jvn70</td>\n",
              "      <td>NaN</td>\n",
              "      <td>2022-04-10 07:02:31</td>\n",
              "      <td>RT @KumarAmitMEA: Wonderful discussions w/ Rac...</td>\n",
              "      <td>['NEP2020']</td>\n",
              "      <td>NaN</td>\n",
              "      <td>NaN</td>\n",
              "      <td>NaN</td>\n",
              "      <td>NaN</td>\n",
              "      <td>NaN</td>\n",
              "    </tr>\n",
              "  </tbody>\n",
              "</table>\n",
              "</div>"
            ],
            "text/plain": [
              "   Unnamed: 0            Author_ID   user_location                 date  \\\n",
              "0         0.0          Ravi Godara             NaN  2022-04-10 11:31:17   \n",
              "1         1.0  Fabricio Cavalcante  Rio de janeiro  2022-04-10 10:48:32   \n",
              "2         2.0       Tata ClassEdge   Mumbai, India  2022-04-10 10:45:53   \n",
              "3         3.0            D K Yadav             NaN  2022-04-10 08:10:23   \n",
              "4         4.0                Jvn70             NaN  2022-04-10 07:02:31   \n",
              "\n",
              "                                                text  \\\n",
              "0  RT @Raj_Sahni1: The National Institute of Tech...   \n",
              "1  RT @tataclassedge: Greetings of the auspicious...   \n",
              "2  Greetings of the auspicious occasion of Ram Na...   \n",
              "3  RT @Raj_Sahni1: The National Institute of Tech...   \n",
              "4  RT @KumarAmitMEA: Wonderful discussions w/ Rac...   \n",
              "\n",
              "                                      hashtags user location user_description  \\\n",
              "0      ['Srinagar', 'NationalEducationPolicy']  NaN      NaN              NaN   \n",
              "1  ['RamNavami2022', 'RamNavami', 'education']  NaN      NaN              NaN   \n",
              "2               ['RamNavami2022', 'RamNavami']  NaN      NaN              NaN   \n",
              "3      ['Srinagar', 'NationalEducationPolicy']  NaN      NaN              NaN   \n",
              "4                                  ['NEP2020']  NaN      NaN              NaN   \n",
              "\n",
              "  user_verified source  \n",
              "0           NaN    NaN  \n",
              "1           NaN    NaN  \n",
              "2           NaN    NaN  \n",
              "3           NaN    NaN  \n",
              "4           NaN    NaN  "
            ]
          },
          "execution_count": 11,
          "metadata": {},
          "output_type": "execute_result"
        }
      ],
      "source": [
        "result.head()"
      ]
    },
    {
      "cell_type": "code",
      "execution_count": null,
      "id": "4771955c",
      "metadata": {
        "id": "4771955c",
        "outputId": "b2b6dc0b-a7da-4512-fb9c-16a35077d2fa"
      },
      "outputs": [
        {
          "data": {
            "text/plain": [
              "(2065, 11)"
            ]
          },
          "execution_count": 12,
          "metadata": {},
          "output_type": "execute_result"
        }
      ],
      "source": [
        "result.shape"
      ]
    },
    {
      "cell_type": "code",
      "execution_count": null,
      "id": "5e537c51",
      "metadata": {
        "id": "5e537c51"
      },
      "outputs": [],
      "source": [
        "df=result[['date','text']]"
      ]
    },
    {
      "cell_type": "markdown",
      "id": "c0250e41",
      "metadata": {
        "id": "c0250e41"
      },
      "source": [
        "Converting the dataframe into a csv file after merging all the tweets gathered through Twitter API"
      ]
    },
    {
      "cell_type": "code",
      "execution_count": null,
      "id": "461356a9",
      "metadata": {
        "id": "461356a9"
      },
      "outputs": [],
      "source": [
        "df.to_csv('testing.csv')"
      ]
    },
    {
      "cell_type": "code",
      "execution_count": null,
      "id": "bb4de165",
      "metadata": {
        "id": "bb4de165"
      },
      "outputs": [],
      "source": [
        "df.drop_duplicates( \"text\" , keep='first', inplace=True)"
      ]
    },
    {
      "cell_type": "code",
      "execution_count": null,
      "id": "294177db",
      "metadata": {
        "id": "294177db",
        "outputId": "16f3d74d-9305-4275-de2e-07973243a98d"
      },
      "outputs": [
        {
          "data": {
            "text/plain": [
              "(629, 2)"
            ]
          },
          "execution_count": 46,
          "metadata": {},
          "output_type": "execute_result"
        }
      ],
      "source": [
        "df.shape"
      ]
    },
    {
      "cell_type": "code",
      "execution_count": null,
      "id": "27d3ffd0",
      "metadata": {
        "colab": {
          "base_uri": "https://localhost:8080/"
        },
        "id": "27d3ffd0",
        "outputId": "ef14b575-9dcc-4360-d3b3-e987984c2516"
      },
      "outputs": [
        {
          "name": "stdout",
          "output_type": "stream",
          "text": [
            "Total tweets in the data are 629\n"
          ]
        }
      ],
      "source": [
        "print('Total tweets in the data are', len(df))"
      ]
    },
    {
      "cell_type": "code",
      "execution_count": null,
      "id": "4d42718c",
      "metadata": {
        "id": "4d42718c",
        "outputId": "a9e4237c-7875-4de2-a4f9-20d3b5c31920"
      },
      "outputs": [
        {
          "data": {
            "text/html": [
              "<div>\n",
              "<style scoped>\n",
              "    .dataframe tbody tr th:only-of-type {\n",
              "        vertical-align: middle;\n",
              "    }\n",
              "\n",
              "    .dataframe tbody tr th {\n",
              "        vertical-align: top;\n",
              "    }\n",
              "\n",
              "    .dataframe thead th {\n",
              "        text-align: right;\n",
              "    }\n",
              "</style>\n",
              "<table border=\"1\" class=\"dataframe\">\n",
              "  <thead>\n",
              "    <tr style=\"text-align: right;\">\n",
              "      <th></th>\n",
              "      <th>date</th>\n",
              "      <th>text</th>\n",
              "    </tr>\n",
              "  </thead>\n",
              "  <tbody>\n",
              "    <tr>\n",
              "      <th>0</th>\n",
              "      <td>2022-04-10 11:31:17</td>\n",
              "      <td>RT @Raj_Sahni1: The National Institute of Tech...</td>\n",
              "    </tr>\n",
              "    <tr>\n",
              "      <th>1</th>\n",
              "      <td>2022-04-10 10:48:32</td>\n",
              "      <td>RT @tataclassedge: Greetings of the auspicious...</td>\n",
              "    </tr>\n",
              "    <tr>\n",
              "      <th>2</th>\n",
              "      <td>2022-04-10 10:45:53</td>\n",
              "      <td>Greetings of the auspicious occasion of Ram Na...</td>\n",
              "    </tr>\n",
              "    <tr>\n",
              "      <th>4</th>\n",
              "      <td>2022-04-10 07:02:31</td>\n",
              "      <td>RT @KumarAmitMEA: Wonderful discussions w/ Rac...</td>\n",
              "    </tr>\n",
              "    <tr>\n",
              "      <th>6</th>\n",
              "      <td>2022-04-10 05:24:58</td>\n",
              "      <td>RT @EduMinOfIndia: #AapBhiBaneBhagidar: #NEP20...</td>\n",
              "    </tr>\n",
              "  </tbody>\n",
              "</table>\n",
              "</div>"
            ],
            "text/plain": [
              "                  date                                               text\n",
              "0  2022-04-10 11:31:17  RT @Raj_Sahni1: The National Institute of Tech...\n",
              "1  2022-04-10 10:48:32  RT @tataclassedge: Greetings of the auspicious...\n",
              "2  2022-04-10 10:45:53  Greetings of the auspicious occasion of Ram Na...\n",
              "4  2022-04-10 07:02:31  RT @KumarAmitMEA: Wonderful discussions w/ Rac...\n",
              "6  2022-04-10 05:24:58  RT @EduMinOfIndia: #AapBhiBaneBhagidar: #NEP20..."
            ]
          },
          "execution_count": 48,
          "metadata": {},
          "output_type": "execute_result"
        }
      ],
      "source": [
        "df.head()"
      ]
    },
    {
      "cell_type": "code",
      "execution_count": null,
      "id": "daf1b50a",
      "metadata": {
        "colab": {
          "base_uri": "https://localhost:8080/"
        },
        "id": "daf1b50a",
        "outputId": "55783fea-0157-42fc-8af5-311982095fa2"
      },
      "outputs": [
        {
          "name": "stdout",
          "output_type": "stream",
          "text": [
            "<class 'pandas.core.frame.DataFrame'>\n",
            "Int64Index: 629 entries, 0 to 56\n",
            "Data columns (total 2 columns):\n",
            " #   Column  Non-Null Count  Dtype \n",
            "---  ------  --------------  ----- \n",
            " 0   date    497 non-null    object\n",
            " 1   text    629 non-null    object\n",
            "dtypes: object(2)\n",
            "memory usage: 14.7+ KB\n"
          ]
        }
      ],
      "source": [
        "df.info()"
      ]
    },
    {
      "cell_type": "code",
      "execution_count": null,
      "id": "14c7f49a",
      "metadata": {
        "id": "14c7f49a"
      },
      "outputs": [],
      "source": [
        "df['text'] = df['text'].astype(str)"
      ]
    },
    {
      "cell_type": "markdown",
      "id": "dafb57bc",
      "metadata": {
        "id": "dafb57bc"
      },
      "source": [
        "<br>"
      ]
    },
    {
      "cell_type": "markdown",
      "id": "f6c12e44",
      "metadata": {
        "id": "f6c12e44"
      },
      "source": [
        "\n",
        "\n",
        "## The tweets are cleaned by following the below steps"
      ]
    },
    {
      "cell_type": "code",
      "execution_count": null,
      "id": "91ede060",
      "metadata": {
        "id": "91ede060"
      },
      "outputs": [],
      "source": [
        "import nltk\n",
        "import re"
      ]
    },
    {
      "cell_type": "code",
      "execution_count": null,
      "id": "1acfbf16",
      "metadata": {
        "id": "1acfbf16"
      },
      "outputs": [],
      "source": [
        "from nltk.corpus import stopwords\n",
        "from nltk.tokenize import word_tokenize\n",
        "from nltk.stem import WordNetLemmatizer"
      ]
    },
    {
      "cell_type": "code",
      "execution_count": null,
      "id": "db5944f0",
      "metadata": {
        "id": "db5944f0"
      },
      "outputs": [],
      "source": [
        "import string"
      ]
    },
    {
      "cell_type": "markdown",
      "id": "5d200922",
      "metadata": {
        "id": "5d200922"
      },
      "source": [
        "### Removing punctuations"
      ]
    },
    {
      "cell_type": "code",
      "execution_count": null,
      "id": "5c144269",
      "metadata": {
        "id": "5c144269"
      },
      "outputs": [],
      "source": [
        "def remove_punct(text):\n",
        "    text  = \"\".join([char for char in text if char not in string.punctuation])\n",
        "    text = re.sub('[0-9]+', '', text)\n",
        "    return text\n",
        "\n",
        "df['Tweet_punct'] = df['text'].apply(lambda x: remove_punct(x))\n",
        "df.head(10)"
      ]
    },
    {
      "cell_type": "markdown",
      "id": "e01f20d9",
      "metadata": {
        "id": "e01f20d9"
      },
      "source": [
        "### Tokenization - Converting a sentence into list of words"
      ]
    },
    {
      "cell_type": "code",
      "execution_count": null,
      "id": "2e018265",
      "metadata": {
        "id": "2e018265"
      },
      "outputs": [],
      "source": [
        "def tokenization(text):\n",
        "    text = re.split('\\W+', text)\n",
        "    return text\n",
        "\n",
        "df['Tweet_tokenized'] = df['Tweet_punct'].apply(lambda x: tokenization(x.lower()))\n",
        "df.head()"
      ]
    },
    {
      "cell_type": "markdown",
      "id": "4836eb56",
      "metadata": {
        "id": "4836eb56"
      },
      "source": [
        "### Remove stopwords"
      ]
    },
    {
      "cell_type": "code",
      "execution_count": null,
      "id": "c8a9ce02",
      "metadata": {
        "id": "c8a9ce02"
      },
      "outputs": [],
      "source": [
        "stopword = nltk.corpus.stopwords.words('english')"
      ]
    },
    {
      "cell_type": "code",
      "execution_count": null,
      "id": "b6b5cbc1",
      "metadata": {
        "id": "b6b5cbc1"
      },
      "outputs": [],
      "source": [
        "def remove_stopwords(text):\n",
        "    text = [word for word in text if word not in stopword]\n",
        "    return text\n",
        "    \n",
        "df['Tweet_nonstop'] = df['Tweet_tokenized'].apply(lambda x: remove_stopwords(x))\n",
        "df.head()"
      ]
    },
    {
      "cell_type": "markdown",
      "id": "e0c4ef51",
      "metadata": {
        "id": "e0c4ef51"
      },
      "source": [
        "### Lammetization - Tranforming any form of a word to its root word"
      ]
    },
    {
      "cell_type": "code",
      "execution_count": null,
      "id": "d79d2026",
      "metadata": {
        "id": "d79d2026"
      },
      "outputs": [],
      "source": [
        "wn = nltk.WordNetLemmatizer()\n",
        "\n",
        "def lemmatizer(text):\n",
        "    text = [wn.lemmatize(word) for word in text]\n",
        "    return text\n",
        "\n",
        "df['Tweet_lemmatized'] = df['Tweet_nonstop'].apply(lambda x: lemmatizer(x))\n",
        "df.head()"
      ]
    },
    {
      "cell_type": "markdown",
      "id": "58b243c0",
      "metadata": {
        "id": "58b243c0"
      },
      "source": [
        "### Vectorisation\n",
        "\n",
        "<br>\n",
        "\n",
        "__Cleaning data in single line through passing clean_text in the CountVectorizer__"
      ]
    },
    {
      "cell_type": "code",
      "execution_count": null,
      "id": "fc2a85c4",
      "metadata": {
        "id": "fc2a85c4"
      },
      "outputs": [],
      "source": [
        "def clean_text(text):\n",
        "    text_lc = \"\".join([word.lower() for word in text if word not in string.punctuation]) # remove puntuation\n",
        "    text_rc = re.sub('[0-9]+', '', text_lc)\n",
        "    tokens = re.split('\\W+', text_rc)    # tokenization\n",
        "    text = [ps.stem(word) for word in tokens if word not in stopword]  # remove stopwords and stemming\n",
        "    return text"
      ]
    },
    {
      "cell_type": "code",
      "execution_count": null,
      "id": "08e7d3ba",
      "metadata": {
        "id": "08e7d3ba"
      },
      "outputs": [],
      "source": [
        "from sklearn.feature_extraction.text import CountVectorizer"
      ]
    },
    {
      "cell_type": "code",
      "execution_count": null,
      "id": "92e6f838",
      "metadata": {
        "id": "92e6f838"
      },
      "outputs": [],
      "source": [
        "countVectorizer = CountVectorizer(analyzer=clean_text) \n",
        "countVector = countVectorizer.fit_transform(df['text'])\n",
        "print('{} Number of tweets has {} words'.format(countVector.shape[0], countVector.shape[1]))"
      ]
    },
    {
      "cell_type": "code",
      "execution_count": null,
      "id": "806d0605",
      "metadata": {
        "id": "806d0605"
      },
      "outputs": [],
      "source": [
        "# removes pattern in the input text\n",
        "def remove_pattern(input_txt, pattern):\n",
        "    r = re.findall(pattern, input_txt)\n",
        "    for word in r:\n",
        "        input_txt = re.sub(word, \"\", input_txt)\n",
        "    return input_txt"
      ]
    },
    {
      "cell_type": "code",
      "execution_count": null,
      "id": "6bfc7c87",
      "metadata": {
        "id": "6bfc7c87"
      },
      "outputs": [],
      "source": [
        "# remove twitter handles (@)\n",
        "df['clean_tweet'] = np.vectorize(remove_pattern)(df['text'], \"@[\\w]*\")"
      ]
    },
    {
      "cell_type": "code",
      "execution_count": null,
      "id": "8d09130b",
      "metadata": {
        "id": "8d09130b",
        "outputId": "709a4988-9b26-49c7-c305-a027acc1dbc9"
      },
      "outputs": [
        {
          "data": {
            "text/html": [
              "<div>\n",
              "<style scoped>\n",
              "    .dataframe tbody tr th:only-of-type {\n",
              "        vertical-align: middle;\n",
              "    }\n",
              "\n",
              "    .dataframe tbody tr th {\n",
              "        vertical-align: top;\n",
              "    }\n",
              "\n",
              "    .dataframe thead th {\n",
              "        text-align: right;\n",
              "    }\n",
              "</style>\n",
              "<table border=\"1\" class=\"dataframe\">\n",
              "  <thead>\n",
              "    <tr style=\"text-align: right;\">\n",
              "      <th></th>\n",
              "      <th>date</th>\n",
              "      <th>text</th>\n",
              "      <th>clean_tweet</th>\n",
              "    </tr>\n",
              "  </thead>\n",
              "  <tbody>\n",
              "    <tr>\n",
              "      <th>0</th>\n",
              "      <td>2022-04-10 11:31:17</td>\n",
              "      <td>RT @Raj_Sahni1: The National Institute of Tech...</td>\n",
              "      <td>RT   The National Institute of Technology  NIT...</td>\n",
              "    </tr>\n",
              "    <tr>\n",
              "      <th>1</th>\n",
              "      <td>2022-04-10 10:48:32</td>\n",
              "      <td>RT @tataclassedge: Greetings of the auspicious...</td>\n",
              "      <td>RT   Greetings of the auspicious occasion of R...</td>\n",
              "    </tr>\n",
              "    <tr>\n",
              "      <th>2</th>\n",
              "      <td>2022-04-10 10:45:53</td>\n",
              "      <td>Greetings of the auspicious occasion of Ram Na...</td>\n",
              "      <td>Greetings of the auspicious occasion of Ram Na...</td>\n",
              "    </tr>\n",
              "    <tr>\n",
              "      <th>4</th>\n",
              "      <td>2022-04-10 07:02:31</td>\n",
              "      <td>RT @KumarAmitMEA: Wonderful discussions w/ Rac...</td>\n",
              "      <td>RT   Wonderful discussions w  Rachel Croson  P...</td>\n",
              "    </tr>\n",
              "    <tr>\n",
              "      <th>6</th>\n",
              "      <td>2022-04-10 05:24:58</td>\n",
              "      <td>RT @EduMinOfIndia: #AapBhiBaneBhagidar: #NEP20...</td>\n",
              "      <td>RT   #AapBhiBaneBhagidar  #NEP     seeks to ma...</td>\n",
              "    </tr>\n",
              "  </tbody>\n",
              "</table>\n",
              "</div>"
            ],
            "text/plain": [
              "                  date                                               text  \\\n",
              "0  2022-04-10 11:31:17  RT @Raj_Sahni1: The National Institute of Tech...   \n",
              "1  2022-04-10 10:48:32  RT @tataclassedge: Greetings of the auspicious...   \n",
              "2  2022-04-10 10:45:53  Greetings of the auspicious occasion of Ram Na...   \n",
              "4  2022-04-10 07:02:31  RT @KumarAmitMEA: Wonderful discussions w/ Rac...   \n",
              "6  2022-04-10 05:24:58  RT @EduMinOfIndia: #AapBhiBaneBhagidar: #NEP20...   \n",
              "\n",
              "                                         clean_tweet  \n",
              "0  RT   The National Institute of Technology  NIT...  \n",
              "1  RT   Greetings of the auspicious occasion of R...  \n",
              "2  Greetings of the auspicious occasion of Ram Na...  \n",
              "4  RT   Wonderful discussions w  Rachel Croson  P...  \n",
              "6  RT   #AapBhiBaneBhagidar  #NEP     seeks to ma...  "
            ]
          },
          "execution_count": 55,
          "metadata": {},
          "output_type": "execute_result"
        }
      ],
      "source": [
        "# remove special characters, numbers and punctuations\n",
        "df['clean_tweet'] = df['clean_tweet'].str.replace(\"[^a-zA-Z#]\", \" \")\n",
        "df.head()"
      ]
    },
    {
      "cell_type": "code",
      "execution_count": null,
      "id": "16125248",
      "metadata": {
        "id": "16125248",
        "outputId": "366d339a-d0df-4f53-d3a8-c1ee5872c8d8"
      },
      "outputs": [
        {
          "data": {
            "text/html": [
              "<div>\n",
              "<style scoped>\n",
              "    .dataframe tbody tr th:only-of-type {\n",
              "        vertical-align: middle;\n",
              "    }\n",
              "\n",
              "    .dataframe tbody tr th {\n",
              "        vertical-align: top;\n",
              "    }\n",
              "\n",
              "    .dataframe thead th {\n",
              "        text-align: right;\n",
              "    }\n",
              "</style>\n",
              "<table border=\"1\" class=\"dataframe\">\n",
              "  <thead>\n",
              "    <tr style=\"text-align: right;\">\n",
              "      <th></th>\n",
              "      <th>date</th>\n",
              "      <th>text</th>\n",
              "      <th>clean_tweet</th>\n",
              "    </tr>\n",
              "  </thead>\n",
              "  <tbody>\n",
              "    <tr>\n",
              "      <th>0</th>\n",
              "      <td>2022-04-10 11:31:17</td>\n",
              "      <td>RT @Raj_Sahni1: The National Institute of Tech...</td>\n",
              "      <td>rt   the national institute of technology  nit...</td>\n",
              "    </tr>\n",
              "    <tr>\n",
              "      <th>1</th>\n",
              "      <td>2022-04-10 10:48:32</td>\n",
              "      <td>RT @tataclassedge: Greetings of the auspicious...</td>\n",
              "      <td>rt   greetings of the auspicious occasion of r...</td>\n",
              "    </tr>\n",
              "    <tr>\n",
              "      <th>2</th>\n",
              "      <td>2022-04-10 10:45:53</td>\n",
              "      <td>Greetings of the auspicious occasion of Ram Na...</td>\n",
              "      <td>greetings of the auspicious occasion of ram na...</td>\n",
              "    </tr>\n",
              "    <tr>\n",
              "      <th>4</th>\n",
              "      <td>2022-04-10 07:02:31</td>\n",
              "      <td>RT @KumarAmitMEA: Wonderful discussions w/ Rac...</td>\n",
              "      <td>rt   wonderful discussions w  rachel croson  p...</td>\n",
              "    </tr>\n",
              "    <tr>\n",
              "      <th>6</th>\n",
              "      <td>2022-04-10 05:24:58</td>\n",
              "      <td>RT @EduMinOfIndia: #AapBhiBaneBhagidar: #NEP20...</td>\n",
              "      <td>rt   #aapbhibanebhagidar  #nep     seeks to ma...</td>\n",
              "    </tr>\n",
              "  </tbody>\n",
              "</table>\n",
              "</div>"
            ],
            "text/plain": [
              "                  date                                               text  \\\n",
              "0  2022-04-10 11:31:17  RT @Raj_Sahni1: The National Institute of Tech...   \n",
              "1  2022-04-10 10:48:32  RT @tataclassedge: Greetings of the auspicious...   \n",
              "2  2022-04-10 10:45:53  Greetings of the auspicious occasion of Ram Na...   \n",
              "4  2022-04-10 07:02:31  RT @KumarAmitMEA: Wonderful discussions w/ Rac...   \n",
              "6  2022-04-10 05:24:58  RT @EduMinOfIndia: #AapBhiBaneBhagidar: #NEP20...   \n",
              "\n",
              "                                         clean_tweet  \n",
              "0  rt   the national institute of technology  nit...  \n",
              "1  rt   greetings of the auspicious occasion of r...  \n",
              "2  greetings of the auspicious occasion of ram na...  \n",
              "4  rt   wonderful discussions w  rachel croson  p...  \n",
              "6  rt   #aapbhibanebhagidar  #nep     seeks to ma...  "
            ]
          },
          "execution_count": 56,
          "metadata": {},
          "output_type": "execute_result"
        }
      ],
      "source": [
        "# Converting the entire data into lower case\n",
        "df['clean_tweet'] = df['clean_tweet'].map(lambda clean_tweet: clean_tweet.lower())\n",
        "df.head()"
      ]
    },
    {
      "cell_type": "code",
      "execution_count": null,
      "id": "de53a65a",
      "metadata": {
        "id": "de53a65a",
        "outputId": "c37be047-08d7-440b-ecfa-dd3ab530645d"
      },
      "outputs": [
        {
          "data": {
            "text/html": [
              "<div>\n",
              "<style scoped>\n",
              "    .dataframe tbody tr th:only-of-type {\n",
              "        vertical-align: middle;\n",
              "    }\n",
              "\n",
              "    .dataframe tbody tr th {\n",
              "        vertical-align: top;\n",
              "    }\n",
              "\n",
              "    .dataframe thead th {\n",
              "        text-align: right;\n",
              "    }\n",
              "</style>\n",
              "<table border=\"1\" class=\"dataframe\">\n",
              "  <thead>\n",
              "    <tr style=\"text-align: right;\">\n",
              "      <th></th>\n",
              "      <th>date</th>\n",
              "      <th>text</th>\n",
              "      <th>clean_tweet</th>\n",
              "    </tr>\n",
              "  </thead>\n",
              "  <tbody>\n",
              "    <tr>\n",
              "      <th>0</th>\n",
              "      <td>2022-04-10 11:31:17</td>\n",
              "      <td>RT @Raj_Sahni1: The National Institute of Tech...</td>\n",
              "      <td>rt national institute technology nit #srinagar...</td>\n",
              "    </tr>\n",
              "    <tr>\n",
              "      <th>1</th>\n",
              "      <td>2022-04-10 10:48:32</td>\n",
              "      <td>RT @tataclassedge: Greetings of the auspicious...</td>\n",
              "      <td>rt greetings auspicious occasion ram navami ev...</td>\n",
              "    </tr>\n",
              "    <tr>\n",
              "      <th>2</th>\n",
              "      <td>2022-04-10 10:45:53</td>\n",
              "      <td>Greetings of the auspicious occasion of Ram Na...</td>\n",
              "      <td>greetings auspicious occasion ram navami every...</td>\n",
              "    </tr>\n",
              "    <tr>\n",
              "      <th>4</th>\n",
              "      <td>2022-04-10 07:02:31</td>\n",
              "      <td>RT @KumarAmitMEA: Wonderful discussions w/ Rac...</td>\n",
              "      <td>rt wonderful discussions w rachel croson provo...</td>\n",
              "    </tr>\n",
              "    <tr>\n",
              "      <th>6</th>\n",
              "      <td>2022-04-10 05:24:58</td>\n",
              "      <td>RT @EduMinOfIndia: #AapBhiBaneBhagidar: #NEP20...</td>\n",
              "      <td>rt #aapbhibanebhagidar #nep seeks make quality...</td>\n",
              "    </tr>\n",
              "  </tbody>\n",
              "</table>\n",
              "</div>"
            ],
            "text/plain": [
              "                  date                                               text  \\\n",
              "0  2022-04-10 11:31:17  RT @Raj_Sahni1: The National Institute of Tech...   \n",
              "1  2022-04-10 10:48:32  RT @tataclassedge: Greetings of the auspicious...   \n",
              "2  2022-04-10 10:45:53  Greetings of the auspicious occasion of Ram Na...   \n",
              "4  2022-04-10 07:02:31  RT @KumarAmitMEA: Wonderful discussions w/ Rac...   \n",
              "6  2022-04-10 05:24:58  RT @EduMinOfIndia: #AapBhiBaneBhagidar: #NEP20...   \n",
              "\n",
              "                                         clean_tweet  \n",
              "0  rt national institute technology nit #srinagar...  \n",
              "1  rt greetings auspicious occasion ram navami ev...  \n",
              "2  greetings auspicious occasion ram navami every...  \n",
              "4  rt wonderful discussions w rachel croson provo...  \n",
              "6  rt #aapbhibanebhagidar #nep seeks make quality...  "
            ]
          },
          "execution_count": 57,
          "metadata": {},
          "output_type": "execute_result"
        }
      ],
      "source": [
        "df['clean_tweet'] = df['clean_tweet'].apply(lambda x: \" \".join([word for word in x.split() if not word in set(stopwords.words('english'))]))\n",
        "df.head()"
      ]
    },
    {
      "cell_type": "code",
      "execution_count": null,
      "id": "5bac3e20",
      "metadata": {
        "id": "5bac3e20",
        "outputId": "806174b8-ec22-4a8c-96a0-46362b243f71"
      },
      "outputs": [
        {
          "data": {
            "text/plain": [
              "0    [rt, national, institute, technology, nit, #sr...\n",
              "1    [rt, greetings, auspicious, occasion, ram, nav...\n",
              "2    [greetings, auspicious, occasion, ram, navami,...\n",
              "4    [rt, wonderful, discussions, w, rachel, croson...\n",
              "6    [rt, #aapbhibanebhagidar, #nep, seeks, make, q...\n",
              "Name: clean_tweet, dtype: object"
            ]
          },
          "execution_count": 58,
          "metadata": {},
          "output_type": "execute_result"
        }
      ],
      "source": [
        "# individual words considered as tokens\n",
        "tokenized_tweet1 = df['clean_tweet'].apply(lambda x: x.split())\n",
        "tokenized_tweet1.head()"
      ]
    },
    {
      "cell_type": "code",
      "execution_count": null,
      "id": "3f694074",
      "metadata": {
        "id": "3f694074",
        "outputId": "8e47bb05-ed9c-4b25-996e-e80f92e65f2f"
      },
      "outputs": [
        {
          "data": {
            "text/plain": [
              "0    [rt, national, institute, technology, nit, #sr...\n",
              "1    [rt, greeting, auspicious, occasion, ram, nava...\n",
              "2    [greeting, auspicious, occasion, ram, navami, ...\n",
              "4    [rt, wonderful, discussion, w, rachel, croson,...\n",
              "6    [rt, #aapbhibanebhagidar, #nep, seek, make, qu...\n",
              "Name: clean_tweet, dtype: object"
            ]
          },
          "execution_count": 59,
          "metadata": {},
          "output_type": "execute_result"
        }
      ],
      "source": [
        "wn = nltk.WordNetLemmatizer()\n",
        "\n",
        "def lemmatizer(text):\n",
        "    text = [wn.lemmatize(word) for word in text]\n",
        "    return text\n",
        "\n",
        "tokenized_tweet1 = tokenized_tweet1.apply(lambda x: lemmatizer(x))\n",
        "tokenized_tweet1.head()"
      ]
    },
    {
      "cell_type": "code",
      "execution_count": null,
      "id": "a85c3a46",
      "metadata": {
        "id": "a85c3a46",
        "outputId": "d3da6f6d-2df5-4479-f1a6-60ef00519c33"
      },
      "outputs": [
        {
          "data": {
            "text/html": [
              "<div>\n",
              "<style scoped>\n",
              "    .dataframe tbody tr th:only-of-type {\n",
              "        vertical-align: middle;\n",
              "    }\n",
              "\n",
              "    .dataframe tbody tr th {\n",
              "        vertical-align: top;\n",
              "    }\n",
              "\n",
              "    .dataframe thead th {\n",
              "        text-align: right;\n",
              "    }\n",
              "</style>\n",
              "<table border=\"1\" class=\"dataframe\">\n",
              "  <thead>\n",
              "    <tr style=\"text-align: right;\">\n",
              "      <th></th>\n",
              "      <th>date</th>\n",
              "      <th>text</th>\n",
              "      <th>clean_tweet</th>\n",
              "    </tr>\n",
              "  </thead>\n",
              "  <tbody>\n",
              "    <tr>\n",
              "      <th>0</th>\n",
              "      <td>2022-04-10 11:31:17</td>\n",
              "      <td>RT @Raj_Sahni1: The National Institute of Tech...</td>\n",
              "      <td>rt national institute technology nit #srinagar...</td>\n",
              "    </tr>\n",
              "    <tr>\n",
              "      <th>1</th>\n",
              "      <td>2022-04-10 10:48:32</td>\n",
              "      <td>RT @tataclassedge: Greetings of the auspicious...</td>\n",
              "      <td>rt greeting auspicious occasion ram navami eve...</td>\n",
              "    </tr>\n",
              "    <tr>\n",
              "      <th>2</th>\n",
              "      <td>2022-04-10 10:45:53</td>\n",
              "      <td>Greetings of the auspicious occasion of Ram Na...</td>\n",
              "      <td>greeting auspicious occasion ram navami everyo...</td>\n",
              "    </tr>\n",
              "    <tr>\n",
              "      <th>4</th>\n",
              "      <td>2022-04-10 07:02:31</td>\n",
              "      <td>RT @KumarAmitMEA: Wonderful discussions w/ Rac...</td>\n",
              "      <td>rt wonderful discussion w rachel croson provos...</td>\n",
              "    </tr>\n",
              "    <tr>\n",
              "      <th>6</th>\n",
              "      <td>2022-04-10 05:24:58</td>\n",
              "      <td>RT @EduMinOfIndia: #AapBhiBaneBhagidar: #NEP20...</td>\n",
              "      <td>rt #aapbhibanebhagidar #nep seek make quality ...</td>\n",
              "    </tr>\n",
              "  </tbody>\n",
              "</table>\n",
              "</div>"
            ],
            "text/plain": [
              "                  date                                               text  \\\n",
              "0  2022-04-10 11:31:17  RT @Raj_Sahni1: The National Institute of Tech...   \n",
              "1  2022-04-10 10:48:32  RT @tataclassedge: Greetings of the auspicious...   \n",
              "2  2022-04-10 10:45:53  Greetings of the auspicious occasion of Ram Na...   \n",
              "4  2022-04-10 07:02:31  RT @KumarAmitMEA: Wonderful discussions w/ Rac...   \n",
              "6  2022-04-10 05:24:58  RT @EduMinOfIndia: #AapBhiBaneBhagidar: #NEP20...   \n",
              "\n",
              "                                         clean_tweet  \n",
              "0  rt national institute technology nit #srinagar...  \n",
              "1  rt greeting auspicious occasion ram navami eve...  \n",
              "2  greeting auspicious occasion ram navami everyo...  \n",
              "4  rt wonderful discussion w rachel croson provos...  \n",
              "6  rt #aapbhibanebhagidar #nep seek make quality ...  "
            ]
          },
          "execution_count": 60,
          "metadata": {},
          "output_type": "execute_result"
        }
      ],
      "source": [
        "# combine words into single sentence\n",
        "\n",
        "df['clean_tweet'] = [\" \".join(sentence) for sentence in tokenized_tweet1]\n",
        "df.head()"
      ]
    },
    {
      "cell_type": "code",
      "execution_count": null,
      "id": "9c84df5f",
      "metadata": {
        "id": "9c84df5f"
      },
      "outputs": [],
      "source": [
        "l = []\n",
        "idx = 0\n",
        "for i in range(df.shape[0]):\n",
        "  l.append(5)\n",
        "df.insert(loc=idx, column='sentiment', value=l)"
      ]
    },
    {
      "cell_type": "code",
      "execution_count": null,
      "id": "846af51b",
      "metadata": {
        "id": "846af51b",
        "outputId": "8ee1741d-ad21-4d4e-f165-2ec37bef4f0b"
      },
      "outputs": [
        {
          "data": {
            "text/html": [
              "<div>\n",
              "<style scoped>\n",
              "    .dataframe tbody tr th:only-of-type {\n",
              "        vertical-align: middle;\n",
              "    }\n",
              "\n",
              "    .dataframe tbody tr th {\n",
              "        vertical-align: top;\n",
              "    }\n",
              "\n",
              "    .dataframe thead th {\n",
              "        text-align: right;\n",
              "    }\n",
              "</style>\n",
              "<table border=\"1\" class=\"dataframe\">\n",
              "  <thead>\n",
              "    <tr style=\"text-align: right;\">\n",
              "      <th></th>\n",
              "      <th>sentiment</th>\n",
              "      <th>date</th>\n",
              "      <th>text</th>\n",
              "      <th>clean_tweet</th>\n",
              "    </tr>\n",
              "  </thead>\n",
              "  <tbody>\n",
              "    <tr>\n",
              "      <th>0</th>\n",
              "      <td>5</td>\n",
              "      <td>2022-04-10 11:31:17</td>\n",
              "      <td>RT @Raj_Sahni1: The National Institute of Tech...</td>\n",
              "      <td>rt national institute technology nit #srinagar...</td>\n",
              "    </tr>\n",
              "    <tr>\n",
              "      <th>1</th>\n",
              "      <td>5</td>\n",
              "      <td>2022-04-10 10:48:32</td>\n",
              "      <td>RT @tataclassedge: Greetings of the auspicious...</td>\n",
              "      <td>rt greeting auspicious occasion ram navami eve...</td>\n",
              "    </tr>\n",
              "    <tr>\n",
              "      <th>2</th>\n",
              "      <td>5</td>\n",
              "      <td>2022-04-10 10:45:53</td>\n",
              "      <td>Greetings of the auspicious occasion of Ram Na...</td>\n",
              "      <td>greeting auspicious occasion ram navami everyo...</td>\n",
              "    </tr>\n",
              "    <tr>\n",
              "      <th>4</th>\n",
              "      <td>5</td>\n",
              "      <td>2022-04-10 07:02:31</td>\n",
              "      <td>RT @KumarAmitMEA: Wonderful discussions w/ Rac...</td>\n",
              "      <td>rt wonderful discussion w rachel croson provos...</td>\n",
              "    </tr>\n",
              "    <tr>\n",
              "      <th>6</th>\n",
              "      <td>5</td>\n",
              "      <td>2022-04-10 05:24:58</td>\n",
              "      <td>RT @EduMinOfIndia: #AapBhiBaneBhagidar: #NEP20...</td>\n",
              "      <td>rt #aapbhibanebhagidar #nep seek make quality ...</td>\n",
              "    </tr>\n",
              "  </tbody>\n",
              "</table>\n",
              "</div>"
            ],
            "text/plain": [
              "   sentiment                 date  \\\n",
              "0          5  2022-04-10 11:31:17   \n",
              "1          5  2022-04-10 10:48:32   \n",
              "2          5  2022-04-10 10:45:53   \n",
              "4          5  2022-04-10 07:02:31   \n",
              "6          5  2022-04-10 05:24:58   \n",
              "\n",
              "                                                text  \\\n",
              "0  RT @Raj_Sahni1: The National Institute of Tech...   \n",
              "1  RT @tataclassedge: Greetings of the auspicious...   \n",
              "2  Greetings of the auspicious occasion of Ram Na...   \n",
              "4  RT @KumarAmitMEA: Wonderful discussions w/ Rac...   \n",
              "6  RT @EduMinOfIndia: #AapBhiBaneBhagidar: #NEP20...   \n",
              "\n",
              "                                         clean_tweet  \n",
              "0  rt national institute technology nit #srinagar...  \n",
              "1  rt greeting auspicious occasion ram navami eve...  \n",
              "2  greeting auspicious occasion ram navami everyo...  \n",
              "4  rt wonderful discussion w rachel croson provos...  \n",
              "6  rt #aapbhibanebhagidar #nep seek make quality ...  "
            ]
          },
          "execution_count": 62,
          "metadata": {},
          "output_type": "execute_result"
        }
      ],
      "source": [
        "df.head()"
      ]
    },
    {
      "cell_type": "code",
      "execution_count": null,
      "id": "4f51dc38",
      "metadata": {
        "id": "4f51dc38"
      },
      "outputs": [],
      "source": [
        "df['tweet'] = df['text']"
      ]
    },
    {
      "cell_type": "code",
      "execution_count": null,
      "id": "d138c991",
      "metadata": {
        "id": "d138c991"
      },
      "outputs": [],
      "source": [
        "del df['text']"
      ]
    },
    {
      "cell_type": "code",
      "execution_count": null,
      "id": "3309b1a6",
      "metadata": {
        "id": "3309b1a6"
      },
      "outputs": [],
      "source": [
        "del df['date']"
      ]
    },
    {
      "cell_type": "code",
      "execution_count": null,
      "id": "72ac6068",
      "metadata": {
        "id": "72ac6068",
        "outputId": "6e47e822-d11b-4916-dd4e-825b47065da0"
      },
      "outputs": [
        {
          "data": {
            "text/html": [
              "<div>\n",
              "<style scoped>\n",
              "    .dataframe tbody tr th:only-of-type {\n",
              "        vertical-align: middle;\n",
              "    }\n",
              "\n",
              "    .dataframe tbody tr th {\n",
              "        vertical-align: top;\n",
              "    }\n",
              "\n",
              "    .dataframe thead th {\n",
              "        text-align: right;\n",
              "    }\n",
              "</style>\n",
              "<table border=\"1\" class=\"dataframe\">\n",
              "  <thead>\n",
              "    <tr style=\"text-align: right;\">\n",
              "      <th></th>\n",
              "      <th>sentiment</th>\n",
              "      <th>clean_tweet</th>\n",
              "      <th>tweet</th>\n",
              "    </tr>\n",
              "  </thead>\n",
              "  <tbody>\n",
              "    <tr>\n",
              "      <th>0</th>\n",
              "      <td>5</td>\n",
              "      <td>rt national institute technology nit #srinagar...</td>\n",
              "      <td>RT @Raj_Sahni1: The National Institute of Tech...</td>\n",
              "    </tr>\n",
              "    <tr>\n",
              "      <th>1</th>\n",
              "      <td>5</td>\n",
              "      <td>rt greeting auspicious occasion ram navami eve...</td>\n",
              "      <td>RT @tataclassedge: Greetings of the auspicious...</td>\n",
              "    </tr>\n",
              "    <tr>\n",
              "      <th>2</th>\n",
              "      <td>5</td>\n",
              "      <td>greeting auspicious occasion ram navami everyo...</td>\n",
              "      <td>Greetings of the auspicious occasion of Ram Na...</td>\n",
              "    </tr>\n",
              "    <tr>\n",
              "      <th>4</th>\n",
              "      <td>5</td>\n",
              "      <td>rt wonderful discussion w rachel croson provos...</td>\n",
              "      <td>RT @KumarAmitMEA: Wonderful discussions w/ Rac...</td>\n",
              "    </tr>\n",
              "    <tr>\n",
              "      <th>6</th>\n",
              "      <td>5</td>\n",
              "      <td>rt #aapbhibanebhagidar #nep seek make quality ...</td>\n",
              "      <td>RT @EduMinOfIndia: #AapBhiBaneBhagidar: #NEP20...</td>\n",
              "    </tr>\n",
              "  </tbody>\n",
              "</table>\n",
              "</div>"
            ],
            "text/plain": [
              "   sentiment                                        clean_tweet  \\\n",
              "0          5  rt national institute technology nit #srinagar...   \n",
              "1          5  rt greeting auspicious occasion ram navami eve...   \n",
              "2          5  greeting auspicious occasion ram navami everyo...   \n",
              "4          5  rt wonderful discussion w rachel croson provos...   \n",
              "6          5  rt #aapbhibanebhagidar #nep seek make quality ...   \n",
              "\n",
              "                                               tweet  \n",
              "0  RT @Raj_Sahni1: The National Institute of Tech...  \n",
              "1  RT @tataclassedge: Greetings of the auspicious...  \n",
              "2  Greetings of the auspicious occasion of Ram Na...  \n",
              "4  RT @KumarAmitMEA: Wonderful discussions w/ Rac...  \n",
              "6  RT @EduMinOfIndia: #AapBhiBaneBhagidar: #NEP20...  "
            ]
          },
          "execution_count": 66,
          "metadata": {},
          "output_type": "execute_result"
        }
      ],
      "source": [
        "df.head()"
      ]
    },
    {
      "cell_type": "code",
      "execution_count": null,
      "id": "c5efc915",
      "metadata": {
        "id": "c5efc915"
      },
      "outputs": [],
      "source": [
        "df.to_csv(\"cleaned_test.csv\")"
      ]
    },
    {
      "cell_type": "code",
      "execution_count": null,
      "id": "ed92df81",
      "metadata": {
        "id": "ed92df81"
      },
      "outputs": [],
      "source": [
        ""
      ]
    }
  ],
  "metadata": {
    "colab": {
      "collapsed_sections": [],
      "name": "4_ML_Project_testdata_preprocess(final).ipynb",
      "provenance": []
    },
    "kernelspec": {
      "display_name": "Python 3 (ipykernel)",
      "language": "python",
      "name": "python3"
    },
    "language_info": {
      "codemirror_mode": {
        "name": "ipython",
        "version": 3
      },
      "file_extension": ".py",
      "mimetype": "text/x-python",
      "name": "python",
      "nbconvert_exporter": "python",
      "pygments_lexer": "ipython3",
      "version": "3.8.5"
    }
  },
  "nbformat": 4,
  "nbformat_minor": 5
}
